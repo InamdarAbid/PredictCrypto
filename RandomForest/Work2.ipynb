{
 "cells": [
  {
   "cell_type": "code",
   "execution_count": 47,
   "metadata": {},
   "outputs": [],
   "source": [
    "import pandas as pd\n",
    "import matplotlib.pyplot as plt\n",
    "import numpy as np\n",
    "import time\n",
    "import datetime\n",
    "import calendar\n",
    "# style.use('ggplot')"
   ]
  },
  {
   "cell_type": "code",
   "execution_count": 3,
   "metadata": {},
   "outputs": [],
   "source": [
    "def Timestamp_mapping(n):\n",
    "    historic = pd.read_csv(\"BTCUSD_2018_1min_Raw.csv\",index_col=False)\n",
    "    pd.to_datetime(historic.Date,errors='raise')\n",
    "    temp = 86400 * n\n",
    "    historic['UnixTime'] = historic.Date.apply(lambda x :int(calendar.timegm(datetime.datetime.strptime(x,\"%d-%m-%y %H:%M\").timetuple())) + temp)\n",
    "    historic.to_csv('BTCUSD_2018_Output.csv',sep=',',encoding='utf-8')"
   ]
  },
  {
   "cell_type": "code",
   "execution_count": 4,
   "metadata": {},
   "outputs": [],
   "source": [
    "def Mapping(news,twit):\n",
    "    df_news = pd.read_csv(f\"{news}.csv\",index_col=False)\n",
    "    df_twit = pd.read_csv(f\"{twit}.csv\",index_col=False)\n",
    "    df_hist = pd.read_csv('BTCUSD_2018_Output.csv',index_col=False)\n",
    "    cols=[\"UnixTime\",\"UnixTime\"]\n",
    "    mapped = pd.DataFrame(df_news.merge(df_twit,on=cols,how='inner'))\n",
    "    final = pd.DataFrame(mapped.merge(df_hist,on = cols,how='inner'))\n",
    "    final.to_csv('Mapped_Final_Output.csv',sep=',',encoding = 'utf-8')"
   ]
  },
  {
   "cell_type": "code",
   "execution_count": 8,
   "metadata": {},
   "outputs": [],
   "source": [
    "Timestamp_mapping(3)\n",
    "Mapping(\"LP_12_Oct_to_14_Nov_18\",\"mergefile\")"
   ]
  },
  {
   "cell_type": "code",
   "execution_count": 10,
   "metadata": {},
   "outputs": [
    {
     "data": {
      "text/html": [
       "<div>\n",
       "<style scoped>\n",
       "    .dataframe tbody tr th:only-of-type {\n",
       "        vertical-align: middle;\n",
       "    }\n",
       "\n",
       "    .dataframe tbody tr th {\n",
       "        vertical-align: top;\n",
       "    }\n",
       "\n",
       "    .dataframe thead th {\n",
       "        text-align: right;\n",
       "    }\n",
       "</style>\n",
       "<table border=\"1\" class=\"dataframe\">\n",
       "  <thead>\n",
       "    <tr style=\"text-align: right;\">\n",
       "      <th></th>\n",
       "      <th>UnixTime</th>\n",
       "      <th>News_Label</th>\n",
       "      <th>Twitt_Label</th>\n",
       "      <th>High</th>\n",
       "      <th>Volume</th>\n",
       "    </tr>\n",
       "  </thead>\n",
       "  <tbody>\n",
       "    <tr>\n",
       "      <th>0</th>\n",
       "      <td>1540655760</td>\n",
       "      <td>0</td>\n",
       "      <td>0</td>\n",
       "      <td>6394.18</td>\n",
       "      <td>0.005533</td>\n",
       "    </tr>\n",
       "    <tr>\n",
       "      <th>1</th>\n",
       "      <td>1540655760</td>\n",
       "      <td>0</td>\n",
       "      <td>0</td>\n",
       "      <td>6394.18</td>\n",
       "      <td>0.005533</td>\n",
       "    </tr>\n",
       "    <tr>\n",
       "      <th>2</th>\n",
       "      <td>1540655760</td>\n",
       "      <td>0</td>\n",
       "      <td>0</td>\n",
       "      <td>6394.18</td>\n",
       "      <td>0.005533</td>\n",
       "    </tr>\n",
       "    <tr>\n",
       "      <th>3</th>\n",
       "      <td>1540655760</td>\n",
       "      <td>0</td>\n",
       "      <td>0</td>\n",
       "      <td>6394.18</td>\n",
       "      <td>0.005533</td>\n",
       "    </tr>\n",
       "    <tr>\n",
       "      <th>4</th>\n",
       "      <td>1540655760</td>\n",
       "      <td>0</td>\n",
       "      <td>0</td>\n",
       "      <td>6394.18</td>\n",
       "      <td>0.005533</td>\n",
       "    </tr>\n",
       "  </tbody>\n",
       "</table>\n",
       "</div>"
      ],
      "text/plain": [
       "     UnixTime  News_Label  Twitt_Label     High    Volume\n",
       "0  1540655760           0            0  6394.18  0.005533\n",
       "1  1540655760           0            0  6394.18  0.005533\n",
       "2  1540655760           0            0  6394.18  0.005533\n",
       "3  1540655760           0            0  6394.18  0.005533\n",
       "4  1540655760           0            0  6394.18  0.005533"
      ]
     },
     "execution_count": 10,
     "metadata": {},
     "output_type": "execute_result"
    }
   ],
   "source": [
    "df = pd.read_csv('Mapped_Final.csv',index_col=False,usecols=['News_Label','Twitt_Label','Volume','High','UnixTime'],)\n",
    "df.head()"
   ]
  },
  {
   "cell_type": "code",
   "execution_count": 11,
   "metadata": {},
   "outputs": [
    {
     "data": {
      "text/html": [
       "<div>\n",
       "<style scoped>\n",
       "    .dataframe tbody tr th:only-of-type {\n",
       "        vertical-align: middle;\n",
       "    }\n",
       "\n",
       "    .dataframe tbody tr th {\n",
       "        vertical-align: top;\n",
       "    }\n",
       "\n",
       "    .dataframe thead th {\n",
       "        text-align: right;\n",
       "    }\n",
       "</style>\n",
       "<table border=\"1\" class=\"dataframe\">\n",
       "  <thead>\n",
       "    <tr style=\"text-align: right;\">\n",
       "      <th></th>\n",
       "      <th>UnixTime</th>\n",
       "      <th>News_Label</th>\n",
       "      <th>Twitt_Label</th>\n",
       "      <th>High</th>\n",
       "      <th>Volume</th>\n",
       "    </tr>\n",
       "  </thead>\n",
       "  <tbody>\n",
       "    <tr>\n",
       "      <th>count</th>\n",
       "      <td>3.241800e+04</td>\n",
       "      <td>32418.000000</td>\n",
       "      <td>32418.000000</td>\n",
       "      <td>32418.000000</td>\n",
       "      <td>32418.000000</td>\n",
       "    </tr>\n",
       "    <tr>\n",
       "      <th>mean</th>\n",
       "      <td>1.540785e+09</td>\n",
       "      <td>0.032667</td>\n",
       "      <td>0.073724</td>\n",
       "      <td>6350.714386</td>\n",
       "      <td>2.228470</td>\n",
       "    </tr>\n",
       "    <tr>\n",
       "      <th>std</th>\n",
       "      <td>8.383551e+05</td>\n",
       "      <td>0.214564</td>\n",
       "      <td>0.263910</td>\n",
       "      <td>66.495662</td>\n",
       "      <td>12.354142</td>\n",
       "    </tr>\n",
       "    <tr>\n",
       "      <th>min</th>\n",
       "      <td>1.539475e+09</td>\n",
       "      <td>-1.000000</td>\n",
       "      <td>-2.000000</td>\n",
       "      <td>6181.540000</td>\n",
       "      <td>0.000000</td>\n",
       "    </tr>\n",
       "    <tr>\n",
       "      <th>25%</th>\n",
       "      <td>1.540094e+09</td>\n",
       "      <td>0.000000</td>\n",
       "      <td>0.000000</td>\n",
       "      <td>6280.490000</td>\n",
       "      <td>0.002718</td>\n",
       "    </tr>\n",
       "    <tr>\n",
       "      <th>50%</th>\n",
       "      <td>1.540662e+09</td>\n",
       "      <td>0.000000</td>\n",
       "      <td>0.000000</td>\n",
       "      <td>6385.010000</td>\n",
       "      <td>0.082848</td>\n",
       "    </tr>\n",
       "    <tr>\n",
       "      <th>75%</th>\n",
       "      <td>1.541029e+09</td>\n",
       "      <td>0.000000</td>\n",
       "      <td>0.000000</td>\n",
       "      <td>6403.750000</td>\n",
       "      <td>1.076639</td>\n",
       "    </tr>\n",
       "    <tr>\n",
       "      <th>max</th>\n",
       "      <td>1.542153e+09</td>\n",
       "      <td>1.000000</td>\n",
       "      <td>1.000000</td>\n",
       "      <td>6676.170000</td>\n",
       "      <td>350.203804</td>\n",
       "    </tr>\n",
       "  </tbody>\n",
       "</table>\n",
       "</div>"
      ],
      "text/plain": [
       "           UnixTime    News_Label   Twitt_Label          High        Volume\n",
       "count  3.241800e+04  32418.000000  32418.000000  32418.000000  32418.000000\n",
       "mean   1.540785e+09      0.032667      0.073724   6350.714386      2.228470\n",
       "std    8.383551e+05      0.214564      0.263910     66.495662     12.354142\n",
       "min    1.539475e+09     -1.000000     -2.000000   6181.540000      0.000000\n",
       "25%    1.540094e+09      0.000000      0.000000   6280.490000      0.002718\n",
       "50%    1.540662e+09      0.000000      0.000000   6385.010000      0.082848\n",
       "75%    1.541029e+09      0.000000      0.000000   6403.750000      1.076639\n",
       "max    1.542153e+09      1.000000      1.000000   6676.170000    350.203804"
      ]
     },
     "execution_count": 11,
     "metadata": {},
     "output_type": "execute_result"
    }
   ],
   "source": [
    "df.describe()"
   ]
  },
  {
   "cell_type": "code",
   "execution_count": 12,
   "metadata": {},
   "outputs": [
    {
     "name": "stdout",
     "output_type": "stream",
     "text": [
      "           UnixTime   News_Label  Twitt_Label         High       Volume\n",
      "count  3.863000e+03  3863.000000  3863.000000  3863.000000  3863.000000\n",
      "mean   1.540516e+09     0.042454     0.119337  6370.965182     2.354920\n",
      "std    6.662657e+05     0.267832     0.332896    61.678111    13.255993\n",
      "min    1.539475e+09    -1.000000    -2.000000  6181.540000     0.000000\n",
      "25%    1.539983e+09     0.000000     0.000000  6314.880000     0.007764\n",
      "50%    1.540483e+09     0.000000     0.000000  6393.310000     0.198185\n",
      "75%    1.540835e+09     0.000000     0.000000  6407.285000     1.353645\n",
      "max    1.542153e+09     1.000000     1.000000  6676.170000   350.203804\n"
     ]
    },
    {
     "data": {
      "text/html": [
       "<div>\n",
       "<style scoped>\n",
       "    .dataframe tbody tr th:only-of-type {\n",
       "        vertical-align: middle;\n",
       "    }\n",
       "\n",
       "    .dataframe tbody tr th {\n",
       "        vertical-align: top;\n",
       "    }\n",
       "\n",
       "    .dataframe thead th {\n",
       "        text-align: right;\n",
       "    }\n",
       "</style>\n",
       "<table border=\"1\" class=\"dataframe\">\n",
       "  <thead>\n",
       "    <tr style=\"text-align: right;\">\n",
       "      <th></th>\n",
       "      <th>UnixTime</th>\n",
       "      <th>News_Label</th>\n",
       "      <th>Twitt_Label</th>\n",
       "      <th>High</th>\n",
       "      <th>Volume</th>\n",
       "    </tr>\n",
       "  </thead>\n",
       "  <tbody>\n",
       "    <tr>\n",
       "      <th>0</th>\n",
       "      <td>1539475200</td>\n",
       "      <td>0</td>\n",
       "      <td>0</td>\n",
       "      <td>6195.00</td>\n",
       "      <td>3.521828</td>\n",
       "    </tr>\n",
       "    <tr>\n",
       "      <th>1</th>\n",
       "      <td>1539475200</td>\n",
       "      <td>-1</td>\n",
       "      <td>0</td>\n",
       "      <td>6195.00</td>\n",
       "      <td>3.521828</td>\n",
       "    </tr>\n",
       "    <tr>\n",
       "      <th>2</th>\n",
       "      <td>1539475200</td>\n",
       "      <td>1</td>\n",
       "      <td>0</td>\n",
       "      <td>6195.00</td>\n",
       "      <td>3.521828</td>\n",
       "    </tr>\n",
       "    <tr>\n",
       "      <th>3</th>\n",
       "      <td>1539496800</td>\n",
       "      <td>0</td>\n",
       "      <td>0</td>\n",
       "      <td>6248.40</td>\n",
       "      <td>0.000000</td>\n",
       "    </tr>\n",
       "    <tr>\n",
       "      <th>4</th>\n",
       "      <td>1539529200</td>\n",
       "      <td>0</td>\n",
       "      <td>0</td>\n",
       "      <td>6230.19</td>\n",
       "      <td>0.000000</td>\n",
       "    </tr>\n",
       "  </tbody>\n",
       "</table>\n",
       "</div>"
      ],
      "text/plain": [
       "     UnixTime  News_Label  Twitt_Label     High    Volume\n",
       "0  1539475200           0            0  6195.00  3.521828\n",
       "1  1539475200          -1            0  6195.00  3.521828\n",
       "2  1539475200           1            0  6195.00  3.521828\n",
       "3  1539496800           0            0  6248.40  0.000000\n",
       "4  1539529200           0            0  6230.19  0.000000"
      ]
     },
     "execution_count": 12,
     "metadata": {},
     "output_type": "execute_result"
    }
   ],
   "source": [
    "df.drop_duplicates(inplace=True)\n",
    "df.sort_values(by='UnixTime',inplace=True)\n",
    "df.reset_index(drop=True,inplace=True)\n",
    "print(df.describe())\n",
    "df.head()"
   ]
  },
  {
   "cell_type": "code",
   "execution_count": 15,
   "metadata": {},
   "outputs": [
    {
     "data": {
      "text/plain": [
       "<matplotlib.legend.Legend at 0xc571d90>"
      ]
     },
     "execution_count": 15,
     "metadata": {},
     "output_type": "execute_result"
    },
    {
     "data": {
      "image/png": "[encoded data removed]",
      "text/plain": [
       "<Figure size 432x288 with 1 Axes>"
      ]
     },
     "metadata": {},
     "output_type": "display_data"
    }
   ],
   "source": [
    "# df.High = df.High / np.mean(df.High)\n",
    "plt.plot(df.UnixTime,df.News_Label)\n",
    "plt.plot(df.UnixTime,df.High)\n",
    "plt.legend()"
   ]
  },
  {
   "cell_type": "markdown",
   "metadata": {},
   "source": [
    "### Output dataset columns"
   ]
  },
  {
   "cell_type": "code",
   "execution_count": 17,
   "metadata": {},
   "outputs": [
    {
     "data": {
      "text/html": [
       "<div>\n",
       "<style scoped>\n",
       "    .dataframe tbody tr th:only-of-type {\n",
       "        vertical-align: middle;\n",
       "    }\n",
       "\n",
       "    .dataframe tbody tr th {\n",
       "        vertical-align: top;\n",
       "    }\n",
       "\n",
       "    .dataframe thead th {\n",
       "        text-align: right;\n",
       "    }\n",
       "</style>\n",
       "<table border=\"1\" class=\"dataframe\">\n",
       "  <thead>\n",
       "    <tr style=\"text-align: right;\">\n",
       "      <th></th>\n",
       "      <th>UnixTime</th>\n",
       "      <th>News_Label</th>\n",
       "      <th>Twitt_Label</th>\n",
       "      <th>High</th>\n",
       "      <th>Volume</th>\n",
       "    </tr>\n",
       "  </thead>\n",
       "  <tbody>\n",
       "    <tr>\n",
       "      <th>0</th>\n",
       "      <td>1540655760</td>\n",
       "      <td>0</td>\n",
       "      <td>0</td>\n",
       "      <td>6416.81</td>\n",
       "      <td>1.897012</td>\n",
       "    </tr>\n",
       "    <tr>\n",
       "      <th>1</th>\n",
       "      <td>1540655760</td>\n",
       "      <td>0</td>\n",
       "      <td>0</td>\n",
       "      <td>6416.81</td>\n",
       "      <td>1.897012</td>\n",
       "    </tr>\n",
       "    <tr>\n",
       "      <th>2</th>\n",
       "      <td>1540655760</td>\n",
       "      <td>0</td>\n",
       "      <td>0</td>\n",
       "      <td>6416.81</td>\n",
       "      <td>1.897012</td>\n",
       "    </tr>\n",
       "    <tr>\n",
       "      <th>3</th>\n",
       "      <td>1540655760</td>\n",
       "      <td>0</td>\n",
       "      <td>0</td>\n",
       "      <td>6416.81</td>\n",
       "      <td>1.897012</td>\n",
       "    </tr>\n",
       "    <tr>\n",
       "      <th>4</th>\n",
       "      <td>1540655760</td>\n",
       "      <td>0</td>\n",
       "      <td>0</td>\n",
       "      <td>6416.81</td>\n",
       "      <td>1.897012</td>\n",
       "    </tr>\n",
       "  </tbody>\n",
       "</table>\n",
       "</div>"
      ],
      "text/plain": [
       "     UnixTime  News_Label  Twitt_Label     High    Volume\n",
       "0  1540655760           0            0  6416.81  1.897012\n",
       "1  1540655760           0            0  6416.81  1.897012\n",
       "2  1540655760           0            0  6416.81  1.897012\n",
       "3  1540655760           0            0  6416.81  1.897012\n",
       "4  1540655760           0            0  6416.81  1.897012"
      ]
     },
     "execution_count": 17,
     "metadata": {},
     "output_type": "execute_result"
    }
   ],
   "source": [
    "y = pd.read_csv('Mapped_Final_Output.csv',index_col=False,usecols=['News_Label','Twitt_Label','Volume','High','UnixTime'],)\n",
    "y.head()"
   ]
  },
  {
   "cell_type": "code",
   "execution_count": 18,
   "metadata": {},
   "outputs": [
    {
     "data": {
      "text/html": [
       "<div>\n",
       "<style scoped>\n",
       "    .dataframe tbody tr th:only-of-type {\n",
       "        vertical-align: middle;\n",
       "    }\n",
       "\n",
       "    .dataframe tbody tr th {\n",
       "        vertical-align: top;\n",
       "    }\n",
       "\n",
       "    .dataframe thead th {\n",
       "        text-align: right;\n",
       "    }\n",
       "</style>\n",
       "<table border=\"1\" class=\"dataframe\">\n",
       "  <thead>\n",
       "    <tr style=\"text-align: right;\">\n",
       "      <th></th>\n",
       "      <th>UnixTime</th>\n",
       "      <th>News_Label</th>\n",
       "      <th>Twitt_Label</th>\n",
       "      <th>High</th>\n",
       "      <th>Volume</th>\n",
       "    </tr>\n",
       "  </thead>\n",
       "  <tbody>\n",
       "    <tr>\n",
       "      <th>count</th>\n",
       "      <td>3.241800e+04</td>\n",
       "      <td>32418.000000</td>\n",
       "      <td>32418.000000</td>\n",
       "      <td>32418.000000</td>\n",
       "      <td>32418.000000</td>\n",
       "    </tr>\n",
       "    <tr>\n",
       "      <th>mean</th>\n",
       "      <td>1.540785e+09</td>\n",
       "      <td>0.032667</td>\n",
       "      <td>0.073724</td>\n",
       "      <td>6376.898976</td>\n",
       "      <td>1.311370</td>\n",
       "    </tr>\n",
       "    <tr>\n",
       "      <th>std</th>\n",
       "      <td>8.383551e+05</td>\n",
       "      <td>0.214564</td>\n",
       "      <td>0.263910</td>\n",
       "      <td>69.818869</td>\n",
       "      <td>7.408240</td>\n",
       "    </tr>\n",
       "    <tr>\n",
       "      <th>min</th>\n",
       "      <td>1.539475e+09</td>\n",
       "      <td>-1.000000</td>\n",
       "      <td>-2.000000</td>\n",
       "      <td>6153.730000</td>\n",
       "      <td>0.000000</td>\n",
       "    </tr>\n",
       "    <tr>\n",
       "      <th>25%</th>\n",
       "      <td>1.540094e+09</td>\n",
       "      <td>0.000000</td>\n",
       "      <td>0.000000</td>\n",
       "      <td>6368.290000</td>\n",
       "      <td>0.000000</td>\n",
       "    </tr>\n",
       "    <tr>\n",
       "      <th>50%</th>\n",
       "      <td>1.540662e+09</td>\n",
       "      <td>0.000000</td>\n",
       "      <td>0.000000</td>\n",
       "      <td>6399.170000</td>\n",
       "      <td>0.033972</td>\n",
       "    </tr>\n",
       "    <tr>\n",
       "      <th>75%</th>\n",
       "      <td>1.541029e+09</td>\n",
       "      <td>0.000000</td>\n",
       "      <td>0.000000</td>\n",
       "      <td>6410.760000</td>\n",
       "      <td>0.589507</td>\n",
       "    </tr>\n",
       "    <tr>\n",
       "      <th>max</th>\n",
       "      <td>1.542153e+09</td>\n",
       "      <td>1.000000</td>\n",
       "      <td>1.000000</td>\n",
       "      <td>6676.550000</td>\n",
       "      <td>292.796012</td>\n",
       "    </tr>\n",
       "  </tbody>\n",
       "</table>\n",
       "</div>"
      ],
      "text/plain": [
       "           UnixTime    News_Label   Twitt_Label          High        Volume\n",
       "count  3.241800e+04  32418.000000  32418.000000  32418.000000  32418.000000\n",
       "mean   1.540785e+09      0.032667      0.073724   6376.898976      1.311370\n",
       "std    8.383551e+05      0.214564      0.263910     69.818869      7.408240\n",
       "min    1.539475e+09     -1.000000     -2.000000   6153.730000      0.000000\n",
       "25%    1.540094e+09      0.000000      0.000000   6368.290000      0.000000\n",
       "50%    1.540662e+09      0.000000      0.000000   6399.170000      0.033972\n",
       "75%    1.541029e+09      0.000000      0.000000   6410.760000      0.589507\n",
       "max    1.542153e+09      1.000000      1.000000   6676.550000    292.796012"
      ]
     },
     "execution_count": 18,
     "metadata": {},
     "output_type": "execute_result"
    }
   ],
   "source": [
    "y.describe()"
   ]
  },
  {
   "cell_type": "code",
   "execution_count": 19,
   "metadata": {},
   "outputs": [
    {
     "name": "stdout",
     "output_type": "stream",
     "text": [
      "           UnixTime   News_Label  Twitt_Label         High       Volume\n",
      "count  3.863000e+03  3863.000000  3863.000000  3863.000000  3863.000000\n",
      "mean   1.540516e+09     0.042454     0.119337  6375.419912     1.892484\n",
      "std    6.662657e+05     0.267832     0.332896    72.859767     9.709963\n",
      "min    1.539475e+09    -1.000000    -2.000000  6153.730000     0.000000\n",
      "25%    1.539983e+09     0.000000     0.000000  6383.460000     0.002410\n",
      "50%    1.540483e+09     0.000000     0.000000  6398.740000     0.108709\n",
      "75%    1.540835e+09     0.000000     0.000000  6411.160000     1.035650\n",
      "max    1.542153e+09     1.000000     1.000000  6676.550000   292.796012\n"
     ]
    },
    {
     "data": {
      "text/html": [
       "<div>\n",
       "<style scoped>\n",
       "    .dataframe tbody tr th:only-of-type {\n",
       "        vertical-align: middle;\n",
       "    }\n",
       "\n",
       "    .dataframe tbody tr th {\n",
       "        vertical-align: top;\n",
       "    }\n",
       "\n",
       "    .dataframe thead th {\n",
       "        text-align: right;\n",
       "    }\n",
       "</style>\n",
       "<table border=\"1\" class=\"dataframe\">\n",
       "  <thead>\n",
       "    <tr style=\"text-align: right;\">\n",
       "      <th></th>\n",
       "      <th>UnixTime</th>\n",
       "      <th>News_Label</th>\n",
       "      <th>Twitt_Label</th>\n",
       "      <th>High</th>\n",
       "      <th>Volume</th>\n",
       "    </tr>\n",
       "  </thead>\n",
       "  <tbody>\n",
       "    <tr>\n",
       "      <th>0</th>\n",
       "      <td>1539475200</td>\n",
       "      <td>0</td>\n",
       "      <td>0</td>\n",
       "      <td>6529.75</td>\n",
       "      <td>2.216576</td>\n",
       "    </tr>\n",
       "    <tr>\n",
       "      <th>1</th>\n",
       "      <td>1539475200</td>\n",
       "      <td>-1</td>\n",
       "      <td>0</td>\n",
       "      <td>6529.75</td>\n",
       "      <td>2.216576</td>\n",
       "    </tr>\n",
       "    <tr>\n",
       "      <th>2</th>\n",
       "      <td>1539475200</td>\n",
       "      <td>1</td>\n",
       "      <td>0</td>\n",
       "      <td>6529.75</td>\n",
       "      <td>2.216576</td>\n",
       "    </tr>\n",
       "    <tr>\n",
       "      <th>3</th>\n",
       "      <td>1539496800</td>\n",
       "      <td>0</td>\n",
       "      <td>0</td>\n",
       "      <td>6205.47</td>\n",
       "      <td>0.102874</td>\n",
       "    </tr>\n",
       "    <tr>\n",
       "      <th>4</th>\n",
       "      <td>1539529200</td>\n",
       "      <td>0</td>\n",
       "      <td>0</td>\n",
       "      <td>6214.97</td>\n",
       "      <td>2.123031</td>\n",
       "    </tr>\n",
       "  </tbody>\n",
       "</table>\n",
       "</div>"
      ],
      "text/plain": [
       "     UnixTime  News_Label  Twitt_Label     High    Volume\n",
       "0  1539475200           0            0  6529.75  2.216576\n",
       "1  1539475200          -1            0  6529.75  2.216576\n",
       "2  1539475200           1            0  6529.75  2.216576\n",
       "3  1539496800           0            0  6205.47  0.102874\n",
       "4  1539529200           0            0  6214.97  2.123031"
      ]
     },
     "execution_count": 19,
     "metadata": {},
     "output_type": "execute_result"
    }
   ],
   "source": [
    "y.drop_duplicates(inplace=True)\n",
    "y.sort_values(by='UnixTime',inplace=True)\n",
    "y.reset_index(drop=True,inplace=True)\n",
    "print(y.describe())\n",
    "y.head()"
   ]
  },
  {
   "cell_type": "code",
   "execution_count": 45,
   "metadata": {},
   "outputs": [
    {
     "data": {
      "image/png": "[encoded data removed]",
      "text/plain": [
       "<Figure size 432x288 with 1 Axes>"
      ]
     },
     "metadata": {},
     "output_type": "display_data"
    }
   ],
   "source": [
    "# df.High = df.High / np.mean(df.High)\n",
    "# plt.plot(y.UnixTime,y.News_Label)\n",
    "plt.plot(y.UnixTime,y.High)\n",
    "plt.legend()"
   ]
  },
  {
   "cell_type": "code",
   "execution_count": 51,
   "metadata": {},
   "outputs": [],
   "source": [
    "def draw_relation(y,relation,name): \n",
    "    fig, ax1 = plt.subplots()\n",
    "\n",
    "    color = 'lightgreen'\n",
    "    ax1.set_xlabel('Timestamp')\n",
    "    ax1.set_ylabel(f'{name}',color = color)\n",
    "    ax1.plot(y.UnixTime,relation,color = color)\n",
    "    ax1.tick_params(axis='y',labelcolor=color)\n",
    "\n",
    "    ax2 = ax1.twinx()\n",
    "    color = 'navy'\n",
    "    ax2.set_ylabel('Output',color = color)\n",
    "    ax2.plot(y.UnixTime,y.High,color = color)\n",
    "    ax2.tick_params(axis='y',labelcolor = color)\n",
    "\n",
    "    fig.tight_layout()\n",
    "    mng = plt.get_current_fig_manager()\n",
    "    mng.full_screen_toggle()\n",
    "    plt.show()"
   ]
  },
  {
   "cell_type": "code",
   "execution_count": 52,
   "metadata": {},
   "outputs": [
    {
     "data": {
      "image/png": "[encoded data removed]",
      "text/plain": [
       "<Figure size 432x288 with 2 Axes>"
      ]
     },
     "metadata": {},
     "output_type": "display_data"
    }
   ],
   "source": [
    "draw_relation(y,df.News_Label,'News')"
   ]
  },
  {
   "cell_type": "code",
   "execution_count": 33,
   "metadata": {},
   "outputs": [
    {
     "data": {
      "image/png": "[encoded data removed]",
      "text/plain": [
       "<Figure size 432x288 with 2 Axes>"
      ]
     },
     "metadata": {},
     "output_type": "display_data"
    }
   ],
   "source": [
    "draw_relation(y,df.Twitt_Label,\"Twitt\")"
   ]
  },
  {
   "cell_type": "code",
   "execution_count": 34,
   "metadata": {},
   "outputs": [
    {
     "data": {
      "image/png": "[encoded data removed]",
      "text/plain": [
       "<Figure size 432x288 with 2 Axes>"
      ]
     },
     "metadata": {},
     "output_type": "display_data"
    }
   ],
   "source": [
    "draw_relation(y,df.Volume,'Volume')"
   ]
  },
  {
   "cell_type": "code",
   "execution_count": null,
   "metadata": {},
   "outputs": [],
   "source": []
  }
 ],
 "metadata": {
  "kernelspec": {
   "display_name": "Python 3",
   "language": "python",
   "name": "python3"
  },
  "language_info": {
   "codemirror_mode": {
    "name": "ipython",
    "version": 3
   },
   "file_extension": ".py",
   "mimetype": "text/x-python",
   "name": "python",
   "nbconvert_exporter": "python",
   "pygments_lexer": "ipython3",
   "version": "3.6.3"
  }
 },
 "nbformat": 4,
 "nbformat_minor": 2
}
