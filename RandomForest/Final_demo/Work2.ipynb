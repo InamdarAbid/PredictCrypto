{
 "cells": [
  {
   "cell_type": "code",
   "execution_count": 1,
   "metadata": {},
   "outputs": [
    {
     "name": "stdout",
     "output_type": "stream",
     "text": [
      "Populating the interactive namespace from numpy and matplotlib\n"
     ]
    }
   ],
   "source": [
    "import pandas as pd\n",
    "import matplotlib.pyplot as plt\n",
    "import numpy as np\n",
    "%pylab inline\n",
    "style.use('ggplot')"
   ]
  },
  {
   "cell_type": "code",
   "execution_count": 7,
   "metadata": {},
   "outputs": [
    {
     "data": {
      "text/html": [
       "<div>\n",
       "<style scoped>\n",
       "    .dataframe tbody tr th:only-of-type {\n",
       "        vertical-align: middle;\n",
       "    }\n",
       "\n",
       "    .dataframe tbody tr th {\n",
       "        vertical-align: top;\n",
       "    }\n",
       "\n",
       "    .dataframe thead th {\n",
       "        text-align: right;\n",
       "    }\n",
       "</style>\n",
       "<table border=\"1\" class=\"dataframe\">\n",
       "  <thead>\n",
       "    <tr style=\"text-align: right;\">\n",
       "      <th></th>\n",
       "      <th>UnixTime</th>\n",
       "      <th>News_Label</th>\n",
       "      <th>Twitt_Label</th>\n",
       "      <th>High</th>\n",
       "      <th>Volume</th>\n",
       "    </tr>\n",
       "  </thead>\n",
       "  <tbody>\n",
       "    <tr>\n",
       "      <th>0</th>\n",
       "      <td>1540655760</td>\n",
       "      <td>0</td>\n",
       "      <td>0</td>\n",
       "      <td>6394.18</td>\n",
       "      <td>0.005533</td>\n",
       "    </tr>\n",
       "    <tr>\n",
       "      <th>1</th>\n",
       "      <td>1540655760</td>\n",
       "      <td>0</td>\n",
       "      <td>0</td>\n",
       "      <td>6394.18</td>\n",
       "      <td>0.005533</td>\n",
       "    </tr>\n",
       "    <tr>\n",
       "      <th>2</th>\n",
       "      <td>1540655760</td>\n",
       "      <td>0</td>\n",
       "      <td>0</td>\n",
       "      <td>6394.18</td>\n",
       "      <td>0.005533</td>\n",
       "    </tr>\n",
       "    <tr>\n",
       "      <th>3</th>\n",
       "      <td>1540655760</td>\n",
       "      <td>0</td>\n",
       "      <td>0</td>\n",
       "      <td>6394.18</td>\n",
       "      <td>0.005533</td>\n",
       "    </tr>\n",
       "    <tr>\n",
       "      <th>4</th>\n",
       "      <td>1540655760</td>\n",
       "      <td>0</td>\n",
       "      <td>0</td>\n",
       "      <td>6394.18</td>\n",
       "      <td>0.005533</td>\n",
       "    </tr>\n",
       "  </tbody>\n",
       "</table>\n",
       "</div>"
      ],
      "text/plain": [
       "     UnixTime  News_Label  Twitt_Label     High    Volume\n",
       "0  1540655760           0            0  6394.18  0.005533\n",
       "1  1540655760           0            0  6394.18  0.005533\n",
       "2  1540655760           0            0  6394.18  0.005533\n",
       "3  1540655760           0            0  6394.18  0.005533\n",
       "4  1540655760           0            0  6394.18  0.005533"
      ]
     },
     "execution_count": 7,
     "metadata": {},
     "output_type": "execute_result"
    }
   ],
   "source": [
    "df = pd.read_csv('Mapped_Final.csv',index_col=False,usecols=['News_Label','Twitt_Label','Volume','High','UnixTime'],)\n",
    "df.head()"
   ]
  },
  {
   "cell_type": "code",
   "execution_count": 8,
   "metadata": {},
   "outputs": [
    {
     "data": {
      "text/html": [
       "<div>\n",
       "<style scoped>\n",
       "    .dataframe tbody tr th:only-of-type {\n",
       "        vertical-align: middle;\n",
       "    }\n",
       "\n",
       "    .dataframe tbody tr th {\n",
       "        vertical-align: top;\n",
       "    }\n",
       "\n",
       "    .dataframe thead th {\n",
       "        text-align: right;\n",
       "    }\n",
       "</style>\n",
       "<table border=\"1\" class=\"dataframe\">\n",
       "  <thead>\n",
       "    <tr style=\"text-align: right;\">\n",
       "      <th></th>\n",
       "      <th>UnixTime</th>\n",
       "      <th>News_Label</th>\n",
       "      <th>Twitt_Label</th>\n",
       "      <th>High</th>\n",
       "      <th>Volume</th>\n",
       "    </tr>\n",
       "  </thead>\n",
       "  <tbody>\n",
       "    <tr>\n",
       "      <th>count</th>\n",
       "      <td>3.241800e+04</td>\n",
       "      <td>32418.000000</td>\n",
       "      <td>32418.000000</td>\n",
       "      <td>32418.000000</td>\n",
       "      <td>32418.000000</td>\n",
       "    </tr>\n",
       "    <tr>\n",
       "      <th>mean</th>\n",
       "      <td>1.540785e+09</td>\n",
       "      <td>0.032667</td>\n",
       "      <td>0.073724</td>\n",
       "      <td>6350.714386</td>\n",
       "      <td>2.228470</td>\n",
       "    </tr>\n",
       "    <tr>\n",
       "      <th>std</th>\n",
       "      <td>8.383551e+05</td>\n",
       "      <td>0.214564</td>\n",
       "      <td>0.263910</td>\n",
       "      <td>66.495662</td>\n",
       "      <td>12.354142</td>\n",
       "    </tr>\n",
       "    <tr>\n",
       "      <th>min</th>\n",
       "      <td>1.539475e+09</td>\n",
       "      <td>-1.000000</td>\n",
       "      <td>-2.000000</td>\n",
       "      <td>6181.540000</td>\n",
       "      <td>0.000000</td>\n",
       "    </tr>\n",
       "    <tr>\n",
       "      <th>25%</th>\n",
       "      <td>1.540094e+09</td>\n",
       "      <td>0.000000</td>\n",
       "      <td>0.000000</td>\n",
       "      <td>6280.490000</td>\n",
       "      <td>0.002718</td>\n",
       "    </tr>\n",
       "    <tr>\n",
       "      <th>50%</th>\n",
       "      <td>1.540662e+09</td>\n",
       "      <td>0.000000</td>\n",
       "      <td>0.000000</td>\n",
       "      <td>6385.010000</td>\n",
       "      <td>0.082848</td>\n",
       "    </tr>\n",
       "    <tr>\n",
       "      <th>75%</th>\n",
       "      <td>1.541029e+09</td>\n",
       "      <td>0.000000</td>\n",
       "      <td>0.000000</td>\n",
       "      <td>6403.750000</td>\n",
       "      <td>1.076639</td>\n",
       "    </tr>\n",
       "    <tr>\n",
       "      <th>max</th>\n",
       "      <td>1.542153e+09</td>\n",
       "      <td>1.000000</td>\n",
       "      <td>1.000000</td>\n",
       "      <td>6676.170000</td>\n",
       "      <td>350.203804</td>\n",
       "    </tr>\n",
       "  </tbody>\n",
       "</table>\n",
       "</div>"
      ],
      "text/plain": [
       "           UnixTime    News_Label   Twitt_Label          High        Volume\n",
       "count  3.241800e+04  32418.000000  32418.000000  32418.000000  32418.000000\n",
       "mean   1.540785e+09      0.032667      0.073724   6350.714386      2.228470\n",
       "std    8.383551e+05      0.214564      0.263910     66.495662     12.354142\n",
       "min    1.539475e+09     -1.000000     -2.000000   6181.540000      0.000000\n",
       "25%    1.540094e+09      0.000000      0.000000   6280.490000      0.002718\n",
       "50%    1.540662e+09      0.000000      0.000000   6385.010000      0.082848\n",
       "75%    1.541029e+09      0.000000      0.000000   6403.750000      1.076639\n",
       "max    1.542153e+09      1.000000      1.000000   6676.170000    350.203804"
      ]
     },
     "execution_count": 8,
     "metadata": {},
     "output_type": "execute_result"
    }
   ],
   "source": [
    "df.describe()"
   ]
  },
  {
   "cell_type": "code",
   "execution_count": 9,
   "metadata": {},
   "outputs": [
    {
     "name": "stdout",
     "output_type": "stream",
     "text": [
      "           UnixTime   News_Label  Twitt_Label         High       Volume\n",
      "count  3.863000e+03  3863.000000  3863.000000  3863.000000  3863.000000\n",
      "mean   1.540516e+09     0.042454     0.119337  6370.965182     2.354920\n",
      "std    6.662657e+05     0.267832     0.332896    61.678111    13.255993\n",
      "min    1.539475e+09    -1.000000    -2.000000  6181.540000     0.000000\n",
      "25%    1.539983e+09     0.000000     0.000000  6314.880000     0.007764\n",
      "50%    1.540483e+09     0.000000     0.000000  6393.310000     0.198185\n",
      "75%    1.540835e+09     0.000000     0.000000  6407.285000     1.353645\n",
      "max    1.542153e+09     1.000000     1.000000  6676.170000   350.203804\n"
     ]
    },
    {
     "data": {
      "text/html": [
       "<div>\n",
       "<style scoped>\n",
       "    .dataframe tbody tr th:only-of-type {\n",
       "        vertical-align: middle;\n",
       "    }\n",
       "\n",
       "    .dataframe tbody tr th {\n",
       "        vertical-align: top;\n",
       "    }\n",
       "\n",
       "    .dataframe thead th {\n",
       "        text-align: right;\n",
       "    }\n",
       "</style>\n",
       "<table border=\"1\" class=\"dataframe\">\n",
       "  <thead>\n",
       "    <tr style=\"text-align: right;\">\n",
       "      <th></th>\n",
       "      <th>UnixTime</th>\n",
       "      <th>News_Label</th>\n",
       "      <th>Twitt_Label</th>\n",
       "      <th>High</th>\n",
       "      <th>Volume</th>\n",
       "    </tr>\n",
       "  </thead>\n",
       "  <tbody>\n",
       "    <tr>\n",
       "      <th>0</th>\n",
       "      <td>1539475200</td>\n",
       "      <td>0</td>\n",
       "      <td>0</td>\n",
       "      <td>6195.00</td>\n",
       "      <td>3.521828</td>\n",
       "    </tr>\n",
       "    <tr>\n",
       "      <th>1</th>\n",
       "      <td>1539475200</td>\n",
       "      <td>-1</td>\n",
       "      <td>0</td>\n",
       "      <td>6195.00</td>\n",
       "      <td>3.521828</td>\n",
       "    </tr>\n",
       "    <tr>\n",
       "      <th>2</th>\n",
       "      <td>1539475200</td>\n",
       "      <td>1</td>\n",
       "      <td>0</td>\n",
       "      <td>6195.00</td>\n",
       "      <td>3.521828</td>\n",
       "    </tr>\n",
       "    <tr>\n",
       "      <th>3</th>\n",
       "      <td>1539496800</td>\n",
       "      <td>0</td>\n",
       "      <td>0</td>\n",
       "      <td>6248.40</td>\n",
       "      <td>0.000000</td>\n",
       "    </tr>\n",
       "    <tr>\n",
       "      <th>4</th>\n",
       "      <td>1539529200</td>\n",
       "      <td>0</td>\n",
       "      <td>0</td>\n",
       "      <td>6230.19</td>\n",
       "      <td>0.000000</td>\n",
       "    </tr>\n",
       "  </tbody>\n",
       "</table>\n",
       "</div>"
      ],
      "text/plain": [
       "     UnixTime  News_Label  Twitt_Label     High    Volume\n",
       "0  1539475200           0            0  6195.00  3.521828\n",
       "1  1539475200          -1            0  6195.00  3.521828\n",
       "2  1539475200           1            0  6195.00  3.521828\n",
       "3  1539496800           0            0  6248.40  0.000000\n",
       "4  1539529200           0            0  6230.19  0.000000"
      ]
     },
     "execution_count": 9,
     "metadata": {},
     "output_type": "execute_result"
    }
   ],
   "source": [
    "df.drop_duplicates(inplace=True)\n",
    "df.sort_values(by='UnixTime',inplace=True)\n",
    "df.reset_index(drop=True,inplace=True)\n",
    "print(df.describe())\n",
    "df.head()"
   ]
  },
  {
   "cell_type": "code",
   "execution_count": 10,
   "metadata": {},
   "outputs": [
    {
     "data": {
      "text/plain": [
       "<matplotlib.legend.Legend at 0x102e910>"
      ]
     },
     "execution_count": 10,
     "metadata": {},
     "output_type": "execute_result"
    },
    {
     "data": {
      "image/png": "[encoded data removed]",
      "text/plain": [
       "<Figure size 432x288 with 1 Axes>"
      ]
     },
     "metadata": {},
     "output_type": "display_data"
    }
   ],
   "source": [
    "# df.High = df.High / np.mean(df.High)\n",
    "plt.plot(df.UnixTime,df.News_Label)\n",
    "plt.plot(df.UnixTime,df.High)\n",
    "plt.legend()"
   ]
  },
  {
   "cell_type": "code",
   "execution_count": 21,
   "metadata": {},
   "outputs": [
    {
     "data": {
      "image/png": "[encoded data removed]",
      "text/plain": [
       "<Figure size 432x288 with 2 Axes>"
      ]
     },
     "metadata": {},
     "output_type": "display_data"
    }
   ],
   "source": [
    "fig, ax1 = plt.subplots()\n",
    "\n",
    "color = 'lightgreen'\n",
    "ax1.set_xlabel('Timestamp')\n",
    "ax1.set_ylabel('News',color = color)\n",
    "ax1.plot(df.UnixTime,df.News_Label,color = color)\n",
    "ax1.tick_params(axis='y',labelcolor=color)\n",
    "\n",
    "ax2 = ax1.twinx()\n",
    "color = 'navy'\n",
    "ax2.set_ylabel('Historic',color = color)\n",
    "ax2.plot(df.UnixTime,df.High,color = color)\n",
    "ax2.tick_params(axis='y',labelcolor = color)\n",
    "\n",
    "fig.tight_layout()\n",
    "plt.show()"
   ]
  },
  {
   "cell_type": "code",
   "execution_count": null,
   "metadata": {},
   "outputs": [],
   "source": []
  }
 ],
 "metadata": {
  "kernelspec": {
   "display_name": "Python 3",
   "language": "python",
   "name": "python3"
  },
  "language_info": {
   "codemirror_mode": {
    "name": "ipython",
    "version": 3
   },
   "file_extension": ".py",
   "mimetype": "text/x-python",
   "name": "python",
   "nbconvert_exporter": "python",
   "pygments_lexer": "ipython3",
   "version": "3.6.3"
  }
 },
 "nbformat": 4,
 "nbformat_minor": 2
}
