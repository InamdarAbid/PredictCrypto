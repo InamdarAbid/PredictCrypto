{
 "cells": [
  {
   "cell_type": "code",
   "execution_count": 34,
   "metadata": {},
   "outputs": [
    {
     "name": "stdout",
     "output_type": "stream",
     "text": [
      "Populating the interactive namespace from numpy and matplotlib\n"
     ]
    }
   ],
   "source": [
    "import pandas as pd\n",
    "import matplotlib.pyplot as plt\n",
    "import numpy as np\n",
    "%pylab inline\n",
    "style.use('ggplot')"
   ]
  },
  {
   "cell_type": "code",
   "execution_count": 3,
   "metadata": {},
   "outputs": [
    {
     "data": {
      "text/html": [
       "<div>\n",
       "<style scoped>\n",
       "    .dataframe tbody tr th:only-of-type {\n",
       "        vertical-align: middle;\n",
       "    }\n",
       "\n",
       "    .dataframe tbody tr th {\n",
       "        vertical-align: top;\n",
       "    }\n",
       "\n",
       "    .dataframe thead th {\n",
       "        text-align: right;\n",
       "    }\n",
       "</style>\n",
       "<table border=\"1\" class=\"dataframe\">\n",
       "  <thead>\n",
       "    <tr style=\"text-align: right;\">\n",
       "      <th></th>\n",
       "      <th>UnixTime</th>\n",
       "      <th>News_Label</th>\n",
       "      <th>Twitt_Label</th>\n",
       "      <th>High</th>\n",
       "      <th>Volume</th>\n",
       "    </tr>\n",
       "  </thead>\n",
       "  <tbody>\n",
       "    <tr>\n",
       "      <th>0</th>\n",
       "      <td>1540655760</td>\n",
       "      <td>0</td>\n",
       "      <td>0</td>\n",
       "      <td>6394.18</td>\n",
       "      <td>0.005533</td>\n",
       "    </tr>\n",
       "    <tr>\n",
       "      <th>1</th>\n",
       "      <td>1540655760</td>\n",
       "      <td>0</td>\n",
       "      <td>0</td>\n",
       "      <td>6394.18</td>\n",
       "      <td>0.005533</td>\n",
       "    </tr>\n",
       "    <tr>\n",
       "      <th>2</th>\n",
       "      <td>1540655760</td>\n",
       "      <td>0</td>\n",
       "      <td>0</td>\n",
       "      <td>6394.18</td>\n",
       "      <td>0.005533</td>\n",
       "    </tr>\n",
       "    <tr>\n",
       "      <th>3</th>\n",
       "      <td>1540655760</td>\n",
       "      <td>0</td>\n",
       "      <td>0</td>\n",
       "      <td>6394.18</td>\n",
       "      <td>0.005533</td>\n",
       "    </tr>\n",
       "    <tr>\n",
       "      <th>4</th>\n",
       "      <td>1540655760</td>\n",
       "      <td>0</td>\n",
       "      <td>0</td>\n",
       "      <td>6394.18</td>\n",
       "      <td>0.005533</td>\n",
       "    </tr>\n",
       "  </tbody>\n",
       "</table>\n",
       "</div>"
      ],
      "text/plain": [
       "     UnixTime  News_Label  Twitt_Label     High    Volume\n",
       "0  1540655760           0            0  6394.18  0.005533\n",
       "1  1540655760           0            0  6394.18  0.005533\n",
       "2  1540655760           0            0  6394.18  0.005533\n",
       "3  1540655760           0            0  6394.18  0.005533\n",
       "4  1540655760           0            0  6394.18  0.005533"
      ]
     },
     "execution_count": 3,
     "metadata": {},
     "output_type": "execute_result"
    }
   ],
   "source": [
    "df = pd.read_csv('Mapped_Final.csv',index_col=False,usecols=['News_Label','Twitt_Label','Volume','High','UnixTime'],)\n",
    "df.head()"
   ]
  },
  {
   "cell_type": "code",
   "execution_count": 4,
   "metadata": {},
   "outputs": [
    {
     "data": {
      "text/html": [
       "<div>\n",
       "<style scoped>\n",
       "    .dataframe tbody tr th:only-of-type {\n",
       "        vertical-align: middle;\n",
       "    }\n",
       "\n",
       "    .dataframe tbody tr th {\n",
       "        vertical-align: top;\n",
       "    }\n",
       "\n",
       "    .dataframe thead th {\n",
       "        text-align: right;\n",
       "    }\n",
       "</style>\n",
       "<table border=\"1\" class=\"dataframe\">\n",
       "  <thead>\n",
       "    <tr style=\"text-align: right;\">\n",
       "      <th></th>\n",
       "      <th>UnixTime</th>\n",
       "      <th>News_Label</th>\n",
       "      <th>Twitt_Label</th>\n",
       "      <th>High</th>\n",
       "      <th>Volume</th>\n",
       "    </tr>\n",
       "  </thead>\n",
       "  <tbody>\n",
       "    <tr>\n",
       "      <th>count</th>\n",
       "      <td>3.241800e+04</td>\n",
       "      <td>32418.000000</td>\n",
       "      <td>32418.000000</td>\n",
       "      <td>32418.000000</td>\n",
       "      <td>32418.000000</td>\n",
       "    </tr>\n",
       "    <tr>\n",
       "      <th>mean</th>\n",
       "      <td>1.540785e+09</td>\n",
       "      <td>0.032667</td>\n",
       "      <td>0.073724</td>\n",
       "      <td>6350.714386</td>\n",
       "      <td>2.228470</td>\n",
       "    </tr>\n",
       "    <tr>\n",
       "      <th>std</th>\n",
       "      <td>8.383551e+05</td>\n",
       "      <td>0.214564</td>\n",
       "      <td>0.263910</td>\n",
       "      <td>66.495662</td>\n",
       "      <td>12.354142</td>\n",
       "    </tr>\n",
       "    <tr>\n",
       "      <th>min</th>\n",
       "      <td>1.539475e+09</td>\n",
       "      <td>-1.000000</td>\n",
       "      <td>-2.000000</td>\n",
       "      <td>6181.540000</td>\n",
       "      <td>0.000000</td>\n",
       "    </tr>\n",
       "    <tr>\n",
       "      <th>25%</th>\n",
       "      <td>1.540094e+09</td>\n",
       "      <td>0.000000</td>\n",
       "      <td>0.000000</td>\n",
       "      <td>6280.490000</td>\n",
       "      <td>0.002718</td>\n",
       "    </tr>\n",
       "    <tr>\n",
       "      <th>50%</th>\n",
       "      <td>1.540662e+09</td>\n",
       "      <td>0.000000</td>\n",
       "      <td>0.000000</td>\n",
       "      <td>6385.010000</td>\n",
       "      <td>0.082848</td>\n",
       "    </tr>\n",
       "    <tr>\n",
       "      <th>75%</th>\n",
       "      <td>1.541029e+09</td>\n",
       "      <td>0.000000</td>\n",
       "      <td>0.000000</td>\n",
       "      <td>6403.750000</td>\n",
       "      <td>1.076639</td>\n",
       "    </tr>\n",
       "    <tr>\n",
       "      <th>max</th>\n",
       "      <td>1.542153e+09</td>\n",
       "      <td>1.000000</td>\n",
       "      <td>1.000000</td>\n",
       "      <td>6676.170000</td>\n",
       "      <td>350.203804</td>\n",
       "    </tr>\n",
       "  </tbody>\n",
       "</table>\n",
       "</div>"
      ],
      "text/plain": [
       "           UnixTime    News_Label   Twitt_Label          High        Volume\n",
       "count  3.241800e+04  32418.000000  32418.000000  32418.000000  32418.000000\n",
       "mean   1.540785e+09      0.032667      0.073724   6350.714386      2.228470\n",
       "std    8.383551e+05      0.214564      0.263910     66.495662     12.354142\n",
       "min    1.539475e+09     -1.000000     -2.000000   6181.540000      0.000000\n",
       "25%    1.540094e+09      0.000000      0.000000   6280.490000      0.002718\n",
       "50%    1.540662e+09      0.000000      0.000000   6385.010000      0.082848\n",
       "75%    1.541029e+09      0.000000      0.000000   6403.750000      1.076639\n",
       "max    1.542153e+09      1.000000      1.000000   6676.170000    350.203804"
      ]
     },
     "execution_count": 4,
     "metadata": {},
     "output_type": "execute_result"
    }
   ],
   "source": [
    "df.describe()"
   ]
  },
  {
   "cell_type": "code",
   "execution_count": 5,
   "metadata": {},
   "outputs": [
    {
     "name": "stdout",
     "output_type": "stream",
     "text": [
      "           UnixTime   News_Label  Twitt_Label         High       Volume\n",
      "count  3.863000e+03  3863.000000  3863.000000  3863.000000  3863.000000\n",
      "mean   1.540516e+09     0.042454     0.119337  6370.965182     2.354920\n",
      "std    6.662657e+05     0.267832     0.332896    61.678111    13.255993\n",
      "min    1.539475e+09    -1.000000    -2.000000  6181.540000     0.000000\n",
      "25%    1.539983e+09     0.000000     0.000000  6314.880000     0.007764\n",
      "50%    1.540483e+09     0.000000     0.000000  6393.310000     0.198185\n",
      "75%    1.540835e+09     0.000000     0.000000  6407.285000     1.353645\n",
      "max    1.542153e+09     1.000000     1.000000  6676.170000   350.203804\n"
     ]
    },
    {
     "data": {
      "text/html": [
       "<div>\n",
       "<style scoped>\n",
       "    .dataframe tbody tr th:only-of-type {\n",
       "        vertical-align: middle;\n",
       "    }\n",
       "\n",
       "    .dataframe tbody tr th {\n",
       "        vertical-align: top;\n",
       "    }\n",
       "\n",
       "    .dataframe thead th {\n",
       "        text-align: right;\n",
       "    }\n",
       "</style>\n",
       "<table border=\"1\" class=\"dataframe\">\n",
       "  <thead>\n",
       "    <tr style=\"text-align: right;\">\n",
       "      <th></th>\n",
       "      <th>UnixTime</th>\n",
       "      <th>News_Label</th>\n",
       "      <th>Twitt_Label</th>\n",
       "      <th>High</th>\n",
       "      <th>Volume</th>\n",
       "    </tr>\n",
       "  </thead>\n",
       "  <tbody>\n",
       "    <tr>\n",
       "      <th>0</th>\n",
       "      <td>1539475200</td>\n",
       "      <td>0</td>\n",
       "      <td>0</td>\n",
       "      <td>6195.00</td>\n",
       "      <td>3.521828</td>\n",
       "    </tr>\n",
       "    <tr>\n",
       "      <th>1</th>\n",
       "      <td>1539475200</td>\n",
       "      <td>-1</td>\n",
       "      <td>0</td>\n",
       "      <td>6195.00</td>\n",
       "      <td>3.521828</td>\n",
       "    </tr>\n",
       "    <tr>\n",
       "      <th>2</th>\n",
       "      <td>1539475200</td>\n",
       "      <td>1</td>\n",
       "      <td>0</td>\n",
       "      <td>6195.00</td>\n",
       "      <td>3.521828</td>\n",
       "    </tr>\n",
       "    <tr>\n",
       "      <th>3</th>\n",
       "      <td>1539496800</td>\n",
       "      <td>0</td>\n",
       "      <td>0</td>\n",
       "      <td>6248.40</td>\n",
       "      <td>0.000000</td>\n",
       "    </tr>\n",
       "    <tr>\n",
       "      <th>4</th>\n",
       "      <td>1539529200</td>\n",
       "      <td>0</td>\n",
       "      <td>0</td>\n",
       "      <td>6230.19</td>\n",
       "      <td>0.000000</td>\n",
       "    </tr>\n",
       "  </tbody>\n",
       "</table>\n",
       "</div>"
      ],
      "text/plain": [
       "     UnixTime  News_Label  Twitt_Label     High    Volume\n",
       "0  1539475200           0            0  6195.00  3.521828\n",
       "1  1539475200          -1            0  6195.00  3.521828\n",
       "2  1539475200           1            0  6195.00  3.521828\n",
       "3  1539496800           0            0  6248.40  0.000000\n",
       "4  1539529200           0            0  6230.19  0.000000"
      ]
     },
     "execution_count": 5,
     "metadata": {},
     "output_type": "execute_result"
    }
   ],
   "source": [
    "df.drop_duplicates(inplace=True)\n",
    "df.sort_values(by='UnixTime',inplace=True)\n",
    "df.reset_index(drop=True,inplace=True)\n",
    "print(df.describe())\n",
    "df.head()"
   ]
  },
  {
   "cell_type": "code",
   "execution_count": 6,
   "metadata": {},
   "outputs": [
    {
     "data": {
      "text/plain": [
       "<matplotlib.legend.Legend at 0xdb09f0>"
      ]
     },
     "execution_count": 6,
     "metadata": {},
     "output_type": "execute_result"
    },
    {
     "data": {
      "image/png": "[encoded data removed]",
      "text/plain": [
       "<Figure size 432x288 with 1 Axes>"
      ]
     },
     "metadata": {},
     "output_type": "display_data"
    }
   ],
   "source": [
    "# df.High = df.High / np.mean(df.High)\n",
    "plt.plot(df.UnixTime,df.News_Label)\n",
    "plt.plot(df.UnixTime,df.High)\n",
    "plt.legend()"
   ]
  },
  {
   "cell_type": "markdown",
   "metadata": {},
   "source": [
    "### Output dataset columns"
   ]
  },
  {
   "cell_type": "code",
   "execution_count": 21,
   "metadata": {},
   "outputs": [
    {
     "data": {
      "text/html": [
       "<div>\n",
       "<style scoped>\n",
       "    .dataframe tbody tr th:only-of-type {\n",
       "        vertical-align: middle;\n",
       "    }\n",
       "\n",
       "    .dataframe tbody tr th {\n",
       "        vertical-align: top;\n",
       "    }\n",
       "\n",
       "    .dataframe thead th {\n",
       "        text-align: right;\n",
       "    }\n",
       "</style>\n",
       "<table border=\"1\" class=\"dataframe\">\n",
       "  <thead>\n",
       "    <tr style=\"text-align: right;\">\n",
       "      <th></th>\n",
       "      <th>UnixTime</th>\n",
       "      <th>News_Label</th>\n",
       "      <th>Twitt_Label</th>\n",
       "      <th>High</th>\n",
       "      <th>Volume</th>\n",
       "    </tr>\n",
       "  </thead>\n",
       "  <tbody>\n",
       "    <tr>\n",
       "      <th>0</th>\n",
       "      <td>1540655760</td>\n",
       "      <td>0</td>\n",
       "      <td>0</td>\n",
       "      <td>6394.98</td>\n",
       "      <td>0.206346</td>\n",
       "    </tr>\n",
       "    <tr>\n",
       "      <th>1</th>\n",
       "      <td>1540655760</td>\n",
       "      <td>0</td>\n",
       "      <td>0</td>\n",
       "      <td>6394.98</td>\n",
       "      <td>0.206346</td>\n",
       "    </tr>\n",
       "    <tr>\n",
       "      <th>2</th>\n",
       "      <td>1540655760</td>\n",
       "      <td>0</td>\n",
       "      <td>0</td>\n",
       "      <td>6394.98</td>\n",
       "      <td>0.206346</td>\n",
       "    </tr>\n",
       "    <tr>\n",
       "      <th>3</th>\n",
       "      <td>1540655760</td>\n",
       "      <td>0</td>\n",
       "      <td>0</td>\n",
       "      <td>6394.98</td>\n",
       "      <td>0.206346</td>\n",
       "    </tr>\n",
       "    <tr>\n",
       "      <th>4</th>\n",
       "      <td>1540655760</td>\n",
       "      <td>0</td>\n",
       "      <td>0</td>\n",
       "      <td>6394.98</td>\n",
       "      <td>0.206346</td>\n",
       "    </tr>\n",
       "  </tbody>\n",
       "</table>\n",
       "</div>"
      ],
      "text/plain": [
       "     UnixTime  News_Label  Twitt_Label     High    Volume\n",
       "0  1540655760           0            0  6394.98  0.206346\n",
       "1  1540655760           0            0  6394.98  0.206346\n",
       "2  1540655760           0            0  6394.98  0.206346\n",
       "3  1540655760           0            0  6394.98  0.206346\n",
       "4  1540655760           0            0  6394.98  0.206346"
      ]
     },
     "execution_count": 21,
     "metadata": {},
     "output_type": "execute_result"
    }
   ],
   "source": [
    "y = pd.read_csv('Mapped_Final_Output.csv',index_col=False,usecols=['News_Label','Twitt_Label','Volume','High','UnixTime'],)\n",
    "y.head()"
   ]
  },
  {
   "cell_type": "code",
   "execution_count": 22,
   "metadata": {},
   "outputs": [
    {
     "data": {
      "text/html": [
       "<div>\n",
       "<style scoped>\n",
       "    .dataframe tbody tr th:only-of-type {\n",
       "        vertical-align: middle;\n",
       "    }\n",
       "\n",
       "    .dataframe tbody tr th {\n",
       "        vertical-align: top;\n",
       "    }\n",
       "\n",
       "    .dataframe thead th {\n",
       "        text-align: right;\n",
       "    }\n",
       "</style>\n",
       "<table border=\"1\" class=\"dataframe\">\n",
       "  <thead>\n",
       "    <tr style=\"text-align: right;\">\n",
       "      <th></th>\n",
       "      <th>UnixTime</th>\n",
       "      <th>News_Label</th>\n",
       "      <th>Twitt_Label</th>\n",
       "      <th>High</th>\n",
       "      <th>Volume</th>\n",
       "    </tr>\n",
       "  </thead>\n",
       "  <tbody>\n",
       "    <tr>\n",
       "      <th>count</th>\n",
       "      <td>3.241800e+04</td>\n",
       "      <td>32418.000000</td>\n",
       "      <td>32418.000000</td>\n",
       "      <td>32418.000000</td>\n",
       "      <td>32418.000000</td>\n",
       "    </tr>\n",
       "    <tr>\n",
       "      <th>mean</th>\n",
       "      <td>1.540785e+09</td>\n",
       "      <td>0.032667</td>\n",
       "      <td>0.073724</td>\n",
       "      <td>6358.238235</td>\n",
       "      <td>2.085565</td>\n",
       "    </tr>\n",
       "    <tr>\n",
       "      <th>std</th>\n",
       "      <td>8.383551e+05</td>\n",
       "      <td>0.214564</td>\n",
       "      <td>0.263910</td>\n",
       "      <td>65.829640</td>\n",
       "      <td>14.568661</td>\n",
       "    </tr>\n",
       "    <tr>\n",
       "      <th>min</th>\n",
       "      <td>1.539475e+09</td>\n",
       "      <td>-1.000000</td>\n",
       "      <td>-2.000000</td>\n",
       "      <td>6165.880000</td>\n",
       "      <td>0.000000</td>\n",
       "    </tr>\n",
       "    <tr>\n",
       "      <th>25%</th>\n",
       "      <td>1.540094e+09</td>\n",
       "      <td>0.000000</td>\n",
       "      <td>0.000000</td>\n",
       "      <td>6318.080000</td>\n",
       "      <td>0.000000</td>\n",
       "    </tr>\n",
       "    <tr>\n",
       "      <th>50%</th>\n",
       "      <td>1.540662e+09</td>\n",
       "      <td>0.000000</td>\n",
       "      <td>0.000000</td>\n",
       "      <td>6386.290000</td>\n",
       "      <td>0.080800</td>\n",
       "    </tr>\n",
       "    <tr>\n",
       "      <th>75%</th>\n",
       "      <td>1.541029e+09</td>\n",
       "      <td>0.000000</td>\n",
       "      <td>0.000000</td>\n",
       "      <td>6404.990000</td>\n",
       "      <td>1.000000</td>\n",
       "    </tr>\n",
       "    <tr>\n",
       "      <th>max</th>\n",
       "      <td>1.542153e+09</td>\n",
       "      <td>1.000000</td>\n",
       "      <td>1.000000</td>\n",
       "      <td>6474.980000</td>\n",
       "      <td>350.000000</td>\n",
       "    </tr>\n",
       "  </tbody>\n",
       "</table>\n",
       "</div>"
      ],
      "text/plain": [
       "           UnixTime    News_Label   Twitt_Label          High        Volume\n",
       "count  3.241800e+04  32418.000000  32418.000000  32418.000000  32418.000000\n",
       "mean   1.540785e+09      0.032667      0.073724   6358.238235      2.085565\n",
       "std    8.383551e+05      0.214564      0.263910     65.829640     14.568661\n",
       "min    1.539475e+09     -1.000000     -2.000000   6165.880000      0.000000\n",
       "25%    1.540094e+09      0.000000      0.000000   6318.080000      0.000000\n",
       "50%    1.540662e+09      0.000000      0.000000   6386.290000      0.080800\n",
       "75%    1.541029e+09      0.000000      0.000000   6404.990000      1.000000\n",
       "max    1.542153e+09      1.000000      1.000000   6474.980000    350.000000"
      ]
     },
     "execution_count": 22,
     "metadata": {},
     "output_type": "execute_result"
    }
   ],
   "source": [
    "y.describe()"
   ]
  },
  {
   "cell_type": "code",
   "execution_count": 23,
   "metadata": {},
   "outputs": [
    {
     "name": "stdout",
     "output_type": "stream",
     "text": [
      "           UnixTime   News_Label  Twitt_Label         High       Volume\n",
      "count  3.863000e+03  3863.000000  3863.000000  3863.000000  3863.000000\n",
      "mean   1.540516e+09     0.042454     0.119337  6371.150067     2.064350\n",
      "std    6.662657e+05     0.267832     0.332896    66.457008    14.023663\n",
      "min    1.539475e+09    -1.000000    -2.000000  6165.880000     0.000000\n",
      "25%    1.539983e+09     0.000000     0.000000  6347.515000     0.000077\n",
      "50%    1.540483e+09     0.000000     0.000000  6396.560000     0.080800\n",
      "75%    1.540835e+09     0.000000     0.000000  6413.005000     0.950862\n",
      "max    1.542153e+09     1.000000     1.000000  6474.980000   350.000000\n"
     ]
    },
    {
     "data": {
      "text/html": [
       "<div>\n",
       "<style scoped>\n",
       "    .dataframe tbody tr th:only-of-type {\n",
       "        vertical-align: middle;\n",
       "    }\n",
       "\n",
       "    .dataframe tbody tr th {\n",
       "        vertical-align: top;\n",
       "    }\n",
       "\n",
       "    .dataframe thead th {\n",
       "        text-align: right;\n",
       "    }\n",
       "</style>\n",
       "<table border=\"1\" class=\"dataframe\">\n",
       "  <thead>\n",
       "    <tr style=\"text-align: right;\">\n",
       "      <th></th>\n",
       "      <th>UnixTime</th>\n",
       "      <th>News_Label</th>\n",
       "      <th>Twitt_Label</th>\n",
       "      <th>High</th>\n",
       "      <th>Volume</th>\n",
       "    </tr>\n",
       "  </thead>\n",
       "  <tbody>\n",
       "    <tr>\n",
       "      <th>0</th>\n",
       "      <td>1539475200</td>\n",
       "      <td>0</td>\n",
       "      <td>0</td>\n",
       "      <td>6202.22</td>\n",
       "      <td>0.000000</td>\n",
       "    </tr>\n",
       "    <tr>\n",
       "      <th>1</th>\n",
       "      <td>1539475200</td>\n",
       "      <td>-1</td>\n",
       "      <td>0</td>\n",
       "      <td>6202.22</td>\n",
       "      <td>0.000000</td>\n",
       "    </tr>\n",
       "    <tr>\n",
       "      <th>2</th>\n",
       "      <td>1539475200</td>\n",
       "      <td>1</td>\n",
       "      <td>0</td>\n",
       "      <td>6202.22</td>\n",
       "      <td>0.000000</td>\n",
       "    </tr>\n",
       "    <tr>\n",
       "      <th>3</th>\n",
       "      <td>1539496800</td>\n",
       "      <td>0</td>\n",
       "      <td>0</td>\n",
       "      <td>6209.25</td>\n",
       "      <td>0.166576</td>\n",
       "    </tr>\n",
       "    <tr>\n",
       "      <th>4</th>\n",
       "      <td>1539529200</td>\n",
       "      <td>0</td>\n",
       "      <td>0</td>\n",
       "      <td>6204.46</td>\n",
       "      <td>0.017114</td>\n",
       "    </tr>\n",
       "  </tbody>\n",
       "</table>\n",
       "</div>"
      ],
      "text/plain": [
       "     UnixTime  News_Label  Twitt_Label     High    Volume\n",
       "0  1539475200           0            0  6202.22  0.000000\n",
       "1  1539475200          -1            0  6202.22  0.000000\n",
       "2  1539475200           1            0  6202.22  0.000000\n",
       "3  1539496800           0            0  6209.25  0.166576\n",
       "4  1539529200           0            0  6204.46  0.017114"
      ]
     },
     "execution_count": 23,
     "metadata": {},
     "output_type": "execute_result"
    }
   ],
   "source": [
    "y.drop_duplicates(inplace=True)\n",
    "y.sort_values(by='UnixTime',inplace=True)\n",
    "y.reset_index(drop=True,inplace=True)\n",
    "print(y.describe())\n",
    "y.head()"
   ]
  },
  {
   "cell_type": "code",
   "execution_count": 24,
   "metadata": {},
   "outputs": [
    {
     "data": {
      "text/plain": [
       "<matplotlib.legend.Legend at 0xef60d0>"
      ]
     },
     "execution_count": 24,
     "metadata": {},
     "output_type": "execute_result"
    },
    {
     "data": {
      "image/png": "[encoded data removed]",
      "text/plain": [
       "<Figure size 432x288 with 1 Axes>"
      ]
     },
     "metadata": {},
     "output_type": "display_data"
    }
   ],
   "source": [
    "# df.High = df.High / np.mean(df.High)\n",
    "# plt.plot(y.UnixTime,y.News_Label)\n",
    "plt.plot(y.UnixTime,y.High)\n",
    "plt.legend()"
   ]
  },
  {
   "cell_type": "code",
   "execution_count": 41,
   "metadata": {},
   "outputs": [],
   "source": [
    "def draw_relation(y,relation): \n",
    "    fig, ax1 = plt.subplots()\n",
    "\n",
    "    color = 'lightgreen'\n",
    "    ax1.set_xlabel('Timestamp')\n",
    "    ax1.set_ylabel('News',color = color)\n",
    "    ax1.plot(y.UnixTime,relation,color = color)\n",
    "    ax1.tick_params(axis='y',labelcolor=color)\n",
    "\n",
    "    ax2 = ax1.twinx()\n",
    "    color = 'navy'\n",
    "    ax2.set_ylabel('Output',color = color)\n",
    "    ax2.plot(y.UnixTime,y.High,color = color)\n",
    "    ax2.tick_params(axis='y',labelcolor = color)\n",
    "\n",
    "    fig.tight_layout()\n",
    "    plt.show()"
   ]
  },
  {
   "cell_type": "code",
   "execution_count": 42,
   "metadata": {},
   "outputs": [
    {
     "data": {
      "image/png": "[encoded data removed]",
      "text/plain": [
       "<Figure size 432x288 with 2 Axes>"
      ]
     },
     "metadata": {},
     "output_type": "display_data"
    }
   ],
   "source": [
    "draw_relation(y,df.News_Label)"
   ]
  },
  {
   "cell_type": "code",
   "execution_count": 43,
   "metadata": {},
   "outputs": [
    {
     "data": {
      "image/png": "[encoded data removed]",
      "text/plain": [
       "<Figure size 432x288 with 2 Axes>"
      ]
     },
     "metadata": {},
     "output_type": "display_data"
    }
   ],
   "source": [
    "draw_relation(y,df.Twitt_Label)"
   ]
  },
  {
   "cell_type": "code",
   "execution_count": 44,
   "metadata": {},
   "outputs": [
    {
     "data": {
      "image/png": "[encoded data removed]",
      "text/plain": [
       "<Figure size 432x288 with 2 Axes>"
      ]
     },
     "metadata": {},
     "output_type": "display_data"
    }
   ],
   "source": [
    "draw_relation(y,df.Volume)"
   ]
  },
  {
   "cell_type": "code",
   "execution_count": null,
   "metadata": {},
   "outputs": [],
   "source": []
  }
 ],
 "metadata": {
  "kernelspec": {
   "display_name": "Python 3",
   "language": "python",
   "name": "python3"
  },
  "language_info": {
   "codemirror_mode": {
    "name": "ipython",
    "version": 3
   },
   "file_extension": ".py",
   "mimetype": "text/x-python",
   "name": "python",
   "nbconvert_exporter": "python",
   "pygments_lexer": "ipython3",
   "version": "3.6.3"
  }
 },
 "nbformat": 4,
 "nbformat_minor": 2
}
