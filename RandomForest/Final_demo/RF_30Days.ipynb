{
 "cells": [
  {
   "cell_type": "code",
   "execution_count": 1,
   "metadata": {
    "scrolled": true
   },
   "outputs": [
    {
     "name": "stdout",
     "output_type": "stream",
     "text": [
      "Populating the interactive namespace from numpy and matplotlib\n"
     ]
    },
    {
     "name": "stderr",
     "output_type": "stream",
     "text": [
      "c:\\users\\abid inamdar\\appdata\\local\\programs\\python\\python36-32\\lib\\site-packages\\sklearn\\ensemble\\weight_boosting.py:29: DeprecationWarning: numpy.core.umath_tests is an internal NumPy module and should not be imported. It will be removed in a future NumPy release.\n",
      "  from numpy.core.umath_tests import inner1d\n"
     ]
    }
   ],
   "source": [
    "import pandas as pd\n",
    "import numpy as np\n",
    "from sklearn.ensemble import RandomForestRegressor\n",
    "from sklearn.model_selection import train_test_split\n",
    "from sklearn.model_selection import TimeSeriesSplit,cross_val_score\n",
    "from sklearn import metrics\n",
    "import matplotlib.pyplot as plt\n",
    "from mpl_toolkits.mplot3d import Axes3D\n",
    "%pylab inline\n",
    "style.use('ggplot')"
   ]
  },
  {
   "cell_type": "code",
   "execution_count": 8,
   "metadata": {},
   "outputs": [
    {
     "name": "stdout",
     "output_type": "stream",
     "text": [
      "         News_Label   Twitt_Label        Volume\n",
      "count  32418.000000  32418.000000  32418.000000\n",
      "mean       0.032667      0.073724      2.228470\n",
      "std        0.214564      0.263910     12.354142\n",
      "min       -1.000000     -2.000000      0.000000\n",
      "25%        0.000000      0.000000      0.002718\n",
      "50%        0.000000      0.000000      0.082848\n",
      "75%        0.000000      0.000000      1.076639\n",
      "max        1.000000      1.000000    350.203804\n"
     ]
    },
    {
     "data": {
      "text/html": [
       "<div>\n",
       "<style scoped>\n",
       "    .dataframe tbody tr th:only-of-type {\n",
       "        vertical-align: middle;\n",
       "    }\n",
       "\n",
       "    .dataframe tbody tr th {\n",
       "        vertical-align: top;\n",
       "    }\n",
       "\n",
       "    .dataframe thead th {\n",
       "        text-align: right;\n",
       "    }\n",
       "</style>\n",
       "<table border=\"1\" class=\"dataframe\">\n",
       "  <thead>\n",
       "    <tr style=\"text-align: right;\">\n",
       "      <th></th>\n",
       "      <th>News_Label</th>\n",
       "      <th>Twitt_Label</th>\n",
       "      <th>Volume</th>\n",
       "    </tr>\n",
       "  </thead>\n",
       "  <tbody>\n",
       "    <tr>\n",
       "      <th>0</th>\n",
       "      <td>0</td>\n",
       "      <td>0</td>\n",
       "      <td>0.005533</td>\n",
       "    </tr>\n",
       "    <tr>\n",
       "      <th>1</th>\n",
       "      <td>0</td>\n",
       "      <td>0</td>\n",
       "      <td>0.005533</td>\n",
       "    </tr>\n",
       "    <tr>\n",
       "      <th>2</th>\n",
       "      <td>0</td>\n",
       "      <td>0</td>\n",
       "      <td>0.005533</td>\n",
       "    </tr>\n",
       "    <tr>\n",
       "      <th>3</th>\n",
       "      <td>0</td>\n",
       "      <td>0</td>\n",
       "      <td>0.005533</td>\n",
       "    </tr>\n",
       "    <tr>\n",
       "      <th>4</th>\n",
       "      <td>0</td>\n",
       "      <td>0</td>\n",
       "      <td>0.005533</td>\n",
       "    </tr>\n",
       "    <tr>\n",
       "      <th>5</th>\n",
       "      <td>0</td>\n",
       "      <td>0</td>\n",
       "      <td>0.005533</td>\n",
       "    </tr>\n",
       "    <tr>\n",
       "      <th>6</th>\n",
       "      <td>0</td>\n",
       "      <td>0</td>\n",
       "      <td>0.005533</td>\n",
       "    </tr>\n",
       "    <tr>\n",
       "      <th>7</th>\n",
       "      <td>0</td>\n",
       "      <td>0</td>\n",
       "      <td>0.005533</td>\n",
       "    </tr>\n",
       "    <tr>\n",
       "      <th>8</th>\n",
       "      <td>0</td>\n",
       "      <td>0</td>\n",
       "      <td>0.005533</td>\n",
       "    </tr>\n",
       "    <tr>\n",
       "      <th>9</th>\n",
       "      <td>0</td>\n",
       "      <td>0</td>\n",
       "      <td>0.005533</td>\n",
       "    </tr>\n",
       "    <tr>\n",
       "      <th>10</th>\n",
       "      <td>0</td>\n",
       "      <td>0</td>\n",
       "      <td>0.005533</td>\n",
       "    </tr>\n",
       "    <tr>\n",
       "      <th>11</th>\n",
       "      <td>0</td>\n",
       "      <td>0</td>\n",
       "      <td>0.005533</td>\n",
       "    </tr>\n",
       "    <tr>\n",
       "      <th>12</th>\n",
       "      <td>0</td>\n",
       "      <td>0</td>\n",
       "      <td>0.005533</td>\n",
       "    </tr>\n",
       "    <tr>\n",
       "      <th>13</th>\n",
       "      <td>0</td>\n",
       "      <td>0</td>\n",
       "      <td>0.005533</td>\n",
       "    </tr>\n",
       "    <tr>\n",
       "      <th>14</th>\n",
       "      <td>0</td>\n",
       "      <td>0</td>\n",
       "      <td>0.005533</td>\n",
       "    </tr>\n",
       "  </tbody>\n",
       "</table>\n",
       "</div>"
      ],
      "text/plain": [
       "    News_Label  Twitt_Label    Volume\n",
       "0            0            0  0.005533\n",
       "1            0            0  0.005533\n",
       "2            0            0  0.005533\n",
       "3            0            0  0.005533\n",
       "4            0            0  0.005533\n",
       "5            0            0  0.005533\n",
       "6            0            0  0.005533\n",
       "7            0            0  0.005533\n",
       "8            0            0  0.005533\n",
       "9            0            0  0.005533\n",
       "10           0            0  0.005533\n",
       "11           0            0  0.005533\n",
       "12           0            0  0.005533\n",
       "13           0            0  0.005533\n",
       "14           0            0  0.005533"
      ]
     },
     "execution_count": 8,
     "metadata": {},
     "output_type": "execute_result"
    }
   ],
   "source": [
    "df1 = pd.read_csv('Mapped_Final.csv',index_col=False,usecols=['News_Label','Twitt_Label','Volume','High'])\n",
    "print(df1.describe())\n",
    "df1.head(15)"
   ]
  },
  {
   "cell_type": "code",
   "execution_count": 9,
   "metadata": {},
   "outputs": [
    {
     "data": {
      "text/html": [
       "<div>\n",
       "<style scoped>\n",
       "    .dataframe tbody tr th:only-of-type {\n",
       "        vertical-align: middle;\n",
       "    }\n",
       "\n",
       "    .dataframe tbody tr th {\n",
       "        vertical-align: top;\n",
       "    }\n",
       "\n",
       "    .dataframe thead th {\n",
       "        text-align: right;\n",
       "    }\n",
       "</style>\n",
       "<table border=\"1\" class=\"dataframe\">\n",
       "  <thead>\n",
       "    <tr style=\"text-align: right;\">\n",
       "      <th></th>\n",
       "      <th>High</th>\n",
       "    </tr>\n",
       "  </thead>\n",
       "  <tbody>\n",
       "    <tr>\n",
       "      <th>0</th>\n",
       "      <td>6394.98</td>\n",
       "    </tr>\n",
       "    <tr>\n",
       "      <th>1</th>\n",
       "      <td>6394.98</td>\n",
       "    </tr>\n",
       "    <tr>\n",
       "      <th>2</th>\n",
       "      <td>6394.98</td>\n",
       "    </tr>\n",
       "    <tr>\n",
       "      <th>3</th>\n",
       "      <td>6394.98</td>\n",
       "    </tr>\n",
       "    <tr>\n",
       "      <th>4</th>\n",
       "      <td>6394.98</td>\n",
       "    </tr>\n",
       "  </tbody>\n",
       "</table>\n",
       "</div>"
      ],
      "text/plain": [
       "      High\n",
       "0  6394.98\n",
       "1  6394.98\n",
       "2  6394.98\n",
       "3  6394.98\n",
       "4  6394.98"
      ]
     },
     "execution_count": 9,
     "metadata": {},
     "output_type": "execute_result"
    }
   ],
   "source": [
    "# print(df1.tail())\n",
    "# df1.drop(df1.tail(1).index,inplace=True)\n",
    "y1 = pd.read_csv('Mapped_Final_Output.csv',index_col=False,usecols=['High'])\n",
    "y1.head()\n",
    "# y1.drop(y1.head(1).index,inplace=True)"
   ]
  },
  {
   "cell_type": "code",
   "execution_count": 10,
   "metadata": {},
   "outputs": [],
   "source": [
    "def display(reg,Y_train,Y_test,Y_predict,X_train):\n",
    "    print(reg.feature_importances_)\n",
    "    feature_imp = pd.Series(reg.feature_importances_,index=X_train.columns)\n",
    "    feature_imp.plot(kind='barh',figsize=(7,6))\n",
    "    print(\"Mean absolute error :\",metrics.mean_absolute_error(Y_test,Y_predict))\n",
    "    print(\"Mean squared error :\",metrics.mean_squared_error(Y_test,Y_predict))\n",
    "    print(\"Root mean square error :\",np.sqrt(metrics.mean_squared_error(Y_test,Y_predict)),\"\\n\")\n",
    "    \n",
    "    y_oob = reg.oob_prediction_\n",
    "#     print(\"C stat :\",metrics.roc_auc_score(Y_train,y_oob))"
   ]
  },
  {
   "cell_type": "code",
   "execution_count": 11,
   "metadata": {},
   "outputs": [],
   "source": [
    "def fit_model(df,y):\n",
    "    X_train,X_test,Y_train,Y_test = train_test_split(df,y,test_size = 0.3)\n",
    "#     train_size = int(len(df)*0.7)\n",
    "#     test_size = int(len(df)*0.3)\n",
    "#     print(train_size,test_size)\n",
    "#     X_train,Y_train,X_test,Y_test = df[0:train_size],y[0:train_size],df[train_size:len(df1)],y[train_size:len(df1)]\n",
    "    reg = RandomForestRegressor(n_estimators=1000,oob_score=True)\n",
    "    reg.fit(X_train,Y_train)\n",
    "    Y_predict = reg.predict(X_test)\n",
    "    print('Cross validation on training data,',reg.score(X_train,Y_train))\n",
    "    print('Cross validation on testing data,',reg.score(X_test,Y_test))\n",
    "    \n",
    "    display(reg,Y_train,Y_test,Y_predict,X_train)\n",
    "    return reg,X_train,Y_train,Y_test,Y_predict"
   ]
  },
  {
   "cell_type": "markdown",
   "metadata": {},
   "source": [
    "## High value"
   ]
  },
  {
   "cell_type": "code",
   "execution_count": 12,
   "metadata": {
    "scrolled": true
   },
   "outputs": [
    {
     "name": "stderr",
     "output_type": "stream",
     "text": [
      "c:\\users\\abid inamdar\\appdata\\local\\programs\\python\\python36-32\\lib\\site-packages\\ipykernel_launcher.py:8: DataConversionWarning: A column-vector y was passed when a 1d array was expected. Please change the shape of y to (n_samples,), for example using ravel().\n",
      "  \n"
     ]
    },
    {
     "name": "stdout",
     "output_type": "stream",
     "text": [
      "Cross validation on training data, 0.7790317781767543\n",
      "Cross validation on testing data, 0.7083302539854084\n",
      "[0.02834916 0.01488065 0.9567702 ]\n",
      "Mean absolute error : 16.565919080801013\n",
      "Mean squared error : 1286.1597713447723\n",
      "Root mean square error : 35.86306974235156 \n",
      "\n",
      "[-0.73986224 -0.95439333 -0.80078485 -0.81178007 -0.76593449]\n"
     ]
    },
    {
     "data": {
      "image/png": "[encoded data removed]",
      "text/plain": [
       "<Figure size 504x432 with 1 Axes>"
      ]
     },
     "metadata": {},
     "output_type": "display_data"
    }
   ],
   "source": [
    "reg,X_train,Y_train,Y_test,Y_predict = fit_model(df1,y1)\n",
    "\n",
    "# X_train = df1[0:,:],\n",
    "# print(X_train)\n",
    "scores = cross_val_score(reg,df1,y1.values.ravel(),cv = 5)\n",
    "print(scores)\n",
    "# for i in range(10):\n",
    "#     reg,Y_test,Y_predict = fit_model(df,y1)\n",
    "#     print(np.mean(Y_predict))\n",
    "# np.unique(Y_predict[1])\n",
    "# print(reg.oob_score_)"
   ]
  },
  {
   "cell_type": "code",
   "execution_count": 13,
   "metadata": {},
   "outputs": [
    {
     "data": {
      "text/plain": [
       "Text(0.5, 1.0, '1 Day')"
      ]
     },
     "execution_count": 13,
     "metadata": {},
     "output_type": "execute_result"
    },
    {
     "data": {
      "image/png": "[encoded data removed]",
      "text/plain": [
       "<Figure size 432x288 with 1 Axes>"
      ]
     },
     "metadata": {},
     "output_type": "display_data"
    }
   ],
   "source": [
    "plt.scatter(Y_predict,Y_test)\n",
    "plt.xlabel(\"Predicted\")\n",
    "plt.ylabel(\"Actual\")\n",
    "plt.title(\"1 Day\")"
   ]
  },
  {
   "cell_type": "code",
   "execution_count": 8,
   "metadata": {
    "scrolled": true
   },
   "outputs": [
    {
     "name": "stdout",
     "output_type": "stream",
     "text": [
      "[6463.         6456.20132178 6410.9523     6381.27559931 6374.57386\n",
      " 6399.82       6404.75       6216.27787    6410.00887741 6418.01      ]\n",
      "      High\n",
      "0  6463.00\n",
      "1  6456.48\n",
      "2  6435.51\n",
      "3  6381.05\n",
      "4  6374.56\n",
      "5  6399.82\n",
      "6  6404.75\n",
      "7  6213.63\n",
      "8  6410.01\n",
      "9  6418.01\n"
     ]
    }
   ],
   "source": [
    "Y_test.reset_index(inplace=True,drop=True)\n",
    "print(Y_predict[0:10])\n",
    "print(Y_test.head(10))"
   ]
  },
  {
   "cell_type": "code",
   "execution_count": 21,
   "metadata": {},
   "outputs": [
    {
     "data": {
      "text/plain": [
       "Text(0.5, 0, 'Level')"
      ]
     },
     "execution_count": 21,
     "metadata": {},
     "output_type": "execute_result"
    },
    {
     "data": {
      "image/png": "[encoded data removed]",
      "text/plain": [
       "<Figure size 432x288 with 1 Axes>"
      ]
     },
     "metadata": {},
     "output_type": "display_data"
    },
    {
     "data": {
      "image/png": "[encoded data removed]",
      "text/plain": [
       "<Figure size 432x288 with 1 Axes>"
      ]
     },
     "metadata": {},
     "output_type": "display_data"
    }
   ],
   "source": [
    "#Input volume and twitt relation with output\n",
    "plt.scatter(X_train.News_Label,Y_train.High,label = \"News\")\n",
    "plt.scatter(X_train.Twitt_Label,Y_train.High, label = \"Twitt\")\n",
    "plt.legend()\n",
    "fig = plt.figure()\n",
    "ax = fig.add_subplot(111, projection='3d')\n",
    "ax.scatter(X_train.News_Label, Y_train.High,100, c='b', marker='o')\n",
    "ax.scatter(X_train.Twitt_Label,Y_train.High,50,c = 'r',marker = '^')\n",
    "ax.set_xlabel(\"News & Tweet\")\n",
    "ax.set_ylabel(\"Values\")\n",
    "ax.set_zlabel(\"Level\")"
   ]
  },
  {
   "cell_type": "code",
   "execution_count": 22,
   "metadata": {},
   "outputs": [
    {
     "data": {
      "text/plain": [
       "Text(0, 0.5, 'Testing')"
      ]
     },
     "execution_count": 22,
     "metadata": {},
     "output_type": "execute_result"
    },
    {
     "data": {
      "image/png": "[encoded data removed]",
      "text/plain": [
       "<Figure size 432x288 with 1 Axes>"
      ]
     },
     "metadata": {},
     "output_type": "display_data"
    }
   ],
   "source": [
    "#Historical with output\n",
    "plt.scatter(X_train.High,Y_train.High)\n",
    "plt.xlabel(\"Training\")\n",
    "plt.ylabel(\"Testing\")"
   ]
  },
  {
   "cell_type": "code",
   "execution_count": 23,
   "metadata": {
    "scrolled": true
   },
   "outputs": [
    {
     "name": "stdout",
     "output_type": "stream",
     "text": [
      "[6397.92       6439.49       6218.98       6367.66239652 6456.27407415\n",
      " 6364.5        6424.80832142 6410.01       6379.56543    6200.03354   ]\n",
      "      High\n",
      "0  6397.92\n",
      "1  6439.49\n",
      "2  6218.98\n",
      "3  6365.00\n",
      "4  6456.48\n",
      "5  6364.50\n",
      "6  6425.00\n",
      "7  6410.01\n",
      "8  6397.22\n",
      "9  6194.42\n"
     ]
    }
   ],
   "source": [
    "print(Y_predict[0:10])\n",
    "print(Y_test.head(10))"
   ]
  },
  {
   "cell_type": "code",
   "execution_count": 24,
   "metadata": {},
   "outputs": [
    {
     "name": "stdout",
     "output_type": "stream",
     "text": [
      "0.04292586734148062\n",
      "0.0011089081172815521\n"
     ]
    }
   ],
   "source": [
    "#Error = Experimental - Theoretical / Theoretical\n",
    "# print(len(Y_test),len(Y_predict))\n",
    "temp1 = sum([np.abs(y-x)/y for x,y in zip(Y_predict,Y_test.as_matrix())])\n",
    "print(temp1 * 100 / len(Y_test))\n",
    "print(np.abs(np.mean(Y_predict) - np.mean(Y_test.as_matrix())) * 100 / np.mean(Y_test.as_matrix()))"
   ]
  },
  {
   "cell_type": "code",
   "execution_count": 25,
   "metadata": {},
   "outputs": [
    {
     "name": "stdout",
     "output_type": "stream",
     "text": [
      "       High    Predicted\n",
      "0   6397.92  6397.920000\n",
      "1   6439.49  6439.490000\n",
      "2   6218.98  6218.980000\n",
      "3   6365.00  6367.662397\n",
      "4   6456.48  6456.274074\n",
      "5   6364.50  6364.500000\n",
      "6   6425.00  6424.808321\n",
      "7   6410.01  6410.010000\n",
      "8   6397.22  6379.565430\n",
      "9   6194.42  6200.033540\n",
      "10  6410.01  6410.010000\n",
      "11  6416.81  6416.810000\n",
      "12  6391.68  6391.756260\n",
      "13  6386.48  6386.480000\n",
      "14  6404.33  6404.330000\n",
      "15  6401.98  6400.688400\n",
      "16  6368.29  6368.290000\n",
      "17  6419.00  6419.000000\n",
      "18  6425.55  6425.550000\n",
      "19  6449.00  6449.000000\n"
     ]
    },
    {
     "name": "stderr",
     "output_type": "stream",
     "text": [
      "c:\\users\\abid inamdar\\appdata\\local\\programs\\python\\python36-32\\lib\\site-packages\\ipykernel_launcher.py:1: SettingWithCopyWarning: \n",
      "A value is trying to be set on a copy of a slice from a DataFrame.\n",
      "Try using .loc[row_indexer,col_indexer] = value instead\n",
      "\n",
      "See the caveats in the documentation: http://pandas.pydata.org/pandas-docs/stable/indexing.html#indexing-view-versus-copy\n",
      "  \"\"\"Entry point for launching an IPython kernel.\n"
     ]
    },
    {
     "data": {
      "image/png": "[encoded data removed]",
      "text/plain": [
       "<Figure size 432x288 with 1 Axes>"
      ]
     },
     "metadata": {},
     "output_type": "display_data"
    }
   ],
   "source": [
    "Y_test['Predicted'] = Y_predict\n",
    "print(Y_test.head(20))\n",
    "Y_test.plot()\n",
    "plt.show()"
   ]
  },
  {
   "cell_type": "code",
   "execution_count": 26,
   "metadata": {},
   "outputs": [
    {
     "data": {
      "text/html": [
       "<div>\n",
       "<style scoped>\n",
       "    .dataframe tbody tr th:only-of-type {\n",
       "        vertical-align: middle;\n",
       "    }\n",
       "\n",
       "    .dataframe tbody tr th {\n",
       "        vertical-align: top;\n",
       "    }\n",
       "\n",
       "    .dataframe thead th {\n",
       "        text-align: right;\n",
       "    }\n",
       "</style>\n",
       "<table border=\"1\" class=\"dataframe\">\n",
       "  <thead>\n",
       "    <tr style=\"text-align: right;\">\n",
       "      <th></th>\n",
       "      <th>High</th>\n",
       "      <th>Predicted</th>\n",
       "    </tr>\n",
       "  </thead>\n",
       "  <tbody>\n",
       "    <tr>\n",
       "      <th>count</th>\n",
       "      <td>9726.000000</td>\n",
       "      <td>9726.000000</td>\n",
       "    </tr>\n",
       "    <tr>\n",
       "      <th>mean</th>\n",
       "      <td>6376.877141</td>\n",
       "      <td>6376.806427</td>\n",
       "    </tr>\n",
       "    <tr>\n",
       "      <th>std</th>\n",
       "      <td>70.631192</td>\n",
       "      <td>69.035266</td>\n",
       "    </tr>\n",
       "    <tr>\n",
       "      <th>min</th>\n",
       "      <td>6153.730000</td>\n",
       "      <td>6158.610000</td>\n",
       "    </tr>\n",
       "    <tr>\n",
       "      <th>25%</th>\n",
       "      <td>6368.290000</td>\n",
       "      <td>6365.090863</td>\n",
       "    </tr>\n",
       "    <tr>\n",
       "      <th>50%</th>\n",
       "      <td>6399.400000</td>\n",
       "      <td>6399.170000</td>\n",
       "    </tr>\n",
       "    <tr>\n",
       "      <th>75%</th>\n",
       "      <td>6411.000000</td>\n",
       "      <td>6410.540000</td>\n",
       "    </tr>\n",
       "    <tr>\n",
       "      <th>max</th>\n",
       "      <td>6676.550000</td>\n",
       "      <td>6532.702830</td>\n",
       "    </tr>\n",
       "  </tbody>\n",
       "</table>\n",
       "</div>"
      ],
      "text/plain": [
       "              High    Predicted\n",
       "count  9726.000000  9726.000000\n",
       "mean   6376.877141  6376.806427\n",
       "std      70.631192    69.035266\n",
       "min    6153.730000  6158.610000\n",
       "25%    6368.290000  6365.090863\n",
       "50%    6399.400000  6399.170000\n",
       "75%    6411.000000  6410.540000\n",
       "max    6676.550000  6532.702830"
      ]
     },
     "execution_count": 26,
     "metadata": {},
     "output_type": "execute_result"
    }
   ],
   "source": [
    "Y_test.describe()"
   ]
  },
  {
   "cell_type": "markdown",
   "metadata": {},
   "source": [
    "## Open value"
   ]
  },
  {
   "cell_type": "code",
   "execution_count": 8,
   "metadata": {},
   "outputs": [
    {
     "data": {
      "text/html": [
       "<div>\n",
       "<style scoped>\n",
       "    .dataframe tbody tr th:only-of-type {\n",
       "        vertical-align: middle;\n",
       "    }\n",
       "\n",
       "    .dataframe tbody tr th {\n",
       "        vertical-align: top;\n",
       "    }\n",
       "\n",
       "    .dataframe thead th {\n",
       "        text-align: right;\n",
       "    }\n",
       "</style>\n",
       "<table border=\"1\" class=\"dataframe\">\n",
       "  <thead>\n",
       "    <tr style=\"text-align: right;\">\n",
       "      <th></th>\n",
       "      <th>Open</th>\n",
       "    </tr>\n",
       "  </thead>\n",
       "  <tbody>\n",
       "    <tr>\n",
       "      <th>0</th>\n",
       "      <td>6416.81</td>\n",
       "    </tr>\n",
       "    <tr>\n",
       "      <th>1</th>\n",
       "      <td>6416.81</td>\n",
       "    </tr>\n",
       "    <tr>\n",
       "      <th>2</th>\n",
       "      <td>6416.81</td>\n",
       "    </tr>\n",
       "    <tr>\n",
       "      <th>3</th>\n",
       "      <td>6416.81</td>\n",
       "    </tr>\n",
       "    <tr>\n",
       "      <th>4</th>\n",
       "      <td>6416.81</td>\n",
       "    </tr>\n",
       "  </tbody>\n",
       "</table>\n",
       "</div>"
      ],
      "text/plain": [
       "      Open\n",
       "0  6416.81\n",
       "1  6416.81\n",
       "2  6416.81\n",
       "3  6416.81\n",
       "4  6416.81"
      ]
     },
     "execution_count": 8,
     "metadata": {},
     "output_type": "execute_result"
    }
   ],
   "source": [
    "df2 = pd.read_csv('Mapped_Final.csv',index_col=False,usecols=['News_Label','Twitt_Label','Volume','Open'])\n",
    "df2.head()\n",
    "y2 = pd.read_csv('Mapped_Final_Output.csv',index_col=False,usecols=['Open'])\n",
    "y2.head()"
   ]
  },
  {
   "cell_type": "code",
   "execution_count": null,
   "metadata": {},
   "outputs": [],
   "source": [
    "reg,X_train,Y_train,Y_test,Y_predict = fit_model(df2,y2)"
   ]
  },
  {
   "cell_type": "code",
   "execution_count": null,
   "metadata": {},
   "outputs": [],
   "source": [
    "#Error = Experimental - Theoretical / Theoretical\n",
    "# print(len(Y_test),len(Y_predict))\n",
    "temp1 = sum([np.abs(y-x)/y for x,y in zip(Y_predict,Y_test.as_matrix())]) #Mean absolute percentage error\n",
    "print(temp1 * 100 / len(Y_test))\n",
    "print(np.abs(np.mean(Y_predict) - np.mean(Y_test.as_matrix())) * 100 / np.mean(Y_test.as_matrix()))"
   ]
  },
  {
   "cell_type": "code",
   "execution_count": null,
   "metadata": {},
   "outputs": [],
   "source": [
    "Y_test.reset_index(inplace=True,drop=True)\n",
    "Y_test['Predicted'] = Y_predict\n",
    "print(Y_test.head())\n",
    "Y_test.plot()\n",
    "plt.show()"
   ]
  },
  {
   "cell_type": "markdown",
   "metadata": {},
   "source": [
    "## SVR"
   ]
  },
  {
   "cell_type": "code",
   "execution_count": 20,
   "metadata": {},
   "outputs": [],
   "source": [
    "from sklearn.svm import SVR"
   ]
  },
  {
   "cell_type": "code",
   "execution_count": 21,
   "metadata": {},
   "outputs": [],
   "source": [
    "def display_svr(svr_reg,Y_train,Y_test,Y_predict,X_train):\n",
    "    print(\"Mean absolute error :\",metrics.mean_absolute_error(Y_test,Y_predict))\n",
    "    print(\"Mean squared error :\",metrics.mean_squared_error(Y_test,Y_predict))\n",
    "    print(\"Root mean square error :\",np.sqrt(metrics.mean_squared_error(Y_test,Y_predict)),\"\\n\")\n",
    "#     print(\"C stat :\",metrics.roc_auc_score(Y_train,y_oob))"
   ]
  },
  {
   "cell_type": "code",
   "execution_count": 22,
   "metadata": {},
   "outputs": [],
   "source": [
    "def fit_model_svr(df,y,ker):\n",
    "    X_train,X_test,Y_train,Y_test = train_test_split(df,y,test_size = 0.3)\n",
    "#     train_size = int(len(df)*0.7)\n",
    "#     test_size = int(len(df)*0.3)\n",
    "#     print(train_size,test_size)\n",
    "#     X_train,Y_train,X_test,Y_test = df[0:train_size],y[0:train_size],df[train_size:len(df1)],y[train_size:len(df1)]\n",
    "    svr_reg = SVR(kernel=ker,cache_size=1000)\n",
    "    svr_reg.fit(X_train,Y_train)\n",
    "    Y_predict = svr_reg.predict(X_test)\n",
    "    print('Cross validation on training data,',svr_reg.score(X_train,Y_train))\n",
    "    print('Cross validation on testing data,',svr_reg.score(X_test,Y_test))\n",
    "    \n",
    "    display_svr(svr_reg,Y_train,Y_test,Y_predict,X_train)\n",
    "    return svr_reg,X_train,Y_train,Y_test,Y_predict"
   ]
  },
  {
   "cell_type": "code",
   "execution_count": 23,
   "metadata": {},
   "outputs": [
    {
     "name": "stderr",
     "output_type": "stream",
     "text": [
      "c:\\users\\abid inamdar\\appdata\\local\\programs\\python\\python36-32\\lib\\site-packages\\sklearn\\utils\\validation.py:578: DataConversionWarning: A column-vector y was passed when a 1d array was expected. Please change the shape of y to (n_samples, ), for example using ravel().\n",
      "  y = column_or_1d(y, warn=True)\n"
     ]
    },
    {
     "name": "stdout",
     "output_type": "stream",
     "text": [
      "Cross validation on training data, 0.4516521481738325\n",
      "Cross validation on testing data, 0.4412267889696499\n",
      "Mean absolute error : 25.70099422062911\n",
      "Mean squared error : 2670.282543112167\n",
      "Root mean square error : 51.67477666243142 \n",
      "\n"
     ]
    },
    {
     "data": {
      "text/plain": [
       "Text(0.5, 1.0, '2 Days')"
      ]
     },
     "execution_count": 23,
     "metadata": {},
     "output_type": "execute_result"
    },
    {
     "data": {
      "image/png": "[encoded data removed]",
      "text/plain": [
       "<Figure size 432x288 with 1 Axes>"
      ]
     },
     "metadata": {},
     "output_type": "display_data"
    }
   ],
   "source": [
    "reg,X_train,Y_train,Y_test,Y_predict = fit_model_svr(df1,y1,'rbf')\n",
    "plt.scatter(Y_predict,Y_test)\n",
    "plt.scatter(Y_predict,Y_test)\n",
    "plt.xlabel(\"Predicted\")\n",
    "plt.ylabel(\"Actual\")\n",
    "plt.title(\"2 Days\")"
   ]
  },
  {
   "cell_type": "code",
   "execution_count": 18,
   "metadata": {},
   "outputs": [
    {
     "ename": "NameError",
     "evalue": "name 'fit_model_svr' is not defined",
     "output_type": "error",
     "traceback": [
      "\u001b[1;31m---------------------------------------------------------------------------\u001b[0m",
      "\u001b[1;31mNameError\u001b[0m                                 Traceback (most recent call last)",
      "\u001b[1;32m<ipython-input-18-b32dea77c107>\u001b[0m in \u001b[0;36m<module>\u001b[1;34m()\u001b[0m\n\u001b[1;32m----> 1\u001b[1;33m \u001b[0mreg\u001b[0m\u001b[1;33m,\u001b[0m\u001b[0mX_train\u001b[0m\u001b[1;33m,\u001b[0m\u001b[0mY_train\u001b[0m\u001b[1;33m,\u001b[0m\u001b[0mY_test\u001b[0m\u001b[1;33m,\u001b[0m\u001b[0mY_predict\u001b[0m \u001b[1;33m=\u001b[0m \u001b[0mfit_model_svr\u001b[0m\u001b[1;33m(\u001b[0m\u001b[0mdf1\u001b[0m\u001b[1;33m,\u001b[0m\u001b[0my1\u001b[0m\u001b[1;33m,\u001b[0m\u001b[1;34m'linear'\u001b[0m\u001b[1;33m)\u001b[0m\u001b[1;33m\u001b[0m\u001b[0m\n\u001b[0m\u001b[0;32m      2\u001b[0m \u001b[0mplt\u001b[0m\u001b[1;33m.\u001b[0m\u001b[0mscatter\u001b[0m\u001b[1;33m(\u001b[0m\u001b[0mY_predict\u001b[0m\u001b[1;33m,\u001b[0m\u001b[0mY_test\u001b[0m\u001b[1;33m)\u001b[0m\u001b[1;33m\u001b[0m\u001b[0m\n\u001b[0;32m      3\u001b[0m \u001b[0mplt\u001b[0m\u001b[1;33m.\u001b[0m\u001b[0mxlabel\u001b[0m\u001b[1;33m(\u001b[0m\u001b[1;34m\"Predicted\"\u001b[0m\u001b[1;33m)\u001b[0m\u001b[1;33m\u001b[0m\u001b[0m\n\u001b[0;32m      4\u001b[0m \u001b[0mplt\u001b[0m\u001b[1;33m.\u001b[0m\u001b[0mylabel\u001b[0m\u001b[1;33m(\u001b[0m\u001b[1;34m\"Actual\"\u001b[0m\u001b[1;33m)\u001b[0m\u001b[1;33m\u001b[0m\u001b[0m\n\u001b[0;32m      5\u001b[0m \u001b[0mplt\u001b[0m\u001b[1;33m.\u001b[0m\u001b[0mtitle\u001b[0m\u001b[1;33m(\u001b[0m\u001b[1;34m\"2 Days\"\u001b[0m\u001b[1;33m)\u001b[0m\u001b[1;33m\u001b[0m\u001b[0m\n",
      "\u001b[1;31mNameError\u001b[0m: name 'fit_model_svr' is not defined"
     ]
    }
   ],
   "source": [
    "reg,X_train,Y_train,Y_test,Y_predict = fit_model_svr(df1,y1,'linear')\n",
    "plt.scatter(Y_predict,Y_test)\n",
    "plt.xlabel(\"Predicted\")\n",
    "plt.ylabel(\"Actual\")\n",
    "plt.title(\"2 Days\")"
   ]
  },
  {
   "cell_type": "code",
   "execution_count": null,
   "metadata": {},
   "outputs": [],
   "source": []
  }
 ],
 "metadata": {
  "kernelspec": {
   "display_name": "Python 3",
   "language": "python",
   "name": "python3"
  },
  "language_info": {
   "codemirror_mode": {
    "name": "ipython",
    "version": 3
   },
   "file_extension": ".py",
   "mimetype": "text/x-python",
   "name": "python",
   "nbconvert_exporter": "python",
   "pygments_lexer": "ipython3",
   "version": "3.6.3"
  }
 },
 "nbformat": 4,
 "nbformat_minor": 2
}
