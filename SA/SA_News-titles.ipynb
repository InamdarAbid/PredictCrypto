{
 "cells": [
  {
   "cell_type": "markdown",
   "metadata": {},
   "source": [
    "### Imports"
   ]
  },
  {
   "cell_type": "code",
   "execution_count": 1,
   "metadata": {},
   "outputs": [
    {
     "name": "stderr",
     "output_type": "stream",
     "text": [
      "Using TensorFlow backend.\n"
     ]
    }
   ],
   "source": [
    "import re\n",
    "import numpy as np\n",
    "import pandas as pd\n",
    "from sklearn.model_selection import train_test_split\n",
    "import matplotlib.pyplot as plt\n",
    "import pickle\n",
    "\n",
    "from keras.models import Sequential, load_model\n",
    "from keras.layers import Dense, LSTM, Embedding, Dropout\n",
    "from keras.preprocessing.text import Tokenizer\n",
    "from keras.preprocessing.sequence import pad_sequences"
   ]
  },
  {
   "cell_type": "code",
   "execution_count": 2,
   "metadata": {},
   "outputs": [],
   "source": [
    "# setting some options of pandas\n",
    "\n",
    "pd.set_option('display.max_colwidth', 260)\n",
    "pd.set_option('display.max_rows', 10)"
   ]
  },
  {
   "cell_type": "markdown",
   "metadata": {},
   "source": [
    "### Loading in Dataset"
   ]
  },
  {
   "cell_type": "code",
   "execution_count": 4,
   "metadata": {},
   "outputs": [
    {
     "name": "stdout",
     "output_type": "stream",
     "text": [
      "(1772, 17)\n"
     ]
    },
    {
     "data": {
      "text/html": [
       "<div>\n",
       "<style scoped>\n",
       "    .dataframe tbody tr th:only-of-type {\n",
       "        vertical-align: middle;\n",
       "    }\n",
       "\n",
       "    .dataframe tbody tr th {\n",
       "        vertical-align: top;\n",
       "    }\n",
       "\n",
       "    .dataframe thead th {\n",
       "        text-align: right;\n",
       "    }\n",
       "</style>\n",
       "<table border=\"1\" class=\"dataframe\">\n",
       "  <thead>\n",
       "    <tr style=\"text-align: right;\">\n",
       "      <th></th>\n",
       "      <th>Unnamed: 0</th>\n",
       "      <th>Sr</th>\n",
       "      <th>author</th>\n",
       "      <th>timestamp</th>\n",
       "      <th>title</th>\n",
       "      <th>text</th>\n",
       "      <th>Label (-2 to 2)</th>\n",
       "      <th>spam_score</th>\n",
       "      <th>performance_score</th>\n",
       "      <th>facebook_likes</th>\n",
       "      <th>facebook_comments</th>\n",
       "      <th>facebook_shares</th>\n",
       "      <th>preprocess</th>\n",
       "      <th>stem</th>\n",
       "      <th>lem</th>\n",
       "      <th>cap</th>\n",
       "      <th>UnixTime</th>\n",
       "    </tr>\n",
       "  </thead>\n",
       "  <tbody>\n",
       "    <tr>\n",
       "      <th>0</th>\n",
       "      <td>0</td>\n",
       "      <td>1</td>\n",
       "      <td>Bloomberg News</td>\n",
       "      <td>2018-10-30 0:00:00</td>\n",
       "      <td>Pot entrepreneurs target Asian money at Hong Kong investor forum - BNN Bloomberg</td>\n",
       "      <td>Seven years. ThatÃƒÂ¢Ã‚Â€Ã‚Â™s how much jail time you can get just for smoking marijuana in Hong Kong. But that doesnÃƒÂ¢Ã‚Â€Ã‚Â™t mean you canÃƒÂ¢Ã‚Â€Ã‚Â™t invest in it.\\n\\n\\nThatÃƒÂ¢Ã‚Â€Ã‚Â™s the message from executives at some of the worldÃƒÂ¢Ã‚Â€Ã‚Â™s ...</td>\n",
       "      <td>0.0</td>\n",
       "      <td>0.733</td>\n",
       "      <td>0.0</td>\n",
       "      <td>0.0</td>\n",
       "      <td>0.0</td>\n",
       "      <td>0.0</td>\n",
       "      <td>Seven years. ThatÃƒÂ¢Ã‚Â€Ã‚Â™s much jail time get smoking marijuana Hong Kong. But doesnÃƒÂ¢Ã‚Â€Ã‚Â™t mean canÃƒÂ¢Ã‚Â€Ã‚Â™t invest it. ThatÃƒÂ¢Ã‚Â€Ã‚Â™s message executives worldÃƒÂ¢Ã‚Â€Ã‚Â™s hottest cannabis firms, gathering tomorrow cityÃƒÂ¢Ã‚Â€Ã‚Â™s five...</td>\n",
       "      <td>seven years. thatÃƒÂ¢Ã‚Â€Ã‚Â™ much jail time get smoke marijuana hong kong. but doesnÃƒÂ¢Ã‚Â€Ã‚Â™t mean canÃƒÂ¢Ã‚Â€Ã‚Â™t invest it. thatÃƒÂ¢Ã‚Â€Ã‚Â™ messag execut worldÃƒÂ¢Ã‚Â€Ã‚Â™ hottest cannabi firms, gather tomorrow cityÃƒÂ¢Ã‚Â€Ã‚Â™ five-star W hotel f...</td>\n",
       "      <td>Seven years. ThatÃƒÂ¢Ã‚Â€Ã‚Â™s much jail time get smoke marijuana Hong Kong. But doesnÃƒÂ¢Ã‚Â€Ã‚Â™t mean canÃƒÂ¢Ã‚Â€Ã‚Â™t invest it. ThatÃƒÂ¢Ã‚Â€Ã‚Â™s message executives worldÃƒÂ¢Ã‚Â€Ã‚Â™s hottest cannabis firms, gather tomorrow cityÃƒÂ¢Ã‚Â€Ã‚Â™s five-star...</td>\n",
       "      <td>SEVEN YEARS. THATÃƒÂ‚Ã‚Â€Ã‚Â™S MUCH JAIL TIME GET SMOKING MARIJUANA HONG KONG. BUT DOESNÃƒÂ‚Ã‚Â€Ã‚Â™T MEAN CANÃƒÂ‚Ã‚Â€Ã‚Â™T INVEST IT. THATÃƒÂ‚Ã‚Â€Ã‚Â™S MESSAGE EXECUTIVES WORLDÃƒÂ‚Ã‚Â€Ã‚Â™S HOTTEST CANNABIS FIRMS, GATHERING TOMORROW CITYÃƒÂ‚Ã‚Â€Ã‚Â™S FIVE...</td>\n",
       "      <td>1.540858e+09</td>\n",
       "    </tr>\n",
       "    <tr>\n",
       "      <th>1</th>\n",
       "      <td>1</td>\n",
       "      <td>2</td>\n",
       "      <td>NaN</td>\n",
       "      <td>2018-10-30 0:00:00</td>\n",
       "      <td>Distributed Dialogues: Political Censorship in China</td>\n",
       "      <td>Distributed Dialogues: Political Censorship in China 2018-10-30 07:31 pm News 21 0\\n\\n\\nOn the latest episode of Season 2 of Distributed Dialogues , the hosts took a deep dive into the state of political repression in the PeopleÃƒÂ¢Ã‚Â€Ã‚Â™s Republic of Ch...</td>\n",
       "      <td>0.0</td>\n",
       "      <td>0.000</td>\n",
       "      <td>0.0</td>\n",
       "      <td>0.0</td>\n",
       "      <td>0.0</td>\n",
       "      <td>0.0</td>\n",
       "      <td>Distributed Dialogues: Political Censorship China 2018-10-30 07:31 pm News 21 0 On latest episode Season 2 Distributed Dialogues , hosts took deep dive state political repression PeopleÃƒÂ¢Ã‚Â€Ã‚Â™s Republic China. Interviewing experts dissidents Oslo Free...</td>\n",
       "      <td>distribut dialogues: polit censorship china 2018-10-30 07:31 pm new 21 0 On latest episod season 2 distribut dialogu , host took deep dive state polit repress peopleÃƒÂ¢Ã‚Â€Ã‚Â™ republ china. interview expert dissid oslo freedom festival, thorough examin c...</td>\n",
       "      <td>Distributed Dialogues: Political Censorship China 2018-10-30 07:31 pm News 21 0 On latest episode Season 2 Distributed Dialogues , host take deep dive state political repression PeopleÃƒÂ¢Ã‚Â€Ã‚Â™s Republic China. Interviewing experts dissidents Oslo Freed...</td>\n",
       "      <td>DISTRIBUTED DIALOGUES: POLITICAL CENSORSHIP CHINA 2018-10-30 07:31 PM NEWS 21 0 ON LATEST EPISODE SEASON 2 DISTRIBUTED DIALOGUES , HOSTS TOOK DEEP DIVE STATE POLITICAL REPRESSION PEOPLEÃƒÂ‚Ã‚Â€Ã‚Â™S REPUBLIC CHINA. INTERVIEWING EXPERTS DISSIDENTS OSLO FREE...</td>\n",
       "      <td>1.540858e+09</td>\n",
       "    </tr>\n",
       "    <tr>\n",
       "      <th>2</th>\n",
       "      <td>2</td>\n",
       "      <td>3</td>\n",
       "      <td>Trevor Kearing</td>\n",
       "      <td>2018-10-30 0:00:00</td>\n",
       "      <td>Sojourn (SOJ) Price Tops $0.23 on Exchanges - Daily Political</td>\n",
       "      <td>Tweet\\n\\n\\nSojourn (CURRENCY:SOJ) traded flat against the dollar during the twenty-four hour period ending at 17:00 PM Eastern on October 30th. Sojourn has a total market cap of $113,909.00 and $0.00 worth of Sojourn was traded on exchanges in the last 24 ...</td>\n",
       "      <td>0.0</td>\n",
       "      <td>0.002</td>\n",
       "      <td>0.0</td>\n",
       "      <td>0.0</td>\n",
       "      <td>0.0</td>\n",
       "      <td>0.0</td>\n",
       "      <td>Tweet Sojourn (CURRENCY:SOJ) traded flat dollar twenty-four hour period ending 17:00 PM Eastern October 30th. Sojourn total market cap $113,909.00 $0.00 worth Sojourn traded exchanges last 24 hours. In last seven days, Sojourn traded flat dollar. One Sojou...</td>\n",
       "      <td>tweet sojourn (currency:soj) trade flat dollar twenty-four hour period end 17:00 PM eastern octob 30th. sojourn total market cap $113,909.00 $0.00 worth sojourn trade exchang last 24 hours. In last seven days, sojourn trade flat dollar. one sojourn coin cu...</td>\n",
       "      <td>Tweet Sojourn (CURRENCY:SOJ) trade flat dollar twenty-four hour period end 17:00 PM Eastern October 30th. Sojourn total market cap $113,909.00 $0.00 worth Sojourn trade exchange last 24 hours. In last seven days, Sojourn trade flat dollar. One Sojourn coin...</td>\n",
       "      <td>TWEET SOJOURN (CURRENCY:SOJ) TRADED FLAT DOLLAR TWENTY-FOUR HOUR PERIOD ENDING 17:00 PM EASTERN OCTOBER 30TH. SOJOURN TOTAL MARKET CAP $113,909.00 $0.00 WORTH SOJOURN TRADED EXCHANGES LAST 24 HOURS. IN LAST SEVEN DAYS, SOJOURN TRADED FLAT DOLLAR. ONE SOJOU...</td>\n",
       "      <td>1.540858e+09</td>\n",
       "    </tr>\n",
       "    <tr>\n",
       "      <th>3</th>\n",
       "      <td>3</td>\n",
       "      <td>4</td>\n",
       "      <td>Bloomberg News</td>\n",
       "      <td>2018-10-30 0:00:00</td>\n",
       "      <td>Happy birthday, bitcoin!: 10 years on, valuation is still a question - BNN Bloomberg</td>\n",
       "      <td>Happy Anniversary to Bitcoin!\\n\\n\\nIt was Halloween 2008 when Satoshi Nakamoto, which may be a pseudonym for one or more programmers, published a paper titled ÃƒÂ¢Ã‚Â€Ã‚ÂœBitcoin: A Peer-to-Peer Electronic Cash System.ÃƒÂ¢Ã‚Â€Ã‚Â\\n\\n\\nDid he, she or they ...</td>\n",
       "      <td>1.0</td>\n",
       "      <td>0.000</td>\n",
       "      <td>0.0</td>\n",
       "      <td>0.0</td>\n",
       "      <td>0.0</td>\n",
       "      <td>0.0</td>\n",
       "      <td>Happy Anniversary Bitcoin! It Halloween 2008 Satoshi Nakamoto, may pseudonym one programmers, published paper titled ÃƒÂ¢Ã‚Â€Ã‚ÂœBitcoin: A Peer-to-Peer Electronic Cash System.ÃƒÂ¢Ã‚Â€Ã‚Â Did he, know unleashed? Ten years later, digital currency developed...</td>\n",
       "      <td>happi anniversari bitcoin! It halloween 2008 satoshi nakamoto, may pseudonym one programmers, publish paper titl ÃƒÂ¢Ã‚Â€Ã‚Âœbitcoin: A peer-to-p electron cash system.ÃƒÂ¢Ã‚Â€Ã‚Â did he, know unleashed? ten year later, digit currenc develop still unknown ...</td>\n",
       "      <td>Happy Anniversary Bitcoin! It Halloween 2008 Satoshi Nakamoto, may pseudonym one programmers, publish paper title ÃƒÂ¢Ã‚Â€Ã‚ÂœBitcoin: A Peer-to-Peer Electronic Cash System.ÃƒÂ¢Ã‚Â€Ã‚Â Did he, know unleashed? Ten years later, digital currency develop stil...</td>\n",
       "      <td>HAPPY ANNIVERSARY BITCOIN! IT HALLOWEEN 2008 SATOSHI NAKAMOTO, MAY PSEUDONYM ONE PROGRAMMERS, PUBLISHED PAPER TITLED ÃƒÂ‚Ã‚Â€Ã‚ÂœBITCOIN: A PEER-TO-PEER ELECTRONIC CASH SYSTEM.ÃƒÂ‚Ã‚Â€Ã‚Â DID HE, KNOW UNLEASHED? TEN YEARS LATER, DIGITAL CURRENCY DEVELOPED...</td>\n",
       "      <td>1.540858e+09</td>\n",
       "    </tr>\n",
       "    <tr>\n",
       "      <th>4</th>\n",
       "      <td>4</td>\n",
       "      <td>5</td>\n",
       "      <td>Midwest Communications Inc.</td>\n",
       "      <td>2018-10-30 0:00:00</td>\n",
       "      <td>Coinbase valued at $8 billion in latest fundraising round | News | WIBQ</td>\n",
       "      <td>Coinbase valued at $8 billion in latest fundraising round Tuesday, October 30, 2018 9:36 a.m. EDT\\n\\n\\n(Reuters) - Coinbase, one of the top U.S. cryptocurrency exchanges, said on Tuesday it raised another $300 million in a funding round led by Tiger Global...</td>\n",
       "      <td>1.0</td>\n",
       "      <td>0.000</td>\n",
       "      <td>0.0</td>\n",
       "      <td>0.0</td>\n",
       "      <td>0.0</td>\n",
       "      <td>0.0</td>\n",
       "      <td>Coinbase valued $8 billion latest fundraising round Tuesday, October 30, 2018 9:36 a.m. EDT (Reuters) - Coinbase, one top U.S. cryptocurrency exchanges, said Tuesday raised another $300 million funding round led Tiger Global Management, valuing firm $8 bil...</td>\n",
       "      <td>coinbas valu $8 billion latest fundrais round tuesday, octob 30, 2018 9:36 a.m. edt (reuters) - coinbase, one top u.s. cryptocurr exchanges, said tuesday rais anoth $300 million fund round led tiger global management, valu firm $8 billion. san francisco-ba...</td>\n",
       "      <td>Coinbase value $8 billion latest fundraise round Tuesday, October 30, 2018 9:36 a.m. EDT (Reuters) - Coinbase, one top U.S. cryptocurrency exchanges, say Tuesday raise another $300 million fund round lead Tiger Global Management, value firm $8 billion. San...</td>\n",
       "      <td>COINBASE VALUED $8 BILLION LATEST FUNDRAISING ROUND TUESDAY, OCTOBER 30, 2018 9:36 A.M. EDT (REUTERS) - COINBASE, ONE TOP U.S. CRYPTOCURRENCY EXCHANGES, SAID TUESDAY RAISED ANOTHER $300 MILLION FUNDING ROUND LED TIGER GLOBAL MANAGEMENT, VALUING FIRM $8 BIL...</td>\n",
       "      <td>1.540858e+09</td>\n",
       "    </tr>\n",
       "  </tbody>\n",
       "</table>\n",
       "</div>"
      ],
      "text/plain": [
       "   Unnamed: 0  Sr                       author           timestamp  \\\n",
       "0           0   1               Bloomberg News  2018-10-30 0:00:00   \n",
       "1           1   2                          NaN  2018-10-30 0:00:00   \n",
       "2           2   3               Trevor Kearing  2018-10-30 0:00:00   \n",
       "3           3   4               Bloomberg News  2018-10-30 0:00:00   \n",
       "4           4   5  Midwest Communications Inc.  2018-10-30 0:00:00   \n",
       "\n",
       "                                                                                  title  \\\n",
       "0      Pot entrepreneurs target Asian money at Hong Kong investor forum - BNN Bloomberg   \n",
       "1                                  Distributed Dialogues: Political Censorship in China   \n",
       "2                         Sojourn (SOJ) Price Tops $0.23 on Exchanges - Daily Political   \n",
       "3  Happy birthday, bitcoin!: 10 years on, valuation is still a question - BNN Bloomberg   \n",
       "4               Coinbase valued at $8 billion in latest fundraising round | News | WIBQ   \n",
       "\n",
       "                                                                                                                                                                                                                                                                  text  \\\n",
       "0  Seven years. ThatÃƒÂ¢Ã‚Â€Ã‚Â™s how much jail time you can get just for smoking marijuana in Hong Kong. But that doesnÃƒÂ¢Ã‚Â€Ã‚Â™t mean you canÃƒÂ¢Ã‚Â€Ã‚Â™t invest in it.\\n\\n\\nThatÃƒÂ¢Ã‚Â€Ã‚Â™s the message from executives at some of the worldÃƒÂ¢Ã‚Â€Ã‚Â™s ...   \n",
       "1  Distributed Dialogues: Political Censorship in China 2018-10-30 07:31 pm News 21 0\\n\\n\\nOn the latest episode of Season 2 of Distributed Dialogues , the hosts took a deep dive into the state of political repression in the PeopleÃƒÂ¢Ã‚Â€Ã‚Â™s Republic of Ch...   \n",
       "2  Tweet\\n\\n\\nSojourn (CURRENCY:SOJ) traded flat against the dollar during the twenty-four hour period ending at 17:00 PM Eastern on October 30th. Sojourn has a total market cap of $113,909.00 and $0.00 worth of Sojourn was traded on exchanges in the last 24 ...   \n",
       "3  Happy Anniversary to Bitcoin!\\n\\n\\nIt was Halloween 2008 when Satoshi Nakamoto, which may be a pseudonym for one or more programmers, published a paper titled ÃƒÂ¢Ã‚Â€Ã‚ÂœBitcoin: A Peer-to-Peer Electronic Cash System.ÃƒÂ¢Ã‚Â€Ã‚Â\\n\\n\\nDid he, she or they ...   \n",
       "4  Coinbase valued at $8 billion in latest fundraising round Tuesday, October 30, 2018 9:36 a.m. EDT\\n\\n\\n(Reuters) - Coinbase, one of the top U.S. cryptocurrency exchanges, said on Tuesday it raised another $300 million in a funding round led by Tiger Global...   \n",
       "\n",
       "   Label (-2 to 2)  spam_score  performance_score  facebook_likes  \\\n",
       "0              0.0       0.733                0.0             0.0   \n",
       "1              0.0       0.000                0.0             0.0   \n",
       "2              0.0       0.002                0.0             0.0   \n",
       "3              1.0       0.000                0.0             0.0   \n",
       "4              1.0       0.000                0.0             0.0   \n",
       "\n",
       "   facebook_comments  facebook_shares  \\\n",
       "0                0.0              0.0   \n",
       "1                0.0              0.0   \n",
       "2                0.0              0.0   \n",
       "3                0.0              0.0   \n",
       "4                0.0              0.0   \n",
       "\n",
       "                                                                                                                                                                                                                                                            preprocess  \\\n",
       "0  Seven years. ThatÃƒÂ¢Ã‚Â€Ã‚Â™s much jail time get smoking marijuana Hong Kong. But doesnÃƒÂ¢Ã‚Â€Ã‚Â™t mean canÃƒÂ¢Ã‚Â€Ã‚Â™t invest it. ThatÃƒÂ¢Ã‚Â€Ã‚Â™s message executives worldÃƒÂ¢Ã‚Â€Ã‚Â™s hottest cannabis firms, gathering tomorrow cityÃƒÂ¢Ã‚Â€Ã‚Â™s five...   \n",
       "1  Distributed Dialogues: Political Censorship China 2018-10-30 07:31 pm News 21 0 On latest episode Season 2 Distributed Dialogues , hosts took deep dive state political repression PeopleÃƒÂ¢Ã‚Â€Ã‚Â™s Republic China. Interviewing experts dissidents Oslo Free...   \n",
       "2  Tweet Sojourn (CURRENCY:SOJ) traded flat dollar twenty-four hour period ending 17:00 PM Eastern October 30th. Sojourn total market cap $113,909.00 $0.00 worth Sojourn traded exchanges last 24 hours. In last seven days, Sojourn traded flat dollar. One Sojou...   \n",
       "3  Happy Anniversary Bitcoin! It Halloween 2008 Satoshi Nakamoto, may pseudonym one programmers, published paper titled ÃƒÂ¢Ã‚Â€Ã‚ÂœBitcoin: A Peer-to-Peer Electronic Cash System.ÃƒÂ¢Ã‚Â€Ã‚Â Did he, know unleashed? Ten years later, digital currency developed...   \n",
       "4  Coinbase valued $8 billion latest fundraising round Tuesday, October 30, 2018 9:36 a.m. EDT (Reuters) - Coinbase, one top U.S. cryptocurrency exchanges, said Tuesday raised another $300 million funding round led Tiger Global Management, valuing firm $8 bil...   \n",
       "\n",
       "                                                                                                                                                                                                                                                                  stem  \\\n",
       "0  seven years. thatÃƒÂ¢Ã‚Â€Ã‚Â™ much jail time get smoke marijuana hong kong. but doesnÃƒÂ¢Ã‚Â€Ã‚Â™t mean canÃƒÂ¢Ã‚Â€Ã‚Â™t invest it. thatÃƒÂ¢Ã‚Â€Ã‚Â™ messag execut worldÃƒÂ¢Ã‚Â€Ã‚Â™ hottest cannabi firms, gather tomorrow cityÃƒÂ¢Ã‚Â€Ã‚Â™ five-star W hotel f...   \n",
       "1  distribut dialogues: polit censorship china 2018-10-30 07:31 pm new 21 0 On latest episod season 2 distribut dialogu , host took deep dive state polit repress peopleÃƒÂ¢Ã‚Â€Ã‚Â™ republ china. interview expert dissid oslo freedom festival, thorough examin c...   \n",
       "2  tweet sojourn (currency:soj) trade flat dollar twenty-four hour period end 17:00 PM eastern octob 30th. sojourn total market cap $113,909.00 $0.00 worth sojourn trade exchang last 24 hours. In last seven days, sojourn trade flat dollar. one sojourn coin cu...   \n",
       "3  happi anniversari bitcoin! It halloween 2008 satoshi nakamoto, may pseudonym one programmers, publish paper titl ÃƒÂ¢Ã‚Â€Ã‚Âœbitcoin: A peer-to-p electron cash system.ÃƒÂ¢Ã‚Â€Ã‚Â did he, know unleashed? ten year later, digit currenc develop still unknown ...   \n",
       "4  coinbas valu $8 billion latest fundrais round tuesday, octob 30, 2018 9:36 a.m. edt (reuters) - coinbase, one top u.s. cryptocurr exchanges, said tuesday rais anoth $300 million fund round led tiger global management, valu firm $8 billion. san francisco-ba...   \n",
       "\n",
       "                                                                                                                                                                                                                                                                   lem  \\\n",
       "0  Seven years. ThatÃƒÂ¢Ã‚Â€Ã‚Â™s much jail time get smoke marijuana Hong Kong. But doesnÃƒÂ¢Ã‚Â€Ã‚Â™t mean canÃƒÂ¢Ã‚Â€Ã‚Â™t invest it. ThatÃƒÂ¢Ã‚Â€Ã‚Â™s message executives worldÃƒÂ¢Ã‚Â€Ã‚Â™s hottest cannabis firms, gather tomorrow cityÃƒÂ¢Ã‚Â€Ã‚Â™s five-star...   \n",
       "1  Distributed Dialogues: Political Censorship China 2018-10-30 07:31 pm News 21 0 On latest episode Season 2 Distributed Dialogues , host take deep dive state political repression PeopleÃƒÂ¢Ã‚Â€Ã‚Â™s Republic China. Interviewing experts dissidents Oslo Freed...   \n",
       "2  Tweet Sojourn (CURRENCY:SOJ) trade flat dollar twenty-four hour period end 17:00 PM Eastern October 30th. Sojourn total market cap $113,909.00 $0.00 worth Sojourn trade exchange last 24 hours. In last seven days, Sojourn trade flat dollar. One Sojourn coin...   \n",
       "3  Happy Anniversary Bitcoin! It Halloween 2008 Satoshi Nakamoto, may pseudonym one programmers, publish paper title ÃƒÂ¢Ã‚Â€Ã‚ÂœBitcoin: A Peer-to-Peer Electronic Cash System.ÃƒÂ¢Ã‚Â€Ã‚Â Did he, know unleashed? Ten years later, digital currency develop stil...   \n",
       "4  Coinbase value $8 billion latest fundraise round Tuesday, October 30, 2018 9:36 a.m. EDT (Reuters) - Coinbase, one top U.S. cryptocurrency exchanges, say Tuesday raise another $300 million fund round lead Tiger Global Management, value firm $8 billion. San...   \n",
       "\n",
       "                                                                                                                                                                                                                                                                   cap  \\\n",
       "0  SEVEN YEARS. THATÃƒÂ‚Ã‚Â€Ã‚Â™S MUCH JAIL TIME GET SMOKING MARIJUANA HONG KONG. BUT DOESNÃƒÂ‚Ã‚Â€Ã‚Â™T MEAN CANÃƒÂ‚Ã‚Â€Ã‚Â™T INVEST IT. THATÃƒÂ‚Ã‚Â€Ã‚Â™S MESSAGE EXECUTIVES WORLDÃƒÂ‚Ã‚Â€Ã‚Â™S HOTTEST CANNABIS FIRMS, GATHERING TOMORROW CITYÃƒÂ‚Ã‚Â€Ã‚Â™S FIVE...   \n",
       "1  DISTRIBUTED DIALOGUES: POLITICAL CENSORSHIP CHINA 2018-10-30 07:31 PM NEWS 21 0 ON LATEST EPISODE SEASON 2 DISTRIBUTED DIALOGUES , HOSTS TOOK DEEP DIVE STATE POLITICAL REPRESSION PEOPLEÃƒÂ‚Ã‚Â€Ã‚Â™S REPUBLIC CHINA. INTERVIEWING EXPERTS DISSIDENTS OSLO FREE...   \n",
       "2  TWEET SOJOURN (CURRENCY:SOJ) TRADED FLAT DOLLAR TWENTY-FOUR HOUR PERIOD ENDING 17:00 PM EASTERN OCTOBER 30TH. SOJOURN TOTAL MARKET CAP $113,909.00 $0.00 WORTH SOJOURN TRADED EXCHANGES LAST 24 HOURS. IN LAST SEVEN DAYS, SOJOURN TRADED FLAT DOLLAR. ONE SOJOU...   \n",
       "3  HAPPY ANNIVERSARY BITCOIN! IT HALLOWEEN 2008 SATOSHI NAKAMOTO, MAY PSEUDONYM ONE PROGRAMMERS, PUBLISHED PAPER TITLED ÃƒÂ‚Ã‚Â€Ã‚ÂœBITCOIN: A PEER-TO-PEER ELECTRONIC CASH SYSTEM.ÃƒÂ‚Ã‚Â€Ã‚Â DID HE, KNOW UNLEASHED? TEN YEARS LATER, DIGITAL CURRENCY DEVELOPED...   \n",
       "4  COINBASE VALUED $8 BILLION LATEST FUNDRAISING ROUND TUESDAY, OCTOBER 30, 2018 9:36 A.M. EDT (REUTERS) - COINBASE, ONE TOP U.S. CRYPTOCURRENCY EXCHANGES, SAID TUESDAY RAISED ANOTHER $300 MILLION FUNDING ROUND LED TIGER GLOBAL MANAGEMENT, VALUING FIRM $8 BIL...   \n",
       "\n",
       "       UnixTime  \n",
       "0  1.540858e+09  \n",
       "1  1.540858e+09  \n",
       "2  1.540858e+09  \n",
       "3  1.540858e+09  \n",
       "4  1.540858e+09  "
      ]
     },
     "execution_count": 4,
     "metadata": {},
     "output_type": "execute_result"
    }
   ],
   "source": [
    "data = pd.read_csv('D:/BE_Project/Data_json_csv/News/Lp_Unix_30_oct_news.csv', encoding = \"utf-8\")\n",
    "print(data.shape)\n",
    "data.head()\n"
   ]
  },
  {
   "cell_type": "markdown",
   "metadata": {},
   "source": [
    "Removing all columns except the airline_sentiment and text column."
   ]
  },
  {
   "cell_type": "markdown",
   "metadata": {},
   "source": [
    "### Removing non-ascii character"
   ]
  },
  {
   "cell_type": "code",
   "execution_count": 5,
   "metadata": {},
   "outputs": [],
   "source": [
    "\n",
    "def pre(row):\n",
    "    row = re.sub(r'[^\\x00-\\x7F]+','',str(row))\n",
    "    return row\n",
    "\n",
    "data['title'] = data['title'].apply(pre)"
   ]
  },
  {
   "cell_type": "code",
   "execution_count": 6,
   "metadata": {},
   "outputs": [
    {
     "data": {
      "text/plain": [
       "0           Pot entrepreneurs target Asian money at Hong Kong investor forum - BNN Bloomberg\n",
       "1                                       Distributed Dialogues: Political Censorship in China\n",
       "2                              Sojourn (SOJ) Price Tops $0.23 on Exchanges - Daily Political\n",
       "3       Happy birthday, bitcoin!: 10 years on, valuation is still a question - BNN Bloomberg\n",
       "4                    Coinbase valued at $8 billion in latest fundraising round | News | WIBQ\n",
       "                                                ...                                         \n",
       "1767                                                         PayCon Price Tops $0.0012 (CON)\n",
       "1768       ShipChain (SHIP) Price Reaches $0.0080 on Major Exchanges - Dakota Financial News\n",
       "1769                                                         Arcblock (ABT) Price Tops $0.18\n",
       "1770                                            1World (1WO) Tops 1-Day Volume of $44,312.00\n",
       "1771           IQ.cash Price Reaches $0.0541 on Major Exchanges (IQ) - Dakota Financial News\n",
       "Name: title, Length: 1772, dtype: object"
      ]
     },
     "execution_count": 6,
     "metadata": {},
     "output_type": "execute_result"
    }
   ],
   "source": [
    "data['title']"
   ]
  },
  {
   "cell_type": "code",
   "execution_count": 6,
   "metadata": {},
   "outputs": [
    {
     "data": {
      "text/html": [
       "<div>\n",
       "<style scoped>\n",
       "    .dataframe tbody tr th:only-of-type {\n",
       "        vertical-align: middle;\n",
       "    }\n",
       "\n",
       "    .dataframe tbody tr th {\n",
       "        vertical-align: top;\n",
       "    }\n",
       "\n",
       "    .dataframe thead th {\n",
       "        text-align: right;\n",
       "    }\n",
       "</style>\n",
       "<table border=\"1\" class=\"dataframe\">\n",
       "  <thead>\n",
       "    <tr style=\"text-align: right;\">\n",
       "      <th></th>\n",
       "      <th>Label (-2 to 2)</th>\n",
       "      <th>title</th>\n",
       "    </tr>\n",
       "  </thead>\n",
       "  <tbody>\n",
       "    <tr>\n",
       "      <th>0</th>\n",
       "      <td>0.0</td>\n",
       "      <td>Pot entrepreneurs target Asian money at Hong Kong investor forum - BNN Bloomberg</td>\n",
       "    </tr>\n",
       "    <tr>\n",
       "      <th>1</th>\n",
       "      <td>0.0</td>\n",
       "      <td>Distributed Dialogues: Political Censorship in China</td>\n",
       "    </tr>\n",
       "    <tr>\n",
       "      <th>2</th>\n",
       "      <td>0.0</td>\n",
       "      <td>Sojourn (SOJ) Price Tops $0.23 on Exchanges - Daily Political</td>\n",
       "    </tr>\n",
       "    <tr>\n",
       "      <th>3</th>\n",
       "      <td>1.0</td>\n",
       "      <td>Happy birthday, bitcoin!: 10 years on, valuation is still a question - BNN Bloomberg</td>\n",
       "    </tr>\n",
       "    <tr>\n",
       "      <th>4</th>\n",
       "      <td>1.0</td>\n",
       "      <td>Coinbase valued at $8 billion in latest fundraising round | News | WIBQ</td>\n",
       "    </tr>\n",
       "    <tr>\n",
       "      <th>...</th>\n",
       "      <td>...</td>\n",
       "      <td>...</td>\n",
       "    </tr>\n",
       "    <tr>\n",
       "      <th>45</th>\n",
       "      <td>-1.0</td>\n",
       "      <td>Former Fed Chair Janet Yellen Is 'Not A Fan' of Bitcoin - CoinDesk</td>\n",
       "    </tr>\n",
       "    <tr>\n",
       "      <th>46</th>\n",
       "      <td>0.0</td>\n",
       "      <td>Loopring Reaches Market Cap of $85.49 Million (LRC) - Daily Political</td>\n",
       "    </tr>\n",
       "    <tr>\n",
       "      <th>47</th>\n",
       "      <td>0.0</td>\n",
       "      <td>Tesla's Elon Musk adds another $10 million to personal Tesla stake - MarketWatch</td>\n",
       "    </tr>\n",
       "    <tr>\n",
       "      <th>48</th>\n",
       "      <td>1.0</td>\n",
       "      <td>What is this Initiative Q thing? | Lismore Echo</td>\n",
       "    </tr>\n",
       "    <tr>\n",
       "      <th>49</th>\n",
       "      <td>0.0</td>\n",
       "      <td>Nebula AI (NBAI) Price Down 12.9% Over Last Week - Daily Political</td>\n",
       "    </tr>\n",
       "  </tbody>\n",
       "</table>\n",
       "<p>50 rows × 2 columns</p>\n",
       "</div>"
      ],
      "text/plain": [
       "    Label (-2 to 2)  \\\n",
       "0               0.0   \n",
       "1               0.0   \n",
       "2               0.0   \n",
       "3               1.0   \n",
       "4               1.0   \n",
       "..              ...   \n",
       "45             -1.0   \n",
       "46              0.0   \n",
       "47              0.0   \n",
       "48              1.0   \n",
       "49              0.0   \n",
       "\n",
       "                                                                                   title  \n",
       "0       Pot entrepreneurs target Asian money at Hong Kong investor forum - BNN Bloomberg  \n",
       "1                                   Distributed Dialogues: Political Censorship in China  \n",
       "2                          Sojourn (SOJ) Price Tops $0.23 on Exchanges - Daily Political  \n",
       "3   Happy birthday, bitcoin!: 10 years on, valuation is still a question - BNN Bloomberg  \n",
       "4                Coinbase valued at $8 billion in latest fundraising round | News | WIBQ  \n",
       "..                                                                                   ...  \n",
       "45                    Former Fed Chair Janet Yellen Is 'Not A Fan' of Bitcoin - CoinDesk  \n",
       "46                 Loopring Reaches Market Cap of $85.49 Million (LRC) - Daily Political  \n",
       "47      Tesla's Elon Musk adds another $10 million to personal Tesla stake - MarketWatch  \n",
       "48                                       What is this Initiative Q thing? | Lismore Echo  \n",
       "49                    Nebula AI (NBAI) Price Down 12.9% Over Last Week - Daily Political  \n",
       "\n",
       "[50 rows x 2 columns]"
      ]
     },
     "execution_count": 6,
     "metadata": {},
     "output_type": "execute_result"
    }
   ],
   "source": [
    "data = data[['Label (-2 to 2)', 'title']]\n",
    "data.head(50)"
   ]
  },
  {
   "cell_type": "code",
   "execution_count": 7,
   "metadata": {},
   "outputs": [],
   "source": [
    "# getting only labelled data\n",
    "data = data.head(750)"
   ]
  },
  {
   "cell_type": "markdown",
   "metadata": {},
   "source": [
    "### Data exploration"
   ]
  },
  {
   "cell_type": "code",
   "execution_count": 8,
   "metadata": {},
   "outputs": [
    {
     "data": {
      "text/plain": [
       "<matplotlib.axes._subplots.AxesSubplot at 0x28985e5e7b8>"
      ]
     },
     "execution_count": 8,
     "metadata": {},
     "output_type": "execute_result"
    },
    {
     "data": {
      "image/png": "[encoded data removed]",
      "text/plain": [
       "<Figure size 432x288 with 1 Axes>"
      ]
     },
     "metadata": {
      "needs_background": "light"
     },
     "output_type": "display_data"
    }
   ],
   "source": [
    "data['Label (-2 to 2)'].value_counts().sort_index().plot.bar()"
   ]
  },
  {
   "cell_type": "code",
   "execution_count": 9,
   "metadata": {},
   "outputs": [
    {
     "data": {
      "text/plain": [
       "<matplotlib.axes._subplots.AxesSubplot at 0x28985f26cf8>"
      ]
     },
     "execution_count": 9,
     "metadata": {},
     "output_type": "execute_result"
    },
    {
     "data": {
      "image/png": "[encoded data removed]",
      "text/plain": [
       "<Figure size 432x288 with 1 Axes>"
      ]
     },
     "metadata": {
      "needs_background": "light"
     },
     "output_type": "display_data"
    }
   ],
   "source": [
    "data['title'].str.len().plot.hist()"
   ]
  },
  {
   "cell_type": "code",
   "execution_count": 10,
   "metadata": {},
   "outputs": [
    {
     "data": {
      "text/plain": [
       "(750, 17)"
      ]
     },
     "execution_count": 10,
     "metadata": {},
     "output_type": "execute_result"
    }
   ],
   "source": [
    "data.shape"
   ]
  },
  {
   "cell_type": "markdown",
   "metadata": {},
   "source": [
    "### Preprocessing"
   ]
  },
  {
   "cell_type": "code",
   "execution_count": 11,
   "metadata": {},
   "outputs": [
    {
     "data": {
      "text/plain": [
       "Unnamed: 0      0\n",
       "Sr              0\n",
       "author        128\n",
       "timestamp       6\n",
       "title           0\n",
       "             ... \n",
       "preprocess      4\n",
       "stem            6\n",
       "lem             6\n",
       "cap             6\n",
       "UnixTime        6\n",
       "Length: 17, dtype: int64"
      ]
     },
     "execution_count": 11,
     "metadata": {},
     "output_type": "execute_result"
    }
   ],
   "source": [
    "data.isnull().sum()"
   ]
  },
  {
   "cell_type": "code",
   "execution_count": 12,
   "metadata": {},
   "outputs": [
    {
     "data": {
      "text/plain": [
       "Unnamed: 0      0\n",
       "Sr              0\n",
       "author        125\n",
       "timestamp       3\n",
       "title           0\n",
       "             ... \n",
       "preprocess      3\n",
       "stem            3\n",
       "lem             3\n",
       "cap             3\n",
       "UnixTime        3\n",
       "Length: 17, dtype: int64"
      ]
     },
     "execution_count": 12,
     "metadata": {},
     "output_type": "execute_result"
    }
   ],
   "source": [
    "data.dropna(subset=['Label (-2 to 2)'], inplace=True)\n",
    "data.isnull().sum()"
   ]
  },
  {
   "cell_type": "markdown",
   "metadata": {},
   "source": [
    "data['text'] = data['text'].str.replace('@VirginAmerica', '')\n",
    "data.head()"
   ]
  },
  {
   "cell_type": "code",
   "execution_count": 13,
   "metadata": {},
   "outputs": [
    {
     "data": {
      "text/plain": [
       "0    Pot entrepreneurs target Asian money at Hong Kong investor forum  BNN Bloomberg\n",
       "1                                Distributed Dialogues Political Censorship in China\n",
       "2                           Sojourn SOJ Price Tops 023 on Exchanges  Daily Political\n",
       "3    Happy birthday bitcoin 10 years on valuation is still a question  BNN Bloomberg\n",
       "4               Coinbase valued at 8 billion in latest fundraising round  News  WIBQ\n",
       "Name: title, dtype: object"
      ]
     },
     "execution_count": 13,
     "metadata": {},
     "output_type": "execute_result"
    }
   ],
   "source": [
    "data['title'].apply(lambda x: x.lower()) #transform text to lowercase\n",
    "data['title'] = data['title'].apply(lambda x: re.sub('[^a-zA-z0-9\\s]', '', x))\n",
    "data['title'].head()"
   ]
  },
  {
   "cell_type": "markdown",
   "metadata": {},
   "source": [
    "Tokenizer from keras - \n",
    "maximum no. of rows = 5000\n",
    "pad sequence = sentences of same length\n"
   ]
  },
  {
   "cell_type": "code",
   "execution_count": 15,
   "metadata": {},
   "outputs": [
    {
     "data": {
      "text/plain": [
       "array([[  0,   0,   0,   0,   0,   0,   0,   0,   0,   0,   0,   0,   0,\n",
       "          0,   0,   0,   0,   0,   0,   0,   0,   0,   0,   0,   0,   0,\n",
       "          0,   0,   0,   0,   0,   0,   0,   0,   0,   0,   0,   0,   0,\n",
       "          0,   0,   0,   0,   0,   0,   0,   0,   0,   0,   0,   0,   0,\n",
       "          0,   0,   0,   0,   0,   0,   0,   0,   0,   0,   0,   0,   0,\n",
       "          0,   0,   0,   0,   0,   0,   0,   0,   0,   0,   0,   0,   0,\n",
       "          0,   0,   0,   0,   0,   0,   0,   0,   0,   0,   0,   0,   0,\n",
       "          0,   0,   0,   0,   0,   0,   0,   0,   0,   0,   0,   0,   0,\n",
       "          0,   0,   0,   0,   0,   0,   0,   0,   0,   0,   0,   0,   0,\n",
       "          0,   0,   0,   0,   0,   0,   0,   0,   0,   0,   0,   0,   0,\n",
       "          0,   0,   0,   0,   0,   0,   0,   0,   0,   0,   0,   0,   0,\n",
       "          0,   0,   0,   0,   0,   0,   0,   0,   0,   0,   0,   0,   0,\n",
       "          0,   0,   0,   0,   0,   0,   0,   0,   0,   0,   0,   0,   0,\n",
       "          0,   0,   0,   0,   0,   0,   0,   0,   0,   0,   0,   0,   0,\n",
       "          0,   0,   0,   0,   0,   0, 174, 856, 857, 858, 210,  44, 389,\n",
       "        390, 859, 391, 109, 110],\n",
       "       [  0,   0,   0,   0,   0,   0,   0,   0,   0,   0,   0,   0,   0,\n",
       "          0,   0,   0,   0,   0,   0,   0,   0,   0,   0,   0,   0,   0,\n",
       "          0,   0,   0,   0,   0,   0,   0,   0,   0,   0,   0,   0,   0,\n",
       "          0,   0,   0,   0,   0,   0,   0,   0,   0,   0,   0,   0,   0,\n",
       "          0,   0,   0,   0,   0,   0,   0,   0,   0,   0,   0,   0,   0,\n",
       "          0,   0,   0,   0,   0,   0,   0,   0,   0,   0,   0,   0,   0,\n",
       "          0,   0,   0,   0,   0,   0,   0,   0,   0,   0,   0,   0,   0,\n",
       "          0,   0,   0,   0,   0,   0,   0,   0,   0,   0,   0,   0,   0,\n",
       "          0,   0,   0,   0,   0,   0,   0,   0,   0,   0,   0,   0,   0,\n",
       "          0,   0,   0,   0,   0,   0,   0,   0,   0,   0,   0,   0,   0,\n",
       "          0,   0,   0,   0,   0,   0,   0,   0,   0,   0,   0,   0,   0,\n",
       "          0,   0,   0,   0,   0,   0,   0,   0,   0,   0,   0,   0,   0,\n",
       "          0,   0,   0,   0,   0,   0,   0,   0,   0,   0,   0,   0,   0,\n",
       "          0,   0,   0,   0,   0,   0,   0,   0,   0,   0,   0,   0,   0,\n",
       "          0,   0,   0,   0,   0,   0,   0,   0,   0,   0,   0,   0, 392,\n",
       "        393,  35, 394,  22, 175],\n",
       "       [  0,   0,   0,   0,   0,   0,   0,   0,   0,   0,   0,   0,   0,\n",
       "          0,   0,   0,   0,   0,   0,   0,   0,   0,   0,   0,   0,   0,\n",
       "          0,   0,   0,   0,   0,   0,   0,   0,   0,   0,   0,   0,   0,\n",
       "          0,   0,   0,   0,   0,   0,   0,   0,   0,   0,   0,   0,   0,\n",
       "          0,   0,   0,   0,   0,   0,   0,   0,   0,   0,   0,   0,   0,\n",
       "          0,   0,   0,   0,   0,   0,   0,   0,   0,   0,   0,   0,   0,\n",
       "          0,   0,   0,   0,   0,   0,   0,   0,   0,   0,   0,   0,   0,\n",
       "          0,   0,   0,   0,   0,   0,   0,   0,   0,   0,   0,   0,   0,\n",
       "          0,   0,   0,   0,   0,   0,   0,   0,   0,   0,   0,   0,   0,\n",
       "          0,   0,   0,   0,   0,   0,   0,   0,   0,   0,   0,   0,   0,\n",
       "          0,   0,   0,   0,   0,   0,   0,   0,   0,   0,   0,   0,   0,\n",
       "          0,   0,   0,   0,   0,   0,   0,   0,   0,   0,   0,   0,   0,\n",
       "          0,   0,   0,   0,   0,   0,   0,   0,   0,   0,   0,   0,   0,\n",
       "          0,   0,   0,   0,   0,   0,   0,   0,   0,   0,   0,   0,   0,\n",
       "          0,   0,   0,   0,   0,   0,   0,   0,   0, 860, 861,   3,  13,\n",
       "        395,   8,  15,  27,  35],\n",
       "       [  0,   0,   0,   0,   0,   0,   0,   0,   0,   0,   0,   0,   0,\n",
       "          0,   0,   0,   0,   0,   0,   0,   0,   0,   0,   0,   0,   0,\n",
       "          0,   0,   0,   0,   0,   0,   0,   0,   0,   0,   0,   0,   0,\n",
       "          0,   0,   0,   0,   0,   0,   0,   0,   0,   0,   0,   0,   0,\n",
       "          0,   0,   0,   0,   0,   0,   0,   0,   0,   0,   0,   0,   0,\n",
       "          0,   0,   0,   0,   0,   0,   0,   0,   0,   0,   0,   0,   0,\n",
       "          0,   0,   0,   0,   0,   0,   0,   0,   0,   0,   0,   0,   0,\n",
       "          0,   0,   0,   0,   0,   0,   0,   0,   0,   0,   0,   0,   0,\n",
       "          0,   0,   0,   0,   0,   0,   0,   0,   0,   0,   0,   0,   0,\n",
       "          0,   0,   0,   0,   0,   0,   0,   0,   0,   0,   0,   0,   0,\n",
       "          0,   0,   0,   0,   0,   0,   0,   0,   0,   0,   0,   0,   0,\n",
       "          0,   0,   0,   0,   0,   0,   0,   0,   0,   0,   0,   0,   0,\n",
       "          0,   0,   0,   0,   0,   0,   0,   0,   0,   0,   0,   0,   0,\n",
       "          0,   0,   0,   0,   0,   0,   0,   0,   0,   0,   0,   0,   0,\n",
       "          0,   0,   0,   0,   0, 211, 120,   4,  72,  94,   8, 212,  26,\n",
       "        121,  31, 176, 109, 110],\n",
       "       [  0,   0,   0,   0,   0,   0,   0,   0,   0,   0,   0,   0,   0,\n",
       "          0,   0,   0,   0,   0,   0,   0,   0,   0,   0,   0,   0,   0,\n",
       "          0,   0,   0,   0,   0,   0,   0,   0,   0,   0,   0,   0,   0,\n",
       "          0,   0,   0,   0,   0,   0,   0,   0,   0,   0,   0,   0,   0,\n",
       "          0,   0,   0,   0,   0,   0,   0,   0,   0,   0,   0,   0,   0,\n",
       "          0,   0,   0,   0,   0,   0,   0,   0,   0,   0,   0,   0,   0,\n",
       "          0,   0,   0,   0,   0,   0,   0,   0,   0,   0,   0,   0,   0,\n",
       "          0,   0,   0,   0,   0,   0,   0,   0,   0,   0,   0,   0,   0,\n",
       "          0,   0,   0,   0,   0,   0,   0,   0,   0,   0,   0,   0,   0,\n",
       "          0,   0,   0,   0,   0,   0,   0,   0,   0,   0,   0,   0,   0,\n",
       "          0,   0,   0,   0,   0,   0,   0,   0,   0,   0,   0,   0,   0,\n",
       "          0,   0,   0,   0,   0,   0,   0,   0,   0,   0,   0,   0,   0,\n",
       "          0,   0,   0,   0,   0,   0,   0,   0,   0,   0,   0,   0,   0,\n",
       "          0,   0,   0,   0,   0,   0,   0,   0,   0,   0,   0,   0,   0,\n",
       "          0,   0,   0,   0,   0,   0,   0,  55,  82,  44,  76,  61,  22,\n",
       "         97,  98,  83,   1, 396]])"
      ]
     },
     "execution_count": 15,
     "metadata": {},
     "output_type": "execute_result"
    }
   ],
   "source": [
    "tokenizer = Tokenizer(num_words=5000, split=\" \")\n",
    "tokenizer.fit_on_texts(data['title'].values)\n",
    "\n",
    "X = tokenizer.texts_to_sequences(data['title'].values)\n",
    "X = pad_sequences(X, maxlen = 200) # padding our text vector so they all have the same length\n",
    "X[:5]"
   ]
  },
  {
   "cell_type": "code",
   "execution_count": 16,
   "metadata": {},
   "outputs": [
    {
     "name": "stdout",
     "output_type": "stream",
     "text": [
      "200\n"
     ]
    }
   ],
   "source": [
    "print(X.shape[1])"
   ]
  },
  {
   "cell_type": "markdown",
   "metadata": {},
   "source": [
    "### Creating model"
   ]
  },
  {
   "cell_type": "markdown",
   "metadata": {},
   "source": [
    "squential model is simplest \n",
    "model.add adds new layers to network\n",
    "Dropout is used for regularization(decreasing overfitting)\n",
    "256 - no. of units in each layer\n",
    "Dense connection - every neuron of 1 layer connected to every other neuron of next layer"
   ]
  },
  {
   "cell_type": "code",
   "execution_count": 17,
   "metadata": {},
   "outputs": [],
   "source": [
    "model = Sequential()\n",
    "model.add(Embedding(5000, 256, input_length=X.shape[1]))\n",
    "model.add(Dropout(0.3))\n",
    "model.add(LSTM(256, return_sequences=True, dropout=0.3, recurrent_dropout=0.2))\n",
    "model.add(LSTM(256, dropout=0.3, recurrent_dropout=0.2))\n",
    "model.add(Dense(5, activation='softmax'))"
   ]
  },
  {
   "cell_type": "markdown",
   "metadata": {},
   "source": [
    "compiling - takes sets 2 things \n",
    "For adam it is 0.001, reach up to 85% accuracy in 5 epochs\n",
    "1. optimizer - learning rate\n",
    "2. loss function - log function"
   ]
  },
  {
   "cell_type": "code",
   "execution_count": 18,
   "metadata": {},
   "outputs": [
    {
     "name": "stdout",
     "output_type": "stream",
     "text": [
      "_________________________________________________________________\n",
      "Layer (type)                 Output Shape              Param #   \n",
      "=================================================================\n",
      "embedding_1 (Embedding)      (None, 200, 256)          1280000   \n",
      "_________________________________________________________________\n",
      "dropout_1 (Dropout)          (None, 200, 256)          0         \n",
      "_________________________________________________________________\n",
      "lstm_1 (LSTM)                (None, 200, 256)          525312    \n",
      "_________________________________________________________________\n",
      "lstm_2 (LSTM)                (None, 256)               525312    \n",
      "_________________________________________________________________\n",
      "dense_1 (Dense)              (None, 5)                 1285      \n",
      "=================================================================\n",
      "Total params: 2,331,909\n",
      "Trainable params: 2,331,909\n",
      "Non-trainable params: 0\n",
      "_________________________________________________________________\n"
     ]
    }
   ],
   "source": [
    "model.compile(loss='categorical_crossentropy', optimizer='adam', metrics=['accuracy'])\n",
    "model.summary()"
   ]
  },
  {
   "cell_type": "markdown",
   "metadata": {},
   "source": []
  },
  {
   "cell_type": "code",
   "execution_count": 19,
   "metadata": {},
   "outputs": [
    {
     "name": "stdout",
     "output_type": "stream",
     "text": [
      "[[0 0 1 0 0]\n",
      " [0 0 1 0 0]\n",
      " [0 0 1 0 0]\n",
      " ...\n",
      " [0 0 0 1 0]\n",
      " [0 0 1 0 0]\n",
      " [0 0 1 0 0]]\n",
      "0      0.0\n",
      "1      0.0\n",
      "2      0.0\n",
      "3      1.0\n",
      "4      1.0\n",
      "      ... \n",
      "745    1.0\n",
      "746   -1.0\n",
      "747    1.0\n",
      "748    0.0\n",
      "749    0.0\n",
      "Name: Label (-2 to 2), Length: 743, dtype: float64\n"
     ]
    }
   ],
   "source": [
    "y = pd.get_dummies(data['Label (-2 to 2)']).values\n",
    "print(y)\n",
    "print(data['Label (-2 to 2)'])\n",
    "# [print(data['label (-2 to 2)'][i], y[i]) for i in range(0,5)]"
   ]
  },
  {
   "cell_type": "markdown",
   "metadata": {},
   "source": [
    "training - 80%\n",
    "testing - 20%"
   ]
  },
  {
   "cell_type": "code",
   "execution_count": 21,
   "metadata": {},
   "outputs": [],
   "source": [
    "X_train, X_test, y_train, y_test = train_test_split(X, y, test_size=0.25, random_state=0)"
   ]
  },
  {
   "cell_type": "code",
   "execution_count": 22,
   "metadata": {},
   "outputs": [
    {
     "name": "stdout",
     "output_type": "stream",
     "text": [
      "(743, 200)\n",
      "(743, 5)\n"
     ]
    }
   ],
   "source": [
    "print(X.shape)\n",
    "print(y.shape)"
   ]
  },
  {
   "cell_type": "code",
   "execution_count": 23,
   "metadata": {},
   "outputs": [
    {
     "data": {
      "text/plain": [
       "(186, 200)"
      ]
     },
     "execution_count": 23,
     "metadata": {},
     "output_type": "execute_result"
    }
   ],
   "source": [
    "X_test.shape"
   ]
  },
  {
   "cell_type": "markdown",
   "metadata": {},
   "source": [
    "### Training model"
   ]
  },
  {
   "cell_type": "markdown",
   "metadata": {},
   "source": [
    "Can include\n",
    "#set early stopping monitor so the model stops training when it won't improve anymore\n",
    "early_stopping_monitor = EarlyStopping(patience=3)"
   ]
  },
  {
   "cell_type": "code",
   "execution_count": 24,
   "metadata": {},
   "outputs": [
    {
     "name": "stdout",
     "output_type": "stream",
     "text": [
      "Epoch 1/6\n",
      " - 65s - loss: 1.1005 - acc: 0.7038\n",
      "Epoch 2/6\n",
      " - 70s - loss: 0.8198 - acc: 0.7235\n",
      "Epoch 3/6\n",
      " - 70s - loss: 0.6205 - acc: 0.7576\n",
      "Epoch 4/6\n",
      " - 72s - loss: 0.5085 - acc: 0.7935\n",
      "Epoch 5/6\n",
      " - 71s - loss: 0.4563 - acc: 0.8079\n",
      "Epoch 6/6\n",
      " - 70s - loss: 0.4148 - acc: 0.8474\n"
     ]
    },
    {
     "data": {
      "text/plain": [
       "<keras.callbacks.History at 0x28986be8f60>"
      ]
     },
     "execution_count": 24,
     "metadata": {},
     "output_type": "execute_result"
    }
   ],
   "source": [
    "batch_size = 32\n",
    "epochs = 6\n",
    "\n",
    "model.fit(X_train, y_train, epochs=epochs, batch_size=batch_size, verbose=2)"
   ]
  },
  {
   "cell_type": "markdown",
   "metadata": {},
   "source": [
    "Saving modelling using Pickle"
   ]
  },
  {
   "cell_type": "code",
   "execution_count": 26,
   "metadata": {},
   "outputs": [],
   "source": [
    "with open('model_News_200', 'wb') as f: \n",
    "    pickle.dump(model, f)\n"
   ]
  },
  {
   "cell_type": "code",
   "execution_count": 23,
   "metadata": {},
   "outputs": [],
   "source": [
    "with open('model_News', 'rb') as f:\n",
    "    mp = pickle.load(f)"
   ]
  },
  {
   "cell_type": "markdown",
   "metadata": {},
   "source": [
    "### Testing model"
   ]
  },
  {
   "cell_type": "code",
   "execution_count": 24,
   "metadata": {},
   "outputs": [],
   "source": [
    "predictions = mp.predict(X_test)\n",
    "\n",
    "\n",
    "# [print(data['step1'][i], predictions[i], y_test[i]) for i in range(0, 5)]"
   ]
  },
  {
   "cell_type": "code",
   "execution_count": 25,
   "metadata": {},
   "outputs": [
    {
     "name": "stdout",
     "output_type": "stream",
     "text": [
      "Very_Positive predictions: 0\n",
      "Positive predictions: 0\n",
      "Neutral predictions: 120\n",
      "Negative predictions: 29\n",
      "Very_Negative predictions: 0\n",
      "\n",
      "Real very_positive: 5\n",
      "Real positive: 14\n",
      "Real neutral: 115\n",
      "Real negative: 12\n",
      "Real very_negative: 3\n"
     ]
    }
   ],
   "source": [
    "vpos_count, pos_count, neu_count, neg_count, vneg_count = 0, 0, 0, 0, 0 \n",
    "real_vpos, real_pos, real_neu, real_neg, real_vneg = 0, 0, 0, 0, 0\n",
    "for i, prediction in enumerate(predictions):\n",
    "    \n",
    "    if np.argmax(prediction) == 0:\n",
    "        vpos_count += 1\n",
    "    elif np.argmax(prediction) == 1:\n",
    "        pos_count += 1\n",
    "    elif np.argmax(prediction) == 2:\n",
    "        neu_count += 1\n",
    "    elif np.argmax(prediction) == 3:\n",
    "        neg_count += 1\n",
    "    else:\n",
    "        vneg_count += 1\n",
    "        \n",
    "        \n",
    "    \n",
    "    if np.argmax(y_test[i]) == 0:\n",
    "        real_vpos += 1\n",
    "    elif np.argmax(y_test[i]) == 1:    \n",
    "        real_pos += 1\n",
    "    elif np.argmax(y_test[i]) == 2:    \n",
    "        real_neu += 1\n",
    "    elif np.argmax(y_test[i]) == 3:    \n",
    "        real_neg += 1\n",
    "    else:\n",
    "        real_vneg +=1\n",
    "\n",
    "print('Very_Positive predictions:', vpos_count)\n",
    "print('Positive predictions:', pos_count)\n",
    "print('Neutral predictions:', neu_count)\n",
    "print('Negative predictions:', neg_count)\n",
    "print('Very_Negative predictions:', vneg_count)\n",
    "\n",
    "print()\n",
    "print('Real very_positive:', real_vpos)\n",
    "print('Real positive:', real_pos)\n",
    "print('Real neutral:', real_neu)\n",
    "print('Real negative:', real_neg)\n",
    "print('Real very_negative:', real_vneg)"
   ]
  },
  {
   "cell_type": "markdown",
   "metadata": {},
   "source": [
    "Total Wrong Predictions"
   ]
  },
  {
   "cell_type": "code",
   "execution_count": 26,
   "metadata": {},
   "outputs": [
    {
     "name": "stdout",
     "output_type": "stream",
     "text": [
      "44\n"
     ]
    }
   ],
   "source": [
    "sum = abs(vpos_count - real_vpos)\n",
    "sum += abs(pos_count - real_pos)\n",
    "sum += abs(neu_count - real_neu)\n",
    "sum += abs(neg_count - real_neg)\n",
    "sum += abs(vneg_count - real_vneg)\n",
    "print(sum)"
   ]
  },
  {
   "cell_type": "markdown",
   "metadata": {},
   "source": [
    "Total Error"
   ]
  },
  {
   "cell_type": "code",
   "execution_count": 27,
   "metadata": {},
   "outputs": [
    {
     "name": "stdout",
     "output_type": "stream",
     "text": [
      "29.53020134228188\n"
     ]
    }
   ],
   "source": [
    "print(sum/len(X_test)*100)"
   ]
  }
 ],
 "metadata": {
  "kernelspec": {
   "display_name": "Python 3",
   "language": "python",
   "name": "python3"
  },
  "language_info": {
   "codemirror_mode": {
    "name": "ipython",
    "version": 3
   },
   "file_extension": ".py",
   "mimetype": "text/x-python",
   "name": "python",
   "nbconvert_exporter": "python",
   "pygments_lexer": "ipython3",
   "version": "3.6.4"
  }
 },
 "nbformat": 4,
 "nbformat_minor": 2
}
