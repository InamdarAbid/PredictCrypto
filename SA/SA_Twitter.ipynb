{
 "cells": [
  {
   "cell_type": "markdown",
   "metadata": {},
   "source": [
    "### Imports"
   ]
  },
  {
   "cell_type": "code",
   "execution_count": 2,
   "metadata": {},
   "outputs": [
    {
     "name": "stderr",
     "output_type": "stream",
     "text": [
      "Using TensorFlow backend.\n"
     ]
    }
   ],
   "source": [
    "import re\n",
    "import numpy as np\n",
    "import pandas as pd\n",
    "from sklearn.model_selection import train_test_split\n",
    "import matplotlib.pyplot as plt\n",
    "\n",
    "from keras.models import Sequential, load_model\n",
    "from keras.layers import Dense, LSTM, Embedding, Dropout\n",
    "from keras.preprocessing.text import Tokenizer\n",
    "from keras.preprocessing.sequence import pad_sequences\n",
    "import pickle"
   ]
  },
  {
   "cell_type": "code",
   "execution_count": 3,
   "metadata": {},
   "outputs": [],
   "source": [
    "# setting some options of pandas\n",
    "\n",
    "pd.set_option('display.max_colwidth', 260)\n",
    "pd.set_option('display.max_rows', 50)"
   ]
  },
  {
   "cell_type": "markdown",
   "metadata": {},
   "source": [
    "### Loading in Dataset"
   ]
  },
  {
   "cell_type": "code",
   "execution_count": 5,
   "metadata": {},
   "outputs": [
    {
     "name": "stdout",
     "output_type": "stream",
     "text": [
      "(658, 10)\n"
     ]
    },
    {
     "data": {
      "text/html": [
       "<div>\n",
       "<style scoped>\n",
       "    .dataframe tbody tr th:only-of-type {\n",
       "        vertical-align: middle;\n",
       "    }\n",
       "\n",
       "    .dataframe tbody tr th {\n",
       "        vertical-align: top;\n",
       "    }\n",
       "\n",
       "    .dataframe thead th {\n",
       "        text-align: right;\n",
       "    }\n",
       "</style>\n",
       "<table border=\"1\" class=\"dataframe\">\n",
       "  <thead>\n",
       "    <tr style=\"text-align: right;\">\n",
       "      <th></th>\n",
       "      <th>Sr</th>\n",
       "      <th>user</th>\n",
       "      <th>timestamp</th>\n",
       "      <th>likes</th>\n",
       "      <th>replies</th>\n",
       "      <th>retweets</th>\n",
       "      <th>Label (-2 to 2)</th>\n",
       "      <th>text</th>\n",
       "      <th>UnixTime</th>\n",
       "      <th>step1</th>\n",
       "    </tr>\n",
       "  </thead>\n",
       "  <tbody>\n",
       "    <tr>\n",
       "      <th>0</th>\n",
       "      <td>1</td>\n",
       "      <td>cryptoquotation</td>\n",
       "      <td>30-10-18 23:57</td>\n",
       "      <td>109</td>\n",
       "      <td>1</td>\n",
       "      <td>30</td>\n",
       "      <td>0</td>\n",
       "      <td>#bitcoin  pic.twitter.com/gvUOtofTwH</td>\n",
       "      <td>1540943820</td>\n",
       "      <td>bitcoin pic twitter com gvUOtofTwH</td>\n",
       "    </tr>\n",
       "    <tr>\n",
       "      <th>1</th>\n",
       "      <td>3</td>\n",
       "      <td>BlockchainPC</td>\n",
       "      <td>30-10-18 23:56</td>\n",
       "      <td>4</td>\n",
       "      <td>1</td>\n",
       "      <td>1</td>\n",
       "      <td>0</td>\n",
       "      <td>Goldman Sachs One Step Closer Trading Bitcoin\\r\\r\\r\\n\\r\\r\\r\\nhttp://ccn.com/goldman-sachs-is-signing-up-customers-for-its-bitcoin-trading-product-report/Â â¦\\r\\r\\r\\n\\r\\r\\r\\n#bitcoin #btc #btcturk #cryptocurrency #Crypto #Ethereum #eth #alts #ALTSEASON #bl...</td>\n",
       "      <td>1540943760</td>\n",
       "      <td>Goldman Sachs One Step Closer Trading Bitcoin   sachs is signing up customers for its bitcoin trading product report        bitcoin  btc  btcturk  cryptocurrency  Crypto  Ethereum  eth  alts  ALTSEASON  blockchain  fintech  WealthManagement   twitter com Q...</td>\n",
       "    </tr>\n",
       "    <tr>\n",
       "      <th>2</th>\n",
       "      <td>5</td>\n",
       "      <td>pjf</td>\n",
       "      <td>30-10-18 23:54</td>\n",
       "      <td>29</td>\n",
       "      <td>3</td>\n",
       "      <td>15</td>\n",
       "      <td>0</td>\n",
       "      <td>Sources:\\r\\r\\r\\n\\r\\r\\r\\n\\r\\r\\r\\n\\r\\r\\r\\n- Bitcoin energy consumption and comparisons: https://digiconomist.net/bitcoin-energy-consumptionÂ â¦\\r\\r\\r\\n\\r\\r\\r\\n\\r\\r\\r\\n\\r\\r\\r\\n- New Zealand energy consumption: https://ycharts.com/indicators/new_zealand_elect...</td>\n",
       "      <td>1540943640</td>\n",
       "      <td>Sources    Bitcoin energy consumption comparisons    energy consumption        New Zealand energy consumption    zealand electricity generation        There s     countries world     many countries are there in the world           bitcoin country  would ra...</td>\n",
       "    </tr>\n",
       "    <tr>\n",
       "      <th>3</th>\n",
       "      <td>8</td>\n",
       "      <td>pjf</td>\n",
       "      <td>30-10-18 23:52</td>\n",
       "      <td>512</td>\n",
       "      <td>15</td>\n",
       "      <td>439</td>\n",
       "      <td>-1</td>\n",
       "      <td>At the end of January, bitcoin mining consumed electricity at the rate of 46TWh/yr, more than the ENTIRE country of New Zealand.\\r\\r\\r\\n\\r\\r\\r\\n\\r\\r\\r\\n\\r\\r\\r\\nIt's now 73TWh/yr; on par with the whole of Austria.\\r\\r\\r\\n\\r\\r\\r\\n\\r\\r\\r\\n\\r\\r\\r\\n80% of the w...</td>\n",
       "      <td>1540943520</td>\n",
       "      <td>At end January  bitcoin mining consumed electricity rate   TWh yr  ENTIRE country New Zealand  It s   TWh yr  par whole Austria      world s countries use less electricity bitcoin</td>\n",
       "    </tr>\n",
       "    <tr>\n",
       "      <th>4</th>\n",
       "      <td>9</td>\n",
       "      <td>crypto_iwad</td>\n",
       "      <td>30-10-18 23:52</td>\n",
       "      <td>24</td>\n",
       "      <td>3</td>\n",
       "      <td>7</td>\n",
       "      <td>1</td>\n",
       "      <td>You must have heard the debate about whether Bitcoin is suitable for coffee money or something else. Come to #scalingblockchain at SF on Nov 12 to see Crypto payments working for paying for coffee. Tickets - http://scalingblockchain.usÂ   Thanks @SecryptoL...</td>\n",
       "      <td>1540943520</td>\n",
       "      <td>You must heard debate whether Bitcoin suitable coffee money something else  Come  scalingblockchain SF Nov    see Crypto payments working paying coffee  Tickets      Thanks   Nathan</td>\n",
       "    </tr>\n",
       "  </tbody>\n",
       "</table>\n",
       "</div>"
      ],
      "text/plain": [
       "   Sr             user       timestamp  likes  replies  retweets  \\\n",
       "0   1  cryptoquotation  30-10-18 23:57    109        1        30   \n",
       "1   3     BlockchainPC  30-10-18 23:56      4        1         1   \n",
       "2   5              pjf  30-10-18 23:54     29        3        15   \n",
       "3   8              pjf  30-10-18 23:52    512       15       439   \n",
       "4   9      crypto_iwad  30-10-18 23:52     24        3         7   \n",
       "\n",
       "   Label (-2 to 2)  \\\n",
       "0                0   \n",
       "1                0   \n",
       "2                0   \n",
       "3               -1   \n",
       "4                1   \n",
       "\n",
       "                                                                                                                                                                                                                                                                  text  \\\n",
       "0                                                                                                                                                                                                                                 #bitcoin  pic.twitter.com/gvUOtofTwH   \n",
       "1  Goldman Sachs One Step Closer Trading Bitcoin\\r\\r\\r\\n\\r\\r\\r\\nhttp://ccn.com/goldman-sachs-is-signing-up-customers-for-its-bitcoin-trading-product-report/Â â¦\\r\\r\\r\\n\\r\\r\\r\\n#bitcoin #btc #btcturk #cryptocurrency #Crypto #Ethereum #eth #alts #ALTSEASON #bl...   \n",
       "2  Sources:\\r\\r\\r\\n\\r\\r\\r\\n\\r\\r\\r\\n\\r\\r\\r\\n- Bitcoin energy consumption and comparisons: https://digiconomist.net/bitcoin-energy-consumptionÂ â¦\\r\\r\\r\\n\\r\\r\\r\\n\\r\\r\\r\\n\\r\\r\\r\\n- New Zealand energy consumption: https://ycharts.com/indicators/new_zealand_elect...   \n",
       "3  At the end of January, bitcoin mining consumed electricity at the rate of 46TWh/yr, more than the ENTIRE country of New Zealand.\\r\\r\\r\\n\\r\\r\\r\\n\\r\\r\\r\\n\\r\\r\\r\\nIt's now 73TWh/yr; on par with the whole of Austria.\\r\\r\\r\\n\\r\\r\\r\\n\\r\\r\\r\\n\\r\\r\\r\\n80% of the w...   \n",
       "4  You must have heard the debate about whether Bitcoin is suitable for coffee money or something else. Come to #scalingblockchain at SF on Nov 12 to see Crypto payments working for paying for coffee. Tickets - http://scalingblockchain.usÂ   Thanks @SecryptoL...   \n",
       "\n",
       "     UnixTime  \\\n",
       "0  1540943820   \n",
       "1  1540943760   \n",
       "2  1540943640   \n",
       "3  1540943520   \n",
       "4  1540943520   \n",
       "\n",
       "                                                                                                                                                                                                                                                                 step1  \n",
       "0                                                                                                                                                                                                                                   bitcoin pic twitter com gvUOtofTwH  \n",
       "1  Goldman Sachs One Step Closer Trading Bitcoin   sachs is signing up customers for its bitcoin trading product report        bitcoin  btc  btcturk  cryptocurrency  Crypto  Ethereum  eth  alts  ALTSEASON  blockchain  fintech  WealthManagement   twitter com Q...  \n",
       "2  Sources    Bitcoin energy consumption comparisons    energy consumption        New Zealand energy consumption    zealand electricity generation        There s     countries world     many countries are there in the world           bitcoin country  would ra...  \n",
       "3                                                                                 At end January  bitcoin mining consumed electricity rate   TWh yr  ENTIRE country New Zealand  It s   TWh yr  par whole Austria      world s countries use less electricity bitcoin   \n",
       "4                                                                              You must heard debate whether Bitcoin suitable coffee money something else  Come  scalingblockchain SF Nov    see Crypto payments working paying coffee  Tickets      Thanks   Nathan    "
      ]
     },
     "execution_count": 5,
     "metadata": {},
     "output_type": "execute_result"
    }
   ],
   "source": [
    "data = pd.read_csv('../Data_json_csv/Twitter/LP_Unix_30_oct_twitter.csv')\n",
    "# data = data.sample(frac=1).reset_index(drop=True)\n",
    "print(data.shape)\n",
    "data.head()\n"
   ]
  },
  {
   "cell_type": "markdown",
   "metadata": {},
   "source": [
    "Removing all columns except the airline_sentiment and text column."
   ]
  },
  {
   "cell_type": "code",
   "execution_count": 6,
   "metadata": {},
   "outputs": [
    {
     "data": {
      "text/html": [
       "<div>\n",
       "<style scoped>\n",
       "    .dataframe tbody tr th:only-of-type {\n",
       "        vertical-align: middle;\n",
       "    }\n",
       "\n",
       "    .dataframe tbody tr th {\n",
       "        vertical-align: top;\n",
       "    }\n",
       "\n",
       "    .dataframe thead th {\n",
       "        text-align: right;\n",
       "    }\n",
       "</style>\n",
       "<table border=\"1\" class=\"dataframe\">\n",
       "  <thead>\n",
       "    <tr style=\"text-align: right;\">\n",
       "      <th></th>\n",
       "      <th>Label (-2 to 2)</th>\n",
       "      <th>step1</th>\n",
       "    </tr>\n",
       "  </thead>\n",
       "  <tbody>\n",
       "    <tr>\n",
       "      <th>0</th>\n",
       "      <td>0</td>\n",
       "      <td>bitcoin pic twitter com gvUOtofTwH</td>\n",
       "    </tr>\n",
       "    <tr>\n",
       "      <th>1</th>\n",
       "      <td>0</td>\n",
       "      <td>Goldman Sachs One Step Closer Trading Bitcoin   sachs is signing up customers for its bitcoin trading product report        bitcoin  btc  btcturk  cryptocurrency  Crypto  Ethereum  eth  alts  ALTSEASON  blockchain  fintech  WealthManagement   twitter com Q...</td>\n",
       "    </tr>\n",
       "    <tr>\n",
       "      <th>2</th>\n",
       "      <td>0</td>\n",
       "      <td>Sources    Bitcoin energy consumption comparisons    energy consumption        New Zealand energy consumption    zealand electricity generation        There s     countries world     many countries are there in the world           bitcoin country  would ra...</td>\n",
       "    </tr>\n",
       "    <tr>\n",
       "      <th>3</th>\n",
       "      <td>-1</td>\n",
       "      <td>At end January  bitcoin mining consumed electricity rate   TWh yr  ENTIRE country New Zealand  It s   TWh yr  par whole Austria      world s countries use less electricity bitcoin</td>\n",
       "    </tr>\n",
       "    <tr>\n",
       "      <th>4</th>\n",
       "      <td>1</td>\n",
       "      <td>You must heard debate whether Bitcoin suitable coffee money something else  Come  scalingblockchain SF Nov    see Crypto payments working paying coffee  Tickets      Thanks   Nathan</td>\n",
       "    </tr>\n",
       "    <tr>\n",
       "      <th>5</th>\n",
       "      <td>0</td>\n",
       "      <td>bcoin killing right now  Love see goes  I pitched similar idea client helps miners move similar POW chains back  Harder relevant bitcoin chain think lot use smaller  specialized networks</td>\n",
       "    </tr>\n",
       "    <tr>\n",
       "      <th>6</th>\n",
       "      <td>0</td>\n",
       "      <td>BTC       years ago  BTC started         Just little perspective  Utility  none  Adoption  none</td>\n",
       "    </tr>\n",
       "    <tr>\n",
       "      <th>7</th>\n",
       "      <td>0</td>\n",
       "      <td>What account tho  Some guy bought PayPal BTC refunded PayPa right I sent account pic twitter com   NwqjledB</td>\n",
       "    </tr>\n",
       "    <tr>\n",
       "      <th>8</th>\n",
       "      <td>-1</td>\n",
       "      <td>Twitter Sentiment  btc falling lower again  Expecting bounce  waiting setup trade  Always hunting highest R R trades  btc since volatility low  pic twitter com u QdiaHnJj</td>\n",
       "    </tr>\n",
       "    <tr>\n",
       "      <th>9</th>\n",
       "      <td>0</td>\n",
       "      <td>I see descending triangle  btc  changemymind would like buy next support           areapic twitter com DvBWg inGW</td>\n",
       "    </tr>\n",
       "    <tr>\n",
       "      <th>10</th>\n",
       "      <td>0</td>\n",
       "      <td>The technology  XRP  it   s like  Bitcoin      It   s Bitcoin  it   s faster  It   s Bitcoin  doesn   t use tons power  It   s Bitcoin  it   s controlled Chinese miners      Facts  XRPTheStandard  says xrp is bitcoin     calls on us regulators to create a...</td>\n",
       "    </tr>\n",
       "    <tr>\n",
       "      <th>11</th>\n",
       "      <td>0</td>\n",
       "      <td>No significant central bank this  If  Bitcoin comes along provides provably confidential addresses amounts  physical data transmission system developed uncensorable  maybe  The main counter party risk central banks state actors</td>\n",
       "    </tr>\n",
       "    <tr>\n",
       "      <th>12</th>\n",
       "      <td>0</td>\n",
       "      <td>Bitcoin    so hot pic twitter com CnnNb yn k</td>\n",
       "    </tr>\n",
       "    <tr>\n",
       "      <th>13</th>\n",
       "      <td>0</td>\n",
       "      <td>Follow everyone RETWEETS  Decorartehogar</td>\n",
       "    </tr>\n",
       "    <tr>\n",
       "      <th>14</th>\n",
       "      <td>0</td>\n",
       "      <td>We celebrating Halloween party discord server October   st  JOIN US get RAINS GIVEAWAYS                   coin  w c  btc  ttpc  omen  rock  shut  vapex  asafepic twitter com  MEV wiIbC</td>\n",
       "    </tr>\n",
       "    <tr>\n",
       "      <th>15</th>\n",
       "      <td>0</td>\n",
       "      <td>BTC non deliverable forward contracts                                        Goldman Sachs customers getting ready trade bitcoin derivative  rushing push products   The Block   sachs h...</td>\n",
       "    </tr>\n",
       "    <tr>\n",
       "      <th>16</th>\n",
       "      <td>0</td>\n",
       "      <td>More institutional interest  even absence SEC approved BTC ETF  provide discerning investment landscape  one could see value investing return larger projects TRON building potential throughout         trx price dip has little to do with adoption developmen...</td>\n",
       "    </tr>\n",
       "    <tr>\n",
       "      <th>17</th>\n",
       "      <td>0</td>\n",
       "      <td>BitcoinAt   sale tickets Digital Currency Con  NewOrleans Dec  rd    th      tomorrow night  Get tickets affordable  blockchain conference yr       bitcoin  crypto</td>\n",
       "    </tr>\n",
       "    <tr>\n",
       "      <th>18</th>\n",
       "      <td>1</td>\n",
       "      <td>Bitcoin                      increase XRP                     increase    But XRP supply like  billions  And market cap would be  like  trillions      xrppic twitter com zxSbbOwkA</td>\n",
       "    </tr>\n",
       "    <tr>\n",
       "      <th>19</th>\n",
       "      <td>0</td>\n",
       "      <td>Happy support  Tezos   Atomic Swap DEX   XTZpic twitter com RZZjqNUfMB</td>\n",
       "    </tr>\n",
       "    <tr>\n",
       "      <th>20</th>\n",
       "      <td>0</td>\n",
       "      <td>A Premium  Factormembers post issued  Factor Alert  October              Silver  Bonds  Bitcoin Swiss Franc   Please see   reports       details</td>\n",
       "    </tr>\n",
       "    <tr>\n",
       "      <th>21</th>\n",
       "      <td>0</td>\n",
       "      <td>Goldman Sachs Signing Customers Bitcoin Trading Product  Report   sachs is signing up customers for its bitcoin trading product report</td>\n",
       "    </tr>\n",
       "    <tr>\n",
       "      <th>22</th>\n",
       "      <td>0</td>\n",
       "      <td>On eve  satoshi white paper brought us  bitcoin ushered new digital economy congratulate everyone decade success ask  comes next   eth  mandala  mymdx  cryptopic twitter com mU kAkddSp</td>\n",
       "    </tr>\n",
       "    <tr>\n",
       "      <th>23</th>\n",
       "      <td>1</td>\n",
       "      <td>Happy   th Anniversary  Bitcoin Whitepaper   Thank you  Satoshi Nakamoto   COMPETITION ALERT   head Facebook page WIN  BTC     Thanks   putting together     years  Bitcoin    Seconds</td>\n",
       "    </tr>\n",
       "    <tr>\n",
       "      <th>24</th>\n",
       "      <td>0</td>\n",
       "      <td>Airstayz  Modernizing Guests  Hotel Experience  join upcoming Airstayz token sale  sign whitelisted today      STAY  Hotel  Travel  Currency  App  NewYork  Blockchain  cryptocurrency  USA  Btc pic twitter com tL V  hdiF</td>\n",
       "    </tr>\n",
       "    <tr>\n",
       "      <th>25</th>\n",
       "      <td>0</td>\n",
       "      <td>Tezos  MainNet Week      Exchanges w   XTZ                 io   info      meester             io       twitter com xkK bl TXA</td>\n",
       "    </tr>\n",
       "    <tr>\n",
       "      <th>26</th>\n",
       "      <td>0</td>\n",
       "      <td>Nice    FoxNews  apollocurrency paxos cryptocurrency dex bitcoin xrp dash monero pic twitter com xec zXpU g</td>\n",
       "    </tr>\n",
       "    <tr>\n",
       "      <th>27</th>\n",
       "      <td>0</td>\n",
       "      <td>Northern Spirits Biosciences Group Announces Launch Website     ad  wsj  nytimes  reuters  bloomberg  forbes  nasdaq  IHub StockPosts  newyork  business  cnn  bet  foxnews  bitcoin  blockchain  music  crypto  cannabis  weed  marijuana  beverages  CBDpic tw...</td>\n",
       "    </tr>\n",
       "    <tr>\n",
       "      <th>28</th>\n",
       "      <td>0</td>\n",
       "      <td>In case anyone missed it  I   show today  Here s recording  We chatted  Bitcoin ETFs    smith bitcoin etf</td>\n",
       "    </tr>\n",
       "    <tr>\n",
       "      <th>29</th>\n",
       "      <td>1</td>\n",
       "      <td>Bitcoin turns     How everything started Satoshi Nakamoto   s   page white paper</td>\n",
       "    </tr>\n",
       "    <tr>\n",
       "      <th>30</th>\n",
       "      <td>0</td>\n",
       "      <td>Following   shorting like    Following   push fiat  Mastercard visa like    Following   developing like Following   developing like Indeed  never dull day  Bitcoin   rkt status                     s</td>\n",
       "    </tr>\n",
       "    <tr>\n",
       "      <th>31</th>\n",
       "      <td>0</td>\n",
       "      <td>Going Live   XRP Real  Bitcoin  China Leading Next Bull Run   ZEN Giveaway    Hinting next listing    ETH Donates To     ZEC stepping game   ICX    TRX  WAN  NPXS  BAT  XLM  LTC  NEO  ETC  ZRX  CND  BNB  DGB</td>\n",
       "    </tr>\n",
       "    <tr>\n",
       "      <th>32</th>\n",
       "      <td>0</td>\n",
       "      <td>Bitcoin  BTC  stage    equivalent      internet     says founder Xapo   btc is at a stage equivalent of      for the internet says founder of xapo        BTC  ETH  ETH  Ripple  BTC  Bitcoin  Ethereum  xrp  BitcoinCash  Altcoins</td>\n",
       "    </tr>\n",
       "    <tr>\n",
       "      <th>33</th>\n",
       "      <td>0</td>\n",
       "      <td>Please know working exclusively  Stellar   recognize   utilize  xlm remember next time you   re favorite  cryptoexchange  IBM  UAE  Bitcoin</td>\n",
       "    </tr>\n",
       "    <tr>\n",
       "      <th>34</th>\n",
       "      <td>0</td>\n",
       "      <td>POE bullish engulfing  hr chart   strong play ahead      bn supply      video Mainnet launch coming   market launch     publishers   BTC  TEL  TRX  OCNpic twitter com QXBfRnlhtR</td>\n",
       "    </tr>\n",
       "    <tr>\n",
       "      <th>35</th>\n",
       "      <td>0</td>\n",
       "      <td>pLs kind sir  BTC pLs</td>\n",
       "    </tr>\n",
       "    <tr>\n",
       "      <th>36</th>\n",
       "      <td>0</td>\n",
       "      <td>Said    Pikachu pumpkin    bitcoin pumpkin pic twitter com h  JYbhtSH</td>\n",
       "    </tr>\n",
       "    <tr>\n",
       "      <th>37</th>\n",
       "      <td>0</td>\n",
       "      <td>Who carved better pumpkin  My  Bitcoin pumpkin    Pikachu pumpkin  Picture reply tweet</td>\n",
       "    </tr>\n",
       "    <tr>\n",
       "      <th>38</th>\n",
       "      <td>-1</td>\n",
       "      <td>Asking   How make Bitcoin mainstream   Is asking   How I make girls wanna fuck me</td>\n",
       "    </tr>\n",
       "    <tr>\n",
       "      <th>39</th>\n",
       "      <td>-1</td>\n",
       "      <td>Closed  eth  btc shorts     account balance gain  Funding isn   t worth hold longer  il looking long  pic twitter com lbYWOanMr</td>\n",
       "    </tr>\n",
       "    <tr>\n",
       "      <th>40</th>\n",
       "      <td>0</td>\n",
       "      <td>They able fund endless wars everyone bitcoin  like printing press  Only government able exist voluntarily contributed to</td>\n",
       "    </tr>\n",
       "    <tr>\n",
       "      <th>41</th>\n",
       "      <td>0</td>\n",
       "      <td>Solid green bars past weeks  top go  Marketplace    market     DOGE          basscoin                    Bitcoin  Crypto  cryptocurrency  cryptotrading  Doge  News  investor  InvestinPeople  StockTrading  stockmarkets  inspiring  music  business  GoldRushp...</td>\n",
       "    </tr>\n",
       "    <tr>\n",
       "      <th>42</th>\n",
       "      <td>-1</td>\n",
       "      <td>Bitcoin evening trading remains dull      tested Upside sees little bullish momentum even MACD ticking positively  BTC still set test      unless      holds firm  BTC currently No Play   Downside RIsk High  Cryptopic twitter com xpR L PQrO</td>\n",
       "    </tr>\n",
       "    <tr>\n",
       "      <th>43</th>\n",
       "      <td>0</td>\n",
       "      <td>Tomorrow marks    year anniversary bitcoin whitepaper we   re feeling nostalgic  Not bitcoin evolved within years    products   resources use also  Take look original Bitcoin explorer circa        compared today  pic twitter com rTlCPtJnYM</td>\n",
       "    </tr>\n",
       "    <tr>\n",
       "      <th>44</th>\n",
       "      <td>-1</td>\n",
       "      <td>The last people  need  Bitcoin rich Americans</td>\n",
       "    </tr>\n",
       "    <tr>\n",
       "      <th>45</th>\n",
       "      <td>0</td>\n",
       "      <td>Hopefully people become educated  blockchain work  make choice  freedom  censorship control     Angel Versetti  interview    Bitcoin Anniversary  BitcoinAt    AMB  BTC   style gadgets and tech features bitcoin cryptocurrency market alternative ethereum ca...</td>\n",
       "    </tr>\n",
       "    <tr>\n",
       "      <th>46</th>\n",
       "      <td>0</td>\n",
       "      <td>BitcoinTalk thread learn     basscoin   various  Altcoins    topic                                 Bitcoin  BTC  NEWS  bitcoin  bitcoins  money  business  crypto  influencer  InfluencerMarketing  DOGE  stocks  makemoney  invest  Blockchainpic twitter com  ...</td>\n",
       "    </tr>\n",
       "    <tr>\n",
       "      <th>47</th>\n",
       "      <td>-1</td>\n",
       "      <td>It annoys people ask   How make Crypto Bitcoin mainstream   It s like asking   How make iPhone s mainstream    How make Facebook mainstream    How make Uber mainstream   When asking   How help make people s lives better</td>\n",
       "    </tr>\n",
       "    <tr>\n",
       "      <th>48</th>\n",
       "      <td>1</td>\n",
       "      <td>News affects crypto prices much less people think       saw much better news crypto       In       Warren Buffett Jamie Dimon called Bitcoin scam  yet prices still went significantly  The reality is  greater forces work here</td>\n",
       "    </tr>\n",
       "    <tr>\n",
       "      <th>49</th>\n",
       "      <td>0</td>\n",
       "      <td>Only    hours go  rakerace ends    K prizepool  More begin within next week  Join  crypto  poker  club  X      instant  bonus regular competitions       bitcoin  ethereum  blockchain  pokeronline  casino  cryptocurrencypic twitter com OguedMk aP</td>\n",
       "    </tr>\n",
       "  </tbody>\n",
       "</table>\n",
       "</div>"
      ],
      "text/plain": [
       "    Label (-2 to 2)  \\\n",
       "0                 0   \n",
       "1                 0   \n",
       "2                 0   \n",
       "3                -1   \n",
       "4                 1   \n",
       "5                 0   \n",
       "6                 0   \n",
       "7                 0   \n",
       "8                -1   \n",
       "9                 0   \n",
       "10                0   \n",
       "11                0   \n",
       "12                0   \n",
       "13                0   \n",
       "14                0   \n",
       "15                0   \n",
       "16                0   \n",
       "17                0   \n",
       "18                1   \n",
       "19                0   \n",
       "20                0   \n",
       "21                0   \n",
       "22                0   \n",
       "23                1   \n",
       "24                0   \n",
       "25                0   \n",
       "26                0   \n",
       "27                0   \n",
       "28                0   \n",
       "29                1   \n",
       "30                0   \n",
       "31                0   \n",
       "32                0   \n",
       "33                0   \n",
       "34                0   \n",
       "35                0   \n",
       "36                0   \n",
       "37                0   \n",
       "38               -1   \n",
       "39               -1   \n",
       "40                0   \n",
       "41                0   \n",
       "42               -1   \n",
       "43                0   \n",
       "44               -1   \n",
       "45                0   \n",
       "46                0   \n",
       "47               -1   \n",
       "48                1   \n",
       "49                0   \n",
       "\n",
       "                                                                                                                                                                                                                                                                  step1  \n",
       "0                                                                                                                                                                                                                                    bitcoin pic twitter com gvUOtofTwH  \n",
       "1   Goldman Sachs One Step Closer Trading Bitcoin   sachs is signing up customers for its bitcoin trading product report        bitcoin  btc  btcturk  cryptocurrency  Crypto  Ethereum  eth  alts  ALTSEASON  blockchain  fintech  WealthManagement   twitter com Q...  \n",
       "2   Sources    Bitcoin energy consumption comparisons    energy consumption        New Zealand energy consumption    zealand electricity generation        There s     countries world     many countries are there in the world           bitcoin country  would ra...  \n",
       "3                                                                                  At end January  bitcoin mining consumed electricity rate   TWh yr  ENTIRE country New Zealand  It s   TWh yr  par whole Austria      world s countries use less electricity bitcoin   \n",
       "4                                                                               You must heard debate whether Bitcoin suitable coffee money something else  Come  scalingblockchain SF Nov    see Crypto payments working paying coffee  Tickets      Thanks   Nathan    \n",
       "5                                                                    bcoin killing right now  Love see goes  I pitched similar idea client helps miners move similar POW chains back  Harder relevant bitcoin chain think lot use smaller  specialized networks          \n",
       "6                                                                                                                                                                      BTC       years ago  BTC started         Just little perspective  Utility  none  Adoption  none   \n",
       "7                                                                                                                                                           What account tho  Some guy bought PayPal BTC refunded PayPa right I sent account pic twitter com   NwqjledB  \n",
       "8                                                                                            Twitter Sentiment  btc falling lower again  Expecting bounce  waiting setup trade  Always hunting highest R R trades  btc since volatility low  pic twitter com u QdiaHnJj  \n",
       "9                                                                                                                                                     I see descending triangle  btc  changemymind would like buy next support           areapic twitter com DvBWg inGW  \n",
       "10   The technology  XRP  it   s like  Bitcoin      It   s Bitcoin  it   s faster  It   s Bitcoin  doesn   t use tons power  It   s Bitcoin  it   s controlled Chinese miners      Facts  XRPTheStandard  says xrp is bitcoin     calls on us regulators to create a...  \n",
       "11                          No significant central bank this  If  Bitcoin comes along provides provably confidential addresses amounts  physical data transmission system developed uncensorable  maybe  The main counter party risk central banks state actors          \n",
       "12                                                                                                                                                                                                                         Bitcoin    so hot pic twitter com CnnNb yn k  \n",
       "13                                                                                                                                                                                                                             Follow everyone RETWEETS  Decorartehogar  \n",
       "14                                                                             We celebrating Halloween party discord server October   st  JOIN US get RAINS GIVEAWAYS                   coin  w c  btc  ttpc  omen  rock  shut  vapex  asafepic twitter com  MEV wiIbC  \n",
       "15                                                                          BTC non deliverable forward contracts                                        Goldman Sachs customers getting ready trade bitcoin derivative  rushing push products   The Block   sachs h...  \n",
       "16  More institutional interest  even absence SEC approved BTC ETF  provide discerning investment landscape  one could see value investing return larger projects TRON building potential throughout         trx price dip has little to do with adoption developmen...  \n",
       "17                                                                                          BitcoinAt   sale tickets Digital Currency Con  NewOrleans Dec  rd    th      tomorrow night  Get tickets affordable  blockchain conference yr       bitcoin  crypto          \n",
       "18                                                                                 Bitcoin                      increase XRP                     increase    But XRP supply like  billions  And market cap would be  like  trillions      xrppic twitter com zxSbbOwkA   \n",
       "19                                                                                                                                                                                               Happy support  Tezos   Atomic Swap DEX   XTZpic twitter com RZZjqNUfMB  \n",
       "20                                                                                                                    A Premium  Factormembers post issued  Factor Alert  October              Silver  Bonds  Bitcoin Swiss Franc   Please see   reports       details   \n",
       "21                                                                                                                         Goldman Sachs Signing Customers Bitcoin Trading Product  Report   sachs is signing up customers for its bitcoin trading product report        \n",
       "22                                                                             On eve  satoshi white paper brought us  bitcoin ushered new digital economy congratulate everyone decade success ask  comes next   eth  mandala  mymdx  cryptopic twitter com mU kAkddSp  \n",
       "23                                                                       Happy   th Anniversary  Bitcoin Whitepaper   Thank you  Satoshi Nakamoto   COMPETITION ALERT   head Facebook page WIN  BTC     Thanks   putting together     years  Bitcoin    Seconds          \n",
       "24                                          Airstayz  Modernizing Guests  Hotel Experience  join upcoming Airstayz token sale  sign whitelisted today      STAY  Hotel  Travel  Currency  App  NewYork  Blockchain  cryptocurrency  USA  Btc pic twitter com tL V  hdiF  \n",
       "25                                                                                                                                        Tezos  MainNet Week      Exchanges w   XTZ                 io   info      meester             io       twitter com xkK bl TXA  \n",
       "26                                                                                                                                                          Nice    FoxNews  apollocurrency paxos cryptocurrency dex bitcoin xrp dash monero pic twitter com xec zXpU g  \n",
       "27  Northern Spirits Biosciences Group Announces Launch Website     ad  wsj  nytimes  reuters  bloomberg  forbes  nasdaq  IHub StockPosts  newyork  business  cnn  bet  foxnews  bitcoin  blockchain  music  crypto  cannabis  weed  marijuana  beverages  CBDpic tw...  \n",
       "28                                                                                                                                                       In case anyone missed it  I   show today  Here s recording  We chatted  Bitcoin ETFs    smith bitcoin etf       \n",
       "29                                                                                                                                                                                  Bitcoin turns     How everything started Satoshi Nakamoto   s   page white paper     \n",
       "30                                                       Following   shorting like    Following   push fiat  Mastercard visa like    Following   developing like Following   developing like Indeed  never dull day  Bitcoin   rkt status                     s          \n",
       "31                                                Going Live   XRP Real  Bitcoin  China Leading Next Bull Run   ZEN Giveaway    Hinting next listing    ETH Donates To     ZEC stepping game   ICX    TRX  WAN  NPXS  BAT  XLM  LTC  NEO  ETC  ZRX  CND  BNB  DGB        \n",
       "32                                  Bitcoin  BTC  stage    equivalent      internet     says founder Xapo   btc is at a stage equivalent of      for the internet says founder of xapo        BTC  ETH  ETH  Ripple  BTC  Bitcoin  Ethereum  xrp  BitcoinCash  Altcoins  \n",
       "33                                                                                                                   Please know working exclusively  Stellar   recognize   utilize  xlm remember next time you   re favorite  cryptoexchange  IBM  UAE  Bitcoin         \n",
       "34                                                                                    POE bullish engulfing  hr chart   strong play ahead      bn supply      video Mainnet launch coming   market launch     publishers   BTC  TEL  TRX  OCNpic twitter com QXBfRnlhtR  \n",
       "35                                                                                                                                                                                                                                         pLs kind sir  BTC pLs         \n",
       "36                                                                                                                                                                                                Said    Pikachu pumpkin    bitcoin pumpkin pic twitter com h  JYbhtSH  \n",
       "37                                                                                                                                                                              Who carved better pumpkin  My  Bitcoin pumpkin    Pikachu pumpkin  Picture reply tweet   \n",
       "38                                                                                                                                                                                   Asking   How make Bitcoin mainstream   Is asking   How I make girls wanna fuck me   \n",
       "39                                                                                                                                     Closed  eth  btc shorts     account balance gain  Funding isn   t worth hold longer  il looking long  pic twitter com lbYWOanMr   \n",
       "40                                                                                                                                            They able fund endless wars everyone bitcoin  like printing press  Only government able exist voluntarily contributed to   \n",
       "41  Solid green bars past weeks  top go  Marketplace    market     DOGE          basscoin                    Bitcoin  Crypto  cryptocurrency  cryptotrading  Doge  News  investor  InvestinPeople  StockTrading  stockmarkets  inspiring  music  business  GoldRushp...  \n",
       "42                      Bitcoin evening trading remains dull      tested Upside sees little bullish momentum even MACD ticking positively  BTC still set test      unless      holds firm  BTC currently No Play   Downside RIsk High  Cryptopic twitter com xpR L PQrO  \n",
       "43                      Tomorrow marks    year anniversary bitcoin whitepaper we   re feeling nostalgic  Not bitcoin evolved within years    products   resources use also  Take look original Bitcoin explorer circa        compared today  pic twitter com rTlCPtJnYM  \n",
       "44                                                                                                                                                                                                                       The last people  need  Bitcoin rich Americans   \n",
       "45   Hopefully people become educated  blockchain work  make choice  freedom  censorship control     Angel Versetti  interview    Bitcoin Anniversary  BitcoinAt    AMB  BTC   style gadgets and tech features bitcoin cryptocurrency market alternative ethereum ca...  \n",
       "46  BitcoinTalk thread learn     basscoin   various  Altcoins    topic                                 Bitcoin  BTC  NEWS  bitcoin  bitcoins  money  business  crypto  influencer  InfluencerMarketing  DOGE  stocks  makemoney  invest  Blockchainpic twitter com  ...  \n",
       "47                                        It annoys people ask   How make Crypto Bitcoin mainstream   It s like asking   How make iPhone s mainstream    How make Facebook mainstream    How make Uber mainstream   When asking   How help make people s lives better    \n",
       "48                                    News affects crypto prices much less people think       saw much better news crypto       In       Warren Buffett Jamie Dimon called Bitcoin scam  yet prices still went significantly  The reality is  greater forces work here   \n",
       "49                Only    hours go  rakerace ends    K prizepool  More begin within next week  Join  crypto  poker  club  X      instant  bonus regular competitions       bitcoin  ethereum  blockchain  pokeronline  casino  cryptocurrencypic twitter com OguedMk aP  "
      ]
     },
     "execution_count": 6,
     "metadata": {},
     "output_type": "execute_result"
    }
   ],
   "source": [
    "data = data[['Label (-2 to 2)', 'step1']]\n",
    "data.head(50)"
   ]
  },
  {
   "cell_type": "code",
   "execution_count": 7,
   "metadata": {},
   "outputs": [
    {
     "data": {
      "text/plain": [
       "(658, 2)"
      ]
     },
     "execution_count": 7,
     "metadata": {},
     "output_type": "execute_result"
    }
   ],
   "source": [
    "# getting only labelled data\n",
    "# data = data.head(213) \n",
    "data.shape"
   ]
  },
  {
   "cell_type": "markdown",
   "metadata": {},
   "source": [
    "### Data exploration"
   ]
  },
  {
   "cell_type": "code",
   "execution_count": 6,
   "metadata": {},
   "outputs": [
    {
     "data": {
      "text/plain": [
       "<matplotlib.axes._subplots.AxesSubplot at 0x23ec521ad30>"
      ]
     },
     "execution_count": 6,
     "metadata": {},
     "output_type": "execute_result"
    },
    {
     "data": {
      "image/png": "[encoded data removed]",
      "text/plain": [
       "<Figure size 432x288 with 1 Axes>"
      ]
     },
     "metadata": {
      "needs_background": "light"
     },
     "output_type": "display_data"
    }
   ],
   "source": [
    "data['Label (-2 to 2)'].value_counts().sort_index().plot.bar()"
   ]
  },
  {
   "cell_type": "code",
   "execution_count": 7,
   "metadata": {},
   "outputs": [
    {
     "data": {
      "text/plain": [
       "<matplotlib.axes._subplots.AxesSubplot at 0x23ec51ad668>"
      ]
     },
     "execution_count": 7,
     "metadata": {},
     "output_type": "execute_result"
    },
    {
     "data": {
      "image/png": "[encoded data removed]",
      "text/plain": [
       "<Figure size 432x288 with 1 Axes>"
      ]
     },
     "metadata": {
      "needs_background": "light"
     },
     "output_type": "display_data"
    }
   ],
   "source": [
    "data['step1'].str.len().plot.hist()"
   ]
  },
  {
   "cell_type": "code",
   "execution_count": 8,
   "metadata": {},
   "outputs": [
    {
     "data": {
      "text/plain": [
       "(658, 2)"
      ]
     },
     "execution_count": 8,
     "metadata": {},
     "output_type": "execute_result"
    }
   ],
   "source": [
    "data.shape"
   ]
  },
  {
   "cell_type": "markdown",
   "metadata": {},
   "source": [
    "### Preprocessing"
   ]
  },
  {
   "cell_type": "code",
   "execution_count": 9,
   "metadata": {},
   "outputs": [
    {
     "data": {
      "text/plain": [
       "Label (-2 to 2)    0\n",
       "step1              0\n",
       "dtype: int64"
      ]
     },
     "execution_count": 9,
     "metadata": {},
     "output_type": "execute_result"
    }
   ],
   "source": [
    "data.isnull().sum()"
   ]
  },
  {
   "cell_type": "code",
   "execution_count": 10,
   "metadata": {},
   "outputs": [
    {
     "data": {
      "text/plain": [
       "Label (-2 to 2)    0\n",
       "step1              0\n",
       "dtype: int64"
      ]
     },
     "execution_count": 10,
     "metadata": {},
     "output_type": "execute_result"
    }
   ],
   "source": [
    "data.dropna(subset=['Label (-2 to 2)'], inplace=True)\n",
    "data.isnull().sum()"
   ]
  },
  {
   "cell_type": "markdown",
   "metadata": {},
   "source": [
    "data['text'] = data['text'].str.replace('@VirginAmerica', '')\n",
    "data.head()"
   ]
  },
  {
   "cell_type": "code",
   "execution_count": 9,
   "metadata": {},
   "outputs": [
    {
     "data": {
      "text/plain": [
       "0                                                                                                                                                                                                                                     bitcoin pic twitter com gvUOtofTwH\n",
       "1    Goldman Sachs One Step Closer Trading Bitcoin   sachs is signing up customers for its bitcoin trading product report        bitcoin  btc  btcturk  cryptocurrency  Crypto  Ethereum  eth  alts  ALTSEASON  blockchain  fintech  WealthManagement   twitter com Q...\n",
       "2    Sources    Bitcoin energy consumption comparisons    energy consumption        New Zealand energy consumption    zealand electricity generation        There s     countries world     many countries are there in the world           bitcoin country  would ra...\n",
       "3                                                                                   At end January  bitcoin mining consumed electricity rate   TWh yr  ENTIRE country New Zealand  It s   TWh yr  par whole Austria      world s countries use less electricity bitcoin \n",
       "4                                                                                You must heard debate whether Bitcoin suitable coffee money something else  Come  scalingblockchain SF Nov    see Crypto payments working paying coffee  Tickets      Thanks   Nathan  \n",
       "Name: step1, dtype: object"
      ]
     },
     "execution_count": 9,
     "metadata": {},
     "output_type": "execute_result"
    }
   ],
   "source": [
    "data['step1'].apply(lambda x: x.lower()) #transform text to lowercase\n",
    "data['step1'] = data['step1'].apply(lambda x: re.sub('[^a-zA-z0-9\\s]', '', x))\n",
    "data['step1'].head()"
   ]
  },
  {
   "cell_type": "markdown",
   "metadata": {},
   "source": [
    "Tokenizer from keras - \n",
    "maximum no. of rows = 5000\n",
    "pad sequence = sentences of same length\n"
   ]
  },
  {
   "cell_type": "code",
   "execution_count": 10,
   "metadata": {},
   "outputs": [
    {
     "data": {
      "text/plain": [
       "array([[   0,    0,    0,    0,    0,    0,    0,    0,    0,    0,    0,\n",
       "           0,    0,    0,    0,    0,    0,    0,    0,    0,    0,    0,\n",
       "           0,    0,    0,    0,    0,    0,    0,    0,    0,    0,    0,\n",
       "           0,    0,    0,    0,    0,    0,    0,    0,    0,    0,    0,\n",
       "           0,    0,    0,    0,    0,    0,    0,    0,    0,    0,    0,\n",
       "           0,    0,    0,    0,    0,    0,    0,    0,    0,    0,    0,\n",
       "           0,    0,    0,    0,    0,    0,    0,    0,    0,    0,    0,\n",
       "           0,    0,    0,    0,    0,    0,    0,    0,    0,    0,    0,\n",
       "           0,    0,    0,    0,    0,    0,    0,    0,    0,    0,    0,\n",
       "           0,    0,    0,    0,    0,    0,    0,    0,    0,    0,    0,\n",
       "           0,    0,    0,    0,    0,    0,    0,    0,    0,    0,    0,\n",
       "           0,    0,    0,    0,    0,    0,    0,    0,    0,    0,    0,\n",
       "           0,    0,    0,    0,    0,    0,    0,    0,    0,    0,    0,\n",
       "           0,    0,    0,    0,    0,    0,    0,    0,    0,    0,    0,\n",
       "           0,    0,    0,    0,    0,    0,    0,    0,    0,    0,    0,\n",
       "           0,    0,    0,    0,    0,    0,    0,    0,    0,    0,    0,\n",
       "           0,    0,    0,    0,    0,    0,    0,    0,    0,    0,    0,\n",
       "           0,    0,    0,    0,    0,    0,    0,    0,    1,    8,    3,\n",
       "           4, 1782],\n",
       "       [   0,    0,    0,    0,    0,    0,    0,    0,    0,    0,    0,\n",
       "           0,    0,    0,    0,    0,    0,    0,    0,    0,    0,    0,\n",
       "           0,    0,    0,    0,    0,    0,    0,    0,    0,    0,    0,\n",
       "           0,    0,    0,    0,    0,    0,    0,    0,    0,    0,    0,\n",
       "           0,    0,    0,    0,    0,    0,    0,    0,    0,    0,    0,\n",
       "           0,    0,    0,    0,    0,    0,    0,    0,    0,    0,    0,\n",
       "           0,    0,    0,    0,    0,    0,    0,    0,    0,    0,    0,\n",
       "           0,    0,    0,    0,    0,    0,    0,    0,    0,    0,    0,\n",
       "           0,    0,    0,    0,    0,    0,    0,    0,    0,    0,    0,\n",
       "           0,    0,    0,    0,    0,    0,    0,    0,    0,    0,    0,\n",
       "           0,    0,    0,    0,    0,    0,    0,    0,    0,    0,    0,\n",
       "           0,    0,    0,    0,    0,    0,    0,    0,    0,    0,    0,\n",
       "           0,    0,    0,    0,    0,    0,    0,    0,    0,    0,    0,\n",
       "           0,    0,    0,    0,    0,    0,    0,    0,    0,    0,    0,\n",
       "           0,    0,    0,    0,    0,    0,    0,    0,    0,    0,    0,\n",
       "           0,  576,  262,   39,  458, 1783,   31,    1,  262,   28,  577,\n",
       "         109,  578,   79,  459,    1,   31,  367,  297,    1,    2, 1784,\n",
       "          13,    5,   29,    9,  234, 1785,   10,  110, 1786,    3,    4,\n",
       "        1787,   16],\n",
       "       [   0,    0,    0,    0,    0,    0,    0,    0,    0,    0,    0,\n",
       "           0,    0,    0,    0,    0,    0,    0,    0,    0,    0,    0,\n",
       "           0,    0,    0,    0,    0,    0,    0,    0,    0,    0,    0,\n",
       "           0,    0,    0,    0,    0,    0,    0,    0,    0,    0,    0,\n",
       "           0,    0,    0,    0,    0,    0,    0,    0,    0,    0,    0,\n",
       "           0,    0,    0,    0,    0,    0,    0,    0,    0,    0,    0,\n",
       "           0,    0,    0,    0,    0,    0,    0,    0,    0,    0,    0,\n",
       "           0,    0,    0,    0,    0,    0,    0,    0,    0,    0,    0,\n",
       "           0,    0,    0,    0,    0,    0,    0,    0,    0,    0,    0,\n",
       "           0,    0,    0,    0,    0,    0,    0,    0,    0,    0,    0,\n",
       "           0,    0,    0,    0,    0,    0,    0,    0,    0,    0,    0,\n",
       "           0,    0,    0,    0,    0,    0,    0,    0,    0,    0,    0,\n",
       "           0,    0,    0,    0,    0,    0,    0,    0,    0,    0,    0,\n",
       "           0,    0,    0,    0,    0,    0,    0,    0,    0,    0,    0,\n",
       "           0,    0,    0,    0,    0,    0,    0,    0,    0,    0,    0,\n",
       "           0,    0,    0,    0, 1104,    1,  183,  368, 1788,  183,  368,\n",
       "          19,  787,  183,  368,  787,  235,  788,  184,    7,  579,  101,\n",
       "         210,  579,  160,  184,   23,   12,  101,    1,  460,   43, 1789,\n",
       "         102, 1790],\n",
       "       [   0,    0,    0,    0,    0,    0,    0,    0,    0,    0,    0,\n",
       "           0,    0,    0,    0,    0,    0,    0,    0,    0,    0,    0,\n",
       "           0,    0,    0,    0,    0,    0,    0,    0,    0,    0,    0,\n",
       "           0,    0,    0,    0,    0,    0,    0,    0,    0,    0,    0,\n",
       "           0,    0,    0,    0,    0,    0,    0,    0,    0,    0,    0,\n",
       "           0,    0,    0,    0,    0,    0,    0,    0,    0,    0,    0,\n",
       "           0,    0,    0,    0,    0,    0,    0,    0,    0,    0,    0,\n",
       "           0,    0,    0,    0,    0,    0,    0,    0,    0,    0,    0,\n",
       "           0,    0,    0,    0,    0,    0,    0,    0,    0,    0,    0,\n",
       "           0,    0,    0,    0,    0,    0,    0,    0,    0,    0,    0,\n",
       "           0,    0,    0,    0,    0,    0,    0,    0,    0,    0,    0,\n",
       "           0,    0,    0,    0,    0,    0,    0,    0,    0,    0,    0,\n",
       "           0,    0,    0,    0,    0,    0,    0,    0,    0,    0,    0,\n",
       "           0,    0,    0,    0,    0,    0,    0,    0,    0,    0,    0,\n",
       "           0,    0,    0,    0,    0,    0,    0,    0,    0,    0,    0,\n",
       "           0,    0,    0,    0,    0,    0,    0,  236,  580, 1105,    1,\n",
       "          89, 1791,  235,  789, 1106,  790,  791,  460,   19,  787,   15,\n",
       "           7, 1106,  790, 1792,  461,  792,  101,    7,  579,   32,  211,\n",
       "         235,    1],\n",
       "       [   0,    0,    0,    0,    0,    0,    0,    0,    0,    0,    0,\n",
       "           0,    0,    0,    0,    0,    0,    0,    0,    0,    0,    0,\n",
       "           0,    0,    0,    0,    0,    0,    0,    0,    0,    0,    0,\n",
       "           0,    0,    0,    0,    0,    0,    0,    0,    0,    0,    0,\n",
       "           0,    0,    0,    0,    0,    0,    0,    0,    0,    0,    0,\n",
       "           0,    0,    0,    0,    0,    0,    0,    0,    0,    0,    0,\n",
       "           0,    0,    0,    0,    0,    0,    0,    0,    0,    0,    0,\n",
       "           0,    0,    0,    0,    0,    0,    0,    0,    0,    0,    0,\n",
       "           0,    0,    0,    0,    0,    0,    0,    0,    0,    0,    0,\n",
       "           0,    0,    0,    0,    0,    0,    0,    0,    0,    0,    0,\n",
       "           0,    0,    0,    0,    0,    0,    0,    0,    0,    0,    0,\n",
       "           0,    0,    0,    0,    0,    0,    0,    0,    0,    0,    0,\n",
       "           0,    0,    0,    0,    0,    0,    0,    0,    0,    0,    0,\n",
       "           0,    0,    0,    0,    0,    0,    0,    0,    0,    0,    0,\n",
       "           0,    0,    0,    0,    0,    0,    0,    0,    0,    0,    0,\n",
       "           0,    0,    0,    0,    0,    0,    0,    0,    0,    0,    0,\n",
       "          21,  369, 1793, 1794, 1795,    1, 1796, 1107,   60,  161,  462,\n",
       "         298, 1797, 1798,  793,   61,    5,  237,  185,  794, 1107,  581,\n",
       "         299, 1799]])"
      ]
     },
     "execution_count": 10,
     "metadata": {},
     "output_type": "execute_result"
    }
   ],
   "source": [
    "tokenizer = Tokenizer(num_words=5000, split=\" \")\n",
    "tokenizer.fit_on_texts(data['step1'].values)\n",
    "\n",
    "X = tokenizer.texts_to_sequences(data['step1'].values)\n",
    "X = pad_sequences(X, maxlen = 200) # padding our text vector so they all have the same length\n",
    "X[:5]"
   ]
  },
  {
   "cell_type": "code",
   "execution_count": 13,
   "metadata": {},
   "outputs": [
    {
     "name": "stdout",
     "output_type": "stream",
     "text": [
      "(658, 200)\n"
     ]
    }
   ],
   "source": [
    "print(X.shape)"
   ]
  },
  {
   "cell_type": "markdown",
   "metadata": {},
   "source": [
    "### Creating model"
   ]
  },
  {
   "cell_type": "markdown",
   "metadata": {},
   "source": [
    "squential model is simplest \n",
    "model.add adds new layers to network\n",
    "Dropout is used for regularization(decreasing overfitting)\n",
    "256 - no. of units in each layer\n",
    "Dense connection - every neuron of 1 layer connected to every other neuron of next layer"
   ]
  },
  {
   "cell_type": "code",
   "execution_count": 12,
   "metadata": {},
   "outputs": [],
   "source": [
    "model = Sequential()\n",
    "model.add(Embedding(5000, 256, input_length=X.shape[1]))\n",
    "model.add(Dropout(0.3))\n",
    "model.add(LSTM(256, return_sequences=True, dropout=0.3, recurrent_dropout=0.2))\n",
    "model.add(LSTM(256, dropout=0.3, recurrent_dropout=0.2))\n",
    "model.add(Dense(5, activation='softmax'))"
   ]
  },
  {
   "cell_type": "markdown",
   "metadata": {},
   "source": [
    "compiling - takes sets 2 things \n",
    "For adam it is 0.001, reach up to 85% accuracy in 5 epochs\n",
    "1. optimizer - learning rate\n",
    "2. loss function - log function"
   ]
  },
  {
   "cell_type": "code",
   "execution_count": 14,
   "metadata": {},
   "outputs": [
    {
     "name": "stdout",
     "output_type": "stream",
     "text": [
      "_________________________________________________________________\n",
      "Layer (type)                 Output Shape              Param #   \n",
      "=================================================================\n",
      "embedding_1 (Embedding)      (None, 200, 256)          1280000   \n",
      "_________________________________________________________________\n",
      "dropout_1 (Dropout)          (None, 200, 256)          0         \n",
      "_________________________________________________________________\n",
      "lstm_1 (LSTM)                (None, 200, 256)          525312    \n",
      "_________________________________________________________________\n",
      "lstm_2 (LSTM)                (None, 256)               525312    \n",
      "_________________________________________________________________\n",
      "dense_1 (Dense)              (None, 5)                 1285      \n",
      "=================================================================\n",
      "Total params: 2,331,909\n",
      "Trainable params: 2,331,909\n",
      "Non-trainable params: 0\n",
      "_________________________________________________________________\n"
     ]
    }
   ],
   "source": [
    "model.compile(loss='categorical_crossentropy', optimizer='adam', metrics=['accuracy'])\n",
    "model.summary()"
   ]
  },
  {
   "cell_type": "markdown",
   "metadata": {},
   "source": []
  },
  {
   "cell_type": "code",
   "execution_count": 15,
   "metadata": {},
   "outputs": [
    {
     "name": "stdout",
     "output_type": "stream",
     "text": [
      "0 [0 0 1 0 0]\n",
      "0 [0 0 1 0 0]\n",
      "0 [0 0 1 0 0]\n",
      "-1 [0 1 0 0 0]\n",
      "1 [0 0 0 1 0]\n",
      "0 [0 0 1 0 0]\n",
      "0 [0 0 1 0 0]\n",
      "0 [0 0 1 0 0]\n",
      "-1 [0 1 0 0 0]\n",
      "0 [0 0 1 0 0]\n",
      "0 [0 0 1 0 0]\n",
      "0 [0 0 1 0 0]\n",
      "0 [0 0 1 0 0]\n",
      "0 [0 0 1 0 0]\n",
      "0 [0 0 1 0 0]\n",
      "0 [0 0 1 0 0]\n",
      "0 [0 0 1 0 0]\n",
      "0 [0 0 1 0 0]\n",
      "1 [0 0 0 1 0]\n",
      "0 [0 0 1 0 0]\n",
      "0 [0 0 1 0 0]\n",
      "0 [0 0 1 0 0]\n",
      "0 [0 0 1 0 0]\n",
      "1 [0 0 0 1 0]\n",
      "0 [0 0 1 0 0]\n",
      "0 [0 0 1 0 0]\n",
      "0 [0 0 1 0 0]\n",
      "0 [0 0 1 0 0]\n",
      "0 [0 0 1 0 0]\n",
      "1 [0 0 0 1 0]\n",
      "0 [0 0 1 0 0]\n",
      "0 [0 0 1 0 0]\n",
      "0 [0 0 1 0 0]\n",
      "0 [0 0 1 0 0]\n",
      "0 [0 0 1 0 0]\n",
      "0 [0 0 1 0 0]\n",
      "0 [0 0 1 0 0]\n",
      "0 [0 0 1 0 0]\n",
      "-1 [0 1 0 0 0]\n",
      "-1 [0 1 0 0 0]\n",
      "0 [0 0 1 0 0]\n",
      "0 [0 0 1 0 0]\n",
      "-1 [0 1 0 0 0]\n",
      "0 [0 0 1 0 0]\n",
      "-1 [0 1 0 0 0]\n",
      "0 [0 0 1 0 0]\n",
      "0 [0 0 1 0 0]\n",
      "-1 [0 1 0 0 0]\n",
      "1 [0 0 0 1 0]\n",
      "0 [0 0 1 0 0]\n",
      "0 [0 0 1 0 0]\n",
      "0 [0 0 1 0 0]\n",
      "1 [0 0 0 1 0]\n",
      "0 [0 0 1 0 0]\n",
      "0 [0 0 1 0 0]\n",
      "0 [0 0 1 0 0]\n",
      "1 [0 0 0 1 0]\n",
      "0 [0 0 1 0 0]\n",
      "0 [0 0 1 0 0]\n",
      "0 [0 0 1 0 0]\n",
      "-1 [0 1 0 0 0]\n",
      "0 [0 0 1 0 0]\n",
      "0 [0 0 1 0 0]\n",
      "0 [0 0 1 0 0]\n",
      "0 [0 0 1 0 0]\n",
      "-1 [0 1 0 0 0]\n",
      "-2 [1 0 0 0 0]\n",
      "0 [0 0 1 0 0]\n",
      "0 [0 0 1 0 0]\n",
      "-1 [0 1 0 0 0]\n"
     ]
    },
    {
     "data": {
      "text/plain": [
       "[None,\n",
       " None,\n",
       " None,\n",
       " None,\n",
       " None,\n",
       " None,\n",
       " None,\n",
       " None,\n",
       " None,\n",
       " None,\n",
       " None,\n",
       " None,\n",
       " None,\n",
       " None,\n",
       " None,\n",
       " None,\n",
       " None,\n",
       " None,\n",
       " None,\n",
       " None,\n",
       " None,\n",
       " None,\n",
       " None,\n",
       " None,\n",
       " None,\n",
       " None,\n",
       " None,\n",
       " None,\n",
       " None,\n",
       " None,\n",
       " None,\n",
       " None,\n",
       " None,\n",
       " None,\n",
       " None,\n",
       " None,\n",
       " None,\n",
       " None,\n",
       " None,\n",
       " None,\n",
       " None,\n",
       " None,\n",
       " None,\n",
       " None,\n",
       " None,\n",
       " None,\n",
       " None,\n",
       " None,\n",
       " None,\n",
       " None,\n",
       " None,\n",
       " None,\n",
       " None,\n",
       " None,\n",
       " None,\n",
       " None,\n",
       " None,\n",
       " None,\n",
       " None,\n",
       " None,\n",
       " None,\n",
       " None,\n",
       " None,\n",
       " None,\n",
       " None,\n",
       " None,\n",
       " None,\n",
       " None,\n",
       " None,\n",
       " None]"
      ]
     },
     "execution_count": 15,
     "metadata": {},
     "output_type": "execute_result"
    }
   ],
   "source": [
    "y = pd.get_dummies(data['Label (-2 to 2)']).values\n",
    "# print(y)\n",
    "# print(data['Label (-2 to 2)'])\n",
    "[print(data['Label (-2 to 2)'][i], y[i]) for i in range(0,70)]"
   ]
  },
  {
   "cell_type": "markdown",
   "metadata": {},
   "source": [
    "training - 70%\n",
    "testing - 30%"
   ]
  },
  {
   "cell_type": "code",
   "execution_count": 16,
   "metadata": {},
   "outputs": [],
   "source": [
    "X_train, X_test, y_train, y_test = train_test_split(X, y, test_size=0.3, random_state=0)"
   ]
  },
  {
   "cell_type": "code",
   "execution_count": 17,
   "metadata": {},
   "outputs": [
    {
     "name": "stdout",
     "output_type": "stream",
     "text": [
      "(658, 200)\n",
      "(658, 5)\n"
     ]
    }
   ],
   "source": [
    "print(X.shape)\n",
    "print(y.shape)"
   ]
  },
  {
   "cell_type": "markdown",
   "metadata": {},
   "source": [
    "### Training model"
   ]
  },
  {
   "cell_type": "markdown",
   "metadata": {},
   "source": [
    "Can include\n",
    "#set early stopping monitor so the model stops training when it won't improve anymore\n",
    "early_stopping_monitor = EarlyStopping(patience=3)"
   ]
  },
  {
   "cell_type": "code",
   "execution_count": 18,
   "metadata": {},
   "outputs": [
    {
     "name": "stdout",
     "output_type": "stream",
     "text": [
      "Epoch 1/6\n",
      " - 55s - loss: 1.2093 - acc: 0.6848\n",
      "Epoch 2/6\n",
      " - 50s - loss: 0.9381 - acc: 0.7217\n",
      "Epoch 3/6\n",
      " - 53s - loss: 0.8669 - acc: 0.7217\n",
      "Epoch 4/6\n",
      " - 54s - loss: 0.7105 - acc: 0.7500\n",
      "Epoch 5/6\n",
      " - 54s - loss: 0.4629 - acc: 0.8261\n",
      "Epoch 6/6\n",
      " - 55s - loss: 0.3467 - acc: 0.8652\n"
     ]
    },
    {
     "data": {
      "text/plain": [
       "<keras.callbacks.History at 0x29eb2ad6048>"
      ]
     },
     "execution_count": 18,
     "metadata": {},
     "output_type": "execute_result"
    }
   ],
   "source": [
    "batch_size = 32\n",
    "epochs = 6\n",
    "\n",
    "model.fit(X_train, y_train, epochs=epochs, batch_size=batch_size, verbose=2)"
   ]
  },
  {
   "cell_type": "code",
   "execution_count": 19,
   "metadata": {},
   "outputs": [],
   "source": [
    "model.save('sentiment_analysis.h5')"
   ]
  },
  {
   "cell_type": "markdown",
   "metadata": {},
   "source": [
    "Saving modelling using Pickle"
   ]
  },
  {
   "cell_type": "code",
   "execution_count": 20,
   "metadata": {},
   "outputs": [],
   "source": [
    "with open('model_twitter_200', 'wb') as f: \n",
    "    pickle.dump(model, f)"
   ]
  },
  {
   "cell_type": "code",
   "execution_count": 22,
   "metadata": {},
   "outputs": [],
   "source": [
    "with open('model_twitter', 'rb') as f:\n",
    "    mp = pickle.load(f)"
   ]
  },
  {
   "cell_type": "markdown",
   "metadata": {},
   "source": [
    "### Testing model"
   ]
  },
  {
   "cell_type": "code",
   "execution_count": 23,
   "metadata": {},
   "outputs": [
    {
     "name": "stdout",
     "output_type": "stream",
     "text": [
      " bitcoin pic twitter com gvUOtofTwH [2.6496765e-04 4.5406699e-04 9.9788684e-01 1.1456272e-03 2.4848001e-04] [0 0 1 0 0]\n",
      "Goldman Sachs One Step Closer Trading Bitcoin   sachs is signing up customers for its bitcoin trading product report        bitcoin  btc  btcturk  cryptocurrency  Crypto  Ethereum  eth  alts  ALTSEASON  blockchain  fintech  WealthManagement   twitter com QFbLQzs  t [0.02805512 0.14185071 0.5836053  0.22897391 0.01751502] [0 0 1 0 0]\n",
      "Sources    Bitcoin energy consumption comparisons    energy consumption        New Zealand energy consumption    zealand electricity generation        There s     countries world     many countries are there in the world           bitcoin country  would rank   th  Digiconomist   [0.03833545 0.18381855 0.49059138 0.26506656 0.02218812] [0 0 1 0 0]\n",
      "At end January  bitcoin mining consumed electricity rate   TWh yr  ENTIRE country New Zealand  It s   TWh yr  par whole Austria      world s countries use less electricity bitcoin  [1.4893223e-04 2.6098394e-04 9.9867260e-01 7.6425332e-04 1.5319209e-04] [0 0 1 0 0]\n",
      "You must heard debate whether Bitcoin suitable coffee money something else  Come  scalingblockchain SF Nov    see Crypto payments working paying coffee  Tickets      Thanks   Nathan   [0.0019502  0.00514533 0.9796887  0.01148882 0.00172698] [0 0 1 0 0]\n"
     ]
    },
    {
     "data": {
      "text/plain": [
       "[None, None, None, None, None]"
      ]
     },
     "execution_count": 23,
     "metadata": {},
     "output_type": "execute_result"
    }
   ],
   "source": [
    "predictions = mp.predict(X_test) \n",
    "\n",
    "[print(data['step1'][i], predictions[i], y_test[i]) for i in range(0, 5)]"
   ]
  },
  {
   "cell_type": "code",
   "execution_count": 24,
   "metadata": {},
   "outputs": [
    {
     "name": "stdout",
     "output_type": "stream",
     "text": [
      "Very_Positive predictions: 0\n",
      "Positive predictions: 17\n",
      "Neutral predictions: 169\n",
      "Negative predictions: 12\n",
      "Very_Negative predictions: 0\n",
      "\n",
      "Real very_positive: 2\n",
      "Real positive: 15\n",
      "Real neutral: 151\n",
      "Real negative: 27\n",
      "Real very_negative: 3\n"
     ]
    }
   ],
   "source": [
    "vpos_count, pos_count, neu_count, neg_count, vneg_count = 0, 0, 0, 0, 0 \n",
    "real_vpos, real_pos, real_neu, real_neg, real_vneg = 0, 0, 0, 0, 0\n",
    "for i, prediction in enumerate(predictions):\n",
    "    \n",
    "    if np.argmax(prediction) == 0:\n",
    "        vpos_count += 1\n",
    "    elif np.argmax(prediction) == 1:\n",
    "        pos_count += 1\n",
    "    elif np.argmax(prediction) == 2:\n",
    "        neu_count += 1\n",
    "    elif np.argmax(prediction) == 3:\n",
    "        neg_count += 1\n",
    "    else:\n",
    "        vneg_count += 1\n",
    "        \n",
    "        \n",
    "    \n",
    "    if np.argmax(y_test[i]) == 0:\n",
    "        real_vpos += 1\n",
    "    elif np.argmax(y_test[i]) == 1:    \n",
    "        real_pos += 1\n",
    "    elif np.argmax(y_test[i]) == 2:    \n",
    "        real_neu += 1\n",
    "    elif np.argmax(y_test[i]) == 3:    \n",
    "        real_neg += 1\n",
    "    else:\n",
    "        real_vneg +=1\n",
    "\n",
    "print('Very_Positive predictions:', vpos_count)\n",
    "print('Positive predictions:', pos_count)\n",
    "print('Neutral predictions:', neu_count)\n",
    "print('Negative predictions:', neg_count)\n",
    "print('Very_Negative predictions:', vneg_count)\n",
    "\n",
    "print()\n",
    "print('Real very_positive:', real_vpos)\n",
    "print('Real positive:', real_pos)\n",
    "print('Real neutral:', real_neu)\n",
    "print('Real negative:', real_neg)\n",
    "print('Real very_negative:', real_vneg)"
   ]
  },
  {
   "cell_type": "markdown",
   "metadata": {},
   "source": [
    "Total wrong predictions"
   ]
  },
  {
   "cell_type": "code",
   "execution_count": 25,
   "metadata": {},
   "outputs": [
    {
     "name": "stdout",
     "output_type": "stream",
     "text": [
      "40\n"
     ]
    }
   ],
   "source": [
    "sum = abs(vpos_count - real_vpos)\n",
    "sum += abs(pos_count - real_pos)\n",
    "sum += abs(neu_count - real_neu)\n",
    "sum += abs(neg_count - real_neg)\n",
    "sum += abs(vneg_count - real_vneg)\n",
    "print(sum)"
   ]
  },
  {
   "cell_type": "markdown",
   "metadata": {},
   "source": [
    "Total Error"
   ]
  },
  {
   "cell_type": "code",
   "execution_count": 26,
   "metadata": {},
   "outputs": [
    {
     "name": "stdout",
     "output_type": "stream",
     "text": [
      "20.2020202020202\n"
     ]
    }
   ],
   "source": [
    "print(sum/len(X_test)*100)"
   ]
  }
 ],
 "metadata": {
  "kernelspec": {
   "display_name": "Python 3",
   "language": "python",
   "name": "python3"
  },
  "language_info": {
   "codemirror_mode": {
    "name": "ipython",
    "version": 3
   },
   "file_extension": ".py",
   "mimetype": "text/x-python",
   "name": "python",
   "nbconvert_exporter": "python",
   "pygments_lexer": "ipython3",
   "version": "3.6.4"
  }
 },
 "nbformat": 4,
 "nbformat_minor": 2
}
