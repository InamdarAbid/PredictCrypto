{
 "cells": [
  {
   "cell_type": "markdown",
   "metadata": {},
   "source": [
    "# Preprocessing Twitter Data"
   ]
  },
  {
   "cell_type": "code",
   "execution_count": 1,
   "metadata": {},
   "outputs": [],
   "source": [
    "# import libraries\n",
    "\n",
    "import numpy as np\n",
    "import pandas as pd  \n",
    "import csv, re\n",
    "import nltk\n",
    "from langdetect import detect\n",
    "from nltk.stem import PorterStemmer\n",
    "from nltk.stem.wordnet import WordNetLemmatizer\n",
    "from nltk.corpus import stopwords\n"
   ]
  },
  {
   "cell_type": "code",
   "execution_count": 2,
   "metadata": {},
   "outputs": [],
   "source": [
    "# setting some options of pandas\n",
    "    \n",
    "pd.set_option('display.max_colwidth', 500)\n",
    "pd.set_option('display.max_rows', 10)"
   ]
  },
  {
   "cell_type": "code",
   "execution_count": 3,
   "metadata": {},
   "outputs": [],
   "source": [
    "df = pd.read_csv(\"..\\Data_json_csv\\D_5_Nov_14_Nov.csv\", encoding = \"latin1\")"
   ]
  },
  {
   "cell_type": "code",
   "execution_count": 4,
   "metadata": {},
   "outputs": [
    {
     "data": {
      "text/html": [
       "<div>\n",
       "<style scoped>\n",
       "    .dataframe tbody tr th:only-of-type {\n",
       "        vertical-align: middle;\n",
       "    }\n",
       "\n",
       "    .dataframe tbody tr th {\n",
       "        vertical-align: top;\n",
       "    }\n",
       "\n",
       "    .dataframe thead th {\n",
       "        text-align: right;\n",
       "    }\n",
       "</style>\n",
       "<table border=\"1\" class=\"dataframe\">\n",
       "  <thead>\n",
       "    <tr style=\"text-align: right;\">\n",
       "      <th></th>\n",
       "      <th>user</th>\n",
       "      <th>fullname</th>\n",
       "      <th>tweet-id</th>\n",
       "      <th>timestamp</th>\n",
       "      <th>url</th>\n",
       "      <th>likes</th>\n",
       "      <th>replies</th>\n",
       "      <th>retweets</th>\n",
       "      <th>text</th>\n",
       "      <th>html</th>\n",
       "    </tr>\n",
       "  </thead>\n",
       "  <tbody>\n",
       "    <tr>\n",
       "      <th>0</th>\n",
       "      <td>coins_cat</td>\n",
       "      <td>ãããã­ã</td>\n",
       "      <td>1061770547653033986</td>\n",
       "      <td>2018-11-11 23:59:59</td>\n",
       "      <td>/coins_cat/status/1061770547653033986</td>\n",
       "      <td>0</td>\n",
       "      <td>0</td>\n",
       "      <td>0</td>\n",
       "      <td>ä»®æ³éè²¨ã®æä¾¡ç·é¡\\r\\n$212,656,534,168\\r\\n\\r\\nBTC\\r\\nä¾¡æ ¼:$6404.10\\r\\nãããã³ã¹:52.314%\\r\\nETH\\r\\nä¾¡æ ¼:$211.413\\r\\nãããã³ã¹:10.254%\\r\\nIXT(688ä½)\\r\\nä¾¡æ ¼:$0.0772\\r\\nãããã³ã¹:0.0013%\\r\\n#bitcoin #ethereum #ixt #cryptocurrency #ä»®æ³éè²¨</td>\n",
       "      <td>&lt;p class=\"TweetTextSize js-tweet-text tweet-text\" data-aria-label-part=\"0\" lang=\"ja\"&gt;&lt;img alt=\"ðµ\" aria-label=\"Emoji: Banknote with dollar sign\" class=\"Emoji Emoji--forText\" draggable=\"false\" src=\"https://abs.twimg.com/emoji/v2/72x72/1f4b5.png\" title=\"Banknote with dollar sign\"/&gt;ä»®æ³éè²¨ã®æä¾¡ç·é¡&lt;img alt=\"ðµ\" aria-label=\"Emoji: Banknote with dollar sign\" class=\"Emoji Emoji--forText\" draggable=\"false\" src=\"https://abs.twimg.com/emoji/v2/72x72/1f4b5.png\" title=\"Banknote with doll...</td>\n",
       "    </tr>\n",
       "    <tr>\n",
       "      <th>1</th>\n",
       "      <td>fdgrant</td>\n",
       "      <td>doug grant</td>\n",
       "      <td>1061770546021625856</td>\n",
       "      <td>2018-11-11 23:59:59</td>\n",
       "      <td>/fdgrant/status/1061770546021625856</td>\n",
       "      <td>0</td>\n",
       "      <td>1</td>\n",
       "      <td>0</td>\n",
       "      <td>You should go for the holy grail and get @RayDalio  on your show. Heâs a skeptic on bitcoin. Iâd PAY to hear that podcast.</td>\n",
       "      <td>&lt;p class=\"TweetTextSize js-tweet-text tweet-text\" data-aria-label-part=\"0\" lang=\"en\"&gt;You should go for the holy grail and get &lt;a class=\"twitter-atreply pretty-link js-nav\" data-mentioned-user-id=\"62603893\" dir=\"ltr\" href=\"/RayDalio\"&gt;&lt;s&gt;@&lt;/s&gt;&lt;b&gt;RayDalio&lt;/b&gt;&lt;/a&gt;  on your show. Heâs a skeptic on &lt;strong&gt;bitcoin&lt;/strong&gt;. Iâd PAY to hear that podcast.&lt;/p&gt;</td>\n",
       "    </tr>\n",
       "    <tr>\n",
       "      <th>2</th>\n",
       "      <td>AuthorityNomad</td>\n",
       "      <td>Bruce Stewart</td>\n",
       "      <td>1061770543311900672</td>\n",
       "      <td>2018-11-11 23:59:58</td>\n",
       "      <td>/AuthorityNomad/status/1061770543311900672</td>\n",
       "      <td>1</td>\n",
       "      <td>0</td>\n",
       "      <td>0</td>\n",
       "      <td>What Bear Market? Major Bitcoin Mining Farm Goes Live in Canada https://www.ccn.com/what-bear-market-major-bitcoin-mining-farm-goes-live-in-canada/Â â¦ via @cryptocoinsnews</td>\n",
       "      <td>&lt;p class=\"TweetTextSize js-tweet-text tweet-text\" data-aria-label-part=\"0\" lang=\"en\"&gt;What Bear Market? Major &lt;strong&gt;Bitcoin&lt;/strong&gt; Mining Farm Goes Live in Canada &lt;a class=\"twitter-timeline-link\" data-expanded-url=\"https://www.ccn.com/what-bear-market-major-bitcoin-mining-farm-goes-live-in-canada/\" dir=\"ltr\" href=\"https://t.co/TFvlFYiWEP\" rel=\"nofollow noopener\" target=\"_blank\" title=\"https://www.ccn.com/what-bear-market-major-bitcoin-mining-farm-goes-live-in-canada/\"&gt;&lt;span class=\"tco-ell...</td>\n",
       "    </tr>\n",
       "    <tr>\n",
       "      <th>3</th>\n",
       "      <td>JASF_MS03</td>\n",
       "      <td>Slinxs</td>\n",
       "      <td>1061770509220749317</td>\n",
       "      <td>2018-11-11 23:59:50</td>\n",
       "      <td>/JASF_MS03/status/1061770509220749317</td>\n",
       "      <td>0</td>\n",
       "      <td>0</td>\n",
       "      <td>0</td>\n",
       "      <td>Bitcoin Mining Giant Bitmain Sues âJohn Doeâ Binance Hacker Over $5.5 Million BTC Theft https://www.livebitcoinnews.com/bitcoin-mining-giant-bitmain-sues-john-doe-binance-hacker-over-5-5-million-btc-theft/Â â¦</td>\n",
       "      <td>&lt;p class=\"TweetTextSize js-tweet-text tweet-text\" data-aria-label-part=\"0\" lang=\"en\"&gt;&lt;strong&gt;Bitcoin&lt;/strong&gt; Mining Giant Bitmain Sues âJohn Doeâ Binance Hacker Over $5.5 Million &lt;strong&gt;BTC&lt;/strong&gt; Theft &lt;a class=\"twitter-timeline-link u-hidden\" data-expanded-url=\"https://www.livebitcoinnews.com/bitcoin-mining-giant-bitmain-sues-john-doe-binance-hacker-over-5-5-million-btc-theft/\" dir=\"ltr\" href=\"https://t.co/8gF3qqRTMO\" rel=\"nofollow noopener\" target=\"_blank\" title=\"https://www.liveb...</td>\n",
       "    </tr>\n",
       "    <tr>\n",
       "      <th>4</th>\n",
       "      <td>pn2_sld_pn</td>\n",
       "      <td>ãã³ãµã©</td>\n",
       "      <td>1061770505907126272</td>\n",
       "      <td>2018-11-11 23:59:50</td>\n",
       "      <td>/pn2_sld_pn/status/1061770505907126272</td>\n",
       "      <td>0</td>\n",
       "      <td>0</td>\n",
       "      <td>0</td>\n",
       "      <td>ãã¼BTCãªãã£ã¦ããªãä½ããã£ãã®ããªï¼\\r\\næµç³ã«ä¹ãã¦ãªããã©ããã¼ãã¸ã ã£ãããããã</td>\n",
       "      <td>&lt;p class=\"TweetTextSize js-tweet-text tweet-text\" data-aria-label-part=\"0\" lang=\"ja\"&gt;ãã¼&lt;strong&gt;BTC&lt;/strong&gt;ãªãã£ã¦ããªãä½ããã£ãã®ããªï¼\\r\\næµç³ã«ä¹ãã¦ãªããã©ããã¼ãã¸ã ã£ãããããã&lt;/p&gt;</td>\n",
       "    </tr>\n",
       "    <tr>\n",
       "      <th>...</th>\n",
       "      <td>...</td>\n",
       "      <td>...</td>\n",
       "      <td>...</td>\n",
       "      <td>...</td>\n",
       "      <td>...</td>\n",
       "      <td>...</td>\n",
       "      <td>...</td>\n",
       "      <td>...</td>\n",
       "      <td>...</td>\n",
       "      <td>...</td>\n",
       "    </tr>\n",
       "    <tr>\n",
       "      <th>168638</th>\n",
       "      <td>suprraz</td>\n",
       "      <td>Raz</td>\n",
       "      <td>1060361438659731456</td>\n",
       "      <td>2018-11-08 02:40:42</td>\n",
       "      <td>/suprraz/status/1060361438659731456</td>\n",
       "      <td>0</td>\n",
       "      <td>0</td>\n",
       "      <td>0</td>\n",
       "      <td>The dollar is a BTC sidechain.</td>\n",
       "      <td>&lt;p class=\"TweetTextSize js-tweet-text tweet-text\" data-aria-label-part=\"0\" lang=\"en\"&gt;The dollar is a &lt;strong&gt;BTC&lt;/strong&gt; sidechain.&lt;/p&gt;</td>\n",
       "    </tr>\n",
       "    <tr>\n",
       "      <th>168639</th>\n",
       "      <td>BitCoin_Invest_</td>\n",
       "      <td>Follow HelpÂ ð 17k</td>\n",
       "      <td>1060361429830823937</td>\n",
       "      <td>2018-11-08 02:40:40</td>\n",
       "      <td>/BitCoin_Invest_/status/1060361429830823937</td>\n",
       "      <td>16</td>\n",
       "      <td>1</td>\n",
       "      <td>4</td>\n",
       "      <td>Retweet and Like if you want to gain more followers\\r\\n#Decorartehogar</td>\n",
       "      <td>&lt;p class=\"TweetTextSize js-tweet-text tweet-text\" data-aria-label-part=\"0\" lang=\"en\"&gt;Retweet and Like if you want to gain more followers&lt;img alt=\"ð·\" aria-label=\"Emoji: Wine glass\" class=\"Emoji Emoji--forText\" draggable=\"false\" src=\"https://abs.twimg.com/emoji/v2/72x72/1f377.png\" title=\"Wine glass\"/&gt;\\r\\n&lt;a class=\"twitter-hashtag pretty-link js-nav\" data-query-source=\"hashtag_click\" dir=\"ltr\" href=\"/hashtag/Decorartehogar?src=hash\"&gt;&lt;s&gt;#&lt;/s&gt;&lt;b&gt;Decorartehogar&lt;/b&gt;&lt;/a&gt;&lt;/p&gt;</td>\n",
       "    </tr>\n",
       "    <tr>\n",
       "      <th>168640</th>\n",
       "      <td>crypto_ika</td>\n",
       "      <td>á¦Ëç¬Ëá¨ã¡ãããã@åè«ä¼æ­¢ä¸­</td>\n",
       "      <td>1060361417772023808</td>\n",
       "      <td>2018-11-08 02:40:37</td>\n",
       "      <td>/crypto_ika/status/1060361417772023808</td>\n",
       "      <td>0</td>\n",
       "      <td>1</td>\n",
       "      <td>0</td>\n",
       "      <td>é£åããããã«BTCãã¡ããä¸ã</td>\n",
       "      <td>&lt;p class=\"TweetTextSize js-tweet-text tweet-text\" data-aria-label-part=\"0\" lang=\"ja\"&gt;é£åããããã«&lt;strong&gt;BTC&lt;/strong&gt;ãã¡ããä¸ã&lt;/p&gt;</td>\n",
       "    </tr>\n",
       "    <tr>\n",
       "      <th>168641</th>\n",
       "      <td>jordankittle</td>\n",
       "      <td>Jordan Kittle [LTC]</td>\n",
       "      <td>1060361411434442752</td>\n",
       "      <td>2018-11-08 02:40:35</td>\n",
       "      <td>/jordankittle/status/1060361411434442752</td>\n",
       "      <td>1</td>\n",
       "      <td>0</td>\n",
       "      <td>0</td>\n",
       "      <td>I am hopeful that it can again help Bitcoin by serving as a testnet (with live funds) for confidential transactions or CT. Fungibility is missing from Bitcoin and Litecoin and it is their biggest weakness, in my opinion.</td>\n",
       "      <td>&lt;p class=\"TweetTextSize js-tweet-text tweet-text\" data-aria-label-part=\"0\" lang=\"en\"&gt;I am hopeful that it can again help &lt;strong&gt;Bitcoin&lt;/strong&gt; by serving as a testnet (with live funds) for confidential transactions or CT. Fungibility is missing from &lt;strong&gt;Bitcoin&lt;/strong&gt; and Litecoin and it is their biggest weakness, in my opinion.&lt;/p&gt;</td>\n",
       "    </tr>\n",
       "    <tr>\n",
       "      <th>168642</th>\n",
       "      <td>ZuziLong</td>\n",
       "      <td>Háº­u Äáº­u</td>\n",
       "      <td>1060361383752032256</td>\n",
       "      <td>2018-11-08 02:40:29</td>\n",
       "      <td>/ZuziLong/status/1060361383752032256</td>\n",
       "      <td>0</td>\n",
       "      <td>0</td>\n",
       "      <td>0</td>\n",
       "      <td>#HUBRISONE #HBRS #bitcoin #ethereum #cryptocurrency #ICO #tokensale\\r\\nhttp://www.HubrisOne.com/registerÂ https://twitter.com/HubrisOne/status/1060237266218557441Â â¦</td>\n",
       "      <td>&lt;p class=\"TweetTextSize js-tweet-text tweet-text\" data-aria-label-part=\"4\" lang=\"und\"&gt;&lt;a class=\"twitter-hashtag pretty-link js-nav\" data-query-source=\"hashtag_click\" dir=\"ltr\" href=\"/hashtag/HUBRISONE?src=hash\"&gt;&lt;s&gt;#&lt;/s&gt;&lt;b&gt;HUBRISONE&lt;/b&gt;&lt;/a&gt; &lt;a class=\"twitter-hashtag pretty-link js-nav\" data-query-source=\"hashtag_click\" dir=\"ltr\" href=\"/hashtag/HBRS?src=hash\"&gt;&lt;s&gt;#&lt;/s&gt;&lt;b&gt;HBRS&lt;/b&gt;&lt;/a&gt; &lt;a class=\"twitter-hashtag pretty-link js-nav\" data-query-source=\"hashtag_click\" dir=\"ltr\" href=\"/hashtag/bitcoin...</td>\n",
       "    </tr>\n",
       "  </tbody>\n",
       "</table>\n",
       "<p>168643 rows × 10 columns</p>\n",
       "</div>"
      ],
      "text/plain": [
       "                   user                                      fullname  \\\n",
       "0             coins_cat                               ãããã­ã   \n",
       "1               fdgrant                                    doug grant   \n",
       "2        AuthorityNomad                                 Bruce Stewart   \n",
       "3             JASF_MS03                                        Slinxs   \n",
       "4            pn2_sld_pn                                  ãã³ãµã©   \n",
       "...                 ...                                           ...   \n",
       "168638          suprraz                                           Raz   \n",
       "168639  BitCoin_Invest_                         Follow HelpÂ ð 17k   \n",
       "168640       crypto_ika  á¦Ëç¬Ëá¨ã¡ãããã@åè«ä¼æ­¢ä¸­   \n",
       "168641     jordankittle                           Jordan Kittle [LTC]   \n",
       "168642         ZuziLong                                  Háº­u Äáº­u   \n",
       "\n",
       "                   tweet-id            timestamp  \\\n",
       "0       1061770547653033986  2018-11-11 23:59:59   \n",
       "1       1061770546021625856  2018-11-11 23:59:59   \n",
       "2       1061770543311900672  2018-11-11 23:59:58   \n",
       "3       1061770509220749317  2018-11-11 23:59:50   \n",
       "4       1061770505907126272  2018-11-11 23:59:50   \n",
       "...                     ...                  ...   \n",
       "168638  1060361438659731456  2018-11-08 02:40:42   \n",
       "168639  1060361429830823937  2018-11-08 02:40:40   \n",
       "168640  1060361417772023808  2018-11-08 02:40:37   \n",
       "168641  1060361411434442752  2018-11-08 02:40:35   \n",
       "168642  1060361383752032256  2018-11-08 02:40:29   \n",
       "\n",
       "                                                url  likes  replies  retweets  \\\n",
       "0             /coins_cat/status/1061770547653033986      0        0         0   \n",
       "1               /fdgrant/status/1061770546021625856      0        1         0   \n",
       "2        /AuthorityNomad/status/1061770543311900672      1        0         0   \n",
       "3             /JASF_MS03/status/1061770509220749317      0        0         0   \n",
       "4            /pn2_sld_pn/status/1061770505907126272      0        0         0   \n",
       "...                                             ...    ...      ...       ...   \n",
       "168638          /suprraz/status/1060361438659731456      0        0         0   \n",
       "168639  /BitCoin_Invest_/status/1060361429830823937     16        1         4   \n",
       "168640       /crypto_ika/status/1060361417772023808      0        1         0   \n",
       "168641     /jordankittle/status/1060361411434442752      1        0         0   \n",
       "168642         /ZuziLong/status/1060361383752032256      0        0         0   \n",
       "\n",
       "                                                                                                                                                                                                                                                                                      text  \\\n",
       "0       ä»®æ³éè²¨ã®æä¾¡ç·é¡\\r\\n$212,656,534,168\\r\\n\\r\\nBTC\\r\\nä¾¡æ ¼:$6404.10\\r\\nãããã³ã¹:52.314%\\r\\nETH\\r\\nä¾¡æ ¼:$211.413\\r\\nãããã³ã¹:10.254%\\r\\nIXT(688ä½)\\r\\nä¾¡æ ¼:$0.0772\\r\\nãããã³ã¹:0.0013%\\r\\n#bitcoin #ethereum #ixt #cryptocurrency #ä»®æ³éè²¨   \n",
       "1                                                                                                                                                           You should go for the holy grail and get @RayDalio  on your show. Heâs a skeptic on bitcoin. Iâd PAY to hear that podcast.   \n",
       "2                                                                                                            What Bear Market? Major Bitcoin Mining Farm Goes Live in Canada https://www.ccn.com/what-bear-market-major-bitcoin-mining-farm-goes-live-in-canada/Â â¦ via @cryptocoinsnews   \n",
       "3                                                                   Bitcoin Mining Giant Bitmain Sues âJohn Doeâ Binance Hacker Over $5.5 Million BTC Theft https://www.livebitcoinnews.com/bitcoin-mining-giant-bitmain-sues-john-doe-binance-hacker-over-5-5-million-btc-theft/Â â¦   \n",
       "4                                                                                                                                                       ãã¼BTCãªãã£ã¦ããªãä½ããã£ãã®ããªï¼\\r\\næµç³ã«ä¹ãã¦ãªããã©ããã¼ãã¸ã ã£ãããããã   \n",
       "...                                                                                                                                                                                                                                                                                    ...   \n",
       "168638                                                                                                                                                                                                                                                      The dollar is a BTC sidechain.   \n",
       "168639                                                                                                                                                                                                              Retweet and Like if you want to gain more followers\\r\\n#Decorartehogar   \n",
       "168640                                                                                                                                                                                                                                          é£åããããã«BTCãã¡ããä¸ã   \n",
       "168641                                                        I am hopeful that it can again help Bitcoin by serving as a testnet (with live funds) for confidential transactions or CT. Fungibility is missing from Bitcoin and Litecoin and it is their biggest weakness, in my opinion.   \n",
       "168642                                                                                                             #HUBRISONE #HBRS #bitcoin #ethereum #cryptocurrency #ICO #tokensale\\r\\nhttp://www.HubrisOne.com/registerÂ https://twitter.com/HubrisOne/status/1060237266218557441Â â¦   \n",
       "\n",
       "                                                                                                                                                                                                                                                                                                                                                                                                                                                                                                                       html  \n",
       "0       <p class=\"TweetTextSize js-tweet-text tweet-text\" data-aria-label-part=\"0\" lang=\"ja\"><img alt=\"ðµ\" aria-label=\"Emoji: Banknote with dollar sign\" class=\"Emoji Emoji--forText\" draggable=\"false\" src=\"https://abs.twimg.com/emoji/v2/72x72/1f4b5.png\" title=\"Banknote with dollar sign\"/>ä»®æ³éè²¨ã®æä¾¡ç·é¡<img alt=\"ðµ\" aria-label=\"Emoji: Banknote with dollar sign\" class=\"Emoji Emoji--forText\" draggable=\"false\" src=\"https://abs.twimg.com/emoji/v2/72x72/1f4b5.png\" title=\"Banknote with doll...  \n",
       "1                                                                                                                                                     <p class=\"TweetTextSize js-tweet-text tweet-text\" data-aria-label-part=\"0\" lang=\"en\">You should go for the holy grail and get <a class=\"twitter-atreply pretty-link js-nav\" data-mentioned-user-id=\"62603893\" dir=\"ltr\" href=\"/RayDalio\"><s>@</s><b>RayDalio</b></a>  on your show. Heâs a skeptic on <strong>bitcoin</strong>. Iâd PAY to hear that podcast.</p>  \n",
       "2       <p class=\"TweetTextSize js-tweet-text tweet-text\" data-aria-label-part=\"0\" lang=\"en\">What Bear Market? Major <strong>Bitcoin</strong> Mining Farm Goes Live in Canada <a class=\"twitter-timeline-link\" data-expanded-url=\"https://www.ccn.com/what-bear-market-major-bitcoin-mining-farm-goes-live-in-canada/\" dir=\"ltr\" href=\"https://t.co/TFvlFYiWEP\" rel=\"nofollow noopener\" target=\"_blank\" title=\"https://www.ccn.com/what-bear-market-major-bitcoin-mining-farm-goes-live-in-canada/\"><span class=\"tco-ell...  \n",
       "3       <p class=\"TweetTextSize js-tweet-text tweet-text\" data-aria-label-part=\"0\" lang=\"en\"><strong>Bitcoin</strong> Mining Giant Bitmain Sues âJohn Doeâ Binance Hacker Over $5.5 Million <strong>BTC</strong> Theft <a class=\"twitter-timeline-link u-hidden\" data-expanded-url=\"https://www.livebitcoinnews.com/bitcoin-mining-giant-bitmain-sues-john-doe-binance-hacker-over-5-5-million-btc-theft/\" dir=\"ltr\" href=\"https://t.co/8gF3qqRTMO\" rel=\"nofollow noopener\" target=\"_blank\" title=\"https://www.liveb...  \n",
       "4                                                                                                                                                                                                                                                                              <p class=\"TweetTextSize js-tweet-text tweet-text\" data-aria-label-part=\"0\" lang=\"ja\">ãã¼<strong>BTC</strong>ãªãã£ã¦ããªãä½ããã£ãã®ããªï¼\\r\\næµç³ã«ä¹ãã¦ãªããã©ããã¼ãã¸ã ã£ãããããã</p>  \n",
       "...                                                                                                                                                                                                                                                                                                                                                                                                                                                                                                                     ...  \n",
       "168638                                                                                                                                                                                                                                                                                                                                                                             <p class=\"TweetTextSize js-tweet-text tweet-text\" data-aria-label-part=\"0\" lang=\"en\">The dollar is a <strong>BTC</strong> sidechain.</p>  \n",
       "168639                           <p class=\"TweetTextSize js-tweet-text tweet-text\" data-aria-label-part=\"0\" lang=\"en\">Retweet and Like if you want to gain more followers<img alt=\"ð·\" aria-label=\"Emoji: Wine glass\" class=\"Emoji Emoji--forText\" draggable=\"false\" src=\"https://abs.twimg.com/emoji/v2/72x72/1f377.png\" title=\"Wine glass\"/>\\r\\n<a class=\"twitter-hashtag pretty-link js-nav\" data-query-source=\"hashtag_click\" dir=\"ltr\" href=\"/hashtag/Decorartehogar?src=hash\"><s>#</s><b>Decorartehogar</b></a></p>  \n",
       "168640                                                                                                                                                                                                                                                                                                                                                                 <p class=\"TweetTextSize js-tweet-text tweet-text\" data-aria-label-part=\"0\" lang=\"ja\">é£åããããã«<strong>BTC</strong>ãã¡ããä¸ã</p>  \n",
       "168641                                                                                                                                                              <p class=\"TweetTextSize js-tweet-text tweet-text\" data-aria-label-part=\"0\" lang=\"en\">I am hopeful that it can again help <strong>Bitcoin</strong> by serving as a testnet (with live funds) for confidential transactions or CT. Fungibility is missing from <strong>Bitcoin</strong> and Litecoin and it is their biggest weakness, in my opinion.</p>  \n",
       "168642  <p class=\"TweetTextSize js-tweet-text tweet-text\" data-aria-label-part=\"4\" lang=\"und\"><a class=\"twitter-hashtag pretty-link js-nav\" data-query-source=\"hashtag_click\" dir=\"ltr\" href=\"/hashtag/HUBRISONE?src=hash\"><s>#</s><b>HUBRISONE</b></a> <a class=\"twitter-hashtag pretty-link js-nav\" data-query-source=\"hashtag_click\" dir=\"ltr\" href=\"/hashtag/HBRS?src=hash\"><s>#</s><b>HBRS</b></a> <a class=\"twitter-hashtag pretty-link js-nav\" data-query-source=\"hashtag_click\" dir=\"ltr\" href=\"/hashtag/bitcoin...  \n",
       "\n",
       "[168643 rows x 10 columns]"
      ]
     },
     "execution_count": 4,
     "metadata": {},
     "output_type": "execute_result"
    }
   ],
   "source": [
    "df"
   ]
  },
  {
   "cell_type": "markdown",
   "metadata": {},
   "source": [
    "### Understanding data"
   ]
  },
  {
   "cell_type": "code",
   "execution_count": null,
   "metadata": {},
   "outputs": [],
   "source": [
    "# to drop first row(0) with blank values\n",
    "df.drop(0,axis=0,inplace=True)"
   ]
  },
  {
   "cell_type": "markdown",
   "metadata": {},
   "source": [
    "### Analyze dimensions"
   ]
  },
  {
   "cell_type": "code",
   "execution_count": null,
   "metadata": {},
   "outputs": [
    {
     "name": "stdout",
     "output_type": "stream",
     "text": [
      "<class 'pandas.core.frame.DataFrame'>\n",
      "Int64Index: 168642 entries, 1 to 168642\n",
      "Data columns (total 10 columns):\n",
      "user         168642 non-null object\n",
      "fullname     168640 non-null object\n",
      "tweet-id     168642 non-null int64\n",
      "timestamp    168642 non-null object\n",
      "url          168642 non-null object\n",
      "likes        168642 non-null int64\n",
      "replies      168642 non-null int64\n",
      "retweets     168642 non-null int64\n",
      "text         168551 non-null object\n",
      "html         168642 non-null object\n",
      "dtypes: int64(4), object(6)\n",
      "memory usage: 14.2+ MB\n",
      "\n",
      "size(rows*columns) - 1686420\n",
      "\n",
      "columns - Index(['user', 'fullname', 'tweet-id', 'timestamp', 'url', 'likes', 'replies',\n",
      "       'retweets', 'text', 'html'],\n",
      "      dtype='object')\n",
      "\n",
      "shape - (168642, 10)\n",
      "\n"
     ]
    }
   ],
   "source": [
    "columns = df.columns\n",
    "size = df.size\n",
    "shape = df.shape\n",
    "# default print\n",
    "info = df.info()\n",
    "\n",
    "print(\"\\n\"+\"size(rows*columns) - \"+str(size)+\"\\n\")\n",
    "print(\"columns - \"+str(columns)+\"\\n\")\n",
    "print(\"shape - \"+str(shape)+\"\\n\")\n"
   ]
  },
  {
   "cell_type": "markdown",
   "metadata": {},
   "source": [
    "### Handel Missing values "
   ]
  },
  {
   "cell_type": "code",
   "execution_count": null,
   "metadata": {},
   "outputs": [
    {
     "data": {
      "text/plain": [
       "True"
      ]
     },
     "execution_count": 8,
     "metadata": {},
     "output_type": "execute_result"
    }
   ],
   "source": [
    "df.isnull().values.any()"
   ]
  },
  {
   "cell_type": "code",
   "execution_count": null,
   "metadata": {},
   "outputs": [
    {
     "data": {
      "text/plain": [
       "user          0\n",
       "fullname      2\n",
       "tweet-id      0\n",
       "timestamp     0\n",
       "url           0\n",
       "likes         0\n",
       "replies       0\n",
       "retweets      0\n",
       "text         91\n",
       "html          0\n",
       "dtype: int64"
      ]
     },
     "execution_count": 9,
     "metadata": {},
     "output_type": "execute_result"
    }
   ],
   "source": [
    "# df.dropna(how='any', inplace = 'true')\n",
    "# df.dropna(subset = ['text'], how = 'any', inplace = True)\n",
    "\n",
    "df.isnull().sum()"
   ]
  },
  {
   "cell_type": "code",
   "execution_count": null,
   "metadata": {},
   "outputs": [],
   "source": [
    "# Drop rows with missing values in text columns\n",
    "df['text'].replace(\"\", np.nan, inplace=True)\n",
    "df.dropna(subset=['text'], inplace=True)\n"
   ]
  },
  {
   "cell_type": "markdown",
   "metadata": {},
   "source": [
    "### Handel Duplicate Values"
   ]
  },
  {
   "cell_type": "code",
   "execution_count": null,
   "metadata": {},
   "outputs": [
    {
     "name": "stdout",
     "output_type": "stream",
     "text": [
      "False\n"
     ]
    }
   ],
   "source": [
    "print(df.duplicated().all())\n",
    "# df.drop_duplicates(keep=\"first\", inplace = true).shape"
   ]
  },
  {
   "cell_type": "markdown",
   "metadata": {},
   "source": [
    "### Other Languages"
   ]
  },
  {
   "cell_type": "code",
   "execution_count": null,
   "metadata": {},
   "outputs": [],
   "source": [
    "\n",
    "count = 0\n",
    "# for feature not found\n",
    "count2 = 0 \n",
    "for i in range(1, len(df), 2):\n",
    "#     print(i)\n",
    "    try:\n",
    "        if (detect(str(df.loc[i,'text'])) != \"en\"):\n",
    "            df.drop(i, axis = 0, inplace = True)\n",
    "            count +=1\n",
    "\n",
    "    except Exception:\n",
    "        count2 +=1\n",
    "print(\"other language \"+str(count))\n",
    "print(\"feature not found for \"+str(count2))\n"
   ]
  },
  {
   "cell_type": "code",
   "execution_count": null,
   "metadata": {},
   "outputs": [],
   "source": [
    "df.shape"
   ]
  },
  {
   "cell_type": "markdown",
   "metadata": {},
   "source": [
    "df.drop(81230,axis=0,inplace=True)\n",
    "print(detect(\"Catherine Flick  Bitcoin Dual Use Dilemma   Bitcoin Media   bitcoin\"))"
   ]
  },
  {
   "cell_type": "markdown",
   "metadata": {},
   "source": [
    "### Handle Stopwords"
   ]
  },
  {
   "cell_type": "code",
   "execution_count": null,
   "metadata": {
    "scrolled": true
   },
   "outputs": [],
   "source": [
    "# download this once\n",
    "# import nltk\n",
    "# nltk.download('stopwords')\n",
    "\n",
    "stop = stopwords.words(\"english\")\n",
    "print(df['text']+\"\\n\")\n",
    "df['step1'] =  df['text'].apply(lambda x: ' '.join([word for word in x.split() if word not in (stop)]))\n",
    "print(df['step1'])\n"
   ]
  },
  {
   "cell_type": "markdown",
   "metadata": {},
   "source": [
    "### Handle Abbreviations"
   ]
  },
  {
   "cell_type": "code",
   "execution_count": null,
   "metadata": {},
   "outputs": [],
   "source": [
    "def translator(user_string):\n",
    "    user_string = user_string.split(\" \")\n",
    "    j = 0\n",
    "    for _str in user_string:\n",
    "        # File path which consists of Abbreviations.\n",
    "        fileName = \"D:\\\\BE_Project\\\\notebooks\\\\slangs.txt\"\n",
    "        # File Access mode [Read Mode]\n",
    "        accessMode = \"r\"\n",
    "        with open(fileName, accessMode) as myCSVfile:\n",
    "            # Reading file as CSV with delimiter as \"=\", so that abbreviation are stored in row[0] and phrases in row[1]\n",
    "            dataFromFile = csv.reader(myCSVfile, delimiter=\"=\")\n",
    "            # Removing Special Characters.\n",
    "            _str = re.sub('[^a-zA-Z0-9-_.]', '', _str)\n",
    "            for row in dataFromFile:\n",
    "                # Check if selected word matches short forms[LHS] in text file.\n",
    "                if _str.upper() == row[0]:\n",
    "                    # If match found replace it with its appropriate phrase in text file.\n",
    "                    user_string[j] = row[1]\n",
    "            myCSVfile.close()\n",
    "        j = j + 1\n",
    "    # Replacing commas with spaces for final output.\n",
    "    return ' '.join(user_string)\n",
    "#     return user_string\n",
    "\n",
    "\n",
    "    "
   ]
  },
  {
   "cell_type": "code",
   "execution_count": null,
   "metadata": {},
   "outputs": [],
   "source": [
    "df['step1'] = df['step1'].apply(lambda x: translator(x))\n",
    "print(df['step1'])"
   ]
  },
  {
   "cell_type": "code",
   "execution_count": null,
   "metadata": {},
   "outputs": [],
   "source": [
    "# need a map for this i guess\n",
    "df"
   ]
  },
  {
   "cell_type": "markdown",
   "metadata": {},
   "source": [
    "### Handle Mentions, Urls, Hashtags"
   ]
  },
  {
   "cell_type": "code",
   "execution_count": null,
   "metadata": {},
   "outputs": [],
   "source": [
    "def preprocess(row):\n",
    "#   mention\n",
    "    row = re.sub(r'@[A-Za-z0-9]+','',row)\n",
    "#   url\n",
    "    row = re.sub('https?://[A-Za-z0-9./]+','',row)\n",
    "#   hashtags\n",
    "    row = re.sub(\"[^a-zA-Z]\", \" \", row)\n",
    "    return row\n",
    "\n",
    "df['step1'] = df['step1'].apply(preprocess)"
   ]
  },
  {
   "cell_type": "code",
   "execution_count": null,
   "metadata": {},
   "outputs": [],
   "source": [
    "df"
   ]
  },
  {
   "cell_type": "markdown",
   "metadata": {},
   "source": [
    "### Stemming "
   ]
  },
  {
   "cell_type": "code",
   "execution_count": null,
   "metadata": {},
   "outputs": [],
   "source": [
    "ps = PorterStemmer()\n",
    "df['stem'] = df['step1'].apply(lambda x: ' '.join([ps.stem(word) for word in x.split()])) \n",
    "print(df['stem'])"
   ]
  },
  {
   "cell_type": "markdown",
   "metadata": {},
   "source": [
    "### Lemmetization"
   ]
  },
  {
   "cell_type": "code",
   "execution_count": null,
   "metadata": {},
   "outputs": [],
   "source": [
    "# import nltk\n",
    "# nltk.download('wordnet')\n",
    "lmtzr = WordNetLemmatizer()\n",
    "df['lem'] = df['step1'].apply(lambda x: ' '.join([lmtzr.lemmatize(word, 'v') for word in x.split()])) \n",
    "print(df['lem'])"
   ]
  },
  {
   "cell_type": "markdown",
   "metadata": {},
   "source": [
    "### Captilization"
   ]
  },
  {
   "cell_type": "code",
   "execution_count": null,
   "metadata": {},
   "outputs": [],
   "source": [
    "df['cap'] = df['step1'].apply(lambda x: ' '.join([word.upper() for word in x.split()])) \n",
    "print(df['cap'])"
   ]
  },
  {
   "cell_type": "markdown",
   "metadata": {},
   "source": [
    "### POS"
   ]
  },
  {
   "cell_type": "code",
   "execution_count": null,
   "metadata": {},
   "outputs": [],
   "source": [
    "# nltk.download('punkt')\n",
    "# nltk.download('averaged_perceptron_tagger')\n",
    " \n",
    "df['pos'] = df['step1'].apply(lambda x: nltk.pos_tag(nltk.word_tokenize(x))) \n",
    "print(df['pos'])"
   ]
  },
  {
   "cell_type": "code",
   "execution_count": null,
   "metadata": {},
   "outputs": [],
   "source": [
    "df.to_csv(\"..\\Data_json_csv\\P_5_Nov_14_Nov.csv\", index=False)"
   ]
  },
  {
   "cell_type": "code",
   "execution_count": null,
   "metadata": {},
   "outputs": [],
   "source": [
    "df.head()"
   ]
  }
 ],
 "metadata": {
  "kernelspec": {
   "display_name": "Python 3",
   "language": "python",
   "name": "python3"
  },
  "language_info": {
   "codemirror_mode": {
    "name": "ipython",
    "version": 3
   },
   "file_extension": ".py",
   "mimetype": "text/x-python",
   "name": "python",
   "nbconvert_exporter": "python",
   "pygments_lexer": "ipython3",
   "version": "3.6.4"
  }
 },
 "nbformat": 4,
 "nbformat_minor": 2
}
