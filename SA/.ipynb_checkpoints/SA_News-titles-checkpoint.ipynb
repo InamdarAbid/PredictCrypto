{
 "cells": [
  {
   "cell_type": "markdown",
   "metadata": {},
   "source": [
    "# Sentiment Analysis with an RNN\n",
    "<img src=\"http://www.polyvista.com/blog/wp-content/uploads/2015/06/sentiment-customer-exp-large.png\">\n",
    "<p style=\"font-size:10px;\">http://www.polyvista.com/blog/wp-content/uploads/2015/06/sentiment-customer-exp-large.png</p>"
   ]
  },
  {
   "cell_type": "markdown",
   "metadata": {},
   "source": [
    "## What is Sentiment Analysis?\n",
    "\n",
    "Sentiment Analysis also know as opinion mining refers to the identification, extraction and study of sentiment states by using natural language processing, text analysis, computational linguistics and biometrics."
   ]
  },
  {
   "cell_type": "markdown",
   "metadata": {},
   "source": [
    "## Sentiment Analysis with an Recurrent Neural Network\n",
    "\n",
    "We will use a RNN for sentiment analysis because we care for the sequence in the data."
   ]
  },
  {
   "cell_type": "markdown",
   "metadata": {},
   "source": [
    "### Imports"
   ]
  },
  {
   "cell_type": "code",
   "execution_count": 1,
   "metadata": {},
   "outputs": [
    {
     "name": "stderr",
     "output_type": "stream",
     "text": [
      "Using TensorFlow backend.\n"
     ]
    }
   ],
   "source": [
    "import re\n",
    "import numpy as np\n",
    "import pandas as pd\n",
    "from sklearn.model_selection import train_test_split\n",
    "import matplotlib.pyplot as plt\n",
    "\n",
    "from keras.models import Sequential, load_model\n",
    "from keras.layers import Dense, LSTM, Embedding, Dropout\n",
    "from keras.preprocessing.text import Tokenizer\n",
    "from keras.preprocessing.sequence import pad_sequences"
   ]
  },
  {
   "cell_type": "code",
   "execution_count": 2,
   "metadata": {},
   "outputs": [],
   "source": [
    "# setting some options of pandas\n",
    "\n",
    "pd.set_option('display.max_colwidth', 260)\n",
    "pd.set_option('display.max_rows', 50)"
   ]
  },
  {
   "cell_type": "markdown",
   "metadata": {},
   "source": [
    "### Loading in Dataset"
   ]
  },
  {
   "cell_type": "code",
   "execution_count": 3,
   "metadata": {},
   "outputs": [
    {
     "name": "stdout",
     "output_type": "stream",
     "text": [
      "(501, 15)\n"
     ]
    },
    {
     "data": {
      "text/html": [
       "<div>\n",
       "<style scoped>\n",
       "    .dataframe tbody tr th:only-of-type {\n",
       "        vertical-align: middle;\n",
       "    }\n",
       "\n",
       "    .dataframe tbody tr th {\n",
       "        vertical-align: top;\n",
       "    }\n",
       "\n",
       "    .dataframe thead th {\n",
       "        text-align: right;\n",
       "    }\n",
       "</style>\n",
       "<table border=\"1\" class=\"dataframe\">\n",
       "  <thead>\n",
       "    <tr style=\"text-align: right;\">\n",
       "      <th></th>\n",
       "      <th>Sr</th>\n",
       "      <th>author</th>\n",
       "      <th>title</th>\n",
       "      <th>timestamp</th>\n",
       "      <th>text</th>\n",
       "      <th>Label (-2 to 2)</th>\n",
       "      <th>spam_score</th>\n",
       "      <th>performance_score</th>\n",
       "      <th>facebook_likes</th>\n",
       "      <th>facebook_comments</th>\n",
       "      <th>facebook_shares</th>\n",
       "      <th>preprocess</th>\n",
       "      <th>stem</th>\n",
       "      <th>lem</th>\n",
       "      <th>cap</th>\n",
       "    </tr>\n",
       "  </thead>\n",
       "  <tbody>\n",
       "    <tr>\n",
       "      <th>0</th>\n",
       "      <td>1</td>\n",
       "      <td>NaN</td>\n",
       "      <td>Why Bitcoin and Crypto Have No Future Ã¢Â€Â“ Think Outside the Blox Ã¢Â€Â“ Medium</td>\n",
       "      <td>2018-10-19T03:00:00.000+03:00</td>\n",
       "      <td>Cryptoasset enthusiast and investor. economics. @outsidethebloxx Oct 18 Why Bitcoin and Crypto Have No Future Why do Bitcoin and cryptoassets have no futureÃ¢Â€Â¦ when the NYSE is creating the cryptocurrency trading platform Bakkt in collaboration with Mic...</td>\n",
       "      <td>-2.0</td>\n",
       "      <td>0</td>\n",
       "      <td>7</td>\n",
       "      <td>1528</td>\n",
       "      <td>519</td>\n",
       "      <td>775</td>\n",
       "      <td>Cryptoasset enthusiast investor. economics. Oct 18 Why Bitcoin Crypto Have No Future Why Bitcoin cryptoassets futureÃ¢Â€Â¦ NYSE creating cryptocurrency trading platform Bakkt collaboration Microsoft Starbucks physically backed Bitcoin futures contracts. Fi...</td>\n",
       "      <td>cryptoasset enthusiast investor. economics. oct 18 whi bitcoin crypto have No futur whi bitcoin cryptoasset futureÃ¢Â€Â¦ nyse creat cryptocurr trade platform bakkt collabor microsoft starbuck physic back bitcoin futur contracts. fidel offer client mine sin...</td>\n",
       "      <td>Cryptoasset enthusiast investor. economics. Oct 18 Why Bitcoin Crypto Have No Future Why Bitcoin cryptoassets futureÃ¢Â€Â¦ NYSE create cryptocurrency trade platform Bakkt collaboration Microsoft Starbucks physically back Bitcoin futures contracts. Fidelity...</td>\n",
       "      <td>CRYPTOASSET ENTHUSIAST INVESTOR. ECONOMICS. OCT 18 WHY BITCOIN CRYPTO HAVE NO FUTURE WHY BITCOIN CRYPTOASSETS FUTUREÃ‚Â€Â¦ NYSE CREATING CRYPTOCURRENCY TRADING PLATFORM BAKKT COLLABORATION MICROSOFT STARBUCKS PHYSICALLY BACKED BITCOIN FUTURES CONTRACTS. FI...</td>\n",
       "    </tr>\n",
       "    <tr>\n",
       "      <th>1</th>\n",
       "      <td>2</td>\n",
       "      <td>NaN</td>\n",
       "      <td>Deduct tithes straight from workersÃ¢Â€Â™ salaries, Archbishop begs govt Ã¢Â€Â“ Punch Newspapers</td>\n",
       "      <td>2018-10-29T02:00:00.000+02:00</td>\n",
       "      <td>Deduct tithes straight from workersÃ¢Â€Â™ salaries, Archbishop begs govt Published October 29, 2018 Kampala Bishop, Dr Cyprian Kizito Lwanga. Source: CitizenTV.\\nThe Archbishop of Kampala, Cyprian Kizito Lwanga, has suggested that the government of Uganda ...</td>\n",
       "      <td>0.0</td>\n",
       "      <td>0</td>\n",
       "      <td>10</td>\n",
       "      <td>4005</td>\n",
       "      <td>4914</td>\n",
       "      <td>1426</td>\n",
       "      <td>Deduct tithes straight workersÃ¢Â€Â™ salaries, Archbishop begs govt Published October 29, 2018 Kampala Bishop, Dr Cyprian Kizito Lwanga. Source: CitizenTV. The Archbishop Kampala, Cyprian Kizito Lwanga, suggested government Uganda deduct tithe workersÃ¢Â€Â...</td>\n",
       "      <td>deduct tith straight workersÃ¢Â€Â™ salaries, archbishop beg govt publish octob 29, 2018 kampala bishop, Dr cyprian kizito lwanga. source: citizentv. the archbishop kampala, cyprian kizito lwanga, suggest govern uganda deduct tith workersÃ¢Â€Â™ salaries. sp...</td>\n",
       "      <td>Deduct tithe straight workersÃ¢Â€Â™ salaries, Archbishop beg govt Published October 29, 2018 Kampala Bishop, Dr Cyprian Kizito Lwanga. Source: CitizenTV. The Archbishop Kampala, Cyprian Kizito Lwanga, suggest government Uganda deduct tithe workersÃ¢Â€Â™ sa...</td>\n",
       "      <td>DEDUCT TITHES STRAIGHT WORKERSÃ‚Â€Â™ SALARIES, ARCHBISHOP BEGS GOVT PUBLISHED OCTOBER 29, 2018 KAMPALA BISHOP, DR CYPRIAN KIZITO LWANGA. SOURCE: CITIZENTV. THE ARCHBISHOP KAMPALA, CYPRIAN KIZITO LWANGA, SUGGESTED GOVERNMENT UGANDA DEDUCT TITHE WORKERSÃ‚Â€Â...</td>\n",
       "    </tr>\n",
       "    <tr>\n",
       "      <th>2</th>\n",
       "      <td>3</td>\n",
       "      <td>Mark Townsend</td>\n",
       "      <td>Tommy Robinson Ã¢Â€Â˜stands to make Ã‚Â£1mÃ¢Â€Â™ on US speaking tour | UK news | The Guardian</td>\n",
       "      <td>2018-10-27T18:56:00.000+03:00</td>\n",
       "      <td>Tommy Robinson could make more than Ã‚Â£1m from a potential trip to the US next month, making him one of the best funded far-right figures since the second world war, an analysis by anti-fascist campaigners says.\\nThe English Defence League founder, whose ...</td>\n",
       "      <td>1.0</td>\n",
       "      <td>0</td>\n",
       "      <td>10</td>\n",
       "      <td>8429</td>\n",
       "      <td>8507</td>\n",
       "      <td>1617</td>\n",
       "      <td>Tommy Robinson could make Ã‚Â£1m potential trip US next month, making one best funded far-right figures since second world war, analysis anti-fascist campaigners says. The English Defence League founder, whose real name Stephen Yaxley-Lennon, invited give ...</td>\n",
       "      <td>tommi robinson could make Ã¢Â£1m potenti trip US next month, make one best fund far-right figur sinc second world war, analysi anti-fascist campaign says. the english defenc leagu founder, whose real name stephen yaxley-lennon, invit give address washingto...</td>\n",
       "      <td>Tommy Robinson could make Ã‚Â£1m potential trip US next month, make one best fund far-right figure since second world war, analysis anti-fascist campaigners says. The English Defence League founder, whose real name Stephen Yaxley-Lennon, invite give addres...</td>\n",
       "      <td>TOMMY ROBINSON COULD MAKE Ã‚Â£1M POTENTIAL TRIP US NEXT MONTH, MAKING ONE BEST FUNDED FAR-RIGHT FIGURES SINCE SECOND WORLD WAR, ANALYSIS ANTI-FASCIST CAMPAIGNERS SAYS. THE ENGLISH DEFENCE LEAGUE FOUNDER, WHOSE REAL NAME STEPHEN YAXLEY-LENNON, INVITED GIVE ...</td>\n",
       "    </tr>\n",
       "    <tr>\n",
       "      <th>3</th>\n",
       "      <td>4</td>\n",
       "      <td>Kate Rooney</td>\n",
       "      <td>Fidelity launches trade execution and custody for cryptocurrencies</td>\n",
       "      <td>2018-10-15T20:30:00.000+03:00</td>\n",
       "      <td>Bitcoin Fidelity just made it easier for hedge funds and other pros to invest in cryptocurrencies Fidelity Investments, which administers more than $7.2 trillion in client assets, announced a new and separate company called Fidelity Digital Asset Services ...</td>\n",
       "      <td>2.0</td>\n",
       "      <td>0</td>\n",
       "      <td>7</td>\n",
       "      <td>1431</td>\n",
       "      <td>299</td>\n",
       "      <td>783</td>\n",
       "      <td>Bitcoin Fidelity made easier hedge funds pros invest cryptocurrencies Fidelity Investments, administers $7.2 trillion client assets, announced new separatpany called Fidelity Digital Asset Services Monday. The firm handle custody cryptocurrencies bitcoin e...</td>\n",
       "      <td>bitcoin fidel made easier hedg fund pro invest cryptocurr fidel investments, administ $7.2 trillion client assets, announc new separatpani call fidel digit asset servic monday. the firm handl custodi cryptocurr bitcoin execut trade multipl exchang investor...</td>\n",
       "      <td>Bitcoin Fidelity make easier hedge fund pros invest cryptocurrencies Fidelity Investments, administer $7.2 trillion client assets, announce new separatpany call Fidelity Digital Asset Services Monday. The firm handle custody cryptocurrencies bitcoin execut...</td>\n",
       "      <td>BITCOIN FIDELITY MADE EASIER HEDGE FUNDS PROS INVEST CRYPTOCURRENCIES FIDELITY INVESTMENTS, ADMINISTERS $7.2 TRILLION CLIENT ASSETS, ANNOUNCED NEW SEPARATPANY CALLED FIDELITY DIGITAL ASSET SERVICES MONDAY. THE FIRM HANDLE CUSTODY CRYPTOCURRENCIES BITCOIN E...</td>\n",
       "    </tr>\n",
       "    <tr>\n",
       "      <th>4</th>\n",
       "      <td>5</td>\n",
       "      <td>theblaze.com</td>\n",
       "      <td>WATCH: Hillary Clinton jokes about black Democrats: Ã¢Â€Â˜I know they all look alikeÃ¢Â€Â™ | TheBlaze</td>\n",
       "      <td>2018-10-30T07:20:00.000+02:00</td>\n",
       "      <td>Hillary Clinton appeared quite amused with herself after making a joke during an interview that could be interpreted as racist against black people.\\nClinton sat down with Kara Swisher for the Recode Decode podcast over the weekend. Swisher asked Clinton a...</td>\n",
       "      <td>1.0</td>\n",
       "      <td>0</td>\n",
       "      <td>10</td>\n",
       "      <td>4289</td>\n",
       "      <td>1107</td>\n",
       "      <td>1445</td>\n",
       "      <td>Hillary Clinton appeared quite amused making joke interview could interpreted racist black people. Clinton sat Kara Swisher Recode Decode podcast weekend. Swisher asked Clinton former Attorney General Eric HolderÃ¢Â€Â™ment Ã¢Â€ÂœWhen go low, kick Ã¢Â€Â™em....</td>\n",
       "      <td>hillari clinton appear quit amus make joke interview could interpret racist black people. clinton sat kara swisher recod decod podcast weekend. swisher ask clinton former attorney gener eric holderÃ¢Â€Â™ Ã¢Â€Âœwhen go low, kick Ã¢Â€Â™em. thatÃ¢Â€Â™ new dem...</td>\n",
       "      <td>Hillary Clinton appear quite amuse make joke interview could interpret racist black people. Clinton sit Kara Swisher Recode Decode podcast weekend. Swisher ask Clinton former Attorney General Eric HolderÃ¢Â€Â™ment Ã¢Â€ÂœWhen go low, kick Ã¢Â€Â™em. ThatÃ¢Â€...</td>\n",
       "      <td>HILLARY CLINTON APPEARED QUITE AMUSED MAKING JOKE INTERVIEW COULD INTERPRETED RACIST BLACK PEOPLE. CLINTON SAT KARA SWISHER RECODE DECODE PODCAST WEEKEND. SWISHER ASKED CLINTON FORMER ATTORNEY GENERAL ERIC HOLDERÃ‚Â€Â™MENT Ã‚Â€ÂœWHEN GO LOW, KICK Ã‚Â€Â™EM....</td>\n",
       "    </tr>\n",
       "  </tbody>\n",
       "</table>\n",
       "</div>"
      ],
      "text/plain": [
       "  Sr         author  \\\n",
       "0  1            NaN   \n",
       "1  2            NaN   \n",
       "2  3  Mark Townsend   \n",
       "3  4    Kate Rooney   \n",
       "4  5   theblaze.com   \n",
       "\n",
       "                                                                                                   title  \\\n",
       "0                      Why Bitcoin and Crypto Have No Future Ã¢Â€Â“ Think Outside the Blox Ã¢Â€Â“ Medium   \n",
       "1       Deduct tithes straight from workersÃ¢Â€Â™ salaries, Archbishop begs govt Ã¢Â€Â“ Punch Newspapers   \n",
       "2          Tommy Robinson Ã¢Â€Â˜stands to make Ã‚Â£1mÃ¢Â€Â™ on US speaking tour | UK news | The Guardian   \n",
       "3                                     Fidelity launches trade execution and custody for cryptocurrencies   \n",
       "4  WATCH: Hillary Clinton jokes about black Democrats: Ã¢Â€Â˜I know they all look alikeÃ¢Â€Â™ | TheBlaze   \n",
       "\n",
       "                       timestamp  \\\n",
       "0  2018-10-19T03:00:00.000+03:00   \n",
       "1  2018-10-29T02:00:00.000+02:00   \n",
       "2  2018-10-27T18:56:00.000+03:00   \n",
       "3  2018-10-15T20:30:00.000+03:00   \n",
       "4  2018-10-30T07:20:00.000+02:00   \n",
       "\n",
       "                                                                                                                                                                                                                                                                  text  \\\n",
       "0  Cryptoasset enthusiast and investor. economics. @outsidethebloxx Oct 18 Why Bitcoin and Crypto Have No Future Why do Bitcoin and cryptoassets have no futureÃ¢Â€Â¦ when the NYSE is creating the cryptocurrency trading platform Bakkt in collaboration with Mic...   \n",
       "1  Deduct tithes straight from workersÃ¢Â€Â™ salaries, Archbishop begs govt Published October 29, 2018 Kampala Bishop, Dr Cyprian Kizito Lwanga. Source: CitizenTV.\\nThe Archbishop of Kampala, Cyprian Kizito Lwanga, has suggested that the government of Uganda ...   \n",
       "2  Tommy Robinson could make more than Ã‚Â£1m from a potential trip to the US next month, making him one of the best funded far-right figures since the second world war, an analysis by anti-fascist campaigners says.\\nThe English Defence League founder, whose ...   \n",
       "3  Bitcoin Fidelity just made it easier for hedge funds and other pros to invest in cryptocurrencies Fidelity Investments, which administers more than $7.2 trillion in client assets, announced a new and separate company called Fidelity Digital Asset Services ...   \n",
       "4  Hillary Clinton appeared quite amused with herself after making a joke during an interview that could be interpreted as racist against black people.\\nClinton sat down with Kara Swisher for the Recode Decode podcast over the weekend. Swisher asked Clinton a...   \n",
       "\n",
       "   Label (-2 to 2) spam_score performance_score facebook_likes  \\\n",
       "0             -2.0          0                 7           1528   \n",
       "1              0.0          0                10           4005   \n",
       "2              1.0          0                10           8429   \n",
       "3              2.0          0                 7           1431   \n",
       "4              1.0          0                10           4289   \n",
       "\n",
       "  facebook_comments facebook_shares  \\\n",
       "0               519             775   \n",
       "1              4914            1426   \n",
       "2              8507            1617   \n",
       "3               299             783   \n",
       "4              1107            1445   \n",
       "\n",
       "                                                                                                                                                                                                                                                            preprocess  \\\n",
       "0  Cryptoasset enthusiast investor. economics. Oct 18 Why Bitcoin Crypto Have No Future Why Bitcoin cryptoassets futureÃ¢Â€Â¦ NYSE creating cryptocurrency trading platform Bakkt collaboration Microsoft Starbucks physically backed Bitcoin futures contracts. Fi...   \n",
       "1  Deduct tithes straight workersÃ¢Â€Â™ salaries, Archbishop begs govt Published October 29, 2018 Kampala Bishop, Dr Cyprian Kizito Lwanga. Source: CitizenTV. The Archbishop Kampala, Cyprian Kizito Lwanga, suggested government Uganda deduct tithe workersÃ¢Â€Â...   \n",
       "2  Tommy Robinson could make Ã‚Â£1m potential trip US next month, making one best funded far-right figures since second world war, analysis anti-fascist campaigners says. The English Defence League founder, whose real name Stephen Yaxley-Lennon, invited give ...   \n",
       "3  Bitcoin Fidelity made easier hedge funds pros invest cryptocurrencies Fidelity Investments, administers $7.2 trillion client assets, announced new separatpany called Fidelity Digital Asset Services Monday. The firm handle custody cryptocurrencies bitcoin e...   \n",
       "4  Hillary Clinton appeared quite amused making joke interview could interpreted racist black people. Clinton sat Kara Swisher Recode Decode podcast weekend. Swisher asked Clinton former Attorney General Eric HolderÃ¢Â€Â™ment Ã¢Â€ÂœWhen go low, kick Ã¢Â€Â™em....   \n",
       "\n",
       "                                                                                                                                                                                                                                                                  stem  \\\n",
       "0  cryptoasset enthusiast investor. economics. oct 18 whi bitcoin crypto have No futur whi bitcoin cryptoasset futureÃ¢Â€Â¦ nyse creat cryptocurr trade platform bakkt collabor microsoft starbuck physic back bitcoin futur contracts. fidel offer client mine sin...   \n",
       "1  deduct tith straight workersÃ¢Â€Â™ salaries, archbishop beg govt publish octob 29, 2018 kampala bishop, Dr cyprian kizito lwanga. source: citizentv. the archbishop kampala, cyprian kizito lwanga, suggest govern uganda deduct tith workersÃ¢Â€Â™ salaries. sp...   \n",
       "2  tommi robinson could make Ã¢Â£1m potenti trip US next month, make one best fund far-right figur sinc second world war, analysi anti-fascist campaign says. the english defenc leagu founder, whose real name stephen yaxley-lennon, invit give address washingto...   \n",
       "3  bitcoin fidel made easier hedg fund pro invest cryptocurr fidel investments, administ $7.2 trillion client assets, announc new separatpani call fidel digit asset servic monday. the firm handl custodi cryptocurr bitcoin execut trade multipl exchang investor...   \n",
       "4  hillari clinton appear quit amus make joke interview could interpret racist black people. clinton sat kara swisher recod decod podcast weekend. swisher ask clinton former attorney gener eric holderÃ¢Â€Â™ Ã¢Â€Âœwhen go low, kick Ã¢Â€Â™em. thatÃ¢Â€Â™ new dem...   \n",
       "\n",
       "                                                                                                                                                                                                                                                                   lem  \\\n",
       "0  Cryptoasset enthusiast investor. economics. Oct 18 Why Bitcoin Crypto Have No Future Why Bitcoin cryptoassets futureÃ¢Â€Â¦ NYSE create cryptocurrency trade platform Bakkt collaboration Microsoft Starbucks physically back Bitcoin futures contracts. Fidelity...   \n",
       "1  Deduct tithe straight workersÃ¢Â€Â™ salaries, Archbishop beg govt Published October 29, 2018 Kampala Bishop, Dr Cyprian Kizito Lwanga. Source: CitizenTV. The Archbishop Kampala, Cyprian Kizito Lwanga, suggest government Uganda deduct tithe workersÃ¢Â€Â™ sa...   \n",
       "2  Tommy Robinson could make Ã‚Â£1m potential trip US next month, make one best fund far-right figure since second world war, analysis anti-fascist campaigners says. The English Defence League founder, whose real name Stephen Yaxley-Lennon, invite give addres...   \n",
       "3  Bitcoin Fidelity make easier hedge fund pros invest cryptocurrencies Fidelity Investments, administer $7.2 trillion client assets, announce new separatpany call Fidelity Digital Asset Services Monday. The firm handle custody cryptocurrencies bitcoin execut...   \n",
       "4  Hillary Clinton appear quite amuse make joke interview could interpret racist black people. Clinton sit Kara Swisher Recode Decode podcast weekend. Swisher ask Clinton former Attorney General Eric HolderÃ¢Â€Â™ment Ã¢Â€ÂœWhen go low, kick Ã¢Â€Â™em. ThatÃ¢Â€...   \n",
       "\n",
       "                                                                                                                                                                                                                                                                   cap  \n",
       "0  CRYPTOASSET ENTHUSIAST INVESTOR. ECONOMICS. OCT 18 WHY BITCOIN CRYPTO HAVE NO FUTURE WHY BITCOIN CRYPTOASSETS FUTUREÃ‚Â€Â¦ NYSE CREATING CRYPTOCURRENCY TRADING PLATFORM BAKKT COLLABORATION MICROSOFT STARBUCKS PHYSICALLY BACKED BITCOIN FUTURES CONTRACTS. FI...  \n",
       "1  DEDUCT TITHES STRAIGHT WORKERSÃ‚Â€Â™ SALARIES, ARCHBISHOP BEGS GOVT PUBLISHED OCTOBER 29, 2018 KAMPALA BISHOP, DR CYPRIAN KIZITO LWANGA. SOURCE: CITIZENTV. THE ARCHBISHOP KAMPALA, CYPRIAN KIZITO LWANGA, SUGGESTED GOVERNMENT UGANDA DEDUCT TITHE WORKERSÃ‚Â€Â...  \n",
       "2  TOMMY ROBINSON COULD MAKE Ã‚Â£1M POTENTIAL TRIP US NEXT MONTH, MAKING ONE BEST FUNDED FAR-RIGHT FIGURES SINCE SECOND WORLD WAR, ANALYSIS ANTI-FASCIST CAMPAIGNERS SAYS. THE ENGLISH DEFENCE LEAGUE FOUNDER, WHOSE REAL NAME STEPHEN YAXLEY-LENNON, INVITED GIVE ...  \n",
       "3  BITCOIN FIDELITY MADE EASIER HEDGE FUNDS PROS INVEST CRYPTOCURRENCIES FIDELITY INVESTMENTS, ADMINISTERS $7.2 TRILLION CLIENT ASSETS, ANNOUNCED NEW SEPARATPANY CALLED FIDELITY DIGITAL ASSET SERVICES MONDAY. THE FIRM HANDLE CUSTODY CRYPTOCURRENCIES BITCOIN E...  \n",
       "4  HILLARY CLINTON APPEARED QUITE AMUSED MAKING JOKE INTERVIEW COULD INTERPRETED RACIST BLACK PEOPLE. CLINTON SAT KARA SWISHER RECODE DECODE PODCAST WEEKEND. SWISHER ASKED CLINTON FORMER ATTORNEY GENERAL ERIC HOLDERÃ‚Â€Â™MENT Ã‚Â€ÂœWHEN GO LOW, KICK Ã‚Â€Â™EM....  "
      ]
     },
     "execution_count": 3,
     "metadata": {},
     "output_type": "execute_result"
    }
   ],
   "source": [
    "data = pd.read_csv('D:/BE_Project/Data_json_csv/preprocess_news_data_labeling.csv', encoding = \"utf-8\")\n",
    "# data = data.sample(frac=1).reset_index(drop=True)\n",
    "print(data.shape)\n",
    "data.head()\n"
   ]
  },
  {
   "cell_type": "markdown",
   "metadata": {},
   "source": [
    "Removing all columns except the airline_sentiment and text column."
   ]
  },
  {
   "cell_type": "markdown",
   "metadata": {},
   "source": [
    "### Removing non-ascii character"
   ]
  },
  {
   "cell_type": "code",
   "execution_count": 4,
   "metadata": {},
   "outputs": [],
   "source": [
    "\n",
    "def pre(row):\n",
    "    row = re.sub(r'[^\\x00-\\x7F]+','',str(row))\n",
    "    return row\n",
    "\n",
    "data['preprocess'] = data['preprocess'].apply(pre)"
   ]
  },
  {
   "cell_type": "code",
   "execution_count": 5,
   "metadata": {},
   "outputs": [
    {
     "data": {
      "text/plain": [
       "0      Cryptoasset enthusiast investor. economics. Oct 18 Why Bitcoin Crypto Have No Future Why Bitcoin cryptoassets future NYSE creating cryptocurrency trading platform Bakkt collaboration Microsoft Starbucks physically backed Bitcoin futures contracts. Fidelity...\n",
       "1      Deduct tithes straight workers salaries, Archbishop begs govt Published October 29, 2018 Kampala Bishop, Dr Cyprian Kizito Lwanga. Source: CitizenTV. The Archbishop Kampala, Cyprian Kizito Lwanga, suggested government Uganda deduct tithe workers salaries. ...\n",
       "2      Tommy Robinson could make 1m potential trip US next month, making one best funded far-right figures since second world war, analysis anti-fascist campaigners says. The English Defence League founder, whose real name Stephen Yaxley-Lennon, invited give addr...\n",
       "3      Bitcoin Fidelity made easier hedge funds pros invest cryptocurrencies Fidelity Investments, administers $7.2 trillion client assets, announced new separatpany called Fidelity Digital Asset Services Monday. The firm handle custody cryptocurrencies bitcoin e...\n",
       "4      Hillary Clinton appeared quite amused making joke interview could interpreted racist black people. Clinton sat Kara Swisher Recode Decode podcast weekend. Swisher asked Clinton former Attorney General Eric Holderment When go low, kick em. Thats new Democra...\n",
       "5      MANILA: Victor Lorenzo spent much life chasing criminals helping victims. For law enforcer years experience, much routine. Yet one type crime veteran chief Philippines cyber investigation unit difficulting terms with. Advertisement Every case shocking,_x00...\n",
       "6      I cover enterprise adoption blockchain cryptocurrency. Fidelity Investments Reportedly Plans Layoffs 2017  The Boston Globe Fidelity Investments spinning stand-alonpany dedicated bringing cryptocurrencies institutional investors. Called Fidelity Digital As...\n",
       "7      Rosalie Chan The third powerful supputer world beepleted unveiled: Sierra. This supputer, 125 quadrillion calculations second, used create simulations test safe reliable nuclear weapons government stockpile is. The Sierra currently used scientific work, pr...\n",
       "8      Last month, Guy-Paul Larocque received call man claiming representative U.S. Internal Revenue Service. The man claimed Larocque qualified receive grant needed share personal financial information payment would released. Although man sounded like person aut...\n",
       "9      The third powerful supputer world beepleted unveiled: Sierra. This supputer, 125 quadrillion calculations second, used create simulations test safe reliable nuclear weapons government stockpile is. The Sierra currently used scientific work, predicting effe...\n",
       "10     Winklevoss twins accuse Charlie Shrem stealing bitcoin worth $48 million 3 Nov, 2018 9:10am 3 minutes read The Winklevoss brothers (pictured) allege Charlie Shrem spent bitcoin worth US$32 million ($48m) owed since 2012. Photo / Getty Images Daily Telegrap...\n",
       "11     The amount energy required mine_x009d_ one dollars worth bitcoin twice required mine value copper, gold platinum, according new paper , suggesting virtual work underpins bitcoin, ethereum similar projects similar real mining anyone intended. One dollars wo...\n",
       "12     Initiative Q not, way , cryptocurrency. But might new Bitcoin. In four months, 'payment system future' built network nearly three million adopters offering ever-decreasing sums future currency exchange e-mail address. Despite attracting 100,000 new users d...\n",
       "13     08:20 pm The Terrifying Science Behind Californias Massive Camp Fire It used fires destroyed exurbs scattered enclaves. Now plow cities. JOSH EDELSON/Getty Images Editors note: This developing story Californias Camp Fire, Hill Fire, Woolsey Fire. We update...\n",
       "14     Callaghan taxpayer funding Bitcoin startup draws brutal criticism tech execs 1 Nov, 2018 12:31pm 4 minutes read \"Every bit software built Kiwis continued built Kiwis,\" says Vimba founder Sam Blackmore. Share Reddit reddit Callaghan Innovation's decision fu...\n",
       "15     Dont Want Fall Fake News? Dont Be Lazy Hotlittlepotato On Wednesday night, White House press secretary Sarah Huckabee Sanders shared altered video press briefing Donald Trump, CNN reporter Jim Acosta's hand makes brief contact arm White House Intern. The c...\n",
       "16     NEW YORK: With value Bitcoin fallen around 70 per cent since peak late last year, mother bubbles gone bust. More generally, cryptocurrencies entered not-so-cryptic apocalypse. The value leading coins Ether, EOS, Litecoin, XRP fallen 80 per cent, thousands ...\n",
       "17     ASB, Greenlea claim blockchain first meat export deal 1 Nov, 2018 3:00pm Share Reddit reddit ASB claiming first new blockchain-based service used organise meat export trade deal. The bank says Greenlea used new \"single trade window\" service process deal la...\n",
       "18     Venezuelan President Nicolas Maduro 's most-recent attempt stop country's massive inflation problems failing, least according one measure. The Bloomberg Caf Con Leche Index , gauges Venezuela's inflation price cup coffee, showed annual inflation rate 149,9...\n",
       "19     Q&A: What bitcoin? October 23, 2018 Bitcoin carved name world's popular cryptocurrency since arriving scene ten years ago. Q&A: How bitcoin mined? A look virtual currency December 7, 2017 pany Slovenia mines bitcoin says hacked, potential loss tens million...\n",
       "20     TWEET For entirety working life, Ive poor. I currently make sandwiches living last job making smoothies. Before that, washing dishes. Even though I went collegefollowing myth degree career guaranteesome might say I destined poor: I latchkey kid raised sing...\n",
       "21     Listen go! A daily podcast Wall Street Breakfast available 8:00 a.m. iTunes , Stitcher SoundCloud (click highlighted links). Amazon selected New York's Long Island City Northern Virginia's Crystal City sites second third headquarters, WSJ reports, announce...\n",
       "22     2h David Gray/Reuters Wednesday marks 10th anniversary paper led creation bitcoin, first ever cryptocurrency. On October 31 2008, bitcoin's mysterious founder Satoshi Nakamoto published nine-page long academic style paper called \"Bitcoin: A Peer-to-Peer El...\n",
       "23     WAEC disagrees Presidency, says Buhari applied results Published November 4, 2018 We would given document didnt apply. It Buhari court ask results. There person. So asked WAEC No, President apply documents. I made clear opinion I wrote Friday. The presenta...\n",
       "24     Rogue journalist. Bogan socialist. Anarcho-psychonaut. Guerrilla poet. Utopia prepper. Nov 10 The Best Way To Honor War Veterans Is To Stop Creating Them The US celebrating Veterans Day tomorrow, many striped flag shall waved. The social currency esteem us...\n",
       "                                                                                                                                      ...                                                                                                                                 \n",
       "476    Mithril Price Up 2.6% Over Last Week (MITH) Posted Donna Armstrong | Oct 18th, 2018 Mithril (CURRENCY:MITH) traded 0.2% lower U.S. dollar 1-day period ending 11:00 AM ET October 18th. Mithril market capitalization $98.21 million approximately $15.20 millio...\n",
       "477    Problems due Unable cash Bitcoin Cryptopia. (Los Angeles, California, USA) Posted on: Wednesday, 17 October, 2018 Expires On: Tuesday, 15 January, 2019 Reply to: After trying several attempts still unable cash bitcoin Cryptopia? Do need remedies resolve er...\n",
       "478    Gnosis Reaches Market Capitalization $21.74 Million (GNO) Posted Alanna Baker | Oct 17th, 2018 Gnosis (CURRENCY:GNO) traded 2.4% lower US dollar one day period ending 20:00 PM Eastern October 17th. One Gnosis token purchased approximately $19.68 0.00300536...\n",
       "479    Posted ABMN Staff Oct 17th, 2018 // No Comments Golos Gold (CURRENCY:GBG) traded 3.4% lower dollar twenty-four hour period ending 18:00 PM ET October 17th. In last week, Golos Gold traded 15% dollar. One Golos Gold coin purchased approximately $0.0170 0. 2...\n",
       "480    You Might Like Tweets Ricardo Pendergrass  Canadian Firm Build Blockchain-Based Supply Chain Platform Cannabis Industry 57 seconds ago johnbaseio RT : DMG Blockchain Solutions Inc. develop blockchain-based platform manage supply chains Canadian recreatio 9...\n",
       "481    NEW YORK (Reuters) - When Peggy Marco Lachmann-Anke learned January hackers cracked 40-character password cleaned cryptocurrency wallet, go police alert tokens' issuer, Berlin-based technology group IOTA. They bought coins. The Cyprus-based German couple, ...\n",
       "482    Qvolta (QVT) Reaches Market Cap $92,046.00 Posted Alanna Baker | Oct 17th, 2018 Qvolta (CURRENCY:QVT) traded 21.9% US dollar one day period ending 17:00 PM ET October 17th. Qvolta market capitalization $92,046.00 $0.00 worth Qvolta traded exchanges last 24...\n",
       "483    Altcoin News Todays installment The Daily dirty tricks. The sort tricks designed convince world Bitcoin bad. Spending bitcoin, mining it, allowing Chinese mine ahead U.S.  bad, according American Express, White House (allegedly) handful haters. Needless sa...\n",
       "484    DEMON DROP: Bitcoin Rides 4-Hour Candle To Weekly Lows; Caution Is The Word Of The Day Bitcoin overnight (US CST) trading broke high velocity, downside break finally occurred. Downside protection kicked stop mended 6520, saving even losses carnage follow R...\n",
       "485    Tweet Feathercoin (CURRENCY:FTC) traded 4.7% lower U.S. dollar 24-hour period ending 14:00 PM ET October 18th. Feathercoin market cap $8.03 million approximately $11,856.00 worth Feathercoin traded exchanges last 24 hours. One Feathercoin coin currently pu...\n",
       "486    Recognized economist Nouriel Roubini, professor Stern School NYU, recently launched series attacks crypto sector. All False Claims Roubini Made He claimed Bitcoin Ponzi scheme, Ethereum co-creator Vitalik Buterin amassed wealth billion dollars creating pre...\n",
       "487    RED (RED) Price Reaches $0.0191 Top Exchanges Posted Donna Armstrong | Oct 18th, 2018 RED (CURRENCY:RED) traded 5.1% US dollar twenty-four hour period ending 15:00 PM E.T. October 18th. One RED token bought $0.0191 0. 295 BTC major cryptocurrency exchanges...\n",
       "488    PotCoin (CURRENCY:POT) traded 6% lower U.S. dollar one day period ending 15:00 PM Eastern October 18th. One PotCoin coin currently bought approximately $0.0219 0. 339 BTC popular cryptocurrency exchanges including Cryptopia, CoinExchange, Tux Exchange Bleu...\n",
       "489    James Mickleboro | October 18, 2018 ARROW It soft 24 hours trade crypto market small declines seen across board. This led market shedding 0.5% value period US$210.6 billion according Coin Market Cap. Whats happening? The market given major lift earlier wee...\n",
       "490    TokenClub (CURRENCY:TCT) traded 1.6% U.S. dollar twenty-four hour period ending 14:00 PM Eastern October 18th. One TokenClub token purchased $0.0284 0. 437 BTC major cryptocurrency exchanges including CoinBene, BigONE, FCoin Gate.io. TokenClub total market...\n",
       "491    MEET.ONE (CURRENCY:MEETONE) traded 22.6% U.S. dollar one day period ending 11:00 AM ET October 18th. MEET.ONE total market cap $0.00 $202.00 worth MEET.ONE traded exchanges last day. One MEET.ONE token purchased approximately $0.0022 0. 34 BTC cryptocurren...\n",
       "492    XTRD (CURRENCY:XTRD) traded 1.5% U.S. dollar 1-day period ending 8:00 AM Eastern October 18th. In last week, XTRD traded 10.7% U.S. dollar. One XTRD token purchased $0.0026 0. 40 BTC major cryptocurrency exchanges including IDEX Coinsuper. XTRD market capi...\n",
       "493    Shard (CURRENCY:SHARD) traded 4.5% higher dollar 24 hour period ending 9:00 AM E.T. October 18th. One Shard coin currently bought $0.0448 0. 686 BTC exchanges including CryptoBridge Cryptopia. Over last week, Shard traded 19.5% dollar. Shard total market c...\n",
       "494    DynamicCoin (CURRENCY:DMC) traded 43.5% higher US dollar 1-day period ending 8:00 AM Eastern October 18th. During last week, DynamicCoin traded 16.7% lower US dollar. One DynamicCoin coin purchased approximately $0.0002 0. 3 BTC exchanges including Livecoi...\n",
       "495    FORCE (CURRENCY:FOR) traded 2.7% US dollar twenty-four hour period ending 9:00 AM E.T. October 17th. FORCE market cap $548,209.00 approximately $3.00 worth FORCE traded exchanges last 24 hours. In last week, FORCE traded 32.3% higher US dollar. One FORCE c...\n",
       "496    Wild Beast Block (CURRENCY:WBB) traded 0% lower US dollar 1-day period ending 19:00 PM E.T. October 16th. One Wild Beast Block coin bought $0.0523 0. 797 BTC popular cryptocurrency exchanges. In last week, Wild Beast Block traded 8.7% higher US dollar. Wil...\n",
       "497    COSS (COSS) Price Hits $0.0629 Exchanges Posted Alanna Baker | Oct 18th, 2018 COSS (CURRENCY:COSS) traded 1% US dollar 24-hour period ending 13:00 PM Eastern October 18th. COSS total market capitalization $7.47 million $45,435.00 worth COSS traded exchange...\n",
       "498    Webchain (CURRENCY:WEB) traded 11.4% lower dollar 1 day period ending 21:00 PM E.T. October 16th. Webchain total market cap $201,919.00 approximately $1,309.00 worth Webchain traded exchanges last day. One Webchain coin purchased $0.0044 0. 66 BTC popular ...\n",
       "499    0 Views | 129 The first time see HODL_x009d_ someone discussing cryptocurrencies, word causes stop reading. You think: Is misspelling?_x009d_ Well, yes  least mistyped originally. Now, rather amusingly, HODL spawned life own. It evolved represent long-term...\n",
       "500    Criminals Really Like Bitcoin, Have Used It For Billions Of Dollars In Illegal Transactions Jonathan Leack Oct 17th, 2018 As cryptocurrency industry wades swamp 2018 been, its tested every angle. Its use case, legality, usefulness, speediness, e focal poin...\n",
       "Name: preprocess, Length: 501, dtype: object"
      ]
     },
     "execution_count": 5,
     "metadata": {},
     "output_type": "execute_result"
    }
   ],
   "source": [
    "data['preprocess']"
   ]
  },
  {
   "cell_type": "code",
   "execution_count": 6,
   "metadata": {},
   "outputs": [
    {
     "data": {
      "text/html": [
       "<div>\n",
       "<style scoped>\n",
       "    .dataframe tbody tr th:only-of-type {\n",
       "        vertical-align: middle;\n",
       "    }\n",
       "\n",
       "    .dataframe tbody tr th {\n",
       "        vertical-align: top;\n",
       "    }\n",
       "\n",
       "    .dataframe thead th {\n",
       "        text-align: right;\n",
       "    }\n",
       "</style>\n",
       "<table border=\"1\" class=\"dataframe\">\n",
       "  <thead>\n",
       "    <tr style=\"text-align: right;\">\n",
       "      <th></th>\n",
       "      <th>Label (-2 to 2)</th>\n",
       "      <th>preprocess</th>\n",
       "    </tr>\n",
       "  </thead>\n",
       "  <tbody>\n",
       "    <tr>\n",
       "      <th>0</th>\n",
       "      <td>-2.0</td>\n",
       "      <td>Cryptoasset enthusiast investor. economics. Oct 18 Why Bitcoin Crypto Have No Future Why Bitcoin cryptoassets future NYSE creating cryptocurrency trading platform Bakkt collaboration Microsoft Starbucks physically backed Bitcoin futures contracts. Fidelity...</td>\n",
       "    </tr>\n",
       "    <tr>\n",
       "      <th>1</th>\n",
       "      <td>0.0</td>\n",
       "      <td>Deduct tithes straight workers salaries, Archbishop begs govt Published October 29, 2018 Kampala Bishop, Dr Cyprian Kizito Lwanga. Source: CitizenTV. The Archbishop Kampala, Cyprian Kizito Lwanga, suggested government Uganda deduct tithe workers salaries. ...</td>\n",
       "    </tr>\n",
       "    <tr>\n",
       "      <th>2</th>\n",
       "      <td>1.0</td>\n",
       "      <td>Tommy Robinson could make 1m potential trip US next month, making one best funded far-right figures since second world war, analysis anti-fascist campaigners says. The English Defence League founder, whose real name Stephen Yaxley-Lennon, invited give addr...</td>\n",
       "    </tr>\n",
       "    <tr>\n",
       "      <th>3</th>\n",
       "      <td>2.0</td>\n",
       "      <td>Bitcoin Fidelity made easier hedge funds pros invest cryptocurrencies Fidelity Investments, administers $7.2 trillion client assets, announced new separatpany called Fidelity Digital Asset Services Monday. The firm handle custody cryptocurrencies bitcoin e...</td>\n",
       "    </tr>\n",
       "    <tr>\n",
       "      <th>4</th>\n",
       "      <td>1.0</td>\n",
       "      <td>Hillary Clinton appeared quite amused making joke interview could interpreted racist black people. Clinton sat Kara Swisher Recode Decode podcast weekend. Swisher asked Clinton former Attorney General Eric Holderment When go low, kick em. Thats new Democra...</td>\n",
       "    </tr>\n",
       "    <tr>\n",
       "      <th>5</th>\n",
       "      <td>0.0</td>\n",
       "      <td>MANILA: Victor Lorenzo spent much life chasing criminals helping victims. For law enforcer years experience, much routine. Yet one type crime veteran chief Philippines cyber investigation unit difficulting terms with. Advertisement Every case shocking,_x00...</td>\n",
       "    </tr>\n",
       "    <tr>\n",
       "      <th>6</th>\n",
       "      <td>2.0</td>\n",
       "      <td>I cover enterprise adoption blockchain cryptocurrency. Fidelity Investments Reportedly Plans Layoffs 2017  The Boston Globe Fidelity Investments spinning stand-alonpany dedicated bringing cryptocurrencies institutional investors. Called Fidelity Digital As...</td>\n",
       "    </tr>\n",
       "    <tr>\n",
       "      <th>7</th>\n",
       "      <td>0.0</td>\n",
       "      <td>Rosalie Chan The third powerful supputer world beepleted unveiled: Sierra. This supputer, 125 quadrillion calculations second, used create simulations test safe reliable nuclear weapons government stockpile is. The Sierra currently used scientific work, pr...</td>\n",
       "    </tr>\n",
       "    <tr>\n",
       "      <th>8</th>\n",
       "      <td>0.0</td>\n",
       "      <td>Last month, Guy-Paul Larocque received call man claiming representative U.S. Internal Revenue Service. The man claimed Larocque qualified receive grant needed share personal financial information payment would released. Although man sounded like person aut...</td>\n",
       "    </tr>\n",
       "    <tr>\n",
       "      <th>9</th>\n",
       "      <td>0.0</td>\n",
       "      <td>The third powerful supputer world beepleted unveiled: Sierra. This supputer, 125 quadrillion calculations second, used create simulations test safe reliable nuclear weapons government stockpile is. The Sierra currently used scientific work, predicting effe...</td>\n",
       "    </tr>\n",
       "    <tr>\n",
       "      <th>10</th>\n",
       "      <td>-2.0</td>\n",
       "      <td>Winklevoss twins accuse Charlie Shrem stealing bitcoin worth $48 million 3 Nov, 2018 9:10am 3 minutes read The Winklevoss brothers (pictured) allege Charlie Shrem spent bitcoin worth US$32 million ($48m) owed since 2012. Photo / Getty Images Daily Telegrap...</td>\n",
       "    </tr>\n",
       "    <tr>\n",
       "      <th>11</th>\n",
       "      <td>1.0</td>\n",
       "      <td>The amount energy required mine_x009d_ one dollars worth bitcoin twice required mine value copper, gold platinum, according new paper , suggesting virtual work underpins bitcoin, ethereum similar projects similar real mining anyone intended. One dollars wo...</td>\n",
       "    </tr>\n",
       "    <tr>\n",
       "      <th>12</th>\n",
       "      <td>2.0</td>\n",
       "      <td>Initiative Q not, way , cryptocurrency. But might new Bitcoin. In four months, 'payment system future' built network nearly three million adopters offering ever-decreasing sums future currency exchange e-mail address. Despite attracting 100,000 new users d...</td>\n",
       "    </tr>\n",
       "    <tr>\n",
       "      <th>13</th>\n",
       "      <td>0.0</td>\n",
       "      <td>08:20 pm The Terrifying Science Behind Californias Massive Camp Fire It used fires destroyed exurbs scattered enclaves. Now plow cities. JOSH EDELSON/Getty Images Editors note: This developing story Californias Camp Fire, Hill Fire, Woolsey Fire. We update...</td>\n",
       "    </tr>\n",
       "    <tr>\n",
       "      <th>14</th>\n",
       "      <td>-2.0</td>\n",
       "      <td>Callaghan taxpayer funding Bitcoin startup draws brutal criticism tech execs 1 Nov, 2018 12:31pm 4 minutes read \"Every bit software built Kiwis continued built Kiwis,\" says Vimba founder Sam Blackmore. Share Reddit reddit Callaghan Innovation's decision fu...</td>\n",
       "    </tr>\n",
       "    <tr>\n",
       "      <th>15</th>\n",
       "      <td>0.0</td>\n",
       "      <td>Dont Want Fall Fake News? Dont Be Lazy Hotlittlepotato On Wednesday night, White House press secretary Sarah Huckabee Sanders shared altered video press briefing Donald Trump, CNN reporter Jim Acosta's hand makes brief contact arm White House Intern. The c...</td>\n",
       "    </tr>\n",
       "    <tr>\n",
       "      <th>16</th>\n",
       "      <td>-2.0</td>\n",
       "      <td>NEW YORK: With value Bitcoin fallen around 70 per cent since peak late last year, mother bubbles gone bust. More generally, cryptocurrencies entered not-so-cryptic apocalypse. The value leading coins Ether, EOS, Litecoin, XRP fallen 80 per cent, thousands ...</td>\n",
       "    </tr>\n",
       "    <tr>\n",
       "      <th>17</th>\n",
       "      <td>1.0</td>\n",
       "      <td>ASB, Greenlea claim blockchain first meat export deal 1 Nov, 2018 3:00pm Share Reddit reddit ASB claiming first new blockchain-based service used organise meat export trade deal. The bank says Greenlea used new \"single trade window\" service process deal la...</td>\n",
       "    </tr>\n",
       "    <tr>\n",
       "      <th>18</th>\n",
       "      <td>0.0</td>\n",
       "      <td>Venezuelan President Nicolas Maduro 's most-recent attempt stop country's massive inflation problems failing, least according one measure. The Bloomberg Caf Con Leche Index , gauges Venezuela's inflation price cup coffee, showed annual inflation rate 149,9...</td>\n",
       "    </tr>\n",
       "    <tr>\n",
       "      <th>19</th>\n",
       "      <td>2.0</td>\n",
       "      <td>Q&amp;A: What bitcoin? October 23, 2018 Bitcoin carved name world's popular cryptocurrency since arriving scene ten years ago. Q&amp;A: How bitcoin mined? A look virtual currency December 7, 2017 pany Slovenia mines bitcoin says hacked, potential loss tens million...</td>\n",
       "    </tr>\n",
       "    <tr>\n",
       "      <th>20</th>\n",
       "      <td>0.0</td>\n",
       "      <td>TWEET For entirety working life, Ive poor. I currently make sandwiches living last job making smoothies. Before that, washing dishes. Even though I went collegefollowing myth degree career guaranteesome might say I destined poor: I latchkey kid raised sing...</td>\n",
       "    </tr>\n",
       "    <tr>\n",
       "      <th>21</th>\n",
       "      <td>0.0</td>\n",
       "      <td>Listen go! A daily podcast Wall Street Breakfast available 8:00 a.m. iTunes , Stitcher SoundCloud (click highlighted links). Amazon selected New York's Long Island City Northern Virginia's Crystal City sites second third headquarters, WSJ reports, announce...</td>\n",
       "    </tr>\n",
       "    <tr>\n",
       "      <th>22</th>\n",
       "      <td>2.0</td>\n",
       "      <td>2h David Gray/Reuters Wednesday marks 10th anniversary paper led creation bitcoin, first ever cryptocurrency. On October 31 2008, bitcoin's mysterious founder Satoshi Nakamoto published nine-page long academic style paper called \"Bitcoin: A Peer-to-Peer El...</td>\n",
       "    </tr>\n",
       "    <tr>\n",
       "      <th>23</th>\n",
       "      <td>0.0</td>\n",
       "      <td>WAEC disagrees Presidency, says Buhari applied results Published November 4, 2018 We would given document didnt apply. It Buhari court ask results. There person. So asked WAEC No, President apply documents. I made clear opinion I wrote Friday. The presenta...</td>\n",
       "    </tr>\n",
       "    <tr>\n",
       "      <th>24</th>\n",
       "      <td>-1.0</td>\n",
       "      <td>Rogue journalist. Bogan socialist. Anarcho-psychonaut. Guerrilla poet. Utopia prepper. Nov 10 The Best Way To Honor War Veterans Is To Stop Creating Them The US celebrating Veterans Day tomorrow, many striped flag shall waved. The social currency esteem us...</td>\n",
       "    </tr>\n",
       "    <tr>\n",
       "      <th>25</th>\n",
       "      <td>2.0</td>\n",
       "      <td>Bitcoin 10 years old today - here's look back crazy history Will Martin Oct 31, 2018, 03.42 PM Will Clayton/Flickr Wednesday marks 10th anniversary paper led creation bitcoin, first ever cryptocurrency. On October 31 2008, bitcoin's mysterious founder Sato...</td>\n",
       "    </tr>\n",
       "    <tr>\n",
       "      <th>26</th>\n",
       "      <td>-2.0</td>\n",
       "      <td>Blocked Unblock Follow Following Guinness World Record creating Mosmented Item Web 2.0 history. Chairman @ The Internet Blockchains Foundation. Founder @ Essentia.one. Mar 16 Why net giants worried Web 3.0 Calm storm The birth blockchain spawned movement s...</td>\n",
       "    </tr>\n",
       "    <tr>\n",
       "      <th>27</th>\n",
       "      <td>0.0</td>\n",
       "      <td>Jamal Khashoggi Saudi Arabia Wires U.S. $100 Million Trump Proclaims M.B.S. Innocent Meanwhile, Turkish officials unearthed even grim details journalist Jamal Khashoggis alleged murder. Bess Levin October 17, 2018 1:46 pm Email Facebook Twitter Brothers an...</td>\n",
       "    </tr>\n",
       "    <tr>\n",
       "      <th>28</th>\n",
       "      <td>2.0</td>\n",
       "      <td>Ten years ago week, Lehman Brothers declaring bankruptcy global economy lurching recession, idea alternative currency quietly built online. On Oct. 31, 2008, bitcoin born  past 10 years evolved anti-establishment hobby among coders household name Wall Stre...</td>\n",
       "    </tr>\n",
       "    <tr>\n",
       "      <th>29</th>\n",
       "      <td>-2.0</td>\n",
       "      <td>Image copyright Hunan Transportation Channel/Weibo Image caption A total nine mining rigs found installed school Hunan A Chinese headmaster fired secret stack crypto-currency mining machines found connected school's electricity supply. Teachers school Huna...</td>\n",
       "    </tr>\n",
       "    <tr>\n",
       "      <th>30</th>\n",
       "      <td>-2.0</td>\n",
       "      <td>Chinese headmaster fired secret coin mining school 9 November 2018 These external links open new window Close share panel Image copyright Hunan Transportation Channel/Weibo Image caption A total nine mining rigs found installed school Hunan A Chinese headm...</td>\n",
       "    </tr>\n",
       "    <tr>\n",
       "      <th>31</th>\n",
       "      <td>-2.0</td>\n",
       "      <td>Newsflash: Canadian Bitcoin Exchange Hacked, Says All Funds Gone P. H. Madore cryptocurrency bitcoin canada More A small Bitcoin exchange based Alberta, Canada, gone offline. Before Twitter page went offline, MapleChange announced Twitter [had] funds pay a...</td>\n",
       "    </tr>\n",
       "    <tr>\n",
       "      <th>32</th>\n",
       "      <td>0.0</td>\n",
       "      <td>We built Port Harcourt Airport terminal, PDP tells Buhari Published October 25, 2018 Olusola Fabiyi, Abuja The Peoples Democratic Party condemned President Muhammadu Buhari allegedly trying claim credit Port Harcourt Airport Terminal, Rivers State, saying ...</td>\n",
       "    </tr>\n",
       "    <tr>\n",
       "      <th>33</th>\n",
       "      <td>-1.0</td>\n",
       "      <td>The Federation Sovereign Indigenous Nations recently paid $20,000 anonymous hacker breached itputer system, CBC News learned. The revelation surfaces hundreds delegates gather Saskatoon Wednesday Thursday elect new FSIN chief two vice-chiefs. 'They've lost...</td>\n",
       "    </tr>\n",
       "    <tr>\n",
       "      <th>34</th>\n",
       "      <td>-1.0</td>\n",
       "      <td>The Federation Sovereign Indigenous Nations recently paid $20,000 anonymous hacker breached itputer system, CBC News learned. The revelation surfaces hundreds delegates gather Saskatoon Wednesday Thursday elect new FSIN chief two vice-chiefs. 'They've lost...</td>\n",
       "    </tr>\n",
       "    <tr>\n",
       "      <th>35</th>\n",
       "      <td>-2.0</td>\n",
       "      <td>News Canada A hacker tried extort Star investigative reporter Kevin Donovan. So investigated By Kevin Donovan Chief Investigative Reporter Mon., Nov. 12, 2018 A nameless, faceless hacker extorting you. Pay $857 Bitcoin videos screenshots dark secret life_x...</td>\n",
       "    </tr>\n",
       "    <tr>\n",
       "      <th>36</th>\n",
       "      <td>-1.0</td>\n",
       "      <td>Recent raids India scoop Canada Revenue Agency tax scammers netted dozens arrests, RCMP acknowledging phone calls certain continue  likely grow number. What began large call centres making taking hundreds calls shifted smaller operations avoid scrutiny pro...</td>\n",
       "    </tr>\n",
       "    <tr>\n",
       "      <th>37</th>\n",
       "      <td>-2.0</td>\n",
       "      <td>So Ford Motor F, +1.97% Chairman Bill Ford JPMorgan Chase &amp; Co. JPM, -0.57% boss Jaime Dimon opted drop Saudi conference following countrys suspected role disappearance journalist Jamal Khashoggi. The high-profile pair following lead several others, includ...</td>\n",
       "    </tr>\n",
       "    <tr>\n",
       "      <th>38</th>\n",
       "      <td>-1.0</td>\n",
       "      <td>Published: Oct 15, 2018 11:59 a.m. ET Share Critical information U.S. trading day Reuters Saudi Deputy Crown Prince Mohammed bin Salman. By Shawn Langlois Social-media editor So Ford Motor F, +1.97% Chairman Bill Ford JPMorgan Chase &amp; Co. JPM, -0.57% boss ...</td>\n",
       "    </tr>\n",
       "    <tr>\n",
       "      <th>39</th>\n",
       "      <td>-2.0</td>\n",
       "      <td>07:22 pm The House Science Committee May Soon e... Pro-Science Rep. Bill Foster, Illinois Democrat particle physicist, hopes House finally start taking environmental science seriously. Bill Clark/CQ Roll Call/Getty Images For past eight years, climate scie...</td>\n",
       "    </tr>\n",
       "    <tr>\n",
       "      <th>40</th>\n",
       "      <td>-1.0</td>\n",
       "      <td>Recent raids India scoop Canada Revenue Agency tax scammers netted dozens arrests, RCMP acknowledging phone calls certain continue  likely grow number. What began large call centres making taking hundreds calls shifted smaller operations avoid scrutiny pro...</td>\n",
       "    </tr>\n",
       "    <tr>\n",
       "      <th>41</th>\n",
       "      <td>-2.0</td>\n",
       "      <td>Video EDITION Home News Bitcoin tradi... Bitcoin trading uses much power could push global temperatures past threshold yields deadly consequences By A worker checks fans miners cryptocurrency farming operation, Bitfarms, Canada. source Reuters/Christinne M...</td>\n",
       "    </tr>\n",
       "    <tr>\n",
       "      <th>42</th>\n",
       "      <td>-2.0</td>\n",
       "      <td>A new study finds bitcoin industry could push global temperatures 2 degrees Celsius less two decades. The trading bitcoin produces annual carbon dioxide emissions state Arkansas. A temperature increase magnitude could alter environment know it, resulting c...</td>\n",
       "    </tr>\n",
       "    <tr>\n",
       "      <th>43</th>\n",
       "      <td>-1.0</td>\n",
       "      <td>Morgan Stanley Report Says Crypto Now An Institutional Asset Class NEWS Nikhilesh De Nov 1, 2018 02:05 UTC | Updated Nov 1, 2018 22:34 UTC Institutional investors increasingly getting involved bitcoin cryptocurrencies  number retail investors space staying...</td>\n",
       "    </tr>\n",
       "    <tr>\n",
       "      <th>44</th>\n",
       "      <td>1.0</td>\n",
       "      <td>CNB Lucas Jackson | Reuters The value bitcoin hit all-time high nearly $20,000 December 2017. Less year later, however, value dropped $6,400, according digital-currency website CoinDesk , whose Bitcoin Price Index tracks prices several key exchanges. Still...</td>\n",
       "    </tr>\n",
       "    <tr>\n",
       "      <th>45</th>\n",
       "      <td>-1.0</td>\n",
       "      <td>Opinions expressed Forbes Contributors own. Crypto &amp; Blockchain I write bitcoin, crypto, fintech changing world. Share facebook Share twitter Share linkedin China is, distance, undisputed world leader bitcoin mining  Chinese mining pools controlling 70% bi...</td>\n",
       "    </tr>\n",
       "    <tr>\n",
       "      <th>46</th>\n",
       "      <td>0.0</td>\n",
       "      <td>Photographer: Jason Alden/Bloomberg Photographer: Jason Alden/Bloomberg The cannabis investor conference Hong Kong week started stern warnings smoking pot city, land prison. Then folks got talking business. The Hong Kong Cannabis Investor Symposium Thursda...</td>\n",
       "    </tr>\n",
       "    <tr>\n",
       "      <th>47</th>\n",
       "      <td>2.0</td>\n",
       "      <td>The towering vista Mount Kenya provides unlikely backdrop tech-savvy Kenyan restaurant embraced crypto-currencies form payment. Betty's Place specialises \"nyama choma\", lip-smacking goat meat barbeque firm favourite amongst Kenyans. Located rural town Nyer...</td>\n",
       "    </tr>\n",
       "    <tr>\n",
       "      <th>48</th>\n",
       "      <td>2.0</td>\n",
       "      <td>These external links open new window Close share panel The towering vista Mount Kenya provides unlikely backdrop tech-savvy Kenyan restaurant embraced crypto-currencies form payment. Betty's Place specialises \"nyama choma\", lip-smacking goat meat barbeque ...</td>\n",
       "    </tr>\n",
       "    <tr>\n",
       "      <th>49</th>\n",
       "      <td>0.0</td>\n",
       "      <td>The throngs protesters stormed Capitol Hill late last month didnt succeed keeping Brett Kavanaugh Supreme Court. But furnish Donald Trump Republicans election-season message energize base. Ever since Americans saw atria corridors Senate buildings teeming f...</td>\n",
       "    </tr>\n",
       "  </tbody>\n",
       "</table>\n",
       "</div>"
      ],
      "text/plain": [
       "    Label (-2 to 2)  \\\n",
       "0              -2.0   \n",
       "1               0.0   \n",
       "2               1.0   \n",
       "3               2.0   \n",
       "4               1.0   \n",
       "5               0.0   \n",
       "6               2.0   \n",
       "7               0.0   \n",
       "8               0.0   \n",
       "9               0.0   \n",
       "10             -2.0   \n",
       "11              1.0   \n",
       "12              2.0   \n",
       "13              0.0   \n",
       "14             -2.0   \n",
       "15              0.0   \n",
       "16             -2.0   \n",
       "17              1.0   \n",
       "18              0.0   \n",
       "19              2.0   \n",
       "20              0.0   \n",
       "21              0.0   \n",
       "22              2.0   \n",
       "23              0.0   \n",
       "24             -1.0   \n",
       "25              2.0   \n",
       "26             -2.0   \n",
       "27              0.0   \n",
       "28              2.0   \n",
       "29             -2.0   \n",
       "30             -2.0   \n",
       "31             -2.0   \n",
       "32              0.0   \n",
       "33             -1.0   \n",
       "34             -1.0   \n",
       "35             -2.0   \n",
       "36             -1.0   \n",
       "37             -2.0   \n",
       "38             -1.0   \n",
       "39             -2.0   \n",
       "40             -1.0   \n",
       "41             -2.0   \n",
       "42             -2.0   \n",
       "43             -1.0   \n",
       "44              1.0   \n",
       "45             -1.0   \n",
       "46              0.0   \n",
       "47              2.0   \n",
       "48              2.0   \n",
       "49              0.0   \n",
       "\n",
       "                                                                                                                                                                                                                                                             preprocess  \n",
       "0   Cryptoasset enthusiast investor. economics. Oct 18 Why Bitcoin Crypto Have No Future Why Bitcoin cryptoassets future NYSE creating cryptocurrency trading platform Bakkt collaboration Microsoft Starbucks physically backed Bitcoin futures contracts. Fidelity...  \n",
       "1   Deduct tithes straight workers salaries, Archbishop begs govt Published October 29, 2018 Kampala Bishop, Dr Cyprian Kizito Lwanga. Source: CitizenTV. The Archbishop Kampala, Cyprian Kizito Lwanga, suggested government Uganda deduct tithe workers salaries. ...  \n",
       "2   Tommy Robinson could make 1m potential trip US next month, making one best funded far-right figures since second world war, analysis anti-fascist campaigners says. The English Defence League founder, whose real name Stephen Yaxley-Lennon, invited give addr...  \n",
       "3   Bitcoin Fidelity made easier hedge funds pros invest cryptocurrencies Fidelity Investments, administers $7.2 trillion client assets, announced new separatpany called Fidelity Digital Asset Services Monday. The firm handle custody cryptocurrencies bitcoin e...  \n",
       "4   Hillary Clinton appeared quite amused making joke interview could interpreted racist black people. Clinton sat Kara Swisher Recode Decode podcast weekend. Swisher asked Clinton former Attorney General Eric Holderment When go low, kick em. Thats new Democra...  \n",
       "5   MANILA: Victor Lorenzo spent much life chasing criminals helping victims. For law enforcer years experience, much routine. Yet one type crime veteran chief Philippines cyber investigation unit difficulting terms with. Advertisement Every case shocking,_x00...  \n",
       "6   I cover enterprise adoption blockchain cryptocurrency. Fidelity Investments Reportedly Plans Layoffs 2017  The Boston Globe Fidelity Investments spinning stand-alonpany dedicated bringing cryptocurrencies institutional investors. Called Fidelity Digital As...  \n",
       "7   Rosalie Chan The third powerful supputer world beepleted unveiled: Sierra. This supputer, 125 quadrillion calculations second, used create simulations test safe reliable nuclear weapons government stockpile is. The Sierra currently used scientific work, pr...  \n",
       "8   Last month, Guy-Paul Larocque received call man claiming representative U.S. Internal Revenue Service. The man claimed Larocque qualified receive grant needed share personal financial information payment would released. Although man sounded like person aut...  \n",
       "9   The third powerful supputer world beepleted unveiled: Sierra. This supputer, 125 quadrillion calculations second, used create simulations test safe reliable nuclear weapons government stockpile is. The Sierra currently used scientific work, predicting effe...  \n",
       "10  Winklevoss twins accuse Charlie Shrem stealing bitcoin worth $48 million 3 Nov, 2018 9:10am 3 minutes read The Winklevoss brothers (pictured) allege Charlie Shrem spent bitcoin worth US$32 million ($48m) owed since 2012. Photo / Getty Images Daily Telegrap...  \n",
       "11  The amount energy required mine_x009d_ one dollars worth bitcoin twice required mine value copper, gold platinum, according new paper , suggesting virtual work underpins bitcoin, ethereum similar projects similar real mining anyone intended. One dollars wo...  \n",
       "12  Initiative Q not, way , cryptocurrency. But might new Bitcoin. In four months, 'payment system future' built network nearly three million adopters offering ever-decreasing sums future currency exchange e-mail address. Despite attracting 100,000 new users d...  \n",
       "13  08:20 pm The Terrifying Science Behind Californias Massive Camp Fire It used fires destroyed exurbs scattered enclaves. Now plow cities. JOSH EDELSON/Getty Images Editors note: This developing story Californias Camp Fire, Hill Fire, Woolsey Fire. We update...  \n",
       "14  Callaghan taxpayer funding Bitcoin startup draws brutal criticism tech execs 1 Nov, 2018 12:31pm 4 minutes read \"Every bit software built Kiwis continued built Kiwis,\" says Vimba founder Sam Blackmore. Share Reddit reddit Callaghan Innovation's decision fu...  \n",
       "15  Dont Want Fall Fake News? Dont Be Lazy Hotlittlepotato On Wednesday night, White House press secretary Sarah Huckabee Sanders shared altered video press briefing Donald Trump, CNN reporter Jim Acosta's hand makes brief contact arm White House Intern. The c...  \n",
       "16  NEW YORK: With value Bitcoin fallen around 70 per cent since peak late last year, mother bubbles gone bust. More generally, cryptocurrencies entered not-so-cryptic apocalypse. The value leading coins Ether, EOS, Litecoin, XRP fallen 80 per cent, thousands ...  \n",
       "17  ASB, Greenlea claim blockchain first meat export deal 1 Nov, 2018 3:00pm Share Reddit reddit ASB claiming first new blockchain-based service used organise meat export trade deal. The bank says Greenlea used new \"single trade window\" service process deal la...  \n",
       "18  Venezuelan President Nicolas Maduro 's most-recent attempt stop country's massive inflation problems failing, least according one measure. The Bloomberg Caf Con Leche Index , gauges Venezuela's inflation price cup coffee, showed annual inflation rate 149,9...  \n",
       "19  Q&A: What bitcoin? October 23, 2018 Bitcoin carved name world's popular cryptocurrency since arriving scene ten years ago. Q&A: How bitcoin mined? A look virtual currency December 7, 2017 pany Slovenia mines bitcoin says hacked, potential loss tens million...  \n",
       "20  TWEET For entirety working life, Ive poor. I currently make sandwiches living last job making smoothies. Before that, washing dishes. Even though I went collegefollowing myth degree career guaranteesome might say I destined poor: I latchkey kid raised sing...  \n",
       "21  Listen go! A daily podcast Wall Street Breakfast available 8:00 a.m. iTunes , Stitcher SoundCloud (click highlighted links). Amazon selected New York's Long Island City Northern Virginia's Crystal City sites second third headquarters, WSJ reports, announce...  \n",
       "22  2h David Gray/Reuters Wednesday marks 10th anniversary paper led creation bitcoin, first ever cryptocurrency. On October 31 2008, bitcoin's mysterious founder Satoshi Nakamoto published nine-page long academic style paper called \"Bitcoin: A Peer-to-Peer El...  \n",
       "23  WAEC disagrees Presidency, says Buhari applied results Published November 4, 2018 We would given document didnt apply. It Buhari court ask results. There person. So asked WAEC No, President apply documents. I made clear opinion I wrote Friday. The presenta...  \n",
       "24  Rogue journalist. Bogan socialist. Anarcho-psychonaut. Guerrilla poet. Utopia prepper. Nov 10 The Best Way To Honor War Veterans Is To Stop Creating Them The US celebrating Veterans Day tomorrow, many striped flag shall waved. The social currency esteem us...  \n",
       "25  Bitcoin 10 years old today - here's look back crazy history Will Martin Oct 31, 2018, 03.42 PM Will Clayton/Flickr Wednesday marks 10th anniversary paper led creation bitcoin, first ever cryptocurrency. On October 31 2008, bitcoin's mysterious founder Sato...  \n",
       "26  Blocked Unblock Follow Following Guinness World Record creating Mosmented Item Web 2.0 history. Chairman @ The Internet Blockchains Foundation. Founder @ Essentia.one. Mar 16 Why net giants worried Web 3.0 Calm storm The birth blockchain spawned movement s...  \n",
       "27  Jamal Khashoggi Saudi Arabia Wires U.S. $100 Million Trump Proclaims M.B.S. Innocent Meanwhile, Turkish officials unearthed even grim details journalist Jamal Khashoggis alleged murder. Bess Levin October 17, 2018 1:46 pm Email Facebook Twitter Brothers an...  \n",
       "28  Ten years ago week, Lehman Brothers declaring bankruptcy global economy lurching recession, idea alternative currency quietly built online. On Oct. 31, 2008, bitcoin born  past 10 years evolved anti-establishment hobby among coders household name Wall Stre...  \n",
       "29  Image copyright Hunan Transportation Channel/Weibo Image caption A total nine mining rigs found installed school Hunan A Chinese headmaster fired secret stack crypto-currency mining machines found connected school's electricity supply. Teachers school Huna...  \n",
       "30  Chinese headmaster fired secret coin mining school 9 November 2018 These external links open new window Close share panel Image copyright Hunan Transportation Channel/Weibo Image caption A total nine mining rigs found installed school Hunan A Chinese headm...  \n",
       "31  Newsflash: Canadian Bitcoin Exchange Hacked, Says All Funds Gone P. H. Madore cryptocurrency bitcoin canada More A small Bitcoin exchange based Alberta, Canada, gone offline. Before Twitter page went offline, MapleChange announced Twitter [had] funds pay a...  \n",
       "32  We built Port Harcourt Airport terminal, PDP tells Buhari Published October 25, 2018 Olusola Fabiyi, Abuja The Peoples Democratic Party condemned President Muhammadu Buhari allegedly trying claim credit Port Harcourt Airport Terminal, Rivers State, saying ...  \n",
       "33  The Federation Sovereign Indigenous Nations recently paid $20,000 anonymous hacker breached itputer system, CBC News learned. The revelation surfaces hundreds delegates gather Saskatoon Wednesday Thursday elect new FSIN chief two vice-chiefs. 'They've lost...  \n",
       "34  The Federation Sovereign Indigenous Nations recently paid $20,000 anonymous hacker breached itputer system, CBC News learned. The revelation surfaces hundreds delegates gather Saskatoon Wednesday Thursday elect new FSIN chief two vice-chiefs. 'They've lost...  \n",
       "35  News Canada A hacker tried extort Star investigative reporter Kevin Donovan. So investigated By Kevin Donovan Chief Investigative Reporter Mon., Nov. 12, 2018 A nameless, faceless hacker extorting you. Pay $857 Bitcoin videos screenshots dark secret life_x...  \n",
       "36  Recent raids India scoop Canada Revenue Agency tax scammers netted dozens arrests, RCMP acknowledging phone calls certain continue  likely grow number. What began large call centres making taking hundreds calls shifted smaller operations avoid scrutiny pro...  \n",
       "37  So Ford Motor F, +1.97% Chairman Bill Ford JPMorgan Chase & Co. JPM, -0.57% boss Jaime Dimon opted drop Saudi conference following countrys suspected role disappearance journalist Jamal Khashoggi. The high-profile pair following lead several others, includ...  \n",
       "38  Published: Oct 15, 2018 11:59 a.m. ET Share Critical information U.S. trading day Reuters Saudi Deputy Crown Prince Mohammed bin Salman. By Shawn Langlois Social-media editor So Ford Motor F, +1.97% Chairman Bill Ford JPMorgan Chase & Co. JPM, -0.57% boss ...  \n",
       "39  07:22 pm The House Science Committee May Soon e... Pro-Science Rep. Bill Foster, Illinois Democrat particle physicist, hopes House finally start taking environmental science seriously. Bill Clark/CQ Roll Call/Getty Images For past eight years, climate scie...  \n",
       "40  Recent raids India scoop Canada Revenue Agency tax scammers netted dozens arrests, RCMP acknowledging phone calls certain continue  likely grow number. What began large call centres making taking hundreds calls shifted smaller operations avoid scrutiny pro...  \n",
       "41  Video EDITION Home News Bitcoin tradi... Bitcoin trading uses much power could push global temperatures past threshold yields deadly consequences By A worker checks fans miners cryptocurrency farming operation, Bitfarms, Canada. source Reuters/Christinne M...  \n",
       "42  A new study finds bitcoin industry could push global temperatures 2 degrees Celsius less two decades. The trading bitcoin produces annual carbon dioxide emissions state Arkansas. A temperature increase magnitude could alter environment know it, resulting c...  \n",
       "43  Morgan Stanley Report Says Crypto Now An Institutional Asset Class NEWS Nikhilesh De Nov 1, 2018 02:05 UTC | Updated Nov 1, 2018 22:34 UTC Institutional investors increasingly getting involved bitcoin cryptocurrencies  number retail investors space staying...  \n",
       "44  CNB Lucas Jackson | Reuters The value bitcoin hit all-time high nearly $20,000 December 2017. Less year later, however, value dropped $6,400, according digital-currency website CoinDesk , whose Bitcoin Price Index tracks prices several key exchanges. Still...  \n",
       "45  Opinions expressed Forbes Contributors own. Crypto & Blockchain I write bitcoin, crypto, fintech changing world. Share facebook Share twitter Share linkedin China is, distance, undisputed world leader bitcoin mining  Chinese mining pools controlling 70% bi...  \n",
       "46  Photographer: Jason Alden/Bloomberg Photographer: Jason Alden/Bloomberg The cannabis investor conference Hong Kong week started stern warnings smoking pot city, land prison. Then folks got talking business. The Hong Kong Cannabis Investor Symposium Thursda...  \n",
       "47  The towering vista Mount Kenya provides unlikely backdrop tech-savvy Kenyan restaurant embraced crypto-currencies form payment. Betty's Place specialises \"nyama choma\", lip-smacking goat meat barbeque firm favourite amongst Kenyans. Located rural town Nyer...  \n",
       "48  These external links open new window Close share panel The towering vista Mount Kenya provides unlikely backdrop tech-savvy Kenyan restaurant embraced crypto-currencies form payment. Betty's Place specialises \"nyama choma\", lip-smacking goat meat barbeque ...  \n",
       "49  The throngs protesters stormed Capitol Hill late last month didnt succeed keeping Brett Kavanaugh Supreme Court. But furnish Donald Trump Republicans election-season message energize base. Ever since Americans saw atria corridors Senate buildings teeming f...  "
      ]
     },
     "execution_count": 6,
     "metadata": {},
     "output_type": "execute_result"
    }
   ],
   "source": [
    "data = data[['Label (-2 to 2)', 'preprocess']]\n",
    "data.head(50)"
   ]
  },
  {
   "cell_type": "code",
   "execution_count": 7,
   "metadata": {},
   "outputs": [],
   "source": [
    "# getting only labelled data\n",
    "data = data.head(250)"
   ]
  },
  {
   "cell_type": "markdown",
   "metadata": {},
   "source": [
    "### Data exploration"
   ]
  },
  {
   "cell_type": "code",
   "execution_count": 8,
   "metadata": {},
   "outputs": [
    {
     "data": {
      "text/plain": [
       "<matplotlib.axes._subplots.AxesSubplot at 0x178d035d630>"
      ]
     },
     "execution_count": 8,
     "metadata": {},
     "output_type": "execute_result"
    },
    {
     "data": {
      "image/png": "[encoded data removed]",
      "text/plain": [
       "<Figure size 432x288 with 1 Axes>"
      ]
     },
     "metadata": {
      "needs_background": "light"
     },
     "output_type": "display_data"
    }
   ],
   "source": [
    "data['Label (-2 to 2)'].value_counts().sort_index().plot.bar()"
   ]
  },
  {
   "cell_type": "code",
   "execution_count": 9,
   "metadata": {},
   "outputs": [
    {
     "data": {
      "text/plain": [
       "<matplotlib.axes._subplots.AxesSubplot at 0x178d042dd68>"
      ]
     },
     "execution_count": 9,
     "metadata": {},
     "output_type": "execute_result"
    },
    {
     "data": {
      "image/png": "[encoded data removed]",
      "text/plain": [
       "<Figure size 432x288 with 1 Axes>"
      ]
     },
     "metadata": {
      "needs_background": "light"
     },
     "output_type": "display_data"
    }
   ],
   "source": [
    "data['preprocess'].str.len().plot.hist()"
   ]
  },
  {
   "cell_type": "code",
   "execution_count": 10,
   "metadata": {},
   "outputs": [
    {
     "data": {
      "text/plain": [
       "(250, 2)"
      ]
     },
     "execution_count": 10,
     "metadata": {},
     "output_type": "execute_result"
    }
   ],
   "source": [
    "data.shape"
   ]
  },
  {
   "cell_type": "markdown",
   "metadata": {},
   "source": [
    "### Preprocessing"
   ]
  },
  {
   "cell_type": "code",
   "execution_count": 11,
   "metadata": {},
   "outputs": [
    {
     "data": {
      "text/plain": [
       "Label (-2 to 2)    2\n",
       "preprocess         0\n",
       "dtype: int64"
      ]
     },
     "execution_count": 11,
     "metadata": {},
     "output_type": "execute_result"
    }
   ],
   "source": [
    "data.isnull().sum()"
   ]
  },
  {
   "cell_type": "code",
   "execution_count": 12,
   "metadata": {},
   "outputs": [
    {
     "data": {
      "text/plain": [
       "Label (-2 to 2)    0\n",
       "preprocess         0\n",
       "dtype: int64"
      ]
     },
     "execution_count": 12,
     "metadata": {},
     "output_type": "execute_result"
    }
   ],
   "source": [
    "data.dropna(subset=['Label (-2 to 2)'], inplace=True)\n",
    "data.isnull().sum()"
   ]
  },
  {
   "cell_type": "markdown",
   "metadata": {},
   "source": [
    "data['text'] = data['text'].str.replace('@VirginAmerica', '')\n",
    "data.head()"
   ]
  },
  {
   "cell_type": "code",
   "execution_count": 13,
   "metadata": {},
   "outputs": [
    {
     "data": {
      "text/plain": [
       "0    Cryptoasset enthusiast investor economics Oct 18 Why Bitcoin Crypto Have No Future Why Bitcoin cryptoassets future NYSE creating cryptocurrency trading platform Bakkt collaboration Microsoft Starbucks physically backed Bitcoin futures contracts Fidelity of...\n",
       "1    Deduct tithes straight workers salaries Archbishop begs govt Published October 29 2018 Kampala Bishop Dr Cyprian Kizito Lwanga Source CitizenTV The Archbishop Kampala Cyprian Kizito Lwanga suggested government Uganda deduct tithe workers salaries Speaking ...\n",
       "2    Tommy Robinson could make 1m potential trip US next month making one best funded farright figures since second world war analysis antifascist campaigners says The English Defence League founder whose real name Stephen YaxleyLennon invited give address Wash...\n",
       "3    Bitcoin Fidelity made easier hedge funds pros invest cryptocurrencies Fidelity Investments administers 72 trillion client assets announced new separatpany called Fidelity Digital Asset Services Monday The firm handle custody cryptocurrencies bitcoin execut...\n",
       "4    Hillary Clinton appeared quite amused making joke interview could interpreted racist black people Clinton sat Kara Swisher Recode Decode podcast weekend Swisher asked Clinton former Attorney General Eric Holderment When go low kick em Thats new Democratic ...\n",
       "Name: preprocess, dtype: object"
      ]
     },
     "execution_count": 13,
     "metadata": {},
     "output_type": "execute_result"
    }
   ],
   "source": [
    "data['preprocess'].apply(lambda x: x.lower()) #transform text to lowercase\n",
    "data['preprocess'] = data['preprocess'].apply(lambda x: re.sub('[^a-zA-z0-9\\s]', '', x))\n",
    "data['preprocess'].head()"
   ]
  },
  {
   "cell_type": "markdown",
   "metadata": {},
   "source": [
    "Tokenizer from keras - \n",
    "maximum no. of rows = 5000\n",
    "pad sequence = sentences of same length\n"
   ]
  },
  {
   "cell_type": "code",
   "execution_count": 14,
   "metadata": {},
   "outputs": [
    {
     "data": {
      "text/plain": [
       "array([[   0,    0,    0, ..., 3138,   90,  525],\n",
       "       [   0,    0,    0, ..., 1865,  136,  257],\n",
       "       [   0,    0,    0, ...,  660,  364, 1625],\n",
       "       [   0,    0,    0, ..., 1059,  124, 2169],\n",
       "       [   0,    0,    0, ..., 1530,   45, 2349]])"
      ]
     },
     "execution_count": 14,
     "metadata": {},
     "output_type": "execute_result"
    }
   ],
   "source": [
    "tokenizer = Tokenizer(num_words=5000, split=\" \")\n",
    "tokenizer.fit_on_texts(data['preprocess'].values)\n",
    "\n",
    "X = tokenizer.texts_to_sequences(data['preprocess'].values)\n",
    "X = pad_sequences(X) # padding our text vector so they all have the same length\n",
    "X[:5]"
   ]
  },
  {
   "cell_type": "code",
   "execution_count": 15,
   "metadata": {},
   "outputs": [
    {
     "name": "stdout",
     "output_type": "stream",
     "text": [
      "2575\n"
     ]
    }
   ],
   "source": [
    "print(X.shape[1])"
   ]
  },
  {
   "cell_type": "markdown",
   "metadata": {},
   "source": [
    "### Creating model"
   ]
  },
  {
   "cell_type": "markdown",
   "metadata": {},
   "source": [
    "squential model is simplest \n",
    "model.add adds new layers to network\n",
    "Dropout is used for regularization(decreasing overfitting)\n",
    "256 - no. of units in each layer\n",
    "Dense connection - every neuron of 1 layer connected to every other neuron of next layer"
   ]
  },
  {
   "cell_type": "code",
   "execution_count": 16,
   "metadata": {},
   "outputs": [],
   "source": [
    "model = Sequential()\n",
    "model.add(Embedding(5000, 256, input_length=X.shape[1]))\n",
    "model.add(Dropout(0.3))\n",
    "model.add(LSTM(256, return_sequences=True, dropout=0.3, recurrent_dropout=0.2))\n",
    "model.add(LSTM(256, dropout=0.3, recurrent_dropout=0.2))\n",
    "model.add(Dense(5, activation='softmax'))"
   ]
  },
  {
   "cell_type": "markdown",
   "metadata": {},
   "source": [
    "compiling - takes sets 2 things \n",
    "For adam it is 0.001, reach up to 85% accuracy in 5 epochs\n",
    "1. optimizer - learning rate\n",
    "2. loss function - log function"
   ]
  },
  {
   "cell_type": "code",
   "execution_count": 17,
   "metadata": {},
   "outputs": [
    {
     "name": "stdout",
     "output_type": "stream",
     "text": [
      "_________________________________________________________________\n",
      "Layer (type)                 Output Shape              Param #   \n",
      "=================================================================\n",
      "embedding_1 (Embedding)      (None, 2575, 256)         1280000   \n",
      "_________________________________________________________________\n",
      "dropout_1 (Dropout)          (None, 2575, 256)         0         \n",
      "_________________________________________________________________\n",
      "lstm_1 (LSTM)                (None, 2575, 256)         525312    \n",
      "_________________________________________________________________\n",
      "lstm_2 (LSTM)                (None, 256)               525312    \n",
      "_________________________________________________________________\n",
      "dense_1 (Dense)              (None, 5)                 1285      \n",
      "=================================================================\n",
      "Total params: 2,331,909\n",
      "Trainable params: 2,331,909\n",
      "Non-trainable params: 0\n",
      "_________________________________________________________________\n"
     ]
    }
   ],
   "source": [
    "model.compile(loss='categorical_crossentropy', optimizer='adam', metrics=['accuracy'])\n",
    "model.summary()"
   ]
  },
  {
   "cell_type": "markdown",
   "metadata": {},
   "source": []
  },
  {
   "cell_type": "code",
   "execution_count": 18,
   "metadata": {},
   "outputs": [
    {
     "name": "stdout",
     "output_type": "stream",
     "text": [
      "[[1 0 0 0 0]\n",
      " [0 0 1 0 0]\n",
      " [0 0 0 1 0]\n",
      " ...\n",
      " [0 0 1 0 0]\n",
      " [0 0 1 0 0]\n",
      " [0 0 0 1 0]]\n",
      "0     -2.0\n",
      "1      0.0\n",
      "2      1.0\n",
      "3      2.0\n",
      "4      1.0\n",
      "5      0.0\n",
      "6      2.0\n",
      "7      0.0\n",
      "8      0.0\n",
      "9      0.0\n",
      "10    -2.0\n",
      "11     1.0\n",
      "12     2.0\n",
      "13     0.0\n",
      "14    -2.0\n",
      "15     0.0\n",
      "16    -2.0\n",
      "17     1.0\n",
      "18     0.0\n",
      "19     2.0\n",
      "20     0.0\n",
      "21     0.0\n",
      "22     2.0\n",
      "23     0.0\n",
      "24    -1.0\n",
      "      ... \n",
      "224    0.0\n",
      "225    0.0\n",
      "226    1.0\n",
      "227    0.0\n",
      "228    0.0\n",
      "229    0.0\n",
      "230    0.0\n",
      "231   -1.0\n",
      "232    0.0\n",
      "233    0.0\n",
      "234    0.0\n",
      "235    0.0\n",
      "236    0.0\n",
      "237    0.0\n",
      "238    0.0\n",
      "239    0.0\n",
      "240    0.0\n",
      "241    0.0\n",
      "242    0.0\n",
      "243    0.0\n",
      "244   -1.0\n",
      "245    0.0\n",
      "246    0.0\n",
      "247    0.0\n",
      "248    1.0\n",
      "Name: Label (-2 to 2), Length: 248, dtype: float64\n"
     ]
    }
   ],
   "source": [
    "y = pd.get_dummies(data['Label (-2 to 2)']).values\n",
    "print(y)\n",
    "print(data['Label (-2 to 2)'])\n",
    "# [print(data['label (-2 to 2)'][i], y[i]) for i in range(0,5)]"
   ]
  },
  {
   "cell_type": "markdown",
   "metadata": {},
   "source": [
    "training - 80%\n",
    "testing - 20%"
   ]
  },
  {
   "cell_type": "code",
   "execution_count": 19,
   "metadata": {},
   "outputs": [],
   "source": [
    "X_train, X_test, y_train, y_test = train_test_split(X, y, test_size=0.2, random_state=0)"
   ]
  },
  {
   "cell_type": "code",
   "execution_count": 20,
   "metadata": {},
   "outputs": [
    {
     "name": "stdout",
     "output_type": "stream",
     "text": [
      "(248, 2575)\n",
      "(248, 5)\n"
     ]
    }
   ],
   "source": [
    "print(X.shape)\n",
    "print(y.shape)"
   ]
  },
  {
   "cell_type": "markdown",
   "metadata": {},
   "source": [
    "### Training model"
   ]
  },
  {
   "cell_type": "markdown",
   "metadata": {},
   "source": [
    "Can include\n",
    "#set early stopping monitor so the model stops training when it won't improve anymore\n",
    "early_stopping_monitor = EarlyStopping(patience=3)"
   ]
  },
  {
   "cell_type": "code",
   "execution_count": null,
   "metadata": {},
   "outputs": [
    {
     "name": "stdout",
     "output_type": "stream",
     "text": [
      "Epoch 1/4\n"
     ]
    }
   ],
   "source": [
    "batch_size = 32\n",
    "epochs = 4\n",
    "\n",
    "model.fit(X_train, y_train, epochs=epochs, batch_size=batch_size, verbose=2)"
   ]
  },
  {
   "cell_type": "code",
   "execution_count": null,
   "metadata": {},
   "outputs": [],
   "source": [
    "model.save('sentiment_analysis.h5')"
   ]
  },
  {
   "cell_type": "markdown",
   "metadata": {},
   "source": [
    "### Testing model"
   ]
  },
  {
   "cell_type": "code",
   "execution_count": null,
   "metadata": {},
   "outputs": [],
   "source": [
    "predictions = model.predict(X_test)\n",
    "\n",
    "\n",
    "# [print(data['step1'][i], predictions[i], y_test[i]) for i in range(0, 5)]"
   ]
  },
  {
   "cell_type": "code",
   "execution_count": null,
   "metadata": {},
   "outputs": [],
   "source": [
    "pos_count, neu_count, neg_count = 0, 0, 0\n",
    "real_pos, real_neu, real_neg = 0, 0, 0\n",
    "for i, prediction in enumerate(predictions):\n",
    "    if np.argmax(prediction)==2:\n",
    "        pos_count += 1\n",
    "    elif np.argmax(prediction)==1:\n",
    "        neu_count += 1\n",
    "    else:\n",
    "        neg_count += 1\n",
    "    \n",
    "    if np.argmax(y_test[i])==2:\n",
    "        real_pos += 1\n",
    "    elif np.argmax(y_test[i])==1:    \n",
    "        real_neu += 1\n",
    "    else:\n",
    "        real_neg +=1\n",
    "\n",
    "print('Positive predictions:', pos_count)\n",
    "print('Neutral predictions:', neu_count)\n",
    "print('Negative predictions:', neg_count)\n",
    "print('Real positive:', real_pos)\n",
    "print('Real neutral:', real_neu)\n",
    "print('Real negative:', real_neg)"
   ]
  },
  {
   "cell_type": "markdown",
   "metadata": {},
   "source": [
    "## Improvements we could implement\n",
    "<ul>\n",
    "    <li>Weight classes (because data is skew)</li>\n",
    "    <li>Train more epochs</li>\n",
    "    <li>Use bigger network</li>\n",
    "    <li>Try other word number</li>\n",
    "</ul>"
   ]
  },
  {
   "cell_type": "markdown",
   "metadata": {},
   "source": [
    "## Resources\n",
    "\n",
    "<ul>\n",
    "    <li><a href=\"https://programmingwithgilbert.firebaseapp.com/videos/machine-learning-explained/recurrent-neural-networks-lstm-explained\">Recurrent Neural Networks Explained (my own post and video)</a></li>\n",
    "    <li><a href=\"https://en.wikipedia.org/wiki/Sentiment_analysis\">Sentiment Analysis (Wikipedia)</a></li>\n",
    "    <li><a href=\"https://www.quora.com/What-is-the-best-way-to-do-sentiment-analysis-with-Python-I%E2%80%99m-looking-for-a-sentiment-analysis-API-that-I-can-add-an-emoticon-dictionary-to-I-have-no-idea-how-to-use-NLTK-Can-anyone-help-me-with-that\">What is the best way to do sentiment analysis with Python? (Quora)</a></li>\n",
    "    <li><a href=\"https://www.youtube.com/watch?v=si8zZHkufRY\">How to Do Sentiment Analysis (Siraj Raval)</a></li>\n",
    "</ul>"
   ]
  }
 ],
 "metadata": {
  "kernelspec": {
   "display_name": "Python 3",
   "language": "python",
   "name": "python3"
  },
  "language_info": {
   "codemirror_mode": {
    "name": "ipython",
    "version": 3
   },
   "file_extension": ".py",
   "mimetype": "text/x-python",
   "name": "python",
   "nbconvert_exporter": "python",
   "pygments_lexer": "ipython3",
   "version": "3.6.4"
  }
 },
 "nbformat": 4,
 "nbformat_minor": 2
}
