{
 "cells": [
  {
   "cell_type": "markdown",
   "metadata": {},
   "source": [
    "# Sentiment Analysis with an RNN\n",
    "<img src=\"http://www.polyvista.com/blog/wp-content/uploads/2015/06/sentiment-customer-exp-large.png\">\n",
    "<p style=\"font-size:10px;\">http://www.polyvista.com/blog/wp-content/uploads/2015/06/sentiment-customer-exp-large.png</p>"
   ]
  },
  {
   "cell_type": "markdown",
   "metadata": {},
   "source": [
    "## What is Sentiment Analysis?\n",
    "\n",
    "Sentiment Analysis also know as opinion mining refers to the identification, extraction and study of sentiment states by using natural language processing, text analysis, computational linguistics and biometrics."
   ]
  },
  {
   "cell_type": "markdown",
   "metadata": {},
   "source": [
    "## Sentiment Analysis with an Recurrent Neural Network\n",
    "\n",
    "We will use a RNN for sentiment analysis because we care for the sequence in the data."
   ]
  },
  {
   "cell_type": "markdown",
   "metadata": {},
   "source": [
    "### Imports"
   ]
  },
  {
   "cell_type": "code",
   "execution_count": 1,
   "metadata": {},
   "outputs": [
    {
     "name": "stderr",
     "output_type": "stream",
     "text": [
      "Using TensorFlow backend.\n"
     ]
    }
   ],
   "source": [
    "import re\n",
    "import numpy as np\n",
    "import pandas as pd\n",
    "from sklearn.model_selection import train_test_split\n",
    "import matplotlib.pyplot as plt\n",
    "\n",
    "from keras.models import Sequential, load_model\n",
    "from keras.layers import Dense, LSTM, Embedding, Dropout\n",
    "from keras.preprocessing.text import Tokenizer\n",
    "from keras.preprocessing.sequence import pad_sequences"
   ]
  },
  {
   "cell_type": "code",
   "execution_count": 2,
   "metadata": {},
   "outputs": [],
   "source": [
    "# setting some options of pandas\n",
    "\n",
    "pd.set_option('display.max_colwidth', 260)\n",
    "pd.set_option('display.max_rows', 50)"
   ]
  },
  {
   "cell_type": "markdown",
   "metadata": {},
   "source": [
    "### Loading in Dataset"
   ]
  },
  {
   "cell_type": "code",
   "execution_count": 31,
   "metadata": {},
   "outputs": [
    {
     "name": "stdout",
     "output_type": "stream",
     "text": [
      "(9854, 13)\n"
     ]
    },
    {
     "data": {
      "text/html": [
       "<div>\n",
       "<style scoped>\n",
       "    .dataframe tbody tr th:only-of-type {\n",
       "        vertical-align: middle;\n",
       "    }\n",
       "\n",
       "    .dataframe tbody tr th {\n",
       "        vertical-align: top;\n",
       "    }\n",
       "\n",
       "    .dataframe thead th {\n",
       "        text-align: right;\n",
       "    }\n",
       "</style>\n",
       "<table border=\"1\" class=\"dataframe\">\n",
       "  <thead>\n",
       "    <tr style=\"text-align: right;\">\n",
       "      <th></th>\n",
       "      <th>user</th>\n",
       "      <th>fullname</th>\n",
       "      <th>timestamp</th>\n",
       "      <th>likes</th>\n",
       "      <th>replies</th>\n",
       "      <th>retweets</th>\n",
       "      <th>label (-2 to 2)</th>\n",
       "      <th>text</th>\n",
       "      <th>step1</th>\n",
       "      <th>stem</th>\n",
       "      <th>lem</th>\n",
       "      <th>cap</th>\n",
       "      <th>pos</th>\n",
       "    </tr>\n",
       "  </thead>\n",
       "  <tbody>\n",
       "    <tr>\n",
       "      <th>0</th>\n",
       "      <td>CryptoSlimer</td>\n",
       "      <td>CryptoSlimer [I AM giving away ETH]</td>\n",
       "      <td>14-10-18 23:58</td>\n",
       "      <td>2</td>\n",
       "      <td>15</td>\n",
       "      <td>1</td>\n",
       "      <td>NaN</td>\n",
       "      <td>I like what I'm seeing from the $METM team right now \\r\\n\\r\\n$BCH $BTC $NEO $AMB $ETH $XVG $STORM $IOTA $ELF $SNT $NEBL #CRYPTO $XMR $BTC #BITCOIN $TRX $VIBE $VIB $XRP $NOAH $ELA $ARN $DLT $TRX $LTC $NEO $MDA $NPXShttps://twitter.com/MetaMorphPro/status/10...</td>\n",
       "      <td>I like I m seeing  METM team right  BCH  BTC  NEO  AMB  ETH  XVG  STORM  IOTA  ELF  SNT  NEBL  CRYPTO  XMR  BTC  BITCOIN  TRX  VIBE  VIB  XRP  NOAH  ELA  ARN  DLT  TRX  LTC  NEO  MDA  NPXS</td>\n",
       "      <td>I like I m see metm team right bch btc neo amb eth xvg storm iota elf snt nebl crypto xmr btc bitcoin trx vibe vib xrp noah ela arn dlt trx ltc neo mda npx</td>\n",
       "      <td>I like I m see METM team right BCH BTC NEO AMB ETH XVG STORM IOTA ELF SNT NEBL CRYPTO XMR BTC BITCOIN TRX VIBE VIB XRP NOAH ELA ARN DLT TRX LTC NEO MDA NPXS</td>\n",
       "      <td>I LIKE I M SEEING METM TEAM RIGHT BCH BTC NEO AMB ETH XVG STORM IOTA ELF SNT NEBL CRYPTO XMR BTC BITCOIN TRX VIBE VIB XRP NOAH ELA ARN DLT TRX LTC NEO MDA NPXS</td>\n",
       "      <td>[('I', 'PRP'), ('like', 'VBP'), ('I', 'PRP'), ('m', 'VBP'), ('seeing', 'VBG'), ('METM', 'NNP'), ('team', 'NN'), ('right', 'RB'), ('BCH', 'NNP'), ('BTC', 'NNP'), ('NEO', 'NNP'), ('AMB', 'NNP'), ('ETH', 'NNP'), ('XVG', 'NNP'), ('STORM', 'NNP'), ('IOTA', 'NNP...</td>\n",
       "    </tr>\n",
       "    <tr>\n",
       "      <th>1</th>\n",
       "      <td>TraderStef</td>\n",
       "      <td>TraderStef</td>\n",
       "      <td>14-10-18 23:58</td>\n",
       "      <td>2</td>\n",
       "      <td>1</td>\n",
       "      <td>1</td>\n",
       "      <td>NaN</td>\n",
       "      <td>#cryptocoaster #Bitcoin #crypto #cryptocurrencies - Barclays halts work on cryptocurrency trading project - has been put 'on ice' @ForexLivehttps://www.forexlive.com/cryptocurrency/!/barclays-halts-work-on-cryptocurrency-trading-project-has-been-put-on-ice...</td>\n",
       "      <td>cryptocoaster  Bitcoin  crypto  cryptocurrencies   Barclays halts work cryptocurrency trading project   put  on ice     www forexlive com cryptocurrency   barclays halts work on cryptocurrency trading project has been put on ice</td>\n",
       "      <td>cryptocoast bitcoin crypto cryptocurr barclay halt work cryptocurr trade project put on ice www forexl com cryptocurr barclay halt work on cryptocurr trade project ha been put on ice</td>\n",
       "      <td>cryptocoaster Bitcoin crypto cryptocurrencies Barclays halt work cryptocurrency trade project put on ice www forexlive com cryptocurrency barclays halt work on cryptocurrency trade project have be put on ice</td>\n",
       "      <td>CRYPTOCOASTER BITCOIN CRYPTO CRYPTOCURRENCIES BARCLAYS HALTS WORK CRYPTOCURRENCY TRADING PROJECT PUT ON ICE WWW FOREXLIVE COM CRYPTOCURRENCY BARCLAYS HALTS WORK ON CRYPTOCURRENCY TRADING PROJECT HAS BEEN PUT ON ICE</td>\n",
       "      <td>[('cryptocoaster', 'NN'), ('Bitcoin', 'NNP'), ('crypto', 'NN'), ('cryptocurrencies', 'NNS'), ('Barclays', 'NNP'), ('halts', 'NNS'), ('work', 'VBP'), ('cryptocurrency', 'NN'), ('trading', 'NN'), ('project', 'NN'), ('put', 'VBD'), ('on', 'IN'), ('ice', 'NN')...</td>\n",
       "    </tr>\n",
       "    <tr>\n",
       "      <th>2</th>\n",
       "      <td>carl_dong</td>\n",
       "      <td>Carl Dong</td>\n",
       "      <td>14-10-18 23:58</td>\n",
       "      <td>9</td>\n",
       "      <td>1</td>\n",
       "      <td>1</td>\n",
       "      <td>NaN</td>\n",
       "      <td>It is much easier to deploy new consensus-level technologies on Liquid/Elements than on Bitcoin. For example, we already have CT. I wouldnât be surprised if when Simplicity comes to fruition it would also be deployed on Liquid/Elements first. But Iâm j...</td>\n",
       "      <td>It much easier deploy new consensus level technologies Liquid Elements Bitcoin  For example  already CT  I wouldn   t surprised Simplicity comes fruition would also deployed Liquid Elements first  But I   m speculating</td>\n",
       "      <td>It much easier deploy new consensu level technolog liquid element bitcoin for exampl alreadi CT I wouldn t surpris simplic come fruition would also deploy liquid element first but I m specul</td>\n",
       "      <td>It much easier deploy new consensus level technologies Liquid Elements Bitcoin For example already CT I wouldn t surprise Simplicity come fruition would also deploy Liquid Elements first But I m speculate</td>\n",
       "      <td>IT MUCH EASIER DEPLOY NEW CONSENSUS LEVEL TECHNOLOGIES LIQUID ELEMENTS BITCOIN FOR EXAMPLE ALREADY CT I WOULDN T SURPRISED SIMPLICITY COMES FRUITION WOULD ALSO DEPLOYED LIQUID ELEMENTS FIRST BUT I M SPECULATING</td>\n",
       "      <td>[('It', 'PRP'), ('much', 'RB'), ('easier', 'RBR'), ('deploy', 'JJ'), ('new', 'JJ'), ('consensus', 'NN'), ('level', 'NN'), ('technologies', 'NNS'), ('Liquid', 'NNP'), ('Elements', 'NNS'), ('Bitcoin', 'NNP'), ('For', 'IN'), ('example', 'NN'), ('already', 'RB...</td>\n",
       "    </tr>\n",
       "    <tr>\n",
       "      <th>3</th>\n",
       "      <td>JoelKatz</td>\n",
       "      <td>David Schwartz</td>\n",
       "      <td>14-10-18 23:57</td>\n",
       "      <td>93</td>\n",
       "      <td>3</td>\n",
       "      <td>18</td>\n",
       "      <td>-2.0</td>\n",
       "      <td>But that entity would in no way, shape or form be bitcoin. No second layer or sidechain would allow bitcoin to sign a contract. Ripple can sign contracts.</td>\n",
       "      <td>But entity would way  shape form bitcoin  No second layer sidechain would allow bitcoin sign contract  Ripple sign contracts</td>\n",
       "      <td>but entiti would way shape form bitcoin No second layer sidechain would allow bitcoin sign contract rippl sign contract</td>\n",
       "      <td>But entity would way shape form bitcoin No second layer sidechain would allow bitcoin sign contract Ripple sign contract</td>\n",
       "      <td>BUT ENTITY WOULD WAY SHAPE FORM BITCOIN NO SECOND LAYER SIDECHAIN WOULD ALLOW BITCOIN SIGN CONTRACT RIPPLE SIGN CONTRACTS</td>\n",
       "      <td>[('But', 'CC'), ('entity', 'NN'), ('would', 'MD'), ('way', 'NN'), ('shape', 'VB'), ('form', 'NN'), ('bitcoin', 'NN'), ('No', 'NNP'), ('second', 'JJ'), ('layer', 'NN'), ('sidechain', 'NN'), ('would', 'MD'), ('allow', 'VB'), ('bitcoin', 'VB'), ('sign', 'JJ')...</td>\n",
       "    </tr>\n",
       "    <tr>\n",
       "      <th>4</th>\n",
       "      <td>NiggahNews</td>\n",
       "      <td>NiggahNews</td>\n",
       "      <td>14-10-18 23:57</td>\n",
       "      <td>5</td>\n",
       "      <td>1</td>\n",
       "      <td>1</td>\n",
       "      <td>NaN</td>\n",
       "      <td>#Weekend #SoundCloud #itunes #indiemusic #applemusic #indieartist #unsignedartist #Director #Creative #Dance #Rappers #Goat #Milk #Payday #browardmusic #miami #flow #hypebeast #hollywood #music #newmusic #comeup #Drama #Business #Workout #Bitcoin #HarryTV ...</td>\n",
       "      <td>Weekend  SoundCloud  itunes  indiemusic  applemusic  indieartist  unsignedartist  Director  Creative  Dance  Rappers  Goat  Milk  Payday  browardmusic  miami  flow  hypebeast  hollywood  music  newmusic  comeup  Drama  Business  Workout  Bitcoin  HarryTV ...</td>\n",
       "      <td>weekend soundcloud itun indiemus applemus indieartist unsignedartist director creativ danc rapper goat milk payday browardmus miami flow hypebeast hollywood music newmus comeup drama busi workout bitcoin harrytv sunris deadwrong Ni pic twitter com dgbg ztzv</td>\n",
       "      <td>Weekend SoundCloud itunes indiemusic applemusic indieartist unsignedartist Director Creative Dance Rappers Goat Milk Payday browardmusic miami flow hypebeast hollywood music newmusic comeup Drama Business Workout Bitcoin HarryTV Sunrise DeadWrong Ni pic tw...</td>\n",
       "      <td>WEEKEND SOUNDCLOUD ITUNES INDIEMUSIC APPLEMUSIC INDIEARTIST UNSIGNEDARTIST DIRECTOR CREATIVE DANCE RAPPERS GOAT MILK PAYDAY BROWARDMUSIC MIAMI FLOW HYPEBEAST HOLLYWOOD MUSIC NEWMUSIC COMEUP DRAMA BUSINESS WORKOUT BITCOIN HARRYTV SUNRISE DEADWRONG NI PIC TW...</td>\n",
       "      <td>[('Weekend', 'NNP'), ('SoundCloud', 'NNP'), ('itunes', 'NNS'), ('indiemusic', 'JJ'), ('applemusic', 'JJ'), ('indieartist', 'NN'), ('unsignedartist', 'JJ'), ('Director', 'NNP'), ('Creative', 'NNP'), ('Dance', 'NNP'), ('Rappers', 'NNP'), ('Goat', 'NNP'), ('M...</td>\n",
       "    </tr>\n",
       "  </tbody>\n",
       "</table>\n",
       "</div>"
      ],
      "text/plain": [
       "           user                             fullname       timestamp  likes  \\\n",
       "0  CryptoSlimer  CryptoSlimer [I AM giving away ETH]  14-10-18 23:58      2   \n",
       "1    TraderStef                           TraderStef  14-10-18 23:58      2   \n",
       "2     carl_dong                            Carl Dong  14-10-18 23:58      9   \n",
       "3      JoelKatz                       David Schwartz  14-10-18 23:57     93   \n",
       "4    NiggahNews                           NiggahNews  14-10-18 23:57      5   \n",
       "\n",
       "   replies  retweets  label (-2 to 2)  \\\n",
       "0       15         1              NaN   \n",
       "1        1         1              NaN   \n",
       "2        1         1              NaN   \n",
       "3        3        18             -2.0   \n",
       "4        1         1              NaN   \n",
       "\n",
       "                                                                                                                                                                                                                                                                  text  \\\n",
       "0  I like what I'm seeing from the $METM team right now \\r\\n\\r\\n$BCH $BTC $NEO $AMB $ETH $XVG $STORM $IOTA $ELF $SNT $NEBL #CRYPTO $XMR $BTC #BITCOIN $TRX $VIBE $VIB $XRP $NOAH $ELA $ARN $DLT $TRX $LTC $NEO $MDA $NPXShttps://twitter.com/MetaMorphPro/status/10...   \n",
       "1  #cryptocoaster #Bitcoin #crypto #cryptocurrencies - Barclays halts work on cryptocurrency trading project - has been put 'on ice' @ForexLivehttps://www.forexlive.com/cryptocurrency/!/barclays-halts-work-on-cryptocurrency-trading-project-has-been-put-on-ice...   \n",
       "2  It is much easier to deploy new consensus-level technologies on Liquid/Elements than on Bitcoin. For example, we already have CT. I wouldnât be surprised if when Simplicity comes to fruition it would also be deployed on Liquid/Elements first. But Iâm j...   \n",
       "3                                                                                                           But that entity would in no way, shape or form be bitcoin. No second layer or sidechain would allow bitcoin to sign a contract. Ripple can sign contracts.   \n",
       "4  #Weekend #SoundCloud #itunes #indiemusic #applemusic #indieartist #unsignedartist #Director #Creative #Dance #Rappers #Goat #Milk #Payday #browardmusic #miami #flow #hypebeast #hollywood #music #newmusic #comeup #Drama #Business #Workout #Bitcoin #HarryTV ...   \n",
       "\n",
       "                                                                                                                                                                                                                                                                 step1  \\\n",
       "0                                                                    I like I m seeing  METM team right  BCH  BTC  NEO  AMB  ETH  XVG  STORM  IOTA  ELF  SNT  NEBL  CRYPTO  XMR  BTC  BITCOIN  TRX  VIBE  VIB  XRP  NOAH  ELA  ARN  DLT  TRX  LTC  NEO  MDA  NPXS        \n",
       "1                   cryptocoaster  Bitcoin  crypto  cryptocurrencies   Barclays halts work cryptocurrency trading project   put  on ice     www forexlive com cryptocurrency   barclays halts work on cryptocurrency trading project has been put on ice                 \n",
       "2                                          It much easier deploy new consensus level technologies Liquid Elements Bitcoin  For example  already CT  I wouldn   t surprised Simplicity comes fruition would also deployed Liquid Elements first  But I   m speculating    \n",
       "3                                                                                                                                        But entity would way  shape form bitcoin  No second layer sidechain would allow bitcoin sign contract  Ripple sign contracts    \n",
       "4   Weekend  SoundCloud  itunes  indiemusic  applemusic  indieartist  unsignedartist  Director  Creative  Dance  Rappers  Goat  Milk  Payday  browardmusic  miami  flow  hypebeast  hollywood  music  newmusic  comeup  Drama  Business  Workout  Bitcoin  HarryTV ...   \n",
       "\n",
       "                                                                                                                                                                                                                                                                stem  \\\n",
       "0                                                                                                        I like I m see metm team right bch btc neo amb eth xvg storm iota elf snt nebl crypto xmr btc bitcoin trx vibe vib xrp noah ela arn dlt trx ltc neo mda npx   \n",
       "1                                                                             cryptocoast bitcoin crypto cryptocurr barclay halt work cryptocurr trade project put on ice www forexl com cryptocurr barclay halt work on cryptocurr trade project ha been put on ice   \n",
       "2                                                                     It much easier deploy new consensu level technolog liquid element bitcoin for exampl alreadi CT I wouldn t surpris simplic come fruition would also deploy liquid element first but I m specul   \n",
       "3                                                                                                                                            but entiti would way shape form bitcoin No second layer sidechain would allow bitcoin sign contract rippl sign contract   \n",
       "4  weekend soundcloud itun indiemus applemus indieartist unsignedartist director creativ danc rapper goat milk payday browardmus miami flow hypebeast hollywood music newmus comeup drama busi workout bitcoin harrytv sunris deadwrong Ni pic twitter com dgbg ztzv   \n",
       "\n",
       "                                                                                                                                                                                                                                                                   lem  \\\n",
       "0                                                                                                         I like I m see METM team right BCH BTC NEO AMB ETH XVG STORM IOTA ELF SNT NEBL CRYPTO XMR BTC BITCOIN TRX VIBE VIB XRP NOAH ELA ARN DLT TRX LTC NEO MDA NPXS   \n",
       "1                                                      cryptocoaster Bitcoin crypto cryptocurrencies Barclays halt work cryptocurrency trade project put on ice www forexlive com cryptocurrency barclays halt work on cryptocurrency trade project have be put on ice   \n",
       "2                                                         It much easier deploy new consensus level technologies Liquid Elements Bitcoin For example already CT I wouldn t surprise Simplicity come fruition would also deploy Liquid Elements first But I m speculate   \n",
       "3                                                                                                                                             But entity would way shape form bitcoin No second layer sidechain would allow bitcoin sign contract Ripple sign contract   \n",
       "4  Weekend SoundCloud itunes indiemusic applemusic indieartist unsignedartist Director Creative Dance Rappers Goat Milk Payday browardmusic miami flow hypebeast hollywood music newmusic comeup Drama Business Workout Bitcoin HarryTV Sunrise DeadWrong Ni pic tw...   \n",
       "\n",
       "                                                                                                                                                                                                                                                                   cap  \\\n",
       "0                                                                                                      I LIKE I M SEEING METM TEAM RIGHT BCH BTC NEO AMB ETH XVG STORM IOTA ELF SNT NEBL CRYPTO XMR BTC BITCOIN TRX VIBE VIB XRP NOAH ELA ARN DLT TRX LTC NEO MDA NPXS   \n",
       "1                                               CRYPTOCOASTER BITCOIN CRYPTO CRYPTOCURRENCIES BARCLAYS HALTS WORK CRYPTOCURRENCY TRADING PROJECT PUT ON ICE WWW FOREXLIVE COM CRYPTOCURRENCY BARCLAYS HALTS WORK ON CRYPTOCURRENCY TRADING PROJECT HAS BEEN PUT ON ICE   \n",
       "2                                                   IT MUCH EASIER DEPLOY NEW CONSENSUS LEVEL TECHNOLOGIES LIQUID ELEMENTS BITCOIN FOR EXAMPLE ALREADY CT I WOULDN T SURPRISED SIMPLICITY COMES FRUITION WOULD ALSO DEPLOYED LIQUID ELEMENTS FIRST BUT I M SPECULATING   \n",
       "3                                                                                                                                            BUT ENTITY WOULD WAY SHAPE FORM BITCOIN NO SECOND LAYER SIDECHAIN WOULD ALLOW BITCOIN SIGN CONTRACT RIPPLE SIGN CONTRACTS   \n",
       "4  WEEKEND SOUNDCLOUD ITUNES INDIEMUSIC APPLEMUSIC INDIEARTIST UNSIGNEDARTIST DIRECTOR CREATIVE DANCE RAPPERS GOAT MILK PAYDAY BROWARDMUSIC MIAMI FLOW HYPEBEAST HOLLYWOOD MUSIC NEWMUSIC COMEUP DRAMA BUSINESS WORKOUT BITCOIN HARRYTV SUNRISE DEADWRONG NI PIC TW...   \n",
       "\n",
       "                                                                                                                                                                                                                                                                   pos  \n",
       "0  [('I', 'PRP'), ('like', 'VBP'), ('I', 'PRP'), ('m', 'VBP'), ('seeing', 'VBG'), ('METM', 'NNP'), ('team', 'NN'), ('right', 'RB'), ('BCH', 'NNP'), ('BTC', 'NNP'), ('NEO', 'NNP'), ('AMB', 'NNP'), ('ETH', 'NNP'), ('XVG', 'NNP'), ('STORM', 'NNP'), ('IOTA', 'NNP...  \n",
       "1  [('cryptocoaster', 'NN'), ('Bitcoin', 'NNP'), ('crypto', 'NN'), ('cryptocurrencies', 'NNS'), ('Barclays', 'NNP'), ('halts', 'NNS'), ('work', 'VBP'), ('cryptocurrency', 'NN'), ('trading', 'NN'), ('project', 'NN'), ('put', 'VBD'), ('on', 'IN'), ('ice', 'NN')...  \n",
       "2  [('It', 'PRP'), ('much', 'RB'), ('easier', 'RBR'), ('deploy', 'JJ'), ('new', 'JJ'), ('consensus', 'NN'), ('level', 'NN'), ('technologies', 'NNS'), ('Liquid', 'NNP'), ('Elements', 'NNS'), ('Bitcoin', 'NNP'), ('For', 'IN'), ('example', 'NN'), ('already', 'RB...  \n",
       "3  [('But', 'CC'), ('entity', 'NN'), ('would', 'MD'), ('way', 'NN'), ('shape', 'VB'), ('form', 'NN'), ('bitcoin', 'NN'), ('No', 'NNP'), ('second', 'JJ'), ('layer', 'NN'), ('sidechain', 'NN'), ('would', 'MD'), ('allow', 'VB'), ('bitcoin', 'VB'), ('sign', 'JJ')...  \n",
       "4  [('Weekend', 'NNP'), ('SoundCloud', 'NNP'), ('itunes', 'NNS'), ('indiemusic', 'JJ'), ('applemusic', 'JJ'), ('indieartist', 'NN'), ('unsignedartist', 'JJ'), ('Director', 'NNP'), ('Creative', 'NNP'), ('Dance', 'NNP'), ('Rappers', 'NNP'), ('Goat', 'NNP'), ('M...  "
      ]
     },
     "execution_count": 31,
     "metadata": {},
     "output_type": "execute_result"
    }
   ],
   "source": [
    "data = pd.read_csv('../Data_json_csv/preprocess_twitter_data_sa.csv')\n",
    "# data = data.sample(frac=1).reset_index(drop=True)\n",
    "print(data.shape)\n",
    "data.head()\n"
   ]
  },
  {
   "cell_type": "markdown",
   "metadata": {},
   "source": [
    "Removing all columns except the airline_sentiment and text column."
   ]
  },
  {
   "cell_type": "code",
   "execution_count": 32,
   "metadata": {},
   "outputs": [
    {
     "data": {
      "text/html": [
       "<div>\n",
       "<style scoped>\n",
       "    .dataframe tbody tr th:only-of-type {\n",
       "        vertical-align: middle;\n",
       "    }\n",
       "\n",
       "    .dataframe tbody tr th {\n",
       "        vertical-align: top;\n",
       "    }\n",
       "\n",
       "    .dataframe thead th {\n",
       "        text-align: right;\n",
       "    }\n",
       "</style>\n",
       "<table border=\"1\" class=\"dataframe\">\n",
       "  <thead>\n",
       "    <tr style=\"text-align: right;\">\n",
       "      <th></th>\n",
       "      <th>label (-2 to 2)</th>\n",
       "      <th>step1</th>\n",
       "    </tr>\n",
       "  </thead>\n",
       "  <tbody>\n",
       "    <tr>\n",
       "      <th>0</th>\n",
       "      <td>NaN</td>\n",
       "      <td>I like I m seeing  METM team right  BCH  BTC  NEO  AMB  ETH  XVG  STORM  IOTA  ELF  SNT  NEBL  CRYPTO  XMR  BTC  BITCOIN  TRX  VIBE  VIB  XRP  NOAH  ELA  ARN  DLT  TRX  LTC  NEO  MDA  NPXS</td>\n",
       "    </tr>\n",
       "    <tr>\n",
       "      <th>1</th>\n",
       "      <td>NaN</td>\n",
       "      <td>cryptocoaster  Bitcoin  crypto  cryptocurrencies   Barclays halts work cryptocurrency trading project   put  on ice     www forexlive com cryptocurrency   barclays halts work on cryptocurrency trading project has been put on ice</td>\n",
       "    </tr>\n",
       "    <tr>\n",
       "      <th>2</th>\n",
       "      <td>NaN</td>\n",
       "      <td>It much easier deploy new consensus level technologies Liquid Elements Bitcoin  For example  already CT  I wouldn   t surprised Simplicity comes fruition would also deployed Liquid Elements first  But I   m speculating</td>\n",
       "    </tr>\n",
       "    <tr>\n",
       "      <th>3</th>\n",
       "      <td>-2.0</td>\n",
       "      <td>But entity would way  shape form bitcoin  No second layer sidechain would allow bitcoin sign contract  Ripple sign contracts</td>\n",
       "    </tr>\n",
       "    <tr>\n",
       "      <th>4</th>\n",
       "      <td>NaN</td>\n",
       "      <td>Weekend  SoundCloud  itunes  indiemusic  applemusic  indieartist  unsignedartist  Director  Creative  Dance  Rappers  Goat  Milk  Payday  browardmusic  miami  flow  hypebeast  hollywood  music  newmusic  comeup  Drama  Business  Workout  Bitcoin  HarryTV ...</td>\n",
       "    </tr>\n",
       "    <tr>\n",
       "      <th>5</th>\n",
       "      <td>1.0</td>\n",
       "      <td>Yes  albeit probably rather poor smart contract  since trust minimized blockchains provide far secure control assets  I thought smart Ks many years appearance trust minimized blockchain scripts Bitcoin etc   made smart Ks far practical</td>\n",
       "    </tr>\n",
       "    <tr>\n",
       "      <th>6</th>\n",
       "      <td>1.0</td>\n",
       "      <td>Try moving pallets cash around vs Bitcoin get point   pic twitter com GklvlDzKXb</td>\n",
       "    </tr>\n",
       "    <tr>\n",
       "      <th>7</th>\n",
       "      <td>0.0</td>\n",
       "      <td>tx s bitcoin right  Its     depending many different things</td>\n",
       "    </tr>\n",
       "    <tr>\n",
       "      <th>8</th>\n",
       "      <td>NaN</td>\n",
       "      <td>Great charts bull bubble bust runs  silver  bitcoin        cheers  sending acrosspic twitter com W fZnX GRu</td>\n",
       "    </tr>\n",
       "    <tr>\n",
       "      <th>9</th>\n",
       "      <td>NaN</td>\n",
       "      <td>New Article  Tron  TRX mass adoption  Ripple  XRP partnering SWIFT   Metamorph  METM Decentralized Exchange launching    hours  Tether getting replaced  USDC  Cryptocurrency  Blockchain  Bitcoin  Ethereum  BTC  ETH  LTC trx mass adoption ripple xrp swift p...</td>\n",
       "    </tr>\n",
       "    <tr>\n",
       "      <th>10</th>\n",
       "      <td>NaN</td>\n",
       "      <td>Did I say I   Bitcoin lately  Grrrrrr     pic twitter com TLykTQaU M</td>\n",
       "    </tr>\n",
       "    <tr>\n",
       "      <th>11</th>\n",
       "      <td>0.0</td>\n",
       "      <td>Launching East Egg Crypto I share    altcoin trades   bitcoin trades   weekly market outlook   topics Group capped    members      BTC month  launch next Sunday  October   st  pic twitter com nQHwRVNadm</td>\n",
       "    </tr>\n",
       "    <tr>\n",
       "      <th>12</th>\n",
       "      <td>NaN</td>\n",
       "      <td>Yooooo  le site pour lequel sait depuis des ann  es que c est un fake notoire  Mais non  il fait partie  des horreurs du darkweb  au m  me titre que le bitcoin  Go figure        status</td>\n",
       "    </tr>\n",
       "    <tr>\n",
       "      <th>13</th>\n",
       "      <td>-1.0</td>\n",
       "      <td>last investment bitcoin crumbled  almost killed me  Laughing Out Loud</td>\n",
       "    </tr>\n",
       "    <tr>\n",
       "      <th>14</th>\n",
       "      <td>-1.0</td>\n",
       "      <td>There day price XRP uncorrelated Bitcoin  completely driven utility  Luckily us  Ripple working hard behind scenes set framework allow mass adoption take place soon   xrp  xrpthestandard  ripple</td>\n",
       "    </tr>\n",
       "    <tr>\n",
       "      <th>15</th>\n",
       "      <td>1.0</td>\n",
       "      <td>On point  Liquid makes trading  BTC better  It   s replacement  Bitcoin augmentation  There   s lot commentary worrying trust model  LiquidNetwork  key thing trading traders already trust entity capacity</td>\n",
       "    </tr>\n",
       "    <tr>\n",
       "      <th>16</th>\n",
       "      <td>-1.0</td>\n",
       "      <td>He like virus attracted attention bitcoin immune system    Never ends well virus  Laughing Out Loud</td>\n",
       "    </tr>\n",
       "    <tr>\n",
       "      <th>17</th>\n",
       "      <td>NaN</td>\n",
       "      <td>TRON  TRX   Mass Adoption Coming Soon   New Mystery Partner Announced        AZbXIk  via   crypto  cryptocurrencynews  altcoin  alt  decentralized  blockchain   tech  innovation  POPPY   USD  StockMarket  trade  wallet  bitcoin  TVMpic twitter com WAbOVt p k</td>\n",
       "    </tr>\n",
       "    <tr>\n",
       "      <th>18</th>\n",
       "      <td>NaN</td>\n",
       "      <td>Hoping pema bear Bitcoin skeptics get big BTC    short zero    fund  Great thread</td>\n",
       "    </tr>\n",
       "    <tr>\n",
       "      <th>19</th>\n",
       "      <td>0.0</td>\n",
       "      <td>New Years Party   Register Now   go Long Short  Crypto  Bitcoin        x Leverage  Cryptocurrency  Blockchain  Ethereum  ETH  Ripple  Litecoin  LTC  EOS  Monero  NEO  Stellar  Tron  IOTA  Dogecoin  Cardanopic twitter com Lbn ljNa E</td>\n",
       "    </tr>\n",
       "    <tr>\n",
       "      <th>20</th>\n",
       "      <td>2.0</td>\n",
       "      <td>This great benefit multi layer approach  Bitcoin stable foundation  people free build top that  piggybacking it</td>\n",
       "    </tr>\n",
       "    <tr>\n",
       "      <th>21</th>\n",
       "      <td>1.0</td>\n",
       "      <td>This image  inaugural puja offering bitcoin At The Moment Bangalore  priceless   atms india unocoin solution rbi ban      pic twitter com sJ JSaitcj</td>\n",
       "    </tr>\n",
       "    <tr>\n",
       "      <th>22</th>\n",
       "      <td>1.0</td>\n",
       "      <td>We sliced Bitcoin withdrawal fee s half  We know hassle fee s times bitcoin network  want reward loyal players choosing play us   stake  bitcoin  fees  winning  btcpic twitter com XPt uDuZfV</td>\n",
       "    </tr>\n",
       "    <tr>\n",
       "      <th>23</th>\n",
       "      <td>0.0</td>\n",
       "      <td>Bitcoin equal              Naira</td>\n",
       "    </tr>\n",
       "    <tr>\n",
       "      <th>24</th>\n",
       "      <td>1.0</td>\n",
       "      <td>Looks like bitcoin either collapse bounce year end rally  please subscribe newsletter expert info</td>\n",
       "    </tr>\n",
       "    <tr>\n",
       "      <th>25</th>\n",
       "      <td>0.0</td>\n",
       "      <td>Which Country Trades The Most Bitcoin   bitcoin  btc  blockchain  crypto  cryptocurrencypic twitter com    HYFBK</td>\n",
       "    </tr>\n",
       "    <tr>\n",
       "      <th>26</th>\n",
       "      <td>1.0</td>\n",
       "      <td>hellllaaa yeahhh believe  bitcoin  btc even though don   t yet now    will  im mkt timer cos im looking load up  ayyyyeee</td>\n",
       "    </tr>\n",
       "    <tr>\n",
       "      <th>27</th>\n",
       "      <td>NaN</td>\n",
       "      <td>Bitcoin chan</td>\n",
       "    </tr>\n",
       "    <tr>\n",
       "      <th>28</th>\n",
       "      <td>NaN</td>\n",
       "      <td>Hi  Miami  Airdrop  Week   BONUS        SpritzCoin    RT one    Fill  Q Q  N DJrp  qjBhlVlIsVUWdbFzcF yA viewform usp sf link       crypto  blockchain  free  giveaway  freecoins  bitcoin  ethereum  business  investors  wine  sparkling  champagne Josh Richa...</td>\n",
       "    </tr>\n",
       "    <tr>\n",
       "      <th>29</th>\n",
       "      <td>NaN</td>\n",
       "      <td>These  METM screenshots new platform look awesome   plus bitmart within week two  STRONG BUY right  BCH  BTC  NEO  AMB  ETH  XVG  STORM  IOTA  ELF  SNT  NEBL  CRYPTO  XMR  BTC  BITCOIN  TRX  VIBE  VIB  XRP  NOAH  ELA  ARN  DLT  TRX  LTC  NEO  MDA  NPXSpic ...</td>\n",
       "    </tr>\n",
       "    <tr>\n",
       "      <th>30</th>\n",
       "      <td>NaN</td>\n",
       "      <td>These  METM screenshots new platform look awesome   plus bitmart within week two  STRONG BUY right  BCH  BTC  NEO  AMB  ETH  XVG  STORM  IOTA  ELF  SNT  NEBL  CRYPTO  XMR  BTC  BITCOIN  TRX  VIBE  VIB  XRP  NOAH  ELA  ARN  DLT  TRX  LTC  NEO  MDA  NPXSpic ...</td>\n",
       "    </tr>\n",
       "    <tr>\n",
       "      <th>31</th>\n",
       "      <td>NaN</td>\n",
       "      <td>LRS   email edition went out  A stories revealing state Crypto Senate hearing   Coinbase killing index product  Liquid Bitcoin sidechain launch  Tether Bitfinex intrigue You ve got limited time  Use well   reads sunday issue</td>\n",
       "    </tr>\n",
       "    <tr>\n",
       "      <th>32</th>\n",
       "      <td>1.0</td>\n",
       "      <td>Why Ethereum Classic  ETC  Next Bitcoin IOT DAPPs    Ethereum  EthereumClassic  ETC  Bitcoin pic twitter com XU n A AfJ</td>\n",
       "    </tr>\n",
       "    <tr>\n",
       "      <th>33</th>\n",
       "      <td>-1.0</td>\n",
       "      <td>That plus  wild  volatility I expect around extinction event Bitcoin means heads I   m liquidated tails upside capped far notional value position</td>\n",
       "    </tr>\n",
       "    <tr>\n",
       "      <th>34</th>\n",
       "      <td>2.0</td>\n",
       "      <td>For cold storage security  censorship resistance  unseizability  unfreezability finality  key differentiators Bitcoin  direct Bitcoin mainchain I think always going better federated merge mined</td>\n",
       "    </tr>\n",
       "    <tr>\n",
       "      <th>35</th>\n",
       "      <td>0.0</td>\n",
       "      <td>CRYPTOCURRENCY GIVEAWAY SIGN UP     ASK A QUESTION BEST QUESTION WINS  FIRST      USERS ONLY FOLLOW RETWEET AND LIKE  Cryptocurrency  Bitcoin  BTC                                                        Ariana Pete  ARMYIndependenceDay  GHVIPDBT            ...</td>\n",
       "    </tr>\n",
       "    <tr>\n",
       "      <th>36</th>\n",
       "      <td>1.0</td>\n",
       "      <td>For ever said  crypto bubble  hidden hand would play majority people believe in  disbelieve   bitcoin  BTC  OCN</td>\n",
       "    </tr>\n",
       "    <tr>\n",
       "      <th>37</th>\n",
       "      <td>1.0</td>\n",
       "      <td>Who says ICOs absolute dead  China   s crypto mining pool  raised     million     hours ICO  And first Bitcoin cash blockchain based ICO   and congrats guys done well    crypto mining pool viabtc raised    million in     hours through ico</td>\n",
       "    </tr>\n",
       "    <tr>\n",
       "      <th>38</th>\n",
       "      <td>1.0</td>\n",
       "      <td>So much  bch narrative people stopped using  Bitcoin segwit  There  btc segwit txns  bch txns overall</td>\n",
       "    </tr>\n",
       "    <tr>\n",
       "      <th>39</th>\n",
       "      <td>0.0</td>\n",
       "      <td>Do think Tether money   RT sample size appreciated   tether  bitcoin  eth  btc  btc  eth  USDT  usdt  crypto</td>\n",
       "    </tr>\n",
       "    <tr>\n",
       "      <th>40</th>\n",
       "      <td>0.0</td>\n",
       "      <td>In face  Bitcoin             ANOTHERONE  ANOTHERONE  ANOTHERONE  CHAINLINK  LINK  LINK  Cryptocurrency  Crypto  Crypto  Altcoin  Altcoins  DayTradingpic twitter com CYnSoMdUpo</td>\n",
       "    </tr>\n",
       "    <tr>\n",
       "      <th>41</th>\n",
       "      <td>0.0</td>\n",
       "      <td>The darkweb mystery box trend probably one silliest things I ve seen come tubes  I like make seem like ordering amazon  rather random ppl stealing bitcoin sending nothing</td>\n",
       "    </tr>\n",
       "    <tr>\n",
       "      <th>42</th>\n",
       "      <td>0.0</td>\n",
       "      <td>Can guess people saying  bitcoin     pic twitter com M LAMKv du</td>\n",
       "    </tr>\n",
       "    <tr>\n",
       "      <th>43</th>\n",
       "      <td>1.0</td>\n",
       "      <td>Liabilities must backed assets order value  Currently fiat issuers back liabilities mainly debt assets  A sound strong legal system needed enforce debt assets  Bitcoin need make use legal system value</td>\n",
       "    </tr>\n",
       "    <tr>\n",
       "      <th>44</th>\n",
       "      <td>0.0</td>\n",
       "      <td>A YUUGE thank  reuniting Cryptolandia reminding everyone real enemy is  The Establishment  Good luck competing w us   bitcoin  EOS  litecoin  ethereum  doge  bch  dash  bitshares  moontime</td>\n",
       "    </tr>\n",
       "    <tr>\n",
       "      <th>45</th>\n",
       "      <td>-1.0</td>\n",
       "      <td>Bitcoin struggles      test completed second time  BTC stochastic levels indicate selling pressure  however higher price levels remain moment Break beyond      seek      long term trend line  BTC currently  hodl   stop   entry points  Cryptocurrencypic tw...</td>\n",
       "    </tr>\n",
       "    <tr>\n",
       "      <th>46</th>\n",
       "      <td>1.0</td>\n",
       "      <td>I hope tether fudtrads understand tether breaks means entire crypto ecosystem see billion dollar capital flight large caps bitcoin small time frame  everything pump  x afternoon  hope see bullish</td>\n",
       "    </tr>\n",
       "    <tr>\n",
       "      <th>47</th>\n",
       "      <td>2.0</td>\n",
       "      <td>Tony Vayes literally year short Bitcoin  chooses       sell  BTC directly red wick support lmafo</td>\n",
       "    </tr>\n",
       "    <tr>\n",
       "      <th>48</th>\n",
       "      <td>NaN</td>\n",
       "      <td>MATRIX Testnet Verileri Neyi G  steriyor    BTC  ETH  kriptopara  blockchaintechnology  yapayzeka  ai      MAN  altcoin  Coin  cryptocurrency  org  bitcoin  deeplearning  TPS  crypto  IPFS   pic twitter com tGnfy H ro</td>\n",
       "    </tr>\n",
       "    <tr>\n",
       "      <th>49</th>\n",
       "      <td>NaN</td>\n",
       "      <td>Good evening  NewYork  NY What drink   Airdrop  Week     Cheers BONUS        SpritzCoin    RT one    Fill  Q Q  N DJrp  qjBhlVlIsVUWdbFzcF yA viewform usp sf link           crypto  blockchain  free  giveaway  freecoins  altcoin  bitcoin  ethereum  business...</td>\n",
       "    </tr>\n",
       "  </tbody>\n",
       "</table>\n",
       "</div>"
      ],
      "text/plain": [
       "    label (-2 to 2)  \\\n",
       "0               NaN   \n",
       "1               NaN   \n",
       "2               NaN   \n",
       "3              -2.0   \n",
       "4               NaN   \n",
       "5               1.0   \n",
       "6               1.0   \n",
       "7               0.0   \n",
       "8               NaN   \n",
       "9               NaN   \n",
       "10              NaN   \n",
       "11              0.0   \n",
       "12              NaN   \n",
       "13             -1.0   \n",
       "14             -1.0   \n",
       "15              1.0   \n",
       "16             -1.0   \n",
       "17              NaN   \n",
       "18              NaN   \n",
       "19              0.0   \n",
       "20              2.0   \n",
       "21              1.0   \n",
       "22              1.0   \n",
       "23              0.0   \n",
       "24              1.0   \n",
       "25              0.0   \n",
       "26              1.0   \n",
       "27              NaN   \n",
       "28              NaN   \n",
       "29              NaN   \n",
       "30              NaN   \n",
       "31              NaN   \n",
       "32              1.0   \n",
       "33             -1.0   \n",
       "34              2.0   \n",
       "35              0.0   \n",
       "36              1.0   \n",
       "37              1.0   \n",
       "38              1.0   \n",
       "39              0.0   \n",
       "40              0.0   \n",
       "41              0.0   \n",
       "42              0.0   \n",
       "43              1.0   \n",
       "44              0.0   \n",
       "45             -1.0   \n",
       "46              1.0   \n",
       "47              2.0   \n",
       "48              NaN   \n",
       "49              NaN   \n",
       "\n",
       "                                                                                                                                                                                                                                                                  step1  \n",
       "0                                                                     I like I m seeing  METM team right  BCH  BTC  NEO  AMB  ETH  XVG  STORM  IOTA  ELF  SNT  NEBL  CRYPTO  XMR  BTC  BITCOIN  TRX  VIBE  VIB  XRP  NOAH  ELA  ARN  DLT  TRX  LTC  NEO  MDA  NPXS       \n",
       "1                    cryptocoaster  Bitcoin  crypto  cryptocurrencies   Barclays halts work cryptocurrency trading project   put  on ice     www forexlive com cryptocurrency   barclays halts work on cryptocurrency trading project has been put on ice                \n",
       "2                                           It much easier deploy new consensus level technologies Liquid Elements Bitcoin  For example  already CT  I wouldn   t surprised Simplicity comes fruition would also deployed Liquid Elements first  But I   m speculating   \n",
       "3                                                                                                                                         But entity would way  shape form bitcoin  No second layer sidechain would allow bitcoin sign contract  Ripple sign contracts   \n",
       "4    Weekend  SoundCloud  itunes  indiemusic  applemusic  indieartist  unsignedartist  Director  Creative  Dance  Rappers  Goat  Milk  Payday  browardmusic  miami  flow  hypebeast  hollywood  music  newmusic  comeup  Drama  Business  Workout  Bitcoin  HarryTV ...  \n",
       "5                          Yes  albeit probably rather poor smart contract  since trust minimized blockchains provide far secure control assets  I thought smart Ks many years appearance trust minimized blockchain scripts Bitcoin etc   made smart Ks far practical   \n",
       "6                                                                                                                                                                                      Try moving pallets cash around vs Bitcoin get point   pic twitter com GklvlDzKXb  \n",
       "7                                                                                                                                                                                                     tx s bitcoin right  Its     depending many different things        \n",
       "8                                                                                                                                                           Great charts bull bubble bust runs  silver  bitcoin        cheers  sending acrosspic twitter com W fZnX GRu  \n",
       "9   New Article  Tron  TRX mass adoption  Ripple  XRP partnering SWIFT   Metamorph  METM Decentralized Exchange launching    hours  Tether getting replaced  USDC  Cryptocurrency  Blockchain  Bitcoin  Ethereum  BTC  ETH  LTC trx mass adoption ripple xrp swift p...  \n",
       "10                                                                                                                                                                                                 Did I say I   Bitcoin lately  Grrrrrr     pic twitter com TLykTQaU M  \n",
       "11                                                           Launching East Egg Crypto I share    altcoin trades   bitcoin trades   weekly market outlook   topics Group capped    members      BTC month  launch next Sunday  October   st  pic twitter com nQHwRVNadm  \n",
       "12                                                    Yooooo  le site pour lequel sait depuis des ann  es que c est un fake notoire  Mais non  il fait partie  des horreurs du darkweb  au m  me titre que le bitcoin  Go figure        status                           \n",
       "13                                                                                                                                                                                                last investment bitcoin crumbled  almost killed me  Laughing Out Loud  \n",
       "14                                                                   There day price XRP uncorrelated Bitcoin  completely driven utility  Luckily us  Ripple working hard behind scenes set framework allow mass adoption take place soon   xrp  xrpthestandard  ripple  \n",
       "15                                                    On point  Liquid makes trading  BTC better  It   s replacement  Bitcoin augmentation  There   s lot commentary worrying trust model  LiquidNetwork  key thing trading traders already trust entity capacity        \n",
       "16                                                                                                                                                                  He like virus attracted attention bitcoin immune system    Never ends well virus  Laughing Out Loud  \n",
       "17   TRON  TRX   Mass Adoption Coming Soon   New Mystery Partner Announced        AZbXIk  via   crypto  cryptocurrencynews  altcoin  alt  decentralized  blockchain   tech  innovation  POPPY   USD  StockMarket  trade  wallet  bitcoin  TVMpic twitter com WAbOVt p k  \n",
       "18                                                                                                                                                                              Hoping pema bear Bitcoin skeptics get big BTC    short zero    fund  Great thread        \n",
       "19                              New Years Party   Register Now   go Long Short  Crypto  Bitcoin        x Leverage  Cryptocurrency  Blockchain  Ethereum  ETH  Ripple  Litecoin  LTC  EOS  Monero  NEO  Stellar  Tron  IOTA  Dogecoin  Cardanopic twitter com Lbn ljNa E  \n",
       "20                                                                                                                                               This great benefit multi layer approach  Bitcoin stable foundation  people free build top that  piggybacking it         \n",
       "21                                                                                                                 This image  inaugural puja offering bitcoin At The Moment Bangalore  priceless   atms india unocoin solution rbi ban      pic twitter com sJ JSaitcj  \n",
       "22                                                                       We sliced Bitcoin withdrawal fee s half  We know hassle fee s times bitcoin network  want reward loyal players choosing play us   stake  bitcoin  fees  winning  btcpic twitter com XPt uDuZfV  \n",
       "23                                                                                                                                                                                                                                    Bitcoin equal              Naira   \n",
       "24                                                                                                                                                                    Looks like bitcoin either collapse bounce year end rally  please subscribe newsletter expert info  \n",
       "25                                                                                                                                                   Which Country Trades The Most Bitcoin   bitcoin  btc  blockchain  crypto  cryptocurrencypic twitter com    HYFBK    \n",
       "26                                                                                                                                            hellllaaa yeahhh believe  bitcoin  btc even though don   t yet now    will  im mkt timer cos im looking load up  ayyyyeee  \n",
       "27                                                                 Bitcoin chan                                                                                                                                                                                          \n",
       "28  Hi  Miami  Airdrop  Week   BONUS        SpritzCoin    RT one    Fill  Q Q  N DJrp  qjBhlVlIsVUWdbFzcF yA viewform usp sf link       crypto  blockchain  free  giveaway  freecoins  bitcoin  ethereum  business  investors  wine  sparkling  champagne Josh Richa...  \n",
       "29  These  METM screenshots new platform look awesome   plus bitmart within week two  STRONG BUY right  BCH  BTC  NEO  AMB  ETH  XVG  STORM  IOTA  ELF  SNT  NEBL  CRYPTO  XMR  BTC  BITCOIN  TRX  VIBE  VIB  XRP  NOAH  ELA  ARN  DLT  TRX  LTC  NEO  MDA  NPXSpic ...  \n",
       "30  These  METM screenshots new platform look awesome   plus bitmart within week two  STRONG BUY right  BCH  BTC  NEO  AMB  ETH  XVG  STORM  IOTA  ELF  SNT  NEBL  CRYPTO  XMR  BTC  BITCOIN  TRX  VIBE  VIB  XRP  NOAH  ELA  ARN  DLT  TRX  LTC  NEO  MDA  NPXSpic ...  \n",
       "31                      LRS   email edition went out  A stories revealing state Crypto Senate hearing   Coinbase killing index product  Liquid Bitcoin sidechain launch  Tether Bitfinex intrigue You ve got limited time  Use well   reads sunday issue                 \n",
       "32                                                                                                                                              Why Ethereum Classic  ETC  Next Bitcoin IOT DAPPs    Ethereum  EthereumClassic  ETC  Bitcoin pic twitter com XU n A AfJ  \n",
       "33                                                                                                                   That plus  wild  volatility I expect around extinction event Bitcoin means heads I   m liquidated tails upside capped far notional value position   \n",
       "34                                                                   For cold storage security  censorship resistance  unseizability  unfreezability finality  key differentiators Bitcoin  direct Bitcoin mainchain I think always going better federated merge mined   \n",
       "35  CRYPTOCURRENCY GIVEAWAY SIGN UP     ASK A QUESTION BEST QUESTION WINS  FIRST      USERS ONLY FOLLOW RETWEET AND LIKE  Cryptocurrency  Bitcoin  BTC                                                        Ariana Pete  ARMYIndependenceDay  GHVIPDBT            ...  \n",
       "36                                                                                                                                    For ever said  crypto bubble  hidden hand would play majority people believe in  disbelieve   bitcoin  BTC  OCN                    \n",
       "37                 Who says ICOs absolute dead  China   s crypto mining pool  raised     million     hours ICO  And first Bitcoin cash blockchain based ICO   and congrats guys done well    crypto mining pool viabtc raised    million in     hours through ico        \n",
       "38                                                                                                                                                          So much  bch narrative people stopped using  Bitcoin segwit  There  btc segwit txns  bch txns overall        \n",
       "39                                                                                                                                                         Do think Tether money   RT sample size appreciated   tether  bitcoin  eth  btc  btc  eth  USDT  usdt  crypto  \n",
       "40                                                                                      In face  Bitcoin             ANOTHERONE  ANOTHERONE  ANOTHERONE  CHAINLINK  LINK  LINK  Cryptocurrency  Crypto  Crypto  Altcoin  Altcoins  DayTradingpic twitter com CYnSoMdUpo  \n",
       "41                                                                                           The darkweb mystery box trend probably one silliest things I ve seen come tubes  I like make seem like ordering amazon  rather random ppl stealing bitcoin sending nothing  \n",
       "42                                                                                                                                                                                                      Can guess people saying  bitcoin     pic twitter com M LAMKv du  \n",
       "43                                                            Liabilities must backed assets order value  Currently fiat issuers back liabilities mainly debt assets  A sound strong legal system needed enforce debt assets  Bitcoin need make use legal system value   \n",
       "44                                                                         A YUUGE thank  reuniting Cryptolandia reminding everyone real enemy is  The Establishment  Good luck competing w us   bitcoin  EOS  litecoin  ethereum  doge  bch  dash  bitshares  moontime  \n",
       "45   Bitcoin struggles      test completed second time  BTC stochastic levels indicate selling pressure  however higher price levels remain moment Break beyond      seek      long term trend line  BTC currently  hodl   stop   entry points  Cryptocurrencypic tw...  \n",
       "46                                                                 I hope tether fudtrads understand tether breaks means entire crypto ecosystem see billion dollar capital flight large caps bitcoin small time frame  everything pump  x afternoon  hope see bullish   \n",
       "47                                                                                                                                                                     Tony Vayes literally year short Bitcoin  chooses       sell  BTC directly red wick support lmafo  \n",
       "48                                            MATRIX Testnet Verileri Neyi G  steriyor    BTC  ETH  kriptopara  blockchaintechnology  yapayzeka  ai      MAN  altcoin  Coin  cryptocurrency  org  bitcoin  deeplearning  TPS  crypto  IPFS   pic twitter com tGnfy H ro  \n",
       "49  Good evening  NewYork  NY What drink   Airdrop  Week     Cheers BONUS        SpritzCoin    RT one    Fill  Q Q  N DJrp  qjBhlVlIsVUWdbFzcF yA viewform usp sf link           crypto  blockchain  free  giveaway  freecoins  altcoin  bitcoin  ethereum  business...  "
      ]
     },
     "execution_count": 32,
     "metadata": {},
     "output_type": "execute_result"
    }
   ],
   "source": [
    "data = data[['label (-2 to 2)', 'step1']]\n",
    "data.head(50)"
   ]
  },
  {
   "cell_type": "code",
   "execution_count": 33,
   "metadata": {},
   "outputs": [],
   "source": [
    "# getting only labelled data\n",
    "data = data.head(213)"
   ]
  },
  {
   "cell_type": "markdown",
   "metadata": {},
   "source": [
    "### Data exploration"
   ]
  },
  {
   "cell_type": "code",
   "execution_count": 34,
   "metadata": {},
   "outputs": [
    {
     "data": {
      "text/plain": [
       "<matplotlib.axes._subplots.AxesSubplot at 0x26e476f0ef0>"
      ]
     },
     "execution_count": 34,
     "metadata": {},
     "output_type": "execute_result"
    },
    {
     "data": {
      "image/png": "[encoded data removed]",
      "text/plain": [
       "<Figure size 432x288 with 1 Axes>"
      ]
     },
     "metadata": {
      "needs_background": "light"
     },
     "output_type": "display_data"
    }
   ],
   "source": [
    "data['label (-2 to 2)'].value_counts().sort_index().plot.bar()"
   ]
  },
  {
   "cell_type": "code",
   "execution_count": 35,
   "metadata": {},
   "outputs": [
    {
     "data": {
      "text/plain": [
       "<matplotlib.axes._subplots.AxesSubplot at 0x26e479367f0>"
      ]
     },
     "execution_count": 35,
     "metadata": {},
     "output_type": "execute_result"
    },
    {
     "data": {
      "image/png": "[encoded data removed]",
      "text/plain": [
       "<Figure size 432x288 with 1 Axes>"
      ]
     },
     "metadata": {
      "needs_background": "light"
     },
     "output_type": "display_data"
    }
   ],
   "source": [
    "data['step1'].str.len().plot.hist()"
   ]
  },
  {
   "cell_type": "code",
   "execution_count": 36,
   "metadata": {},
   "outputs": [
    {
     "data": {
      "text/plain": [
       "(213, 2)"
      ]
     },
     "execution_count": 36,
     "metadata": {},
     "output_type": "execute_result"
    }
   ],
   "source": [
    "data.shape"
   ]
  },
  {
   "cell_type": "markdown",
   "metadata": {},
   "source": [
    "### Preprocessing"
   ]
  },
  {
   "cell_type": "code",
   "execution_count": 37,
   "metadata": {},
   "outputs": [
    {
     "data": {
      "text/plain": [
       "label (-2 to 2)    30\n",
       "step1               0\n",
       "dtype: int64"
      ]
     },
     "execution_count": 37,
     "metadata": {},
     "output_type": "execute_result"
    }
   ],
   "source": [
    "data.isnull().sum()"
   ]
  },
  {
   "cell_type": "code",
   "execution_count": 39,
   "metadata": {},
   "outputs": [
    {
     "data": {
      "text/plain": [
       "label (-2 to 2)    0\n",
       "step1              0\n",
       "dtype: int64"
      ]
     },
     "execution_count": 39,
     "metadata": {},
     "output_type": "execute_result"
    }
   ],
   "source": [
    "data.dropna(subset=['label (-2 to 2)'], inplace=True)\n",
    "data.isnull().sum()"
   ]
  },
  {
   "cell_type": "markdown",
   "metadata": {},
   "source": [
    "data['text'] = data['text'].str.replace('@VirginAmerica', '')\n",
    "data.head()"
   ]
  },
  {
   "cell_type": "code",
   "execution_count": 40,
   "metadata": {},
   "outputs": [
    {
     "data": {
      "text/plain": [
       "3                                                                                                                    But entity would way  shape form bitcoin  No second layer sidechain would allow bitcoin sign contract  Ripple sign contracts \n",
       "5     Yes  albeit probably rather poor smart contract  since trust minimized blockchains provide far secure control assets  I thought smart Ks many years appearance trust minimized blockchain scripts Bitcoin etc   made smart Ks far practical \n",
       "6                                                                                                                                                                 Try moving pallets cash around vs Bitcoin get point   pic twitter com GklvlDzKXb\n",
       "7                                                                                                                                                                                tx s bitcoin right  Its     depending many different things      \n",
       "11                                      Launching East Egg Crypto I share    altcoin trades   bitcoin trades   weekly market outlook   topics Group capped    members      BTC month  launch next Sunday  October   st  pic twitter com nQHwRVNadm\n",
       "Name: step1, dtype: object"
      ]
     },
     "execution_count": 40,
     "metadata": {},
     "output_type": "execute_result"
    }
   ],
   "source": [
    "data['step1'].apply(lambda x: x.lower()) #transform text to lowercase\n",
    "data['step1'] = data['step1'].apply(lambda x: re.sub('[^a-zA-z0-9\\s]', '', x))\n",
    "data['step1'].head()"
   ]
  },
  {
   "cell_type": "markdown",
   "metadata": {},
   "source": [
    "Tokenizer from keras - \n",
    "maximum no. of rows = 5000\n",
    "pad sequence = sentences of same length\n"
   ]
  },
  {
   "cell_type": "code",
   "execution_count": 41,
   "metadata": {},
   "outputs": [
    {
     "data": {
      "text/plain": [
       "array([[  0,   0,   0,   0,   0,   0,   0,   0,   0,   0,   0,   0,   0,\n",
       "          0,   0,   0,   0,   0,   0,   0,   0,   0, 203, 328,  23,  50,\n",
       "        602, 329,   1, 136, 330, 204, 137,  23, 331,   1,  51, 205,  22,\n",
       "         51, 603],\n",
       "       [  0,   0,   0,   0,   0,   0,   0, 138, 604, 332, 333, 605, 206,\n",
       "        205, 101, 102, 334, 606, 335, 139, 336, 337,  75,   7, 338, 206,\n",
       "        339,  28, 103, 607, 102, 334,  12, 608,   1, 140, 207, 206, 339,\n",
       "        139, 609],\n",
       "       [  0,   0,   0,   0,   0,   0,   0,   0,   0,   0,   0,   0,   0,\n",
       "          0,   0,   0,   0,   0,   0,   0,   0,   0,   0,   0,   0,   0,\n",
       "          0,   0, 610, 340, 611,  18, 141, 104,   1,  26,  76,   9,   3,\n",
       "          2, 612],\n",
       "       [  0,   0,   0,   0,   0,   0,   0,   0,   0,   0,   0,   0,   0,\n",
       "          0,   0,   0,   0,   0,   0,   0,   0,   0,   0,   0,   0,   0,\n",
       "          0,   0,   0,   0,   0,   0, 341,   6,   1, 342, 142, 613,  28,\n",
       "        143, 208],\n",
       "       [  0,   0,   0,   0,   0,   0,   0,   0,   0,   0,   0,   0,   0,\n",
       "        614, 615, 616,   5,   7, 343,  77, 209,   1, 209, 210,  24, 617,\n",
       "        618, 344, 345, 619,   4, 346, 347, 144, 620, 621, 622,   9,   3,\n",
       "          2, 623]])"
      ]
     },
     "execution_count": 41,
     "metadata": {},
     "output_type": "execute_result"
    }
   ],
   "source": [
    "tokenizer = Tokenizer(num_words=5000, split=\" \")\n",
    "tokenizer.fit_on_texts(data['step1'].values)\n",
    "\n",
    "X = tokenizer.texts_to_sequences(data['step1'].values)\n",
    "X = pad_sequences(X) # padding our text vector so they all have the same length\n",
    "X[:5]"
   ]
  },
  {
   "cell_type": "code",
   "execution_count": 42,
   "metadata": {},
   "outputs": [
    {
     "name": "stdout",
     "output_type": "stream",
     "text": [
      "41\n"
     ]
    }
   ],
   "source": [
    "print(X.shape[1])"
   ]
  },
  {
   "cell_type": "markdown",
   "metadata": {},
   "source": [
    "### Creating model"
   ]
  },
  {
   "cell_type": "markdown",
   "metadata": {},
   "source": [
    "squential model is simplest \n",
    "model.add adds new layers to network\n",
    "Dropout is used for regularization(decreasing overfitting)\n",
    "256 - no. of units in each layer\n",
    "Dense connection - every neuron of 1 layer connected to every other neuron of next layer"
   ]
  },
  {
   "cell_type": "code",
   "execution_count": 53,
   "metadata": {},
   "outputs": [
    {
     "ename": "ValueError",
     "evalue": "Unknown activation function:Relu",
     "output_type": "error",
     "traceback": [
      "\u001b[1;31m---------------------------------------------------------------------------\u001b[0m",
      "\u001b[1;31mValueError\u001b[0m                                Traceback (most recent call last)",
      "\u001b[1;32m<ipython-input-53-904cab8fe134>\u001b[0m in \u001b[0;36m<module>\u001b[1;34m\u001b[0m\n\u001b[0;32m      4\u001b[0m \u001b[0mmodel\u001b[0m\u001b[1;33m.\u001b[0m\u001b[0madd\u001b[0m\u001b[1;33m(\u001b[0m\u001b[0mLSTM\u001b[0m\u001b[1;33m(\u001b[0m\u001b[1;36m256\u001b[0m\u001b[1;33m,\u001b[0m \u001b[0mreturn_sequences\u001b[0m\u001b[1;33m=\u001b[0m\u001b[1;32mTrue\u001b[0m\u001b[1;33m,\u001b[0m \u001b[0mdropout\u001b[0m\u001b[1;33m=\u001b[0m\u001b[1;36m0.3\u001b[0m\u001b[1;33m,\u001b[0m \u001b[0mrecurrent_dropout\u001b[0m\u001b[1;33m=\u001b[0m\u001b[1;36m0.2\u001b[0m\u001b[1;33m)\u001b[0m\u001b[1;33m)\u001b[0m\u001b[1;33m\u001b[0m\u001b[0m\n\u001b[0;32m      5\u001b[0m \u001b[0mmodel\u001b[0m\u001b[1;33m.\u001b[0m\u001b[0madd\u001b[0m\u001b[1;33m(\u001b[0m\u001b[0mLSTM\u001b[0m\u001b[1;33m(\u001b[0m\u001b[1;36m256\u001b[0m\u001b[1;33m,\u001b[0m \u001b[0mdropout\u001b[0m\u001b[1;33m=\u001b[0m\u001b[1;36m0.3\u001b[0m\u001b[1;33m,\u001b[0m \u001b[0mrecurrent_dropout\u001b[0m\u001b[1;33m=\u001b[0m\u001b[1;36m0.2\u001b[0m\u001b[1;33m)\u001b[0m\u001b[1;33m)\u001b[0m\u001b[1;33m\u001b[0m\u001b[0m\n\u001b[1;32m----> 6\u001b[1;33m \u001b[0mmodel\u001b[0m\u001b[1;33m.\u001b[0m\u001b[0madd\u001b[0m\u001b[1;33m(\u001b[0m\u001b[0mDense\u001b[0m\u001b[1;33m(\u001b[0m\u001b[1;36m5\u001b[0m\u001b[1;33m,\u001b[0m \u001b[0mactivation\u001b[0m\u001b[1;33m=\u001b[0m\u001b[1;34m'Relu'\u001b[0m\u001b[1;33m)\u001b[0m\u001b[1;33m)\u001b[0m\u001b[1;33m\u001b[0m\u001b[0m\n\u001b[0m",
      "\u001b[1;32mc:\\python36\\lib\\site-packages\\keras\\legacy\\interfaces.py\u001b[0m in \u001b[0;36mwrapper\u001b[1;34m(*args, **kwargs)\u001b[0m\n\u001b[0;32m     89\u001b[0m                 warnings.warn('Update your `' + object_name + '` call to the ' +\n\u001b[0;32m     90\u001b[0m                               'Keras 2 API: ' + signature, stacklevel=2)\n\u001b[1;32m---> 91\u001b[1;33m             \u001b[1;32mreturn\u001b[0m \u001b[0mfunc\u001b[0m\u001b[1;33m(\u001b[0m\u001b[1;33m*\u001b[0m\u001b[0margs\u001b[0m\u001b[1;33m,\u001b[0m \u001b[1;33m**\u001b[0m\u001b[0mkwargs\u001b[0m\u001b[1;33m)\u001b[0m\u001b[1;33m\u001b[0m\u001b[0m\n\u001b[0m\u001b[0;32m     92\u001b[0m         \u001b[0mwrapper\u001b[0m\u001b[1;33m.\u001b[0m\u001b[0m_original_function\u001b[0m \u001b[1;33m=\u001b[0m \u001b[0mfunc\u001b[0m\u001b[1;33m\u001b[0m\u001b[0m\n\u001b[0;32m     93\u001b[0m         \u001b[1;32mreturn\u001b[0m \u001b[0mwrapper\u001b[0m\u001b[1;33m\u001b[0m\u001b[0m\n",
      "\u001b[1;32mc:\\python36\\lib\\site-packages\\keras\\layers\\core.py\u001b[0m in \u001b[0;36m__init__\u001b[1;34m(self, units, activation, use_bias, kernel_initializer, bias_initializer, kernel_regularizer, bias_regularizer, activity_regularizer, kernel_constraint, bias_constraint, **kwargs)\u001b[0m\n\u001b[0;32m    844\u001b[0m         \u001b[0msuper\u001b[0m\u001b[1;33m(\u001b[0m\u001b[0mDense\u001b[0m\u001b[1;33m,\u001b[0m \u001b[0mself\u001b[0m\u001b[1;33m)\u001b[0m\u001b[1;33m.\u001b[0m\u001b[0m__init__\u001b[0m\u001b[1;33m(\u001b[0m\u001b[1;33m**\u001b[0m\u001b[0mkwargs\u001b[0m\u001b[1;33m)\u001b[0m\u001b[1;33m\u001b[0m\u001b[0m\n\u001b[0;32m    845\u001b[0m         \u001b[0mself\u001b[0m\u001b[1;33m.\u001b[0m\u001b[0munits\u001b[0m \u001b[1;33m=\u001b[0m \u001b[0munits\u001b[0m\u001b[1;33m\u001b[0m\u001b[0m\n\u001b[1;32m--> 846\u001b[1;33m         \u001b[0mself\u001b[0m\u001b[1;33m.\u001b[0m\u001b[0mactivation\u001b[0m \u001b[1;33m=\u001b[0m \u001b[0mactivations\u001b[0m\u001b[1;33m.\u001b[0m\u001b[0mget\u001b[0m\u001b[1;33m(\u001b[0m\u001b[0mactivation\u001b[0m\u001b[1;33m)\u001b[0m\u001b[1;33m\u001b[0m\u001b[0m\n\u001b[0m\u001b[0;32m    847\u001b[0m         \u001b[0mself\u001b[0m\u001b[1;33m.\u001b[0m\u001b[0muse_bias\u001b[0m \u001b[1;33m=\u001b[0m \u001b[0muse_bias\u001b[0m\u001b[1;33m\u001b[0m\u001b[0m\n\u001b[0;32m    848\u001b[0m         \u001b[0mself\u001b[0m\u001b[1;33m.\u001b[0m\u001b[0mkernel_initializer\u001b[0m \u001b[1;33m=\u001b[0m \u001b[0minitializers\u001b[0m\u001b[1;33m.\u001b[0m\u001b[0mget\u001b[0m\u001b[1;33m(\u001b[0m\u001b[0mkernel_initializer\u001b[0m\u001b[1;33m)\u001b[0m\u001b[1;33m\u001b[0m\u001b[0m\n",
      "\u001b[1;32mc:\\python36\\lib\\site-packages\\keras\\activations.py\u001b[0m in \u001b[0;36mget\u001b[1;34m(identifier)\u001b[0m\n\u001b[0;32m    201\u001b[0m     \u001b[1;32mif\u001b[0m \u001b[0misinstance\u001b[0m\u001b[1;33m(\u001b[0m\u001b[0midentifier\u001b[0m\u001b[1;33m,\u001b[0m \u001b[0msix\u001b[0m\u001b[1;33m.\u001b[0m\u001b[0mstring_types\u001b[0m\u001b[1;33m)\u001b[0m\u001b[1;33m:\u001b[0m\u001b[1;33m\u001b[0m\u001b[0m\n\u001b[0;32m    202\u001b[0m         \u001b[0midentifier\u001b[0m \u001b[1;33m=\u001b[0m \u001b[0mstr\u001b[0m\u001b[1;33m(\u001b[0m\u001b[0midentifier\u001b[0m\u001b[1;33m)\u001b[0m\u001b[1;33m\u001b[0m\u001b[0m\n\u001b[1;32m--> 203\u001b[1;33m         \u001b[1;32mreturn\u001b[0m \u001b[0mdeserialize\u001b[0m\u001b[1;33m(\u001b[0m\u001b[0midentifier\u001b[0m\u001b[1;33m)\u001b[0m\u001b[1;33m\u001b[0m\u001b[0m\n\u001b[0m\u001b[0;32m    204\u001b[0m     \u001b[1;32melif\u001b[0m \u001b[0mcallable\u001b[0m\u001b[1;33m(\u001b[0m\u001b[0midentifier\u001b[0m\u001b[1;33m)\u001b[0m\u001b[1;33m:\u001b[0m\u001b[1;33m\u001b[0m\u001b[0m\n\u001b[0;32m    205\u001b[0m         \u001b[1;32mif\u001b[0m \u001b[0misinstance\u001b[0m\u001b[1;33m(\u001b[0m\u001b[0midentifier\u001b[0m\u001b[1;33m,\u001b[0m \u001b[0mLayer\u001b[0m\u001b[1;33m)\u001b[0m\u001b[1;33m:\u001b[0m\u001b[1;33m\u001b[0m\u001b[0m\n",
      "\u001b[1;32mc:\\python36\\lib\\site-packages\\keras\\activations.py\u001b[0m in \u001b[0;36mdeserialize\u001b[1;34m(name, custom_objects)\u001b[0m\n\u001b[0;32m    182\u001b[0m         \u001b[0mmodule_objects\u001b[0m\u001b[1;33m=\u001b[0m\u001b[0mglobals\u001b[0m\u001b[1;33m(\u001b[0m\u001b[1;33m)\u001b[0m\u001b[1;33m,\u001b[0m\u001b[1;33m\u001b[0m\u001b[0m\n\u001b[0;32m    183\u001b[0m         \u001b[0mcustom_objects\u001b[0m\u001b[1;33m=\u001b[0m\u001b[0mcustom_objects\u001b[0m\u001b[1;33m,\u001b[0m\u001b[1;33m\u001b[0m\u001b[0m\n\u001b[1;32m--> 184\u001b[1;33m         printable_module_name='activation function')\n\u001b[0m\u001b[0;32m    185\u001b[0m \u001b[1;33m\u001b[0m\u001b[0m\n\u001b[0;32m    186\u001b[0m \u001b[1;33m\u001b[0m\u001b[0m\n",
      "\u001b[1;32mc:\\python36\\lib\\site-packages\\keras\\utils\\generic_utils.py\u001b[0m in \u001b[0;36mdeserialize_keras_object\u001b[1;34m(identifier, module_objects, custom_objects, printable_module_name)\u001b[0m\n\u001b[0;32m    163\u001b[0m             \u001b[1;32mif\u001b[0m \u001b[0mfn\u001b[0m \u001b[1;32mis\u001b[0m \u001b[1;32mNone\u001b[0m\u001b[1;33m:\u001b[0m\u001b[1;33m\u001b[0m\u001b[0m\n\u001b[0;32m    164\u001b[0m                 raise ValueError('Unknown ' + printable_module_name +\n\u001b[1;32m--> 165\u001b[1;33m                                  ':' + function_name)\n\u001b[0m\u001b[0;32m    166\u001b[0m         \u001b[1;32mreturn\u001b[0m \u001b[0mfn\u001b[0m\u001b[1;33m\u001b[0m\u001b[0m\n\u001b[0;32m    167\u001b[0m     \u001b[1;32melse\u001b[0m\u001b[1;33m:\u001b[0m\u001b[1;33m\u001b[0m\u001b[0m\n",
      "\u001b[1;31mValueError\u001b[0m: Unknown activation function:Relu"
     ]
    }
   ],
   "source": [
    "model = Sequential()\n",
    "model.add(Embedding(5000, 256, input_length=X.shape[1]))\n",
    "model.add(Dropout(0.3))\n",
    "model.add(LSTM(256, return_sequ ences=True, dropout=0.3, recurrent_dropout=0.2))\n",
    "model.add(LSTM(256, dropout=0.3, recurrent_dropout=0.2))\n",
    "model.add(Dense(5, activation=''))"
   ]
  },
  {
   "cell_type": "markdown",
   "metadata": {},
   "source": [
    "compiling - takes sets 2 things \n",
    "For adam it is 0.001, reach up to 85% accuracy in 5 epochs\n",
    "1. optimizer - learning rate\n",
    "2. loss function - log function"
   ]
  },
  {
   "cell_type": "code",
   "execution_count": 44,
   "metadata": {},
   "outputs": [
    {
     "name": "stdout",
     "output_type": "stream",
     "text": [
      "_________________________________________________________________\n",
      "Layer (type)                 Output Shape              Param #   \n",
      "=================================================================\n",
      "embedding_3 (Embedding)      (None, 41, 256)           1280000   \n",
      "_________________________________________________________________\n",
      "dropout_3 (Dropout)          (None, 41, 256)           0         \n",
      "_________________________________________________________________\n",
      "lstm_5 (LSTM)                (None, 41, 256)           525312    \n",
      "_________________________________________________________________\n",
      "lstm_6 (LSTM)                (None, 256)               525312    \n",
      "_________________________________________________________________\n",
      "dense_3 (Dense)              (None, 5)                 1285      \n",
      "=================================================================\n",
      "Total params: 2,331,909\n",
      "Trainable params: 2,331,909\n",
      "Non-trainable params: 0\n",
      "_________________________________________________________________\n"
     ]
    }
   ],
   "source": [
    "model.compile(loss='categorical_crossentropy', optimizer='adam', metrics=['accuracy'])\n",
    "model.summary()"
   ]
  },
  {
   "cell_type": "markdown",
   "metadata": {},
   "source": []
  },
  {
   "cell_type": "code",
   "execution_count": 45,
   "metadata": {},
   "outputs": [
    {
     "name": "stdout",
     "output_type": "stream",
     "text": [
      "[[1 0 0 0 0]\n",
      " [0 0 0 1 0]\n",
      " [0 0 0 1 0]\n",
      " [0 0 1 0 0]\n",
      " [0 0 1 0 0]\n",
      " [0 1 0 0 0]\n",
      " [0 1 0 0 0]\n",
      " [0 0 0 1 0]\n",
      " [0 1 0 0 0]\n",
      " [0 0 1 0 0]\n",
      " [0 0 0 0 1]\n",
      " [0 0 0 1 0]\n",
      " [0 0 0 1 0]\n",
      " [0 0 1 0 0]\n",
      " [0 0 0 1 0]\n",
      " [0 0 1 0 0]\n",
      " [0 0 0 1 0]\n",
      " [0 0 0 1 0]\n",
      " [0 1 0 0 0]\n",
      " [0 0 0 0 1]\n",
      " [0 0 1 0 0]\n",
      " [0 0 0 1 0]\n",
      " [0 0 0 1 0]\n",
      " [0 0 0 1 0]\n",
      " [0 0 1 0 0]\n",
      " [0 0 1 0 0]\n",
      " [0 0 1 0 0]\n",
      " [0 0 1 0 0]\n",
      " [0 0 0 1 0]\n",
      " [0 0 1 0 0]\n",
      " [0 1 0 0 0]\n",
      " [0 0 0 1 0]\n",
      " [0 0 0 0 1]\n",
      " [0 0 0 1 0]\n",
      " [0 0 1 0 0]\n",
      " [0 0 0 1 0]\n",
      " [0 0 0 1 0]\n",
      " [1 0 0 0 0]\n",
      " [0 0 0 1 0]\n",
      " [0 0 1 0 0]\n",
      " [0 0 1 0 0]\n",
      " [1 0 0 0 0]\n",
      " [0 0 0 1 0]\n",
      " [0 0 1 0 0]\n",
      " [0 0 1 0 0]\n",
      " [0 0 1 0 0]\n",
      " [0 0 0 1 0]\n",
      " [0 0 1 0 0]\n",
      " [0 0 0 0 1]\n",
      " [0 0 0 1 0]\n",
      " [0 0 0 1 0]\n",
      " [0 1 0 0 0]\n",
      " [0 0 1 0 0]\n",
      " [0 0 1 0 0]\n",
      " [0 0 1 0 0]\n",
      " [0 1 0 0 0]\n",
      " [0 0 0 0 1]\n",
      " [0 0 1 0 0]\n",
      " [0 0 1 0 0]\n",
      " [0 0 1 0 0]\n",
      " [0 0 1 0 0]\n",
      " [0 0 1 0 0]\n",
      " [0 0 0 1 0]\n",
      " [0 1 0 0 0]\n",
      " [0 0 1 0 0]\n",
      " [0 0 0 1 0]\n",
      " [0 0 1 0 0]\n",
      " [0 0 1 0 0]\n",
      " [0 0 1 0 0]\n",
      " [0 1 0 0 0]\n",
      " [0 1 0 0 0]\n",
      " [0 0 1 0 0]\n",
      " [0 1 0 0 0]\n",
      " [0 0 0 1 0]\n",
      " [0 0 1 0 0]\n",
      " [0 0 0 1 0]\n",
      " [0 1 0 0 0]\n",
      " [0 0 1 0 0]\n",
      " [0 0 0 1 0]\n",
      " [0 1 0 0 0]\n",
      " [0 0 0 1 0]\n",
      " [0 0 1 0 0]\n",
      " [0 1 0 0 0]\n",
      " [0 0 0 0 1]\n",
      " [0 0 1 0 0]\n",
      " [0 0 0 1 0]\n",
      " [0 0 0 1 0]\n",
      " [0 1 0 0 0]\n",
      " [0 0 0 1 0]\n",
      " [1 0 0 0 0]\n",
      " [0 0 0 1 0]\n",
      " [0 0 0 1 0]\n",
      " [0 0 0 1 0]\n",
      " [0 0 0 1 0]\n",
      " [0 0 0 0 1]\n",
      " [0 0 0 1 0]\n",
      " [0 0 0 1 0]\n",
      " [0 0 1 0 0]\n",
      " [0 0 0 0 1]\n",
      " [0 0 0 1 0]\n",
      " [0 0 0 1 0]\n",
      " [0 1 0 0 0]\n",
      " [0 1 0 0 0]\n",
      " [0 1 0 0 0]\n",
      " [0 0 0 0 1]\n",
      " [0 0 0 1 0]\n",
      " [0 0 0 1 0]\n",
      " [0 0 0 1 0]\n",
      " [0 0 0 1 0]\n",
      " [0 0 0 1 0]\n",
      " [0 0 0 1 0]\n",
      " [0 0 0 1 0]\n",
      " [0 1 0 0 0]\n",
      " [0 1 0 0 0]\n",
      " [0 0 0 0 1]\n",
      " [0 0 0 1 0]\n",
      " [0 0 0 0 1]\n",
      " [0 1 0 0 0]\n",
      " [0 0 0 1 0]\n",
      " [0 0 0 0 1]\n",
      " [0 0 0 0 1]\n",
      " [0 0 0 1 0]\n",
      " [0 1 0 0 0]\n",
      " [0 0 0 1 0]\n",
      " [0 0 0 1 0]\n",
      " [0 1 0 0 0]\n",
      " [0 0 0 0 1]\n",
      " [0 0 0 1 0]\n",
      " [0 1 0 0 0]\n",
      " [1 0 0 0 0]\n",
      " [0 1 0 0 0]\n",
      " [0 0 0 1 0]\n",
      " [0 1 0 0 0]\n",
      " [0 1 0 0 0]\n",
      " [0 0 1 0 0]\n",
      " [0 0 0 1 0]\n",
      " [0 0 0 1 0]\n",
      " [0 0 1 0 0]\n",
      " [0 1 0 0 0]\n",
      " [0 0 0 0 1]\n",
      " [1 0 0 0 0]\n",
      " [0 0 0 1 0]\n",
      " [0 0 1 0 0]\n",
      " [0 0 0 1 0]\n",
      " [0 0 0 1 0]\n",
      " [0 1 0 0 0]\n",
      " [0 0 0 1 0]\n",
      " [0 0 1 0 0]\n",
      " [0 0 0 1 0]\n",
      " [0 1 0 0 0]\n",
      " [0 0 0 0 1]\n",
      " [0 0 0 0 1]\n",
      " [0 0 0 1 0]\n",
      " [0 0 0 1 0]\n",
      " [1 0 0 0 0]\n",
      " [0 0 1 0 0]\n",
      " [0 0 0 1 0]\n",
      " [0 0 0 1 0]\n",
      " [0 0 1 0 0]\n",
      " [0 1 0 0 0]\n",
      " [0 0 0 1 0]\n",
      " [1 0 0 0 0]\n",
      " [0 0 0 1 0]\n",
      " [0 1 0 0 0]\n",
      " [0 0 0 1 0]\n",
      " [0 0 0 1 0]\n",
      " [0 0 1 0 0]\n",
      " [0 0 0 1 0]\n",
      " [0 0 0 0 1]\n",
      " [0 0 0 1 0]\n",
      " [0 0 0 1 0]\n",
      " [0 0 0 1 0]\n",
      " [0 0 1 0 0]\n",
      " [0 0 0 1 0]\n",
      " [1 0 0 0 0]\n",
      " [0 0 0 1 0]\n",
      " [0 0 0 1 0]\n",
      " [0 1 0 0 0]\n",
      " [1 0 0 0 0]\n",
      " [0 1 0 0 0]\n",
      " [0 0 1 0 0]\n",
      " [0 0 0 1 0]\n",
      " [1 0 0 0 0]]\n",
      "3     -2.0\n",
      "5      1.0\n",
      "6      1.0\n",
      "7      0.0\n",
      "11     0.0\n",
      "13    -1.0\n",
      "14    -1.0\n",
      "15     1.0\n",
      "16    -1.0\n",
      "19     0.0\n",
      "20     2.0\n",
      "21     1.0\n",
      "22     1.0\n",
      "23     0.0\n",
      "24     1.0\n",
      "25     0.0\n",
      "26     1.0\n",
      "32     1.0\n",
      "33    -1.0\n",
      "34     2.0\n",
      "35     0.0\n",
      "36     1.0\n",
      "37     1.0\n",
      "38     1.0\n",
      "39     0.0\n",
      "      ... \n",
      "186    0.0\n",
      "187   -1.0\n",
      "188    1.0\n",
      "189   -2.0\n",
      "190    1.0\n",
      "191   -1.0\n",
      "192    1.0\n",
      "193    1.0\n",
      "194    0.0\n",
      "195    1.0\n",
      "196    2.0\n",
      "197    1.0\n",
      "198    1.0\n",
      "199    1.0\n",
      "200    0.0\n",
      "201    1.0\n",
      "203   -2.0\n",
      "204    1.0\n",
      "205    1.0\n",
      "206   -1.0\n",
      "207   -2.0\n",
      "208   -1.0\n",
      "209    0.0\n",
      "210    1.0\n",
      "211   -2.0\n",
      "Name: label (-2 to 2), Length: 183, dtype: float64\n"
     ]
    }
   ],
   "source": [
    "y = pd.get_dummies(data['label (-2 to 2)']).values\n",
    "print(y)\n",
    "print(data['label (-2 to 2)'])\n",
    "# [print(data['label (-2 to 2)'][i], y[i]) for i in range(0,5)]"
   ]
  },
  {
   "cell_type": "markdown",
   "metadata": {},
   "source": [
    "training - 80%\n",
    "testing - 20%"
   ]
  },
  {
   "cell_type": "code",
   "execution_count": 46,
   "metadata": {},
   "outputs": [],
   "source": [
    "X_train, X_test, y_train, y_test = train_test_split(X, y, test_size=0.2, random_state=0)"
   ]
  },
  {
   "cell_type": "code",
   "execution_count": 47,
   "metadata": {},
   "outputs": [
    {
     "name": "stdout",
     "output_type": "stream",
     "text": [
      "(183, 41)\n",
      "(183, 5)\n"
     ]
    }
   ],
   "source": [
    "print(X.shape)\n",
    "print(y.shape)"
   ]
  },
  {
   "cell_type": "markdown",
   "metadata": {},
   "source": [
    "### Training model"
   ]
  },
  {
   "cell_type": "markdown",
   "metadata": {},
   "source": [
    "Can include\n",
    "#set early stopping monitor so the model stops training when it won't improve anymore\n",
    "early_stopping_monitor = EarlyStopping(patience=3)"
   ]
  },
  {
   "cell_type": "code",
   "execution_count": 48,
   "metadata": {},
   "outputs": [
    {
     "name": "stdout",
     "output_type": "stream",
     "text": [
      "Epoch 1/8\n",
      " - 6s - loss: 1.5806 - acc: 0.3425\n",
      "Epoch 2/8\n",
      " - 2s - loss: 1.4346 - acc: 0.4384\n",
      "Epoch 3/8\n",
      " - 2s - loss: 1.3991 - acc: 0.4452\n",
      "Epoch 4/8\n",
      " - 2s - loss: 1.3529 - acc: 0.4384\n",
      "Epoch 5/8\n",
      " - 2s - loss: 1.2480 - acc: 0.4726\n",
      "Epoch 6/8\n",
      " - 2s - loss: 1.1337 - acc: 0.5000\n",
      "Epoch 7/8\n",
      " - 2s - loss: 0.9077 - acc: 0.5685\n",
      "Epoch 8/8\n",
      " - 2s - loss: 0.6772 - acc: 0.7466\n"
     ]
    },
    {
     "data": {
      "text/plain": [
       "<keras.callbacks.History at 0x26e4b6c6c50>"
      ]
     },
     "execution_count": 48,
     "metadata": {},
     "output_type": "execute_result"
    }
   ],
   "source": [
    "batch_size = 32\n",
    "epochs = 8\n",
    "\n",
    "model.fit(X_train, y_train, epochs=epochs, batch_size=batch_size, verbose=2)"
   ]
  },
  {
   "cell_type": "code",
   "execution_count": 49,
   "metadata": {},
   "outputs": [],
   "source": [
    "model.save('sentiment_analysis.h5')"
   ]
  },
  {
   "cell_type": "markdown",
   "metadata": {},
   "source": [
    "### Testing model"
   ]
  },
  {
   "cell_type": "code",
   "execution_count": 51,
   "metadata": {},
   "outputs": [],
   "source": [
    "predictions = model.predict(X_test)\n",
    "\n",
    "\n",
    "# [print(data['step1'][i], predictions[i], y_test[i]) for i in range(0, 5)]"
   ]
  },
  {
   "cell_type": "code",
   "execution_count": 52,
   "metadata": {},
   "outputs": [
    {
     "name": "stdout",
     "output_type": "stream",
     "text": [
      "Positive predictions: 8\n",
      "Neutral predictions: 0\n",
      "Negative predictions: 29\n",
      "Real positive: 10\n",
      "Real neutral: 10\n",
      "Real negative: 17\n"
     ]
    }
   ],
   "source": [
    "pos_count, neu_count, neg_count = 0, 0, 0\n",
    "real_pos, real_neu, real_neg = 0, 0, 0\n",
    "for i, prediction in enumerate(predictions):\n",
    "    if np.argmax(prediction)==2:\n",
    "        pos_count += 1\n",
    "    elif np.argmax(prediction)==1:\n",
    "        neu_count += 1\n",
    "    else:\n",
    "        neg_count += 1\n",
    "    \n",
    "    if np.argmax(y_test[i])==2:\n",
    "        real_pos += 1\n",
    "    elif np.argmax(y_test[i])==1:    \n",
    "        real_neu += 1\n",
    "    else:\n",
    "        real_neg +=1\n",
    "\n",
    "print('Positive predictions:', pos_count)\n",
    "print('Neutral predictions:', neu_count)\n",
    "print('Negative predictions:', neg_count)\n",
    "print('Real positive:', real_pos)\n",
    "print('Real neutral:', real_neu)\n",
    "print('Real negative:', real_neg)"
   ]
  },
  {
   "cell_type": "markdown",
   "metadata": {},
   "source": [
    "## Improvements we could implement\n",
    "<ul>\n",
    "    <li>Weight classes (because data is skew)</li>\n",
    "    <li>Train more epochs</li>\n",
    "    <li>Use bigger network</li>\n",
    "    <li>Try other word number</li>\n",
    "</ul>"
   ]
  },
  {
   "cell_type": "markdown",
   "metadata": {},
   "source": [
    "## Resources\n",
    "\n",
    "<ul>\n",
    "    <li><a href=\"https://programmingwithgilbert.firebaseapp.com/videos/machine-learning-explained/recurrent-neural-networks-lstm-explained\">Recurrent Neural Networks Explained (my own post and video)</a></li>\n",
    "    <li><a href=\"https://en.wikipedia.org/wiki/Sentiment_analysis\">Sentiment Analysis (Wikipedia)</a></li>\n",
    "    <li><a href=\"https://www.quora.com/What-is-the-best-way-to-do-sentiment-analysis-with-Python-I%E2%80%99m-looking-for-a-sentiment-analysis-API-that-I-can-add-an-emoticon-dictionary-to-I-have-no-idea-how-to-use-NLTK-Can-anyone-help-me-with-that\">What is the best way to do sentiment analysis with Python? (Quora)</a></li>\n",
    "    <li><a href=\"https://www.youtube.com/watch?v=si8zZHkufRY\">How to Do Sentiment Analysis (Siraj Raval)</a></li>\n",
    "</ul>"
   ]
  }
 ],
 "metadata": {
  "kernelspec": {
   "display_name": "Python 3",
   "language": "python",
   "name": "python3"
  },
  "language_info": {
   "codemirror_mode": {
    "name": "ipython",
    "version": 3
   },
   "file_extension": ".py",
   "mimetype": "text/x-python",
   "name": "python",
   "nbconvert_exporter": "python",
   "pygments_lexer": "ipython3",
   "version": "3.6.4"
  }
 },
 "nbformat": 4,
 "nbformat_minor": 2
}
