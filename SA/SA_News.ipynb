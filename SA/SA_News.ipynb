{
 "cells": [
  {
   "cell_type": "markdown",
   "metadata": {},
   "source": [
    "### Imports"
   ]
  },
  {
   "cell_type": "code",
   "execution_count": 1,
   "metadata": {},
   "outputs": [
    {
     "name": "stderr",
     "output_type": "stream",
     "text": [
      "Using TensorFlow backend.\n"
     ]
    }
   ],
   "source": [
    "import re\n",
    "import numpy as np\n",
    "import pandas as pd\n",
    "from sklearn.model_selection import train_test_split\n",
    "import matplotlib.pyplot as plt\n",
    "import pickle\n",
    "\n",
    "from keras.models import Sequential, load_model\n",
    "from keras.layers import Dense, LSTM, Embedding, Dropout\n",
    "from keras.preprocessing.text import Tokenizer\n",
    "from keras.preprocessing.sequence import pad_sequences"
   ]
  },
  {
   "cell_type": "code",
   "execution_count": 2,
   "metadata": {},
   "outputs": [],
   "source": [
    "# setting some options of pandas\n",
    "\n",
    "pd.set_option('display.max_colwidth', 260)\n",
    "pd.set_option('display.max_rows', 50)"
   ]
  },
  {
   "cell_type": "markdown",
   "metadata": {},
   "source": [
    "### Loading in Dataset"
   ]
  },
  {
   "cell_type": "code",
   "execution_count": 3,
   "metadata": {},
   "outputs": [
    {
     "name": "stdout",
     "output_type": "stream",
     "text": [
      "(1772, 17)\n"
     ]
    },
    {
     "data": {
      "text/html": [
       "<div>\n",
       "<style scoped>\n",
       "    .dataframe tbody tr th:only-of-type {\n",
       "        vertical-align: middle;\n",
       "    }\n",
       "\n",
       "    .dataframe tbody tr th {\n",
       "        vertical-align: top;\n",
       "    }\n",
       "\n",
       "    .dataframe thead th {\n",
       "        text-align: right;\n",
       "    }\n",
       "</style>\n",
       "<table border=\"1\" class=\"dataframe\">\n",
       "  <thead>\n",
       "    <tr style=\"text-align: right;\">\n",
       "      <th></th>\n",
       "      <th>Unnamed: 0</th>\n",
       "      <th>Sr</th>\n",
       "      <th>author</th>\n",
       "      <th>timestamp</th>\n",
       "      <th>title</th>\n",
       "      <th>text</th>\n",
       "      <th>Label (-2 to 2)</th>\n",
       "      <th>spam_score</th>\n",
       "      <th>performance_score</th>\n",
       "      <th>facebook_likes</th>\n",
       "      <th>facebook_comments</th>\n",
       "      <th>facebook_shares</th>\n",
       "      <th>preprocess</th>\n",
       "      <th>stem</th>\n",
       "      <th>lem</th>\n",
       "      <th>cap</th>\n",
       "      <th>UnixTime</th>\n",
       "    </tr>\n",
       "  </thead>\n",
       "  <tbody>\n",
       "    <tr>\n",
       "      <th>0</th>\n",
       "      <td>0</td>\n",
       "      <td>1</td>\n",
       "      <td>Bloomberg News</td>\n",
       "      <td>2018-10-30 0:00:00</td>\n",
       "      <td>Pot entrepreneurs target Asian money at Hong Kong investor forum - BNN Bloomberg</td>\n",
       "      <td>Seven years. ThatÃƒÂ¢Ã‚Â€Ã‚Â™s how much jail time you can get just for smoking marijuana in Hong Kong. But that doesnÃƒÂ¢Ã‚Â€Ã‚Â™t mean you canÃƒÂ¢Ã‚Â€Ã‚Â™t invest in it.\\n\\n\\nThatÃƒÂ¢Ã‚Â€Ã‚Â™s the message from executives at some of the worldÃƒÂ¢Ã‚Â€Ã‚Â™s ...</td>\n",
       "      <td>0.0</td>\n",
       "      <td>0.733</td>\n",
       "      <td>0.0</td>\n",
       "      <td>0.0</td>\n",
       "      <td>0.0</td>\n",
       "      <td>0.0</td>\n",
       "      <td>Seven years. ThatÃƒÂ¢Ã‚Â€Ã‚Â™s much jail time get smoking marijuana Hong Kong. But doesnÃƒÂ¢Ã‚Â€Ã‚Â™t mean canÃƒÂ¢Ã‚Â€Ã‚Â™t invest it. ThatÃƒÂ¢Ã‚Â€Ã‚Â™s message executives worldÃƒÂ¢Ã‚Â€Ã‚Â™s hottest cannabis firms, gathering tomorrow cityÃƒÂ¢Ã‚Â€Ã‚Â™s five...</td>\n",
       "      <td>seven years. thatÃƒÂ¢Ã‚Â€Ã‚Â™ much jail time get smoke marijuana hong kong. but doesnÃƒÂ¢Ã‚Â€Ã‚Â™t mean canÃƒÂ¢Ã‚Â€Ã‚Â™t invest it. thatÃƒÂ¢Ã‚Â€Ã‚Â™ messag execut worldÃƒÂ¢Ã‚Â€Ã‚Â™ hottest cannabi firms, gather tomorrow cityÃƒÂ¢Ã‚Â€Ã‚Â™ five-star W hotel f...</td>\n",
       "      <td>Seven years. ThatÃƒÂ¢Ã‚Â€Ã‚Â™s much jail time get smoke marijuana Hong Kong. But doesnÃƒÂ¢Ã‚Â€Ã‚Â™t mean canÃƒÂ¢Ã‚Â€Ã‚Â™t invest it. ThatÃƒÂ¢Ã‚Â€Ã‚Â™s message executives worldÃƒÂ¢Ã‚Â€Ã‚Â™s hottest cannabis firms, gather tomorrow cityÃƒÂ¢Ã‚Â€Ã‚Â™s five-star...</td>\n",
       "      <td>SEVEN YEARS. THATÃƒÂ‚Ã‚Â€Ã‚Â™S MUCH JAIL TIME GET SMOKING MARIJUANA HONG KONG. BUT DOESNÃƒÂ‚Ã‚Â€Ã‚Â™T MEAN CANÃƒÂ‚Ã‚Â€Ã‚Â™T INVEST IT. THATÃƒÂ‚Ã‚Â€Ã‚Â™S MESSAGE EXECUTIVES WORLDÃƒÂ‚Ã‚Â€Ã‚Â™S HOTTEST CANNABIS FIRMS, GATHERING TOMORROW CITYÃƒÂ‚Ã‚Â€Ã‚Â™S FIVE...</td>\n",
       "      <td>1.540858e+09</td>\n",
       "    </tr>\n",
       "    <tr>\n",
       "      <th>1</th>\n",
       "      <td>1</td>\n",
       "      <td>2</td>\n",
       "      <td>NaN</td>\n",
       "      <td>2018-10-30 0:00:00</td>\n",
       "      <td>Distributed Dialogues: Political Censorship in China</td>\n",
       "      <td>Distributed Dialogues: Political Censorship in China 2018-10-30 07:31 pm News 21 0\\n\\n\\nOn the latest episode of Season 2 of Distributed Dialogues , the hosts took a deep dive into the state of political repression in the PeopleÃƒÂ¢Ã‚Â€Ã‚Â™s Republic of Ch...</td>\n",
       "      <td>0.0</td>\n",
       "      <td>0.000</td>\n",
       "      <td>0.0</td>\n",
       "      <td>0.0</td>\n",
       "      <td>0.0</td>\n",
       "      <td>0.0</td>\n",
       "      <td>Distributed Dialogues: Political Censorship China 2018-10-30 07:31 pm News 21 0 On latest episode Season 2 Distributed Dialogues , hosts took deep dive state political repression PeopleÃƒÂ¢Ã‚Â€Ã‚Â™s Republic China. Interviewing experts dissidents Oslo Free...</td>\n",
       "      <td>distribut dialogues: polit censorship china 2018-10-30 07:31 pm new 21 0 On latest episod season 2 distribut dialogu , host took deep dive state polit repress peopleÃƒÂ¢Ã‚Â€Ã‚Â™ republ china. interview expert dissid oslo freedom festival, thorough examin c...</td>\n",
       "      <td>Distributed Dialogues: Political Censorship China 2018-10-30 07:31 pm News 21 0 On latest episode Season 2 Distributed Dialogues , host take deep dive state political repression PeopleÃƒÂ¢Ã‚Â€Ã‚Â™s Republic China. Interviewing experts dissidents Oslo Freed...</td>\n",
       "      <td>DISTRIBUTED DIALOGUES: POLITICAL CENSORSHIP CHINA 2018-10-30 07:31 PM NEWS 21 0 ON LATEST EPISODE SEASON 2 DISTRIBUTED DIALOGUES , HOSTS TOOK DEEP DIVE STATE POLITICAL REPRESSION PEOPLEÃƒÂ‚Ã‚Â€Ã‚Â™S REPUBLIC CHINA. INTERVIEWING EXPERTS DISSIDENTS OSLO FREE...</td>\n",
       "      <td>1.540858e+09</td>\n",
       "    </tr>\n",
       "    <tr>\n",
       "      <th>2</th>\n",
       "      <td>2</td>\n",
       "      <td>3</td>\n",
       "      <td>Trevor Kearing</td>\n",
       "      <td>2018-10-30 0:00:00</td>\n",
       "      <td>Sojourn (SOJ) Price Tops $0.23 on Exchanges - Daily Political</td>\n",
       "      <td>Tweet\\n\\n\\nSojourn (CURRENCY:SOJ) traded flat against the dollar during the twenty-four hour period ending at 17:00 PM Eastern on October 30th. Sojourn has a total market cap of $113,909.00 and $0.00 worth of Sojourn was traded on exchanges in the last 24 ...</td>\n",
       "      <td>0.0</td>\n",
       "      <td>0.002</td>\n",
       "      <td>0.0</td>\n",
       "      <td>0.0</td>\n",
       "      <td>0.0</td>\n",
       "      <td>0.0</td>\n",
       "      <td>Tweet Sojourn (CURRENCY:SOJ) traded flat dollar twenty-four hour period ending 17:00 PM Eastern October 30th. Sojourn total market cap $113,909.00 $0.00 worth Sojourn traded exchanges last 24 hours. In last seven days, Sojourn traded flat dollar. One Sojou...</td>\n",
       "      <td>tweet sojourn (currency:soj) trade flat dollar twenty-four hour period end 17:00 PM eastern octob 30th. sojourn total market cap $113,909.00 $0.00 worth sojourn trade exchang last 24 hours. In last seven days, sojourn trade flat dollar. one sojourn coin cu...</td>\n",
       "      <td>Tweet Sojourn (CURRENCY:SOJ) trade flat dollar twenty-four hour period end 17:00 PM Eastern October 30th. Sojourn total market cap $113,909.00 $0.00 worth Sojourn trade exchange last 24 hours. In last seven days, Sojourn trade flat dollar. One Sojourn coin...</td>\n",
       "      <td>TWEET SOJOURN (CURRENCY:SOJ) TRADED FLAT DOLLAR TWENTY-FOUR HOUR PERIOD ENDING 17:00 PM EASTERN OCTOBER 30TH. SOJOURN TOTAL MARKET CAP $113,909.00 $0.00 WORTH SOJOURN TRADED EXCHANGES LAST 24 HOURS. IN LAST SEVEN DAYS, SOJOURN TRADED FLAT DOLLAR. ONE SOJOU...</td>\n",
       "      <td>1.540858e+09</td>\n",
       "    </tr>\n",
       "    <tr>\n",
       "      <th>3</th>\n",
       "      <td>3</td>\n",
       "      <td>4</td>\n",
       "      <td>Bloomberg News</td>\n",
       "      <td>2018-10-30 0:00:00</td>\n",
       "      <td>Happy birthday, bitcoin!: 10 years on, valuation is still a question - BNN Bloomberg</td>\n",
       "      <td>Happy Anniversary to Bitcoin!\\n\\n\\nIt was Halloween 2008 when Satoshi Nakamoto, which may be a pseudonym for one or more programmers, published a paper titled ÃƒÂ¢Ã‚Â€Ã‚ÂœBitcoin: A Peer-to-Peer Electronic Cash System.ÃƒÂ¢Ã‚Â€Ã‚Â\\n\\n\\nDid he, she or they ...</td>\n",
       "      <td>1.0</td>\n",
       "      <td>0.000</td>\n",
       "      <td>0.0</td>\n",
       "      <td>0.0</td>\n",
       "      <td>0.0</td>\n",
       "      <td>0.0</td>\n",
       "      <td>Happy Anniversary Bitcoin! It Halloween 2008 Satoshi Nakamoto, may pseudonym one programmers, published paper titled ÃƒÂ¢Ã‚Â€Ã‚ÂœBitcoin: A Peer-to-Peer Electronic Cash System.ÃƒÂ¢Ã‚Â€Ã‚Â Did he, know unleashed? Ten years later, digital currency developed...</td>\n",
       "      <td>happi anniversari bitcoin! It halloween 2008 satoshi nakamoto, may pseudonym one programmers, publish paper titl ÃƒÂ¢Ã‚Â€Ã‚Âœbitcoin: A peer-to-p electron cash system.ÃƒÂ¢Ã‚Â€Ã‚Â did he, know unleashed? ten year later, digit currenc develop still unknown ...</td>\n",
       "      <td>Happy Anniversary Bitcoin! It Halloween 2008 Satoshi Nakamoto, may pseudonym one programmers, publish paper title ÃƒÂ¢Ã‚Â€Ã‚ÂœBitcoin: A Peer-to-Peer Electronic Cash System.ÃƒÂ¢Ã‚Â€Ã‚Â Did he, know unleashed? Ten years later, digital currency develop stil...</td>\n",
       "      <td>HAPPY ANNIVERSARY BITCOIN! IT HALLOWEEN 2008 SATOSHI NAKAMOTO, MAY PSEUDONYM ONE PROGRAMMERS, PUBLISHED PAPER TITLED ÃƒÂ‚Ã‚Â€Ã‚ÂœBITCOIN: A PEER-TO-PEER ELECTRONIC CASH SYSTEM.ÃƒÂ‚Ã‚Â€Ã‚Â DID HE, KNOW UNLEASHED? TEN YEARS LATER, DIGITAL CURRENCY DEVELOPED...</td>\n",
       "      <td>1.540858e+09</td>\n",
       "    </tr>\n",
       "    <tr>\n",
       "      <th>4</th>\n",
       "      <td>4</td>\n",
       "      <td>5</td>\n",
       "      <td>Midwest Communications Inc.</td>\n",
       "      <td>2018-10-30 0:00:00</td>\n",
       "      <td>Coinbase valued at $8 billion in latest fundraising round | News | WIBQ</td>\n",
       "      <td>Coinbase valued at $8 billion in latest fundraising round Tuesday, October 30, 2018 9:36 a.m. EDT\\n\\n\\n(Reuters) - Coinbase, one of the top U.S. cryptocurrency exchanges, said on Tuesday it raised another $300 million in a funding round led by Tiger Global...</td>\n",
       "      <td>1.0</td>\n",
       "      <td>0.000</td>\n",
       "      <td>0.0</td>\n",
       "      <td>0.0</td>\n",
       "      <td>0.0</td>\n",
       "      <td>0.0</td>\n",
       "      <td>Coinbase valued $8 billion latest fundraising round Tuesday, October 30, 2018 9:36 a.m. EDT (Reuters) - Coinbase, one top U.S. cryptocurrency exchanges, said Tuesday raised another $300 million funding round led Tiger Global Management, valuing firm $8 bil...</td>\n",
       "      <td>coinbas valu $8 billion latest fundrais round tuesday, octob 30, 2018 9:36 a.m. edt (reuters) - coinbase, one top u.s. cryptocurr exchanges, said tuesday rais anoth $300 million fund round led tiger global management, valu firm $8 billion. san francisco-ba...</td>\n",
       "      <td>Coinbase value $8 billion latest fundraise round Tuesday, October 30, 2018 9:36 a.m. EDT (Reuters) - Coinbase, one top U.S. cryptocurrency exchanges, say Tuesday raise another $300 million fund round lead Tiger Global Management, value firm $8 billion. San...</td>\n",
       "      <td>COINBASE VALUED $8 BILLION LATEST FUNDRAISING ROUND TUESDAY, OCTOBER 30, 2018 9:36 A.M. EDT (REUTERS) - COINBASE, ONE TOP U.S. CRYPTOCURRENCY EXCHANGES, SAID TUESDAY RAISED ANOTHER $300 MILLION FUNDING ROUND LED TIGER GLOBAL MANAGEMENT, VALUING FIRM $8 BIL...</td>\n",
       "      <td>1.540858e+09</td>\n",
       "    </tr>\n",
       "  </tbody>\n",
       "</table>\n",
       "</div>"
      ],
      "text/plain": [
       "   Unnamed: 0  Sr                       author           timestamp  \\\n",
       "0           0   1               Bloomberg News  2018-10-30 0:00:00   \n",
       "1           1   2                          NaN  2018-10-30 0:00:00   \n",
       "2           2   3               Trevor Kearing  2018-10-30 0:00:00   \n",
       "3           3   4               Bloomberg News  2018-10-30 0:00:00   \n",
       "4           4   5  Midwest Communications Inc.  2018-10-30 0:00:00   \n",
       "\n",
       "                                                                                  title  \\\n",
       "0      Pot entrepreneurs target Asian money at Hong Kong investor forum - BNN Bloomberg   \n",
       "1                                  Distributed Dialogues: Political Censorship in China   \n",
       "2                         Sojourn (SOJ) Price Tops $0.23 on Exchanges - Daily Political   \n",
       "3  Happy birthday, bitcoin!: 10 years on, valuation is still a question - BNN Bloomberg   \n",
       "4               Coinbase valued at $8 billion in latest fundraising round | News | WIBQ   \n",
       "\n",
       "                                                                                                                                                                                                                                                                  text  \\\n",
       "0  Seven years. ThatÃƒÂ¢Ã‚Â€Ã‚Â™s how much jail time you can get just for smoking marijuana in Hong Kong. But that doesnÃƒÂ¢Ã‚Â€Ã‚Â™t mean you canÃƒÂ¢Ã‚Â€Ã‚Â™t invest in it.\\n\\n\\nThatÃƒÂ¢Ã‚Â€Ã‚Â™s the message from executives at some of the worldÃƒÂ¢Ã‚Â€Ã‚Â™s ...   \n",
       "1  Distributed Dialogues: Political Censorship in China 2018-10-30 07:31 pm News 21 0\\n\\n\\nOn the latest episode of Season 2 of Distributed Dialogues , the hosts took a deep dive into the state of political repression in the PeopleÃƒÂ¢Ã‚Â€Ã‚Â™s Republic of Ch...   \n",
       "2  Tweet\\n\\n\\nSojourn (CURRENCY:SOJ) traded flat against the dollar during the twenty-four hour period ending at 17:00 PM Eastern on October 30th. Sojourn has a total market cap of $113,909.00 and $0.00 worth of Sojourn was traded on exchanges in the last 24 ...   \n",
       "3  Happy Anniversary to Bitcoin!\\n\\n\\nIt was Halloween 2008 when Satoshi Nakamoto, which may be a pseudonym for one or more programmers, published a paper titled ÃƒÂ¢Ã‚Â€Ã‚ÂœBitcoin: A Peer-to-Peer Electronic Cash System.ÃƒÂ¢Ã‚Â€Ã‚Â\\n\\n\\nDid he, she or they ...   \n",
       "4  Coinbase valued at $8 billion in latest fundraising round Tuesday, October 30, 2018 9:36 a.m. EDT\\n\\n\\n(Reuters) - Coinbase, one of the top U.S. cryptocurrency exchanges, said on Tuesday it raised another $300 million in a funding round led by Tiger Global...   \n",
       "\n",
       "   Label (-2 to 2)  spam_score  performance_score  facebook_likes  \\\n",
       "0              0.0       0.733                0.0             0.0   \n",
       "1              0.0       0.000                0.0             0.0   \n",
       "2              0.0       0.002                0.0             0.0   \n",
       "3              1.0       0.000                0.0             0.0   \n",
       "4              1.0       0.000                0.0             0.0   \n",
       "\n",
       "   facebook_comments  facebook_shares  \\\n",
       "0                0.0              0.0   \n",
       "1                0.0              0.0   \n",
       "2                0.0              0.0   \n",
       "3                0.0              0.0   \n",
       "4                0.0              0.0   \n",
       "\n",
       "                                                                                                                                                                                                                                                            preprocess  \\\n",
       "0  Seven years. ThatÃƒÂ¢Ã‚Â€Ã‚Â™s much jail time get smoking marijuana Hong Kong. But doesnÃƒÂ¢Ã‚Â€Ã‚Â™t mean canÃƒÂ¢Ã‚Â€Ã‚Â™t invest it. ThatÃƒÂ¢Ã‚Â€Ã‚Â™s message executives worldÃƒÂ¢Ã‚Â€Ã‚Â™s hottest cannabis firms, gathering tomorrow cityÃƒÂ¢Ã‚Â€Ã‚Â™s five...   \n",
       "1  Distributed Dialogues: Political Censorship China 2018-10-30 07:31 pm News 21 0 On latest episode Season 2 Distributed Dialogues , hosts took deep dive state political repression PeopleÃƒÂ¢Ã‚Â€Ã‚Â™s Republic China. Interviewing experts dissidents Oslo Free...   \n",
       "2  Tweet Sojourn (CURRENCY:SOJ) traded flat dollar twenty-four hour period ending 17:00 PM Eastern October 30th. Sojourn total market cap $113,909.00 $0.00 worth Sojourn traded exchanges last 24 hours. In last seven days, Sojourn traded flat dollar. One Sojou...   \n",
       "3  Happy Anniversary Bitcoin! It Halloween 2008 Satoshi Nakamoto, may pseudonym one programmers, published paper titled ÃƒÂ¢Ã‚Â€Ã‚ÂœBitcoin: A Peer-to-Peer Electronic Cash System.ÃƒÂ¢Ã‚Â€Ã‚Â Did he, know unleashed? Ten years later, digital currency developed...   \n",
       "4  Coinbase valued $8 billion latest fundraising round Tuesday, October 30, 2018 9:36 a.m. EDT (Reuters) - Coinbase, one top U.S. cryptocurrency exchanges, said Tuesday raised another $300 million funding round led Tiger Global Management, valuing firm $8 bil...   \n",
       "\n",
       "                                                                                                                                                                                                                                                                  stem  \\\n",
       "0  seven years. thatÃƒÂ¢Ã‚Â€Ã‚Â™ much jail time get smoke marijuana hong kong. but doesnÃƒÂ¢Ã‚Â€Ã‚Â™t mean canÃƒÂ¢Ã‚Â€Ã‚Â™t invest it. thatÃƒÂ¢Ã‚Â€Ã‚Â™ messag execut worldÃƒÂ¢Ã‚Â€Ã‚Â™ hottest cannabi firms, gather tomorrow cityÃƒÂ¢Ã‚Â€Ã‚Â™ five-star W hotel f...   \n",
       "1  distribut dialogues: polit censorship china 2018-10-30 07:31 pm new 21 0 On latest episod season 2 distribut dialogu , host took deep dive state polit repress peopleÃƒÂ¢Ã‚Â€Ã‚Â™ republ china. interview expert dissid oslo freedom festival, thorough examin c...   \n",
       "2  tweet sojourn (currency:soj) trade flat dollar twenty-four hour period end 17:00 PM eastern octob 30th. sojourn total market cap $113,909.00 $0.00 worth sojourn trade exchang last 24 hours. In last seven days, sojourn trade flat dollar. one sojourn coin cu...   \n",
       "3  happi anniversari bitcoin! It halloween 2008 satoshi nakamoto, may pseudonym one programmers, publish paper titl ÃƒÂ¢Ã‚Â€Ã‚Âœbitcoin: A peer-to-p electron cash system.ÃƒÂ¢Ã‚Â€Ã‚Â did he, know unleashed? ten year later, digit currenc develop still unknown ...   \n",
       "4  coinbas valu $8 billion latest fundrais round tuesday, octob 30, 2018 9:36 a.m. edt (reuters) - coinbase, one top u.s. cryptocurr exchanges, said tuesday rais anoth $300 million fund round led tiger global management, valu firm $8 billion. san francisco-ba...   \n",
       "\n",
       "                                                                                                                                                                                                                                                                   lem  \\\n",
       "0  Seven years. ThatÃƒÂ¢Ã‚Â€Ã‚Â™s much jail time get smoke marijuana Hong Kong. But doesnÃƒÂ¢Ã‚Â€Ã‚Â™t mean canÃƒÂ¢Ã‚Â€Ã‚Â™t invest it. ThatÃƒÂ¢Ã‚Â€Ã‚Â™s message executives worldÃƒÂ¢Ã‚Â€Ã‚Â™s hottest cannabis firms, gather tomorrow cityÃƒÂ¢Ã‚Â€Ã‚Â™s five-star...   \n",
       "1  Distributed Dialogues: Political Censorship China 2018-10-30 07:31 pm News 21 0 On latest episode Season 2 Distributed Dialogues , host take deep dive state political repression PeopleÃƒÂ¢Ã‚Â€Ã‚Â™s Republic China. Interviewing experts dissidents Oslo Freed...   \n",
       "2  Tweet Sojourn (CURRENCY:SOJ) trade flat dollar twenty-four hour period end 17:00 PM Eastern October 30th. Sojourn total market cap $113,909.00 $0.00 worth Sojourn trade exchange last 24 hours. In last seven days, Sojourn trade flat dollar. One Sojourn coin...   \n",
       "3  Happy Anniversary Bitcoin! It Halloween 2008 Satoshi Nakamoto, may pseudonym one programmers, publish paper title ÃƒÂ¢Ã‚Â€Ã‚ÂœBitcoin: A Peer-to-Peer Electronic Cash System.ÃƒÂ¢Ã‚Â€Ã‚Â Did he, know unleashed? Ten years later, digital currency develop stil...   \n",
       "4  Coinbase value $8 billion latest fundraise round Tuesday, October 30, 2018 9:36 a.m. EDT (Reuters) - Coinbase, one top U.S. cryptocurrency exchanges, say Tuesday raise another $300 million fund round lead Tiger Global Management, value firm $8 billion. San...   \n",
       "\n",
       "                                                                                                                                                                                                                                                                   cap  \\\n",
       "0  SEVEN YEARS. THATÃƒÂ‚Ã‚Â€Ã‚Â™S MUCH JAIL TIME GET SMOKING MARIJUANA HONG KONG. BUT DOESNÃƒÂ‚Ã‚Â€Ã‚Â™T MEAN CANÃƒÂ‚Ã‚Â€Ã‚Â™T INVEST IT. THATÃƒÂ‚Ã‚Â€Ã‚Â™S MESSAGE EXECUTIVES WORLDÃƒÂ‚Ã‚Â€Ã‚Â™S HOTTEST CANNABIS FIRMS, GATHERING TOMORROW CITYÃƒÂ‚Ã‚Â€Ã‚Â™S FIVE...   \n",
       "1  DISTRIBUTED DIALOGUES: POLITICAL CENSORSHIP CHINA 2018-10-30 07:31 PM NEWS 21 0 ON LATEST EPISODE SEASON 2 DISTRIBUTED DIALOGUES , HOSTS TOOK DEEP DIVE STATE POLITICAL REPRESSION PEOPLEÃƒÂ‚Ã‚Â€Ã‚Â™S REPUBLIC CHINA. INTERVIEWING EXPERTS DISSIDENTS OSLO FREE...   \n",
       "2  TWEET SOJOURN (CURRENCY:SOJ) TRADED FLAT DOLLAR TWENTY-FOUR HOUR PERIOD ENDING 17:00 PM EASTERN OCTOBER 30TH. SOJOURN TOTAL MARKET CAP $113,909.00 $0.00 WORTH SOJOURN TRADED EXCHANGES LAST 24 HOURS. IN LAST SEVEN DAYS, SOJOURN TRADED FLAT DOLLAR. ONE SOJOU...   \n",
       "3  HAPPY ANNIVERSARY BITCOIN! IT HALLOWEEN 2008 SATOSHI NAKAMOTO, MAY PSEUDONYM ONE PROGRAMMERS, PUBLISHED PAPER TITLED ÃƒÂ‚Ã‚Â€Ã‚ÂœBITCOIN: A PEER-TO-PEER ELECTRONIC CASH SYSTEM.ÃƒÂ‚Ã‚Â€Ã‚Â DID HE, KNOW UNLEASHED? TEN YEARS LATER, DIGITAL CURRENCY DEVELOPED...   \n",
       "4  COINBASE VALUED $8 BILLION LATEST FUNDRAISING ROUND TUESDAY, OCTOBER 30, 2018 9:36 A.M. EDT (REUTERS) - COINBASE, ONE TOP U.S. CRYPTOCURRENCY EXCHANGES, SAID TUESDAY RAISED ANOTHER $300 MILLION FUNDING ROUND LED TIGER GLOBAL MANAGEMENT, VALUING FIRM $8 BIL...   \n",
       "\n",
       "       UnixTime  \n",
       "0  1.540858e+09  \n",
       "1  1.540858e+09  \n",
       "2  1.540858e+09  \n",
       "3  1.540858e+09  \n",
       "4  1.540858e+09  "
      ]
     },
     "execution_count": 3,
     "metadata": {},
     "output_type": "execute_result"
    }
   ],
   "source": [
    "data = pd.read_csv('D:/BE_Project/Data_json_csv/Lp_Unix_30_oct_news.csv', encoding = \"utf-8\")\n",
    "# data = data.sample(frac=1).reset_index(drop=True)\n",
    "print(data.shape)\n",
    "data.head()\n"
   ]
  },
  {
   "cell_type": "markdown",
   "metadata": {},
   "source": [
    "Removing all columns except the airline_sentiment and text column."
   ]
  },
  {
   "cell_type": "markdown",
   "metadata": {},
   "source": [
    "### Removing non-ascii character"
   ]
  },
  {
   "cell_type": "code",
   "execution_count": 4,
   "metadata": {},
   "outputs": [],
   "source": [
    "\n",
    "def pre(row):\n",
    "    row = re.sub(r'[^\\x00-\\x7F]+','',str(row))\n",
    "    return row\n",
    "\n",
    "data['preprocess'] = data['preprocess'].apply(pre)"
   ]
  },
  {
   "cell_type": "code",
   "execution_count": 5,
   "metadata": {},
   "outputs": [
    {
     "data": {
      "text/plain": [
       "0       Seven years. Thats much jail time get smoking marijuana Hong Kong. But doesnt mean cant invest it. Thats message executives worlds hottest cannabis firms, gathering tomorrow citys five-star W Hotel forum investment opportunities markets legal. To safe, org...\n",
       "1       Distributed Dialogues: Political Censorship China 2018-10-30 07:31 pm News 21 0 On latest episode Season 2 Distributed Dialogues , hosts took deep dive state political repression Peoples Republic China. Interviewing experts dissidents Oslo Freedom Festival...\n",
       "2       Tweet Sojourn (CURRENCY:SOJ) traded flat dollar twenty-four hour period ending 17:00 PM Eastern October 30th. Sojourn total market cap $113,909.00 $0.00 worth Sojourn traded exchanges last 24 hours. In last seven days, Sojourn traded flat dollar. One Sojou...\n",
       "3       Happy Anniversary Bitcoin! It Halloween 2008 Satoshi Nakamoto, may pseudonym one programmers, published paper titled Bitcoin: A Peer-to-Peer Electronic Cash System. Did he, know unleashed? Ten years later, digital currency developed still unknown creator v...\n",
       "4       Coinbase valued $8 billion latest fundraising round Tuesday, October 30, 2018 9:36 a.m. EDT (Reuters) - Coinbase, one top U.S. cryptocurrency exchanges, said Tuesday raised another $300 million funding round led Tiger Global Management, valuing firm $8 bil...\n",
       "5       October 30, 2018 22:33 CET Swamp Drained? 64% US Voters Fear Politicians Will Misuse Crypto Donations Mistrust politicians nothing new, perception bitcoin crypto tokens unregulated heightened suspicions eligible US voters. According survey conducted blockc...\n",
       "6       October 30, 2018 21:30 CET Oyster Protocol Founder Exit Scams, Steals $300,000 ICO Smart Contract Advertisement Twitter Facebook Oyster Protocol hybrid IOTA/Ethereum smart contract platform designed help websites garner revenue. Instead traditional adverti...\n",
       "7       Happy Anniversary Bitcoin! It Halloween 2008 Satoshi Nakamoto, may pseudonym one programmers, published paper titled Bitcoin: A Peer-to-Peer Electronic Cash System. Did he, know unleashed? Ten years later, digital currency developed still unknown creator v...\n",
       "8       Russias Financial Watchdog Oversee Cryptocurrency Industry Economy & Regulation Russias Federal Financial Monitoring Service revealed regulate cryptocurrency-related transactions country, senior official saying agency also oversee broader cryptocurrency in...\n",
       "9                                                                                                              It's looks like huge correction way Bitcoin , worst yet te coin like Ethereum, litecoin , XRP Ethereum Classic . We middle crypto correction , long way go .\n",
       "10      Taking Identity Selfie  Self-Sovereign Identity Blockchain Posted General Security October 30, 2018 Share What's this? Practice certification success Skillset library 100,000 practice test questions . We analyze responses determine ready sit test. In early...\n",
       "11      Tweet SiaCashCoin (CURRENCY:SCC) traded 0.1% higher U.S. dollar 24 hour period ending 18:00 PM Eastern October 30th. Over last week, SiaCashCoin traded 22.2% lower U.S. dollar. SiaCashCoin total market capitalization $2.06 million $123,147.00 worth SiaCash...\n",
       "12      Ethereum Price Analysis: ETH/USD Sellers In Control Below $200 Aayush Jindal | October 30, 2018 | 7:30 Ethereum Price Analysis: ETH/USD Sellers In Control Below $200 Aayush Jindal | October 30, 2018 | 7:30 Key Highlights ETH price declined sharply broke im...\n",
       "13      Key Highlights Ethereum classic price declined broke $9.40 support US dollar. There major bearish trend line place resistance $9.35 hourly chart ETC/USD pair (Data feed via Kraken). The pair may correct higher short term, sellers remain control near $9.30 ...\n",
       "14      LinkedIn Cancel In special bitcoin-heavy edition Daily Byte: stable bitcoin, Yellen's buying, bitcoin exchange gone wrong, Feds bitcoin business. Plus, private transactions main Ethereum blockchain. It's 10th anniversary Bitcoin white paper. Here's what's ...\n",
       "15      A Closer Look Mining Hub Kenya Bithub Africa By 0 61 We got rare opportunity insider look mining operations Bithub Africa takes set manage mini-mining operation blockchain platform. John Karanja, founder CEO Bithub Africa , took us mining operations thpany...\n",
       "16      global warming Bitcoin push global warming 2 degrees celsius 2033: Study Purchasing Bitcoins several cryptocurrencies, forms currency exist digitally encryption, requires large amounts electricity, according study PTI | October 30, 2018, 14:10 IST Newslett...\n",
       "17                                                                                                                                                ex bitcoin collector myself, game since 2011. I assure wallets dormant purpose, people either deceased, idea access them!\n",
       "18      Late Elizabeth Ochanya John Charles Makurdi Thousands people umbrella Concerned Benue Citizens collaboration students auspices National Association Nigeria Students, Tuesday, staged peaceful protest honour 13-year-old minor, late Elizabeth Ochanya Ogbanje,...\n",
       "19      Tweet SproutsExtreme (CURRENCY:SPEX) traded flat US dollar 1-day period ending 23:00 PM Eastern October 30th. One SproutsExtreme coin currently purchased $0.0001 0. 1 BTC popular cryptocurrency exchanges. SproutsExtreme total market capitalization $267,783...\n",
       "20      VanEck issued reply U.S. Securities Exchange Commission Bitcoin exchange traded funds (ETF) letter revealed regulators official website. The lettees public release/evidence regarding oe Oct. 9 meeting held behind closed doors, away public eye. The meeting ...\n",
       "21                     This statement invalid, \"putting everything technology sector buying bitcoinwhich isntpursuing strategies would extraordinarily foolish\".... This investment one \"once lifetime opportunities\" rescue retirement. Crypto currency forgone certainty!\n",
       "22      President Muhammadu Buhari JOHN ALECHENU LEKE BAYIEWU President Muhammadu Buhari warned Nigerian elites stop misleading people unguarded utterances. Buhari, visitor University Uyo, according News Agency Nigeria , gave warning 24th convocation ceremony inst...\n",
       "23      EOS Price Watch: Sharp Triangle Breakout Sarah Jenn | October 30, 2018 | 3:33 EOS Price Watch: Sharp Triangle Breakout Sarah Jenn | October 30, 2018 | 3:33 EOS Price Key Highlights EOS made strong downside break symmetrical triangle consolidation pattern s...\n",
       "24      Bitcoin bulls could bad news. Long-term technical indicators suggest battered digital currency poised continue slump. A technical analysis DVAN long-term trend lines shows Bitcoin resuming recent downward trend. Its baseline indicator, hovering algorithm l...\n",
       "                                                                                                                                       ...                                                                                                                                 \n",
       "1747    Posted Adam Dyson Oct 30th, 2018 // No Comments bitJob (CURRENCY:STU) traded 4.5% higher U.S. dollar 24 hour period ending 19:00 PM ET October 30th. In last week, bitJob traded 12.6% U.S. dollar. One bitJob token currently purchased $0.0089 0. 141 BTC popu...\n",
       "1748    Tweet UNCoin (CURRENCY:UNC) traded flat US dollar 1 day period ending 19:00 PM ET October 30th. Over last week, UNCoin traded 3.8% US dollar. UNCoin market capitalization $0.00 $0.00 worth UNCoin traded exchanges last day. One UNCoin coin currently bought ...\n",
       "1749    Posted ABMN Staff Oct 30th, 2018 // No Comments NetCoin (CURRENCY:NET) traded flat U.S. dollar 1 day period ending 19:00 PM ET October 30th. One NetCoin coin bought approximately $0.0002 0. 3 BTC exchanges. NetCoin total market capitalization $166,683.00 $...\n",
       "1750    Posted ABMN Staff Oct 30th, 2018 // No Comments Populous (CURRENCY:PPT) traded 0.4% higher U.S. dollar 1 day period ending 19:00 PM ET October 30th. Populous market cap $127.24 million $849,018.00 worth Populous traded exchanges last 24 hours. One Populous...\n",
       "1751    Posted ABMN Staff Oct 30th, 2018 // No Comments Zcash (CURRENCY:ZEC) traded 0.9% U.S. dollar 1-day period ending 19:00 PM ET October 30th. In last seven days, Zcash traded 4.8% lower U.S. dollar. One Zcash coin currently bought $115.55 0.01836901 BTC popul...\n",
       "1752    Posted ABMN Staff Oct 30th, 2018 // No Comments Crystal Clear (CURRENCY:CCT) traded 1.6% lower U.S. dollar 24-hour period ending 19:00 PM ET October 30th. One Crystal Clear token currently bought approximately $0.0211 0. 335 BTC major cryptocurrency exchan...\n",
       "1753    Posted ABMN Staff Oct 30th, 2018 // No Comments bitJob (CURRENCY:STU) traded 4.5% higher U.S. dollar 24 hour period ending 19:00 PM ET October 30th. In last week, bitJob traded 12.6% U.S. dollar. One bitJob token currently purchased $0.0089 0. 141 BTC popu...\n",
       "1754    Posted ABMN Staff Oct 30th, 2018 // No Comments Populous (CURRENCY:PPT) traded 0.4% higher U.S. dollar 1 day period ending 19:00 PM ET October 30th. Populous market cap $127.24 million $849,018.00 worth Populous traded exchanges last 24 hours. One Populous...\n",
       "1755    Posted ABMN Staff Oct 30th, 2018 // No Comments Kolion (CURRENCY:KLN) traded 2.4% higher dollar 24-hour period ending 19:00 PM Eastern October 30th. In last week, Kolion traded 7.3% dollar. One Kolion token purchased approximately $0.52 0.00008164 BTC popu...\n",
       "1756    Posted ABMN Staff Oct 30th, 2018 // No Comments UNCoin (CURRENCY:UNC) traded flat US dollar 1 day period ending 19:00 PM ET October 30th. Over last week, UNCoin traded 3.8% US dollar. UNCoin market capitalization $0.00 $0.00 worth UNCoin traded exchanges l...\n",
       "1757    Posted ABMN Staff Oct 30th, 2018 // No Comments Bee Token (CURRENCY:BEE) traded 1.1% U.S. dollar 1-day period ending 19:00 PM ET October 30th. In last seven days, Bee Token traded 8.9% lower U.S. dollar. One Bee Token token currently bought $0.0080 0. 126 ...\n",
       "1758    Posted ABMN Staff Oct 30th, 2018 // No Comments I/O Coin (CURRENCY:IOC) traded 0.9% lower dollar 24 hour period ending 19:00 PM ET October 30th. I/O Coin total market cap $3.87 million $637.00 worth I/O Coin traded exchanges last day. During last week, I/O...\n",
       "1759    Posted ABMN Staff Oct 30th, 2018 // No Comments Ties.DB (CURRENCY:TIE) traded 48.3% lower U.S. dollar 1 day period ending 19:00 PM Eastern October 30th. Ties.DB market capitalization $578,178.00 approximately $17.00 worth Ties.DB traded exchanges last 24 h...\n",
       "1760    Posted ABMN Staff Oct 30th, 2018 // No Comments Zcash (CURRENCY:ZEC) traded 0.9% U.S. dollar 1-day period ending 19:00 PM ET October 30th. In last seven days, Zcash traded 4.8% lower U.S. dollar. One Zcash coin currently bought $115.55 0.01836901 BTC popul...\n",
       "1761    Posted ABMN Staff Oct 30th, 2018 // No Comments Denarius (CURRENCY:DNR) traded 8.8% higher dollar 24-hour period ending 19:00 PM E.T. October 30th. Denarius market cap $1.28 million $9,395.00 worth Denarius traded exchanges last 24 hours. One Denarius coin...\n",
       "1762    Posted Scott Davis Oct 30th, 2018 // No Comments Zcash (CURRENCY:ZEC) traded 0.9% U.S. dollar 1-day period ending 19:00 PM ET October 30th. In last seven days, Zcash traded 4.8% lower U.S. dollar. One Zcash coin currently bought $115.55 0.01836901 BTC popu...\n",
       "1763    BeeKan Trading 18% Lower Over Last 7 Days (BKBT) Posted Donna Armstrong | Oct 30th, 2018 BeeKan (CURRENCY:BKBT) traded 5.4% higher US dollar 1-day period ending 19:00 PM ET October 30th. Over last week, BeeKan traded 18% lower US dollar. BeeKan market capi...\n",
       "1764    Posted ABMN Staff Oct 30th, 2018 // No Comments Mossland (CURRENCY:MOC) traded 0.3% U.S. dollar twenty-four hour period ending 19:00 PM E.T. October 30th. Mossland total market cap $6.05 million $23,144.00 worth Mossland traded exchanges last 24 hours. Dur...\n",
       "1765    Chinese entrepreneurs behind biggest cryptocurrency startups world made countrys billionaire list first time.Hurun, thpany tracks high net-worth people China worldwide, Wednesday released current list affluent executives China worth minimum 2 billion yuan,...\n",
       "1766    Tezos (CURRENCY:XTZ) traded 0.3% lower dollar one day period ending 14:00 PM ET October 30th. One Tezos coin purchased $1.28 0.00020333 BTC major cryptocurrency exchanges including Gate.io, HitBTC, Gatecoin Coinone. During last seven days, Tezos traded 7.6...\n",
       "1767    Tweet PayCon (CURRENCY:CON) traded flat U.S. dollar 24 hour period ending 14:00 PM Eastern October 30th. PayCon market cap $28,276.00 approximately $0.00 worth PayCon traded exchanges last day. One PayCon coin bought approximately $0.0012 0. 15 BTC exchang...\n",
       "1768    ShipChain (CURRENCY:SHIP) traded 0.6% lower dollar 24-hour period ending 14:00 PM ET October 30th. In last week, ShipChain traded 11.6% lower dollar. One ShipChain token currently purchased approximately $0.0080 0. 127 BTC popular cryptocurrency exchanges ...\n",
       "1769    Tweet Arcblock (CURRENCY:ABT) traded 9.5% US dollar 24 hour period ending 14:00 PM ET October 30th. Arcblock market cap $16.85 million approximately $1.45 million worth Arcblock traded exchanges last day. Over last week, Arcblock traded 12.6% lower US doll...\n",
       "1770    1World (CURRENCY:1WO) traded 25% U.S. dollar 24-hour period ending 14:00 PM ET October 30th. 1World market cap $2.08 million approximately $44,312.00 worth 1World traded exchanges last 24 hours. In last week, 1World traded 11.1% U.S. dollar. One 1World tok...\n",
       "1771    IQ.cash (CURRENCY:IQ) traded 3% lower U.S. dollar 1 day period ending 14:00 PM E.T. October 30th. Over last seven days, IQ.cash traded 3.6% U.S. dollar. One IQ.cash coin purchased $0.0541 0. 858 BTC popular exchanges including Crex24, CryptoBridge, Mercato...\n",
       "Name: preprocess, Length: 1772, dtype: object"
      ]
     },
     "execution_count": 5,
     "metadata": {},
     "output_type": "execute_result"
    }
   ],
   "source": [
    "data['preprocess']"
   ]
  },
  {
   "cell_type": "code",
   "execution_count": 6,
   "metadata": {},
   "outputs": [
    {
     "data": {
      "text/html": [
       "<div>\n",
       "<style scoped>\n",
       "    .dataframe tbody tr th:only-of-type {\n",
       "        vertical-align: middle;\n",
       "    }\n",
       "\n",
       "    .dataframe tbody tr th {\n",
       "        vertical-align: top;\n",
       "    }\n",
       "\n",
       "    .dataframe thead th {\n",
       "        text-align: right;\n",
       "    }\n",
       "</style>\n",
       "<table border=\"1\" class=\"dataframe\">\n",
       "  <thead>\n",
       "    <tr style=\"text-align: right;\">\n",
       "      <th></th>\n",
       "      <th>Label (-2 to 2)</th>\n",
       "      <th>preprocess</th>\n",
       "    </tr>\n",
       "  </thead>\n",
       "  <tbody>\n",
       "    <tr>\n",
       "      <th>0</th>\n",
       "      <td>0.0</td>\n",
       "      <td>Seven years. Thats much jail time get smoking marijuana Hong Kong. But doesnt mean cant invest it. Thats message executives worlds hottest cannabis firms, gathering tomorrow citys five-star W Hotel forum investment opportunities markets legal. To safe, org...</td>\n",
       "    </tr>\n",
       "    <tr>\n",
       "      <th>1</th>\n",
       "      <td>0.0</td>\n",
       "      <td>Distributed Dialogues: Political Censorship China 2018-10-30 07:31 pm News 21 0 On latest episode Season 2 Distributed Dialogues , hosts took deep dive state political repression Peoples Republic China. Interviewing experts dissidents Oslo Freedom Festival...</td>\n",
       "    </tr>\n",
       "    <tr>\n",
       "      <th>2</th>\n",
       "      <td>0.0</td>\n",
       "      <td>Tweet Sojourn (CURRENCY:SOJ) traded flat dollar twenty-four hour period ending 17:00 PM Eastern October 30th. Sojourn total market cap $113,909.00 $0.00 worth Sojourn traded exchanges last 24 hours. In last seven days, Sojourn traded flat dollar. One Sojou...</td>\n",
       "    </tr>\n",
       "    <tr>\n",
       "      <th>3</th>\n",
       "      <td>1.0</td>\n",
       "      <td>Happy Anniversary Bitcoin! It Halloween 2008 Satoshi Nakamoto, may pseudonym one programmers, published paper titled Bitcoin: A Peer-to-Peer Electronic Cash System. Did he, know unleashed? Ten years later, digital currency developed still unknown creator v...</td>\n",
       "    </tr>\n",
       "    <tr>\n",
       "      <th>4</th>\n",
       "      <td>1.0</td>\n",
       "      <td>Coinbase valued $8 billion latest fundraising round Tuesday, October 30, 2018 9:36 a.m. EDT (Reuters) - Coinbase, one top U.S. cryptocurrency exchanges, said Tuesday raised another $300 million funding round led Tiger Global Management, valuing firm $8 bil...</td>\n",
       "    </tr>\n",
       "    <tr>\n",
       "      <th>5</th>\n",
       "      <td>0.0</td>\n",
       "      <td>October 30, 2018 22:33 CET Swamp Drained? 64% US Voters Fear Politicians Will Misuse Crypto Donations Mistrust politicians nothing new, perception bitcoin crypto tokens unregulated heightened suspicions eligible US voters. According survey conducted blockc...</td>\n",
       "    </tr>\n",
       "    <tr>\n",
       "      <th>6</th>\n",
       "      <td>0.0</td>\n",
       "      <td>October 30, 2018 21:30 CET Oyster Protocol Founder Exit Scams, Steals $300,000 ICO Smart Contract Advertisement Twitter Facebook Oyster Protocol hybrid IOTA/Ethereum smart contract platform designed help websites garner revenue. Instead traditional adverti...</td>\n",
       "    </tr>\n",
       "    <tr>\n",
       "      <th>7</th>\n",
       "      <td>-1.0</td>\n",
       "      <td>Happy Anniversary Bitcoin! It Halloween 2008 Satoshi Nakamoto, may pseudonym one programmers, published paper titled Bitcoin: A Peer-to-Peer Electronic Cash System. Did he, know unleashed? Ten years later, digital currency developed still unknown creator v...</td>\n",
       "    </tr>\n",
       "    <tr>\n",
       "      <th>8</th>\n",
       "      <td>0.0</td>\n",
       "      <td>Russias Financial Watchdog Oversee Cryptocurrency Industry Economy &amp; Regulation Russias Federal Financial Monitoring Service revealed regulate cryptocurrency-related transactions country, senior official saying agency also oversee broader cryptocurrency in...</td>\n",
       "    </tr>\n",
       "    <tr>\n",
       "      <th>9</th>\n",
       "      <td>-1.0</td>\n",
       "      <td>It's looks like huge correction way Bitcoin , worst yet te coin like Ethereum, litecoin , XRP Ethereum Classic . We middle crypto correction , long way go .</td>\n",
       "    </tr>\n",
       "    <tr>\n",
       "      <th>10</th>\n",
       "      <td>0.0</td>\n",
       "      <td>Taking Identity Selfie  Self-Sovereign Identity Blockchain Posted General Security October 30, 2018 Share What's this? Practice certification success Skillset library 100,000 practice test questions . We analyze responses determine ready sit test. In early...</td>\n",
       "    </tr>\n",
       "    <tr>\n",
       "      <th>11</th>\n",
       "      <td>0.0</td>\n",
       "      <td>Tweet SiaCashCoin (CURRENCY:SCC) traded 0.1% higher U.S. dollar 24 hour period ending 18:00 PM Eastern October 30th. Over last week, SiaCashCoin traded 22.2% lower U.S. dollar. SiaCashCoin total market capitalization $2.06 million $123,147.00 worth SiaCash...</td>\n",
       "    </tr>\n",
       "    <tr>\n",
       "      <th>12</th>\n",
       "      <td>0.0</td>\n",
       "      <td>Ethereum Price Analysis: ETH/USD Sellers In Control Below $200 Aayush Jindal | October 30, 2018 | 7:30 Ethereum Price Analysis: ETH/USD Sellers In Control Below $200 Aayush Jindal | October 30, 2018 | 7:30 Key Highlights ETH price declined sharply broke im...</td>\n",
       "    </tr>\n",
       "    <tr>\n",
       "      <th>13</th>\n",
       "      <td>0.0</td>\n",
       "      <td>Key Highlights Ethereum classic price declined broke $9.40 support US dollar. There major bearish trend line place resistance $9.35 hourly chart ETC/USD pair (Data feed via Kraken). The pair may correct higher short term, sellers remain control near $9.30 ...</td>\n",
       "    </tr>\n",
       "    <tr>\n",
       "      <th>14</th>\n",
       "      <td>1.0</td>\n",
       "      <td>LinkedIn Cancel In special bitcoin-heavy edition Daily Byte: stable bitcoin, Yellen's buying, bitcoin exchange gone wrong, Feds bitcoin business. Plus, private transactions main Ethereum blockchain. It's 10th anniversary Bitcoin white paper. Here's what's ...</td>\n",
       "    </tr>\n",
       "    <tr>\n",
       "      <th>15</th>\n",
       "      <td>1.0</td>\n",
       "      <td>A Closer Look Mining Hub Kenya Bithub Africa By 0 61 We got rare opportunity insider look mining operations Bithub Africa takes set manage mini-mining operation blockchain platform. John Karanja, founder CEO Bithub Africa , took us mining operations thpany...</td>\n",
       "    </tr>\n",
       "    <tr>\n",
       "      <th>16</th>\n",
       "      <td>-1.0</td>\n",
       "      <td>global warming Bitcoin push global warming 2 degrees celsius 2033: Study Purchasing Bitcoins several cryptocurrencies, forms currency exist digitally encryption, requires large amounts electricity, according study PTI | October 30, 2018, 14:10 IST Newslett...</td>\n",
       "    </tr>\n",
       "    <tr>\n",
       "      <th>17</th>\n",
       "      <td>0.0</td>\n",
       "      <td>ex bitcoin collector myself, game since 2011. I assure wallets dormant purpose, people either deceased, idea access them!</td>\n",
       "    </tr>\n",
       "    <tr>\n",
       "      <th>18</th>\n",
       "      <td>0.0</td>\n",
       "      <td>Late Elizabeth Ochanya John Charles Makurdi Thousands people umbrella Concerned Benue Citizens collaboration students auspices National Association Nigeria Students, Tuesday, staged peaceful protest honour 13-year-old minor, late Elizabeth Ochanya Ogbanje,...</td>\n",
       "    </tr>\n",
       "    <tr>\n",
       "      <th>19</th>\n",
       "      <td>0.0</td>\n",
       "      <td>Tweet SproutsExtreme (CURRENCY:SPEX) traded flat US dollar 1-day period ending 23:00 PM Eastern October 30th. One SproutsExtreme coin currently purchased $0.0001 0. 1 BTC popular cryptocurrency exchanges. SproutsExtreme total market capitalization $267,783...</td>\n",
       "    </tr>\n",
       "    <tr>\n",
       "      <th>20</th>\n",
       "      <td>1.0</td>\n",
       "      <td>VanEck issued reply U.S. Securities Exchange Commission Bitcoin exchange traded funds (ETF) letter revealed regulators official website. The lettees public release/evidence regarding oe Oct. 9 meeting held behind closed doors, away public eye. The meeting ...</td>\n",
       "    </tr>\n",
       "    <tr>\n",
       "      <th>21</th>\n",
       "      <td>1.0</td>\n",
       "      <td>This statement invalid, \"putting everything technology sector buying bitcoinwhich isntpursuing strategies would extraordinarily foolish\".... This investment one \"once lifetime opportunities\" rescue retirement. Crypto currency forgone certainty!</td>\n",
       "    </tr>\n",
       "    <tr>\n",
       "      <th>22</th>\n",
       "      <td>0.0</td>\n",
       "      <td>President Muhammadu Buhari JOHN ALECHENU LEKE BAYIEWU President Muhammadu Buhari warned Nigerian elites stop misleading people unguarded utterances. Buhari, visitor University Uyo, according News Agency Nigeria , gave warning 24th convocation ceremony inst...</td>\n",
       "    </tr>\n",
       "    <tr>\n",
       "      <th>23</th>\n",
       "      <td>-1.0</td>\n",
       "      <td>EOS Price Watch: Sharp Triangle Breakout Sarah Jenn | October 30, 2018 | 3:33 EOS Price Watch: Sharp Triangle Breakout Sarah Jenn | October 30, 2018 | 3:33 EOS Price Key Highlights EOS made strong downside break symmetrical triangle consolidation pattern s...</td>\n",
       "    </tr>\n",
       "    <tr>\n",
       "      <th>24</th>\n",
       "      <td>-2.0</td>\n",
       "      <td>Bitcoin bulls could bad news. Long-term technical indicators suggest battered digital currency poised continue slump. A technical analysis DVAN long-term trend lines shows Bitcoin resuming recent downward trend. Its baseline indicator, hovering algorithm l...</td>\n",
       "    </tr>\n",
       "    <tr>\n",
       "      <th>25</th>\n",
       "      <td>1.0</td>\n",
       "      <td>Investing 10% Assets Bitcoin Ethereum, Even Hedge Fund Big Shots Expectant Cryptocurrency ZUU Online SG 7 hrs ago ZUU  Shutterstock The former manager major US hedge fund, Fortress Investment Group, Michael Novogratz, revealed invested 10% net assets Bitco...</td>\n",
       "    </tr>\n",
       "    <tr>\n",
       "      <th>26</th>\n",
       "      <td>1.0</td>\n",
       "      <td>No Comments / 3174 views Cryptocurrency &amp; Bitcoin News smartphone app SV Software LLC. This app made crypto-enthusiast mind, app boasts features one would expect top performing cryptocurrency news app. With Cryptocurrency &amp; Bitcoin News, users able keep to...</td>\n",
       "    </tr>\n",
       "    <tr>\n",
       "      <th>27</th>\n",
       "      <td>0.0</td>\n",
       "      <td>Tweet Neurotoken (CURRENCY:NTK) traded 10.8% lower dollar 24 hour period ending 13:00 PM ET October 30th. Over last seven days, Neurotoken traded 33.2% lower dollar. Neurotoken total market capitalization $3.62 million $207,698.00 worth Neurotoken traded e...</td>\n",
       "    </tr>\n",
       "    <tr>\n",
       "      <th>28</th>\n",
       "      <td>-1.0</td>\n",
       "      <td>Bitcoin push global warming 2 degrees Celsius 2033, says study By: PTI | Published: October 30, 2018 3:04 PM Implementing Bitcoin similar rates technologies incorporated could alone produce enough emissions raise global temperatures two degrees Celsius soo...</td>\n",
       "    </tr>\n",
       "    <tr>\n",
       "      <th>29</th>\n",
       "      <td>0.0</td>\n",
       "      <td>View All Result JPMorgan Is Using Ethereum-Based Blockchain Tokenize Gold Bars JPMorgan developed enterprise type Quorum-based Ethereum DLT thus enabling smart contracts operation. Crypto news ADVERTISEMENT JPMorgan Chase created platform based blockchain ...</td>\n",
       "    </tr>\n",
       "    <tr>\n",
       "      <th>30</th>\n",
       "      <td>0.0</td>\n",
       "      <td>Tweet Darcrus (CURRENCY:DAR) traded 0.5% US dollar 24-hour period ending 18:00 PM Eastern October 30th. One Darcrus token currently purchased $0.0618 0. 978 BTC popular exchanges. Darcrus total market cap $840,605.00 $0.00 worth Darcrus traded exchanges la...</td>\n",
       "    </tr>\n",
       "    <tr>\n",
       "      <th>31</th>\n",
       "      <td>-2.0</td>\n",
       "      <td>Ever ask bitcoin Gold color. The subliminal message, so, supposed relationship Gold acceptance Gold achieved legitimate currency. Don't fooled, bitcoin's smoke mirrors, cheap magic trick intended make select wealthy everyone else's expense. Where bitcoin c...</td>\n",
       "    </tr>\n",
       "    <tr>\n",
       "      <th>32</th>\n",
       "      <td>1.0</td>\n",
       "      <td>Getty Images Bitcoin investors hodling As stock market gyrates wildly, bitcoin remains surprisingly sedateand one reason may biggest holders proving buy-and-hold investors. Nearly 10% bitcoin wallets, including one ranks seventh among largest wallets, hasn...</td>\n",
       "    </tr>\n",
       "    <tr>\n",
       "      <th>33</th>\n",
       "      <td>0.0</td>\n",
       "      <td>Tweet RSGPcoin (CURRENCY:RSGP) traded 0.3% dollar 1-day period ending 9:00 AM E.T. October 30th. During last week, RSGPcoin traded 31.6% lower dollar. RSGPcoin total market cap $11,687.00 $0.00 worth RSGPcoin traded exchanges last 24 hours. One RSGPcoin co...</td>\n",
       "    </tr>\n",
       "    <tr>\n",
       "      <th>34</th>\n",
       "      <td>0.0</td>\n",
       "      <td>Slight Slump Markets Continues, Ethereum Trades Below $200 Following period prolonged stability, crypto markets see second day slight slump. A slight slump crypto markets continues period relative stability, Ethereum trading $200 Bitcoin $6,300 5416 Total ...</td>\n",
       "    </tr>\n",
       "    <tr>\n",
       "      <th>35</th>\n",
       "      <td>0.0</td>\n",
       "      <td>NEW YORK , October 30, 2018 /PRNewswire/ -- The price bitcoin held steady recent weeks despite global stock market sell-off. According data Coinmarketcap, price bitcoin, largest cryptocurrency market capitalization, trading around USD 6,318.98 Monday's tra...</td>\n",
       "    </tr>\n",
       "    <tr>\n",
       "      <th>36</th>\n",
       "      <td>1.0</td>\n",
       "      <td>How could say free money? Money What Initiative Q thing? Frank Chung 0 MISSED bitcoin boom? Don't worry, there's \"Q\". If Facebook, may seen friends acquaintances posting viral spam message promoting get-rich-quick scheme called Initiative Q, \"built ex-PayP...</td>\n",
       "    </tr>\n",
       "    <tr>\n",
       "      <th>37</th>\n",
       "      <td>-1.0</td>\n",
       "      <td>Shopzoro Double BTC Scam Review OFFICIAL SITE: www.shopzoro.us If interest investing Bitcoin altcoins big profits, might tempted Shopzoro Double BTC app. The Shopzoro Double BTC system claims high powered Bitcoin cryptocurrency investment app. It also clai...</td>\n",
       "    </tr>\n",
       "    <tr>\n",
       "      <th>38</th>\n",
       "      <td>1.0</td>\n",
       "      <td>11:00 AM - 29 Oct 2018 910 350 Some projects really promising tied traditional Korean Conglomerates years experience goodwill nurturing technology. Once projects fulfilled best, South Korea e advanced blockchain crypto nation. Some projects Joseph put forw...</td>\n",
       "    </tr>\n",
       "    <tr>\n",
       "      <th>39</th>\n",
       "      <td>0.0</td>\n",
       "      <td>photo Flag Abuse Flagging post send Goodreads Customer Care team review. We take abuse seriously discussion boards. Only flaments clearly need attention. As general rule censor content site. The content consider removing spam, slanderous attacks members, e...</td>\n",
       "    </tr>\n",
       "    <tr>\n",
       "      <th>40</th>\n",
       "      <td>0.0</td>\n",
       "      <td>Bitstamp Is Looking Towards Global Expansion After Being Acquired South Korean Investors Bitstamp acquired Brussels-based investment firm. Bitstamp bought South Korean investors  heres might affect thpanys future 1454 Total views 199 Total shares Follow On...</td>\n",
       "    </tr>\n",
       "    <tr>\n",
       "      <th>41</th>\n",
       "      <td>1.0</td>\n",
       "      <td>Steven Gleiser | Oct 30, 2018 | Bitcoin News , News Nothing spells Bitcoin like custodians holding BTC reserves back circulation token represents Bitcoin prices Ethereum network. Kyber Network turning supposed P2P form electronic cash derivative blockchain...</td>\n",
       "    </tr>\n",
       "    <tr>\n",
       "      <th>42</th>\n",
       "      <td>1.0</td>\n",
       "      <td>2018 30.10.2018  WISeKey International Holding Ltd WISeKey joins The Blockchain Research Institute's special category membepanies dedicated pushing BlockChain technology forward new 'Universal Decentralized Identification' (UID) sy... WISeKey joins The Blo...</td>\n",
       "    </tr>\n",
       "    <tr>\n",
       "      <th>43</th>\n",
       "      <td>1.0</td>\n",
       "      <td>Created Sketch. 1/8 Satoshi Nakamoto creates first bitcoin block 2009 On 3 January, 2009, genesis block bitcoin appeared. It came less year pseudonymous creator Satoshi Nakamoto detailed cryptocurrency paper titled Bitcoin: A peer-to-Peer Electronic Cash S...</td>\n",
       "    </tr>\n",
       "    <tr>\n",
       "      <th>44</th>\n",
       "      <td>0.0</td>\n",
       "      <td>HeyStartup An American man fessed front federal court judges, pleading guilty operating unlicensed money transmitting business. A Department Justics (DoJ) published press release yesterday details Jacob Burrell Campos selling hundres thousands dollars Bitc...</td>\n",
       "    </tr>\n",
       "    <tr>\n",
       "      <th>45</th>\n",
       "      <td>-1.0</td>\n",
       "      <td>Former Fed Chair Janet Yellen Is 'Not A Fan' Bitcoin NEWS Oct 30, 2018 17:35 UTC | Updated Oct 30, 2018 20:39 UTC Former U.S. Federal Reserve chair Janet Yellen \"not fan\" bitcoin. Speaking Canada Fintech Forum Monday, Yellen, served chairman Board Governor...</td>\n",
       "    </tr>\n",
       "    <tr>\n",
       "      <th>46</th>\n",
       "      <td>0.0</td>\n",
       "      <td>Tweet Loopring (CURRENCY:LRC) traded 3.3% higher US dollar twenty-four hour period ending 22:00 PM ET October 30th. One Loopring token purchased $0.11 0.00001722 BTC major exchanges including Upbit, Bithumb, Tokenomy OKEx. Loopring total market capitalizat...</td>\n",
       "    </tr>\n",
       "    <tr>\n",
       "      <th>47</th>\n",
       "      <td>0.0</td>\n",
       "      <td>What's Tesla value Bitcoin?</td>\n",
       "    </tr>\n",
       "    <tr>\n",
       "      <th>48</th>\n",
       "      <td>1.0</td>\n",
       "      <td>How could say free money? Money What Initiative Q thing? Frank Chung 0 MISSED bitcoin boom? Don't worry, there's \"Q\". If Facebook, may seen friends acquaintances posting viral spam message promoting get-rich-quick scheme called Initiative Q, \"built ex-PayP...</td>\n",
       "    </tr>\n",
       "    <tr>\n",
       "      <th>49</th>\n",
       "      <td>0.0</td>\n",
       "      <td>Tweet Nebula AI (CURRENCY:NBAI) traded 2.6% U.S. dollar one day period ending 8:00 AM E.T. October 30th. One Nebula AI token bought $0.0019 0. 30 BTC popular cryptocurrency exchanges including CoinBene, IDEX, Gate.io DDEX. Over last seven days, Nebula AI t...</td>\n",
       "    </tr>\n",
       "  </tbody>\n",
       "</table>\n",
       "</div>"
      ],
      "text/plain": [
       "    Label (-2 to 2)  \\\n",
       "0               0.0   \n",
       "1               0.0   \n",
       "2               0.0   \n",
       "3               1.0   \n",
       "4               1.0   \n",
       "5               0.0   \n",
       "6               0.0   \n",
       "7              -1.0   \n",
       "8               0.0   \n",
       "9              -1.0   \n",
       "10              0.0   \n",
       "11              0.0   \n",
       "12              0.0   \n",
       "13              0.0   \n",
       "14              1.0   \n",
       "15              1.0   \n",
       "16             -1.0   \n",
       "17              0.0   \n",
       "18              0.0   \n",
       "19              0.0   \n",
       "20              1.0   \n",
       "21              1.0   \n",
       "22              0.0   \n",
       "23             -1.0   \n",
       "24             -2.0   \n",
       "25              1.0   \n",
       "26              1.0   \n",
       "27              0.0   \n",
       "28             -1.0   \n",
       "29              0.0   \n",
       "30              0.0   \n",
       "31             -2.0   \n",
       "32              1.0   \n",
       "33              0.0   \n",
       "34              0.0   \n",
       "35              0.0   \n",
       "36              1.0   \n",
       "37             -1.0   \n",
       "38              1.0   \n",
       "39              0.0   \n",
       "40              0.0   \n",
       "41              1.0   \n",
       "42              1.0   \n",
       "43              1.0   \n",
       "44              0.0   \n",
       "45             -1.0   \n",
       "46              0.0   \n",
       "47              0.0   \n",
       "48              1.0   \n",
       "49              0.0   \n",
       "\n",
       "                                                                                                                                                                                                                                                             preprocess  \n",
       "0   Seven years. Thats much jail time get smoking marijuana Hong Kong. But doesnt mean cant invest it. Thats message executives worlds hottest cannabis firms, gathering tomorrow citys five-star W Hotel forum investment opportunities markets legal. To safe, org...  \n",
       "1   Distributed Dialogues: Political Censorship China 2018-10-30 07:31 pm News 21 0 On latest episode Season 2 Distributed Dialogues , hosts took deep dive state political repression Peoples Republic China. Interviewing experts dissidents Oslo Freedom Festival...  \n",
       "2   Tweet Sojourn (CURRENCY:SOJ) traded flat dollar twenty-four hour period ending 17:00 PM Eastern October 30th. Sojourn total market cap $113,909.00 $0.00 worth Sojourn traded exchanges last 24 hours. In last seven days, Sojourn traded flat dollar. One Sojou...  \n",
       "3   Happy Anniversary Bitcoin! It Halloween 2008 Satoshi Nakamoto, may pseudonym one programmers, published paper titled Bitcoin: A Peer-to-Peer Electronic Cash System. Did he, know unleashed? Ten years later, digital currency developed still unknown creator v...  \n",
       "4   Coinbase valued $8 billion latest fundraising round Tuesday, October 30, 2018 9:36 a.m. EDT (Reuters) - Coinbase, one top U.S. cryptocurrency exchanges, said Tuesday raised another $300 million funding round led Tiger Global Management, valuing firm $8 bil...  \n",
       "5   October 30, 2018 22:33 CET Swamp Drained? 64% US Voters Fear Politicians Will Misuse Crypto Donations Mistrust politicians nothing new, perception bitcoin crypto tokens unregulated heightened suspicions eligible US voters. According survey conducted blockc...  \n",
       "6   October 30, 2018 21:30 CET Oyster Protocol Founder Exit Scams, Steals $300,000 ICO Smart Contract Advertisement Twitter Facebook Oyster Protocol hybrid IOTA/Ethereum smart contract platform designed help websites garner revenue. Instead traditional adverti...  \n",
       "7   Happy Anniversary Bitcoin! It Halloween 2008 Satoshi Nakamoto, may pseudonym one programmers, published paper titled Bitcoin: A Peer-to-Peer Electronic Cash System. Did he, know unleashed? Ten years later, digital currency developed still unknown creator v...  \n",
       "8   Russias Financial Watchdog Oversee Cryptocurrency Industry Economy & Regulation Russias Federal Financial Monitoring Service revealed regulate cryptocurrency-related transactions country, senior official saying agency also oversee broader cryptocurrency in...  \n",
       "9                                                                                                          It's looks like huge correction way Bitcoin , worst yet te coin like Ethereum, litecoin , XRP Ethereum Classic . We middle crypto correction , long way go .  \n",
       "10  Taking Identity Selfie  Self-Sovereign Identity Blockchain Posted General Security October 30, 2018 Share What's this? Practice certification success Skillset library 100,000 practice test questions . We analyze responses determine ready sit test. In early...  \n",
       "11  Tweet SiaCashCoin (CURRENCY:SCC) traded 0.1% higher U.S. dollar 24 hour period ending 18:00 PM Eastern October 30th. Over last week, SiaCashCoin traded 22.2% lower U.S. dollar. SiaCashCoin total market capitalization $2.06 million $123,147.00 worth SiaCash...  \n",
       "12  Ethereum Price Analysis: ETH/USD Sellers In Control Below $200 Aayush Jindal | October 30, 2018 | 7:30 Ethereum Price Analysis: ETH/USD Sellers In Control Below $200 Aayush Jindal | October 30, 2018 | 7:30 Key Highlights ETH price declined sharply broke im...  \n",
       "13  Key Highlights Ethereum classic price declined broke $9.40 support US dollar. There major bearish trend line place resistance $9.35 hourly chart ETC/USD pair (Data feed via Kraken). The pair may correct higher short term, sellers remain control near $9.30 ...  \n",
       "14  LinkedIn Cancel In special bitcoin-heavy edition Daily Byte: stable bitcoin, Yellen's buying, bitcoin exchange gone wrong, Feds bitcoin business. Plus, private transactions main Ethereum blockchain. It's 10th anniversary Bitcoin white paper. Here's what's ...  \n",
       "15  A Closer Look Mining Hub Kenya Bithub Africa By 0 61 We got rare opportunity insider look mining operations Bithub Africa takes set manage mini-mining operation blockchain platform. John Karanja, founder CEO Bithub Africa , took us mining operations thpany...  \n",
       "16  global warming Bitcoin push global warming 2 degrees celsius 2033: Study Purchasing Bitcoins several cryptocurrencies, forms currency exist digitally encryption, requires large amounts electricity, according study PTI | October 30, 2018, 14:10 IST Newslett...  \n",
       "17                                                                                                                                            ex bitcoin collector myself, game since 2011. I assure wallets dormant purpose, people either deceased, idea access them!  \n",
       "18  Late Elizabeth Ochanya John Charles Makurdi Thousands people umbrella Concerned Benue Citizens collaboration students auspices National Association Nigeria Students, Tuesday, staged peaceful protest honour 13-year-old minor, late Elizabeth Ochanya Ogbanje,...  \n",
       "19  Tweet SproutsExtreme (CURRENCY:SPEX) traded flat US dollar 1-day period ending 23:00 PM Eastern October 30th. One SproutsExtreme coin currently purchased $0.0001 0. 1 BTC popular cryptocurrency exchanges. SproutsExtreme total market capitalization $267,783...  \n",
       "20  VanEck issued reply U.S. Securities Exchange Commission Bitcoin exchange traded funds (ETF) letter revealed regulators official website. The lettees public release/evidence regarding oe Oct. 9 meeting held behind closed doors, away public eye. The meeting ...  \n",
       "21                 This statement invalid, \"putting everything technology sector buying bitcoinwhich isntpursuing strategies would extraordinarily foolish\".... This investment one \"once lifetime opportunities\" rescue retirement. Crypto currency forgone certainty!  \n",
       "22  President Muhammadu Buhari JOHN ALECHENU LEKE BAYIEWU President Muhammadu Buhari warned Nigerian elites stop misleading people unguarded utterances. Buhari, visitor University Uyo, according News Agency Nigeria , gave warning 24th convocation ceremony inst...  \n",
       "23  EOS Price Watch: Sharp Triangle Breakout Sarah Jenn | October 30, 2018 | 3:33 EOS Price Watch: Sharp Triangle Breakout Sarah Jenn | October 30, 2018 | 3:33 EOS Price Key Highlights EOS made strong downside break symmetrical triangle consolidation pattern s...  \n",
       "24  Bitcoin bulls could bad news. Long-term technical indicators suggest battered digital currency poised continue slump. A technical analysis DVAN long-term trend lines shows Bitcoin resuming recent downward trend. Its baseline indicator, hovering algorithm l...  \n",
       "25  Investing 10% Assets Bitcoin Ethereum, Even Hedge Fund Big Shots Expectant Cryptocurrency ZUU Online SG 7 hrs ago ZUU  Shutterstock The former manager major US hedge fund, Fortress Investment Group, Michael Novogratz, revealed invested 10% net assets Bitco...  \n",
       "26  No Comments / 3174 views Cryptocurrency & Bitcoin News smartphone app SV Software LLC. This app made crypto-enthusiast mind, app boasts features one would expect top performing cryptocurrency news app. With Cryptocurrency & Bitcoin News, users able keep to...  \n",
       "27  Tweet Neurotoken (CURRENCY:NTK) traded 10.8% lower dollar 24 hour period ending 13:00 PM ET October 30th. Over last seven days, Neurotoken traded 33.2% lower dollar. Neurotoken total market capitalization $3.62 million $207,698.00 worth Neurotoken traded e...  \n",
       "28  Bitcoin push global warming 2 degrees Celsius 2033, says study By: PTI | Published: October 30, 2018 3:04 PM Implementing Bitcoin similar rates technologies incorporated could alone produce enough emissions raise global temperatures two degrees Celsius soo...  \n",
       "29  View All Result JPMorgan Is Using Ethereum-Based Blockchain Tokenize Gold Bars JPMorgan developed enterprise type Quorum-based Ethereum DLT thus enabling smart contracts operation. Crypto news ADVERTISEMENT JPMorgan Chase created platform based blockchain ...  \n",
       "30  Tweet Darcrus (CURRENCY:DAR) traded 0.5% US dollar 24-hour period ending 18:00 PM Eastern October 30th. One Darcrus token currently purchased $0.0618 0. 978 BTC popular exchanges. Darcrus total market cap $840,605.00 $0.00 worth Darcrus traded exchanges la...  \n",
       "31  Ever ask bitcoin Gold color. The subliminal message, so, supposed relationship Gold acceptance Gold achieved legitimate currency. Don't fooled, bitcoin's smoke mirrors, cheap magic trick intended make select wealthy everyone else's expense. Where bitcoin c...  \n",
       "32  Getty Images Bitcoin investors hodling As stock market gyrates wildly, bitcoin remains surprisingly sedateand one reason may biggest holders proving buy-and-hold investors. Nearly 10% bitcoin wallets, including one ranks seventh among largest wallets, hasn...  \n",
       "33  Tweet RSGPcoin (CURRENCY:RSGP) traded 0.3% dollar 1-day period ending 9:00 AM E.T. October 30th. During last week, RSGPcoin traded 31.6% lower dollar. RSGPcoin total market cap $11,687.00 $0.00 worth RSGPcoin traded exchanges last 24 hours. One RSGPcoin co...  \n",
       "34  Slight Slump Markets Continues, Ethereum Trades Below $200 Following period prolonged stability, crypto markets see second day slight slump. A slight slump crypto markets continues period relative stability, Ethereum trading $200 Bitcoin $6,300 5416 Total ...  \n",
       "35  NEW YORK , October 30, 2018 /PRNewswire/ -- The price bitcoin held steady recent weeks despite global stock market sell-off. According data Coinmarketcap, price bitcoin, largest cryptocurrency market capitalization, trading around USD 6,318.98 Monday's tra...  \n",
       "36  How could say free money? Money What Initiative Q thing? Frank Chung 0 MISSED bitcoin boom? Don't worry, there's \"Q\". If Facebook, may seen friends acquaintances posting viral spam message promoting get-rich-quick scheme called Initiative Q, \"built ex-PayP...  \n",
       "37  Shopzoro Double BTC Scam Review OFFICIAL SITE: www.shopzoro.us If interest investing Bitcoin altcoins big profits, might tempted Shopzoro Double BTC app. The Shopzoro Double BTC system claims high powered Bitcoin cryptocurrency investment app. It also clai...  \n",
       "38  11:00 AM - 29 Oct 2018 910 350 Some projects really promising tied traditional Korean Conglomerates years experience goodwill nurturing technology. Once projects fulfilled best, South Korea e advanced blockchain crypto nation. Some projects Joseph put forw...  \n",
       "39  photo Flag Abuse Flagging post send Goodreads Customer Care team review. We take abuse seriously discussion boards. Only flaments clearly need attention. As general rule censor content site. The content consider removing spam, slanderous attacks members, e...  \n",
       "40  Bitstamp Is Looking Towards Global Expansion After Being Acquired South Korean Investors Bitstamp acquired Brussels-based investment firm. Bitstamp bought South Korean investors  heres might affect thpanys future 1454 Total views 199 Total shares Follow On...  \n",
       "41  Steven Gleiser | Oct 30, 2018 | Bitcoin News , News Nothing spells Bitcoin like custodians holding BTC reserves back circulation token represents Bitcoin prices Ethereum network. Kyber Network turning supposed P2P form electronic cash derivative blockchain...  \n",
       "42  2018 30.10.2018  WISeKey International Holding Ltd WISeKey joins The Blockchain Research Institute's special category membepanies dedicated pushing BlockChain technology forward new 'Universal Decentralized Identification' (UID) sy... WISeKey joins The Blo...  \n",
       "43  Created Sketch. 1/8 Satoshi Nakamoto creates first bitcoin block 2009 On 3 January, 2009, genesis block bitcoin appeared. It came less year pseudonymous creator Satoshi Nakamoto detailed cryptocurrency paper titled Bitcoin: A peer-to-Peer Electronic Cash S...  \n",
       "44  HeyStartup An American man fessed front federal court judges, pleading guilty operating unlicensed money transmitting business. A Department Justics (DoJ) published press release yesterday details Jacob Burrell Campos selling hundres thousands dollars Bitc...  \n",
       "45  Former Fed Chair Janet Yellen Is 'Not A Fan' Bitcoin NEWS Oct 30, 2018 17:35 UTC | Updated Oct 30, 2018 20:39 UTC Former U.S. Federal Reserve chair Janet Yellen \"not fan\" bitcoin. Speaking Canada Fintech Forum Monday, Yellen, served chairman Board Governor...  \n",
       "46  Tweet Loopring (CURRENCY:LRC) traded 3.3% higher US dollar twenty-four hour period ending 22:00 PM ET October 30th. One Loopring token purchased $0.11 0.00001722 BTC major exchanges including Upbit, Bithumb, Tokenomy OKEx. Loopring total market capitalizat...  \n",
       "47                                                                                                                                                                                                                                          What's Tesla value Bitcoin?  \n",
       "48  How could say free money? Money What Initiative Q thing? Frank Chung 0 MISSED bitcoin boom? Don't worry, there's \"Q\". If Facebook, may seen friends acquaintances posting viral spam message promoting get-rich-quick scheme called Initiative Q, \"built ex-PayP...  \n",
       "49  Tweet Nebula AI (CURRENCY:NBAI) traded 2.6% U.S. dollar one day period ending 8:00 AM E.T. October 30th. One Nebula AI token bought $0.0019 0. 30 BTC popular cryptocurrency exchanges including CoinBene, IDEX, Gate.io DDEX. Over last seven days, Nebula AI t...  "
      ]
     },
     "execution_count": 6,
     "metadata": {},
     "output_type": "execute_result"
    }
   ],
   "source": [
    "data = data[['Label (-2 to 2)', 'preprocess']]\n",
    "data.head(50)"
   ]
  },
  {
   "cell_type": "code",
   "execution_count": 7,
   "metadata": {},
   "outputs": [],
   "source": [
    "# getting only labelled data\n",
    "data = data.head(750)"
   ]
  },
  {
   "cell_type": "markdown",
   "metadata": {},
   "source": [
    "### Data exploration"
   ]
  },
  {
   "cell_type": "code",
   "execution_count": 8,
   "metadata": {},
   "outputs": [
    {
     "data": {
      "text/plain": [
       "<matplotlib.axes._subplots.AxesSubplot at 0x24c00011c50>"
      ]
     },
     "execution_count": 8,
     "metadata": {},
     "output_type": "execute_result"
    },
    {
     "data": {
      "image/png": "[encoded data removed]",
      "text/plain": [
       "<Figure size 432x288 with 1 Axes>"
      ]
     },
     "metadata": {
      "needs_background": "light"
     },
     "output_type": "display_data"
    }
   ],
   "source": [
    "data['Label (-2 to 2)'].value_counts().sort_index().plot.bar()"
   ]
  },
  {
   "cell_type": "code",
   "execution_count": 9,
   "metadata": {},
   "outputs": [
    {
     "data": {
      "text/plain": [
       "<matplotlib.axes._subplots.AxesSubplot at 0x24c030988d0>"
      ]
     },
     "execution_count": 9,
     "metadata": {},
     "output_type": "execute_result"
    },
    {
     "data": {
      "image/png": "[encoded data removed]",
      "text/plain": [
       "<Figure size 432x288 with 1 Axes>"
      ]
     },
     "metadata": {
      "needs_background": "light"
     },
     "output_type": "display_data"
    }
   ],
   "source": [
    "data['preprocess'].str.len().plot.hist()"
   ]
  },
  {
   "cell_type": "code",
   "execution_count": 10,
   "metadata": {},
   "outputs": [
    {
     "data": {
      "text/plain": [
       "(750, 2)"
      ]
     },
     "execution_count": 10,
     "metadata": {},
     "output_type": "execute_result"
    }
   ],
   "source": [
    "data.shape"
   ]
  },
  {
   "cell_type": "markdown",
   "metadata": {},
   "source": [
    "### Preprocessing"
   ]
  },
  {
   "cell_type": "code",
   "execution_count": 11,
   "metadata": {},
   "outputs": [
    {
     "data": {
      "text/plain": [
       "Label (-2 to 2)    7\n",
       "preprocess         0\n",
       "dtype: int64"
      ]
     },
     "execution_count": 11,
     "metadata": {},
     "output_type": "execute_result"
    }
   ],
   "source": [
    "data.isnull().sum()"
   ]
  },
  {
   "cell_type": "code",
   "execution_count": 12,
   "metadata": {},
   "outputs": [
    {
     "data": {
      "text/plain": [
       "Label (-2 to 2)    0\n",
       "preprocess         0\n",
       "dtype: int64"
      ]
     },
     "execution_count": 12,
     "metadata": {},
     "output_type": "execute_result"
    }
   ],
   "source": [
    "data.dropna(subset=['Label (-2 to 2)'], inplace=True)\n",
    "data.isnull().sum()"
   ]
  },
  {
   "cell_type": "markdown",
   "metadata": {},
   "source": [
    "data['text'] = data['text'].str.replace('@VirginAmerica', '')\n",
    "data.head()"
   ]
  },
  {
   "cell_type": "code",
   "execution_count": 13,
   "metadata": {},
   "outputs": [
    {
     "data": {
      "text/plain": [
       "0    Seven years Thats much jail time get smoking marijuana Hong Kong But doesnt mean cant invest it Thats message executives worlds hottest cannabis firms gathering tomorrow citys fivestar W Hotel forum investment opportunities markets legal To safe organizer ...\n",
       "1    Distributed Dialogues Political Censorship China 20181030 0731 pm News 21 0 On latest episode Season 2 Distributed Dialogues  hosts took deep dive state political repression Peoples Republic China Interviewing experts dissidents Oslo Freedom Festival thoro...\n",
       "2    Tweet Sojourn CURRENCYSOJ traded flat dollar twentyfour hour period ending 1700 PM Eastern October 30th Sojourn total market cap 11390900 000 worth Sojourn traded exchanges last 24 hours In last seven days Sojourn traded flat dollar One Sojourn coin curren...\n",
       "3    Happy Anniversary Bitcoin It Halloween 2008 Satoshi Nakamoto may pseudonym one programmers published paper titled Bitcoin A PeertoPeer Electronic Cash System Did he know unleashed Ten years later digital currency developed still unknown creator valued 6250...\n",
       "4    Coinbase valued 8 billion latest fundraising round Tuesday October 30 2018 936 am EDT Reuters  Coinbase one top US cryptocurrency exchanges said Tuesday raised another 300 million funding round led Tiger Global Management valuing firm 8 billion San Francis...\n",
       "Name: preprocess, dtype: object"
      ]
     },
     "execution_count": 13,
     "metadata": {},
     "output_type": "execute_result"
    }
   ],
   "source": [
    "data['preprocess'].apply(lambda x: x.lower()) #transform text to lowercase\n",
    "data['preprocess'] = data['preprocess'].apply(lambda x: re.sub('[^a-zA-z0-9\\s]', '', x))\n",
    "data['preprocess'].head()"
   ]
  },
  {
   "cell_type": "markdown",
   "metadata": {},
   "source": [
    "Tokenizer from keras - \n",
    "maximum no. of rows = 5000\n",
    "pad sequence = sentences of same length\n"
   ]
  },
  {
   "cell_type": "code",
   "execution_count": 14,
   "metadata": {},
   "outputs": [
    {
     "data": {
      "text/plain": [
       "array([[   0,    0,    0, ..., 2997, 1671,   36],\n",
       "       [   0,    0,    0, ...,  545, 2479,  391],\n",
       "       [   0,    0,    0, ...,   48,   11,   84],\n",
       "       [   0,    0,    0, ...,  808,  461,  156],\n",
       "       [   0,    0,    0, ...,  272,  517,   91]])"
      ]
     },
     "execution_count": 14,
     "metadata": {},
     "output_type": "execute_result"
    }
   ],
   "source": [
    "tokenizer = Tokenizer(num_words=5000, split=\" \")\n",
    "tokenizer.fit_on_texts(data['preprocess'].values)\n",
    "\n",
    "X = tokenizer.texts_to_sequences(data['preprocess'].values)\n",
    "X = pad_sequences(X) # padding our text vector so they all have the same length\n",
    "X[:5]"
   ]
  },
  {
   "cell_type": "code",
   "execution_count": 15,
   "metadata": {},
   "outputs": [
    {
     "name": "stdout",
     "output_type": "stream",
     "text": [
      "1814\n"
     ]
    }
   ],
   "source": [
    "print(X.shape[1])"
   ]
  },
  {
   "cell_type": "markdown",
   "metadata": {},
   "source": [
    "### Creating model"
   ]
  },
  {
   "cell_type": "markdown",
   "metadata": {},
   "source": [
    "squential model is simplest \n",
    "model.add adds new layers to network\n",
    "Dropout is used for regularization(decreasing overfitting)\n",
    "256 - no. of units in each layer\n",
    "Dense connection - every neuron of 1 layer connected to every other neuron of next layer"
   ]
  },
  {
   "cell_type": "code",
   "execution_count": 16,
   "metadata": {},
   "outputs": [],
   "source": [
    "model = Sequential()\n",
    "model.add(Embedding(5000, 256, input_length=X.shape[1]))\n",
    "model.add(Dropout(0.3))\n",
    "model.add(LSTM(256, return_sequences=True, dropout=0.3, recurrent_dropout=0.2))\n",
    "model.add(LSTM(256, dropout=0.3, recurrent_dropout=0.2))\n",
    "model.add(Dense(5, activation='softmax'))"
   ]
  },
  {
   "cell_type": "markdown",
   "metadata": {},
   "source": [
    "compiling - takes sets 2 things \n",
    "For adam it is 0.001, reach up to 85% accuracy in 5 epochs\n",
    "1. optimizer - learning rate\n",
    "2. loss function - log function"
   ]
  },
  {
   "cell_type": "code",
   "execution_count": 17,
   "metadata": {},
   "outputs": [
    {
     "name": "stdout",
     "output_type": "stream",
     "text": [
      "_________________________________________________________________\n",
      "Layer (type)                 Output Shape              Param #   \n",
      "=================================================================\n",
      "embedding_1 (Embedding)      (None, 1814, 256)         1280000   \n",
      "_________________________________________________________________\n",
      "dropout_1 (Dropout)          (None, 1814, 256)         0         \n",
      "_________________________________________________________________\n",
      "lstm_1 (LSTM)                (None, 1814, 256)         525312    \n",
      "_________________________________________________________________\n",
      "lstm_2 (LSTM)                (None, 256)               525312    \n",
      "_________________________________________________________________\n",
      "dense_1 (Dense)              (None, 5)                 1285      \n",
      "=================================================================\n",
      "Total params: 2,331,909\n",
      "Trainable params: 2,331,909\n",
      "Non-trainable params: 0\n",
      "_________________________________________________________________\n"
     ]
    }
   ],
   "source": [
    "model.compile(loss='categorical_crossentropy', optimizer='adam', metrics=['accuracy'])\n",
    "model.summary()"
   ]
  },
  {
   "cell_type": "markdown",
   "metadata": {},
   "source": []
  },
  {
   "cell_type": "code",
   "execution_count": 21,
   "metadata": {},
   "outputs": [
    {
     "name": "stdout",
     "output_type": "stream",
     "text": [
      "[[0 0 1 0 0]\n",
      " [0 0 1 0 0]\n",
      " [0 0 1 0 0]\n",
      " ...\n",
      " [0 0 0 1 0]\n",
      " [0 0 1 0 0]\n",
      " [0 0 1 0 0]]\n",
      "0.0 [0 0 1 0 0]\n",
      "0.0 [0 0 1 0 0]\n",
      "0.0 [0 0 1 0 0]\n",
      "1.0 [0 0 0 1 0]\n",
      "1.0 [0 0 0 1 0]\n",
      "0.0 [0 0 1 0 0]\n",
      "0.0 [0 0 1 0 0]\n",
      "-1.0 [0 1 0 0 0]\n",
      "0.0 [0 0 1 0 0]\n",
      "-1.0 [0 1 0 0 0]\n",
      "0.0 [0 0 1 0 0]\n",
      "0.0 [0 0 1 0 0]\n",
      "0.0 [0 0 1 0 0]\n",
      "0.0 [0 0 1 0 0]\n",
      "1.0 [0 0 0 1 0]\n",
      "1.0 [0 0 0 1 0]\n",
      "-1.0 [0 1 0 0 0]\n",
      "0.0 [0 0 1 0 0]\n",
      "0.0 [0 0 1 0 0]\n",
      "0.0 [0 0 1 0 0]\n",
      "1.0 [0 0 0 1 0]\n",
      "1.0 [0 0 0 1 0]\n",
      "0.0 [0 0 1 0 0]\n",
      "-1.0 [0 1 0 0 0]\n",
      "-2.0 [1 0 0 0 0]\n",
      "1.0 [0 0 0 1 0]\n",
      "1.0 [0 0 0 1 0]\n",
      "0.0 [0 0 1 0 0]\n",
      "-1.0 [0 1 0 0 0]\n",
      "0.0 [0 0 1 0 0]\n",
      "0.0 [0 0 1 0 0]\n",
      "-2.0 [1 0 0 0 0]\n",
      "1.0 [0 0 0 1 0]\n",
      "0.0 [0 0 1 0 0]\n",
      "0.0 [0 0 1 0 0]\n",
      "0.0 [0 0 1 0 0]\n",
      "1.0 [0 0 0 1 0]\n",
      "-1.0 [0 1 0 0 0]\n",
      "1.0 [0 0 0 1 0]\n",
      "0.0 [0 0 1 0 0]\n",
      "0.0 [0 0 1 0 0]\n",
      "1.0 [0 0 0 1 0]\n",
      "1.0 [0 0 0 1 0]\n",
      "1.0 [0 0 0 1 0]\n",
      "0.0 [0 0 1 0 0]\n",
      "-1.0 [0 1 0 0 0]\n",
      "0.0 [0 0 1 0 0]\n",
      "0.0 [0 0 1 0 0]\n",
      "1.0 [0 0 0 1 0]\n",
      "0.0 [0 0 1 0 0]\n"
     ]
    },
    {
     "data": {
      "text/plain": [
       "[None,\n",
       " None,\n",
       " None,\n",
       " None,\n",
       " None,\n",
       " None,\n",
       " None,\n",
       " None,\n",
       " None,\n",
       " None,\n",
       " None,\n",
       " None,\n",
       " None,\n",
       " None,\n",
       " None,\n",
       " None,\n",
       " None,\n",
       " None,\n",
       " None,\n",
       " None,\n",
       " None,\n",
       " None,\n",
       " None,\n",
       " None,\n",
       " None,\n",
       " None,\n",
       " None,\n",
       " None,\n",
       " None,\n",
       " None,\n",
       " None,\n",
       " None,\n",
       " None,\n",
       " None,\n",
       " None,\n",
       " None,\n",
       " None,\n",
       " None,\n",
       " None,\n",
       " None,\n",
       " None,\n",
       " None,\n",
       " None,\n",
       " None,\n",
       " None,\n",
       " None,\n",
       " None,\n",
       " None,\n",
       " None,\n",
       " None]"
      ]
     },
     "execution_count": 21,
     "metadata": {},
     "output_type": "execute_result"
    }
   ],
   "source": [
    "y = pd.get_dummies(data['Label (-2 to 2)']).values\n",
    "print(y)\n",
    "# print(data['Label (-2 to 2)'])\n",
    "[print(data['Label (-2 to 2)'][i], y[i]) for i in range(0,50)]"
   ]
  },
  {
   "cell_type": "markdown",
   "metadata": {},
   "source": [
    "training - 70%\n",
    "testing - 30%"
   ]
  },
  {
   "cell_type": "code",
   "execution_count": 22,
   "metadata": {},
   "outputs": [],
   "source": [
    "X_train, X_test, y_train, y_test = train_test_split(X, y, test_size=0.3, random_state=0)"
   ]
  },
  {
   "cell_type": "code",
   "execution_count": 23,
   "metadata": {},
   "outputs": [
    {
     "name": "stdout",
     "output_type": "stream",
     "text": [
      "(743, 1814)\n",
      "(743, 5)\n"
     ]
    }
   ],
   "source": [
    "print(X.shape)\n",
    "print(y.shape)"
   ]
  },
  {
   "cell_type": "code",
   "execution_count": 40,
   "metadata": {},
   "outputs": [
    {
     "name": "stdout",
     "output_type": "stream",
     "text": [
      "(223, 1814)\n"
     ]
    }
   ],
   "source": [
    "print(X_test.shape)"
   ]
  },
  {
   "cell_type": "markdown",
   "metadata": {},
   "source": [
    "### Training model"
   ]
  },
  {
   "cell_type": "markdown",
   "metadata": {},
   "source": [
    "Can include\n",
    "#set early stopping monitor so the model stops training when it won't improve anymore\n",
    "early_stopping_monitor = EarlyStopping(patience=3)"
   ]
  },
  {
   "cell_type": "code",
   "execution_count": 24,
   "metadata": {},
   "outputs": [
    {
     "name": "stdout",
     "output_type": "stream",
     "text": [
      "Epoch 1/6\n",
      " - 6145s - loss: 1.0870 - acc: 0.7019\n",
      "Epoch 2/6\n",
      " - 2368s - loss: 0.6920 - acc: 0.7269\n",
      "Epoch 3/6\n",
      " - 2400s - loss: 0.5452 - acc: 0.7731\n",
      "Epoch 4/6\n",
      " - 3990s - loss: 0.4831 - acc: 0.8231\n",
      "Epoch 5/6\n",
      " - 3266s - loss: 0.4528 - acc: 0.8192\n",
      "Epoch 6/6\n",
      " - 3306s - loss: 0.3934 - acc: 0.8404\n"
     ]
    },
    {
     "data": {
      "text/plain": [
       "<keras.callbacks.History at 0x24c032d6be0>"
      ]
     },
     "execution_count": 24,
     "metadata": {},
     "output_type": "execute_result"
    }
   ],
   "source": [
    "batch_size = 32\n",
    "epochs = 6\n",
    "\n",
    "model.fit(X_train, y_train, epochs=epochs, batch_size=batch_size, verbose=2)"
   ]
  },
  {
   "cell_type": "markdown",
   "metadata": {},
   "source": [
    "Saving modelling using Pickle"
   ]
  },
  {
   "cell_type": "code",
   "execution_count": 33,
   "metadata": {},
   "outputs": [],
   "source": [
    "with open('model_news_feeds', 'wb') as f: \n",
    "    pickle.dump(model, f)"
   ]
  },
  {
   "cell_type": "code",
   "execution_count": 34,
   "metadata": {},
   "outputs": [],
   "source": [
    "with open('model_news_feeds', 'rb') as f:\n",
    "    mp = pickle.load(f)"
   ]
  },
  {
   "cell_type": "markdown",
   "metadata": {},
   "source": [
    "### Testing model"
   ]
  },
  {
   "cell_type": "code",
   "execution_count": 35,
   "metadata": {},
   "outputs": [],
   "source": [
    "predictions = mp.predict(X_test)\n",
    "\n",
    "\n",
    "# [print(data['step1'][i], predictions[i], y_test[i]) for i in range(0, 5)]"
   ]
  },
  {
   "cell_type": "code",
   "execution_count": 36,
   "metadata": {},
   "outputs": [
    {
     "name": "stdout",
     "output_type": "stream",
     "text": [
      "Very_Positive predictions: 0\n",
      "Positive predictions: 29\n",
      "Neutral predictions: 180\n",
      "Negative predictions: 14\n",
      "Very_Negative predictions: 0\n",
      "\n",
      "Real very_positive: 7\n",
      "Real positive: 25\n",
      "Real neutral: 163\n",
      "Real negative: 24\n",
      "Real very_negative: 4\n"
     ]
    }
   ],
   "source": [
    "vpos_count, pos_count, neu_count, neg_count, vneg_count = 0, 0, 0, 0, 0 \n",
    "real_vpos, real_pos, real_neu, real_neg, real_vneg = 0, 0, 0, 0, 0\n",
    "for i, prediction in enumerate(predictions):\n",
    "    \n",
    "    if np.argmax(prediction) == 0:\n",
    "        vpos_count += 1\n",
    "    elif np.argmax(prediction) == 1:\n",
    "        pos_count += 1\n",
    "    elif np.argmax(prediction) == 2:\n",
    "        neu_count += 1\n",
    "    elif np.argmax(prediction) == 3:\n",
    "        neg_count += 1\n",
    "    else:\n",
    "        vneg_count += 1\n",
    "        \n",
    "        \n",
    "    \n",
    "    if np.argmax(y_test[i]) == 0:\n",
    "        real_vpos += 1\n",
    "    elif np.argmax(y_test[i]) == 1:    \n",
    "        real_pos += 1\n",
    "    elif np.argmax(y_test[i]) == 2:    \n",
    "        real_neu += 1\n",
    "    elif np.argmax(y_test[i]) == 3:    \n",
    "        real_neg += 1\n",
    "    else:\n",
    "        real_vneg +=1\n",
    "\n",
    "print('Very_Positive predictions:', vpos_count)\n",
    "print('Positive predictions:', pos_count)\n",
    "print('Neutral predictions:', neu_count)\n",
    "print('Negative predictions:', neg_count)\n",
    "print('Very_Negative predictions:', vneg_count)\n",
    "\n",
    "print()\n",
    "print('Real very_positive:', real_vpos)\n",
    "print('Real positive:', real_pos)\n",
    "print('Real neutral:', real_neu)\n",
    "print('Real negative:', real_neg)\n",
    "print('Real very_negative:', real_vneg)"
   ]
  },
  {
   "cell_type": "markdown",
   "metadata": {},
   "source": [
    "Total Wrong Predictions"
   ]
  },
  {
   "cell_type": "code",
   "execution_count": 37,
   "metadata": {},
   "outputs": [
    {
     "name": "stdout",
     "output_type": "stream",
     "text": [
      "42\n"
     ]
    }
   ],
   "source": [
    "sum = abs(vpos_count - real_vpos)\n",
    "sum += abs(pos_count - real_pos)\n",
    "sum += abs(neu_count - real_neu)\n",
    "sum += abs(neg_count - real_neg)\n",
    "sum += abs(vneg_count - real_vneg)\n",
    "print(sum)"
   ]
  },
  {
   "cell_type": "markdown",
   "metadata": {},
   "source": [
    "Total Error"
   ]
  },
  {
   "cell_type": "code",
   "execution_count": 38,
   "metadata": {},
   "outputs": [
    {
     "name": "stdout",
     "output_type": "stream",
     "text": [
      "18.83408071748879\n"
     ]
    }
   ],
   "source": [
    "print(sum/len(X_test)*100)"
   ]
  }
 ],
 "metadata": {
  "kernelspec": {
   "display_name": "Python 3",
   "language": "python",
   "name": "python3"
  },
  "language_info": {
   "codemirror_mode": {
    "name": "ipython",
    "version": 3
   },
   "file_extension": ".py",
   "mimetype": "text/x-python",
   "name": "python",
   "nbconvert_exporter": "python",
   "pygments_lexer": "ipython3",
   "version": "3.6.4"
  }
 },
 "nbformat": 4,
 "nbformat_minor": 2
}
